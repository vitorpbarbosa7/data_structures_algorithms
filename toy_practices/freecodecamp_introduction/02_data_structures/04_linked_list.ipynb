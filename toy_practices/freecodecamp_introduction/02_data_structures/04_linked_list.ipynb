{
 "cells": [
  {
   "cell_type": "code",
   "execution_count": 2,
   "metadata": {},
   "outputs": [],
   "source": [
    "class Node:\n",
    "    '''\n",
    "    Object for storing single node for linked list\n",
    "    Models two attributes - data and the link to the next node in the list\n",
    "    '''\n",
    "    \n",
    "    # Store data\n",
    "    data = None\n",
    "    \n",
    "    # Point to next node\n",
    "    next_node = None\n",
    "    \n",
    "    # Constructor of the object\n",
    "    def __init__(self, data):\n",
    "        self.data = data"
   ]
  },
  {
   "cell_type": "code",
   "execution_count": 3,
   "metadata": {},
   "outputs": [],
   "source": [
    "N1 = Node(10)"
   ]
  },
  {
   "cell_type": "code",
   "execution_count": 4,
   "metadata": {},
   "outputs": [
    {
     "data": {
      "text/plain": [
       "<__main__.Node at 0x7f2e78507990>"
      ]
     },
     "execution_count": 4,
     "metadata": {},
     "output_type": "execute_result"
    }
   ],
   "source": [
    "N1"
   ]
  },
  {
   "cell_type": "markdown",
   "metadata": {},
   "source": [
    "### Add representation of the object, because now it is not visualized by us"
   ]
  },
  {
   "cell_type": "code",
   "execution_count": 5,
   "metadata": {},
   "outputs": [],
   "source": [
    "class Node:\n",
    "    '''\n",
    "    Object for storing single node for linked list\n",
    "    Models two attributes - data and the link to the next node in the list\n",
    "    '''\n",
    "    \n",
    "    # Store data\n",
    "    data = None\n",
    "    \n",
    "    # Point to next node\n",
    "    next_node = None\n",
    "    \n",
    "    # Constructor of the object\n",
    "    def __init__(self, data):\n",
    "        self.data = data\n",
    "        \n",
    "    def __repr__(self):\n",
    "        return \"<Node data: %s>\" %self.data"
   ]
  },
  {
   "cell_type": "code",
   "execution_count": 6,
   "metadata": {},
   "outputs": [
    {
     "data": {
      "text/plain": [
       "<__main__.Node at 0x7f2e78507990>"
      ]
     },
     "execution_count": 6,
     "metadata": {},
     "output_type": "execute_result"
    }
   ],
   "source": [
    "N1"
   ]
  },
  {
   "cell_type": "code",
   "execution_count": 7,
   "metadata": {},
   "outputs": [],
   "source": [
    "N2 = Node(20)"
   ]
  },
  {
   "cell_type": "code",
   "execution_count": 8,
   "metadata": {},
   "outputs": [
    {
     "data": {
      "text/plain": [
       "<Node data: 20>"
      ]
     },
     "execution_count": 8,
     "metadata": {},
     "output_type": "execute_result"
    }
   ],
   "source": [
    "N2"
   ]
  },
  {
   "cell_type": "markdown",
   "metadata": {},
   "source": [
    "### Pointing to next node"
   ]
  },
  {
   "cell_type": "code",
   "execution_count": 9,
   "metadata": {},
   "outputs": [],
   "source": [
    "N1.next_node = N2"
   ]
  },
  {
   "cell_type": "code",
   "execution_count": 10,
   "metadata": {},
   "outputs": [
    {
     "data": {
      "text/plain": [
       "<__main__.Node at 0x7f2e78507990>"
      ]
     },
     "execution_count": 10,
     "metadata": {},
     "output_type": "execute_result"
    }
   ],
   "source": [
    "N1"
   ]
  },
  {
   "cell_type": "code",
   "execution_count": 11,
   "metadata": {},
   "outputs": [
    {
     "data": {
      "text/plain": [
       "<Node data: 20>"
      ]
     },
     "execution_count": 11,
     "metadata": {},
     "output_type": "execute_result"
    }
   ],
   "source": [
    "N1.next_node"
   ]
  },
  {
   "cell_type": "markdown",
   "metadata": {},
   "source": [
    "-  Nodes are the building blocks for lists, now we can create linked lists"
   ]
  },
  {
   "cell_type": "code",
   "execution_count": 12,
   "metadata": {},
   "outputs": [],
   "source": [
    "class Node:\n",
    "    '''\n",
    "    Object for storing single node for linked list\n",
    "    Models two attributes - data and the link to the next node in the list\n",
    "    '''\n",
    "    \n",
    "    # Two attributes\n",
    "    # Store data\n",
    "    data = None\n",
    "    \n",
    "    # Point to next node\n",
    "    next_node = None\n",
    "    \n",
    "    # Constructor of the object\n",
    "    def __init__(self, data):\n",
    "        self.data = data\n",
    "        \n",
    "    def __repr__(self):\n",
    "        return \"<Node data: %s>\" %self.data"
   ]
  },
  {
   "cell_type": "code",
   "execution_count": 33,
   "metadata": {},
   "outputs": [],
   "source": [
    "class LinkedList:\n",
    "    '''\n",
    "    Singly lisked list\n",
    "    '''\n",
    "    \n",
    "    # Constructor \n",
    "    def __init__(self):\n",
    "        self.head = None\n",
    "        \n",
    "    def is_empty(self):\n",
    "        '''Returns true if head is empty'''\n",
    "        return self.head == None\n",
    "    \n",
    "    def size(self):\n",
    "        '''Visit each node and hit next until heat tail node\n",
    "        the way is coded, it takes linear time, because goes one \n",
    "        step by step all over the list'''\n",
    "        current = self.head\n",
    "        sizevar = 0\n",
    "        \n",
    "        'While loop until there is no more node'\n",
    "        while current:\n",
    "            sizevar += 1\n",
    "            ' Enquanto vai para o próximo node, também vai incrementando o count'\n",
    "            'Tem que chegar ateh o tail node'\n",
    "            current = current.next_node\n",
    "            \n",
    "        'Retorna o tamanho da singly linked list'\n",
    "        return sizevar\n",
    "    \n",
    "    'Utilizando a classe de building blocks aqui dentro da classe linkedlist'\n",
    "    def add(self, data):\n",
    "        '''Adds a new node containing data at the head of the list '''\n",
    "        new_node = Node(data)\n",
    "        # previous head is shifted right\n",
    "        # No momento que adiciono, utilizo self.next_node to refer to this attribute\n",
    "        new_node.next_node = self.head\n",
    "        # new head element will be the node here used\n",
    "        self.head = new_node\n",
    "        \n",
    "    def __repr__(self):\n",
    "        '''\n",
    "        Returns a string representation of the list\n",
    "        Takes O(n) time\n",
    "        '''\n",
    "        \n",
    "        # Python list to help us to represent this likedlist\n",
    "        nodes = []\n",
    "        # Head is a building block\n",
    "        # Every element from the linked list comes from the building block Node\n",
    "        current = self.head\n",
    "        \n",
    "        'Finishes when current = None'\n",
    "        while current:\n",
    "            if current is self.head:\n",
    "                # Python list\n",
    "                nodes.append(\"[Head:%s]\" % current.data)\n",
    "                'tail'\n",
    "            elif current.next_node is None:\n",
    "                'current.data is actual data'\n",
    "                'current.next_node is next_node, accorgindg to the add function'\n",
    "                'current.next_node = self.head'\n",
    "                nodes.append(\"[Tail: %s]\" % current.data)\n",
    "                'significa que acabou'\n",
    "            else:\n",
    "                nodes.append(\"[%s]\" % current.data)\n",
    "                \n",
    "            current = current.next_node\n",
    "        \n",
    "        return '-> '.join(nodes)\n",
    "                \n",
    "            \n",
    "    \n",
    "            "
   ]
  },
  {
   "cell_type": "markdown",
   "metadata": {},
   "source": [
    "- Going to one node to another is called list traversal"
   ]
  },
  {
   "cell_type": "markdown",
   "metadata": {},
   "source": [
    "### Append or prepend (technically speaking is not inserting)\n",
    "- True inserting allows to insert at any index in the data\n",
    "- It is more efficient then the commom classic way of inserting data into arrays"
   ]
  },
  {
   "cell_type": "code",
   "execution_count": 34,
   "metadata": {},
   "outputs": [],
   "source": [
    "l = LinkedList()"
   ]
  },
  {
   "cell_type": "code",
   "execution_count": 35,
   "metadata": {},
   "outputs": [],
   "source": [
    "# building block of linkedlist"
   ]
  },
  {
   "cell_type": "code",
   "execution_count": 36,
   "metadata": {},
   "outputs": [],
   "source": [
    "N1 = Node(10)"
   ]
  },
  {
   "cell_type": "code",
   "execution_count": 37,
   "metadata": {},
   "outputs": [],
   "source": [
    "# Atribuo valor através do atributo\n",
    "l.head = N1"
   ]
  },
  {
   "cell_type": "code",
   "execution_count": 38,
   "metadata": {},
   "outputs": [
    {
     "data": {
      "text/plain": [
       "1"
      ]
     },
     "execution_count": 38,
     "metadata": {},
     "output_type": "execute_result"
    }
   ],
   "source": [
    "l.size()"
   ]
  },
  {
   "cell_type": "markdown",
   "metadata": {},
   "source": [
    "Adicionar mais elementos na lista"
   ]
  },
  {
   "cell_type": "code",
   "execution_count": 39,
   "metadata": {},
   "outputs": [],
   "source": [
    "l.add(2)"
   ]
  },
  {
   "cell_type": "code",
   "execution_count": 40,
   "metadata": {},
   "outputs": [
    {
     "data": {
      "text/plain": [
       "2"
      ]
     },
     "execution_count": 40,
     "metadata": {},
     "output_type": "execute_result"
    }
   ],
   "source": [
    "l.size()"
   ]
  },
  {
   "cell_type": "markdown",
   "metadata": {},
   "source": [
    "### agora com a representação da lista construída"
   ]
  },
  {
   "cell_type": "code",
   "execution_count": 41,
   "metadata": {},
   "outputs": [],
   "source": [
    "l = LinkedList()"
   ]
  },
  {
   "cell_type": "code",
   "execution_count": 42,
   "metadata": {},
   "outputs": [],
   "source": [
    "l.add(1)"
   ]
  },
  {
   "cell_type": "code",
   "execution_count": 43,
   "metadata": {},
   "outputs": [],
   "source": [
    "l.add(2)"
   ]
  },
  {
   "cell_type": "code",
   "execution_count": 44,
   "metadata": {},
   "outputs": [],
   "source": [
    "l.add(3)"
   ]
  },
  {
   "cell_type": "code",
   "execution_count": 31,
   "metadata": {},
   "outputs": [
    {
     "data": {
      "text/plain": [
       "3"
      ]
     },
     "execution_count": 31,
     "metadata": {},
     "output_type": "execute_result"
    }
   ],
   "source": [
    "l.size()"
   ]
  },
  {
   "cell_type": "code",
   "execution_count": 46,
   "metadata": {},
   "outputs": [
    {
     "data": {
      "text/plain": [
       "[Head:3]-> [2]-> [Tail: 1]"
      ]
     },
     "execution_count": 46,
     "metadata": {},
     "output_type": "execute_result"
    }
   ],
   "source": [
    "l"
   ]
  },
  {
   "cell_type": "markdown",
   "metadata": {},
   "source": [
    "# Search method implementation"
   ]
  },
  {
   "cell_type": "code",
   "execution_count": 71,
   "metadata": {},
   "outputs": [],
   "source": [
    "class LinkedList:\n",
    "    '''\n",
    "    Singly lisked list\n",
    "    '''\n",
    "    \n",
    "    # Constructor \n",
    "    def __init__(self):\n",
    "        self.head = None\n",
    "        \n",
    "    def is_empty(self):\n",
    "        '''Returns true if head is empty'''\n",
    "        return self.head == None\n",
    "    \n",
    "    def size(self):\n",
    "        '''Visit each node and hit next until heat tail node\n",
    "        the way is coded, it takes linear time, because goes one \n",
    "        step by step all over the list'''\n",
    "        current = self.head\n",
    "        sizevar = 0\n",
    "        \n",
    "        'While loop until there is no more node'\n",
    "        while current:\n",
    "            sizevar += 1\n",
    "            ' Enquanto vai para o próximo node, também vai incrementando o count'\n",
    "            'Tem que chegar ateh o tail node'\n",
    "            current = current.next_node\n",
    "            \n",
    "        'Retorna o tamanho da singly linked list'\n",
    "        return sizevar\n",
    "    \n",
    "    'Utilizando a classe de building blocks aqui dentro da classe linkedlist'\n",
    "    def add(self, data):\n",
    "        '''Adds a new node containing data at the head of the list '''\n",
    "        new_node = Node(data)\n",
    "        # previous head is shifted right\n",
    "        # No momento que adiciono, utilizo self.next_node to refer to this attribute\n",
    "        new_node.next_node = self.head\n",
    "        # new head element will be the node here used\n",
    "        self.head = new_node\n",
    "        \n",
    "    def search(self, key):\n",
    "        '''\n",
    "        Seaarch for the first node containing data matches the key\n",
    "        Returns the node or None if not found\n",
    "        In worst case scenario will check every object\n",
    "        Therefore it runs in O(n)\n",
    "        '''\n",
    "        # Key is the object we're searching for\n",
    "        # Inicio pela head\n",
    "        current = self.head\n",
    "        \n",
    "        # Checo se head corresponde ao que estou procurando\n",
    "        while current:\n",
    "            if current.data == key:\n",
    "                # retorno se for efetivamente ele\n",
    "                return current\n",
    "            else:\n",
    "                # current will be current.next_node\n",
    "                # next_node is a attribute of building block\n",
    "                current = current.next_node\n",
    "            # Se nao encontrar, retornar None  \n",
    "        return \"<%d not in list\" %key \n",
    "        \n",
    "    def __repr__(self):\n",
    "        '''\n",
    "        Returns a string representation of the list\n",
    "        Takes O(n) time\n",
    "        '''\n",
    "        \n",
    "        # Python list to help us to represent this likedlist\n",
    "        nodes = []\n",
    "        # Head is a building block\n",
    "        # Every element from the linked list comes from the building block Node\n",
    "        current = self.head\n",
    "        \n",
    "        'Finishes when current = None'\n",
    "        while current:\n",
    "            if current is self.head:\n",
    "                # Python list\n",
    "                nodes.append(\"[Head:%s]\" % current.data)\n",
    "                'tail'\n",
    "            elif current.next_node is None:\n",
    "                'current.data is actual data'\n",
    "                'current.next_node is next_node, accorgindg to the add function'\n",
    "                'current.next_node = self.head'\n",
    "                nodes.append(\"[Tail: %s]\" % current.data)\n",
    "                'significa que acabou'\n",
    "            else:\n",
    "                nodes.append(\"[%s]\" % current.data)\n",
    "                \n",
    "            current = current.next_node\n",
    "        \n",
    "        return '-> '.join(nodes)\n",
    "                \n",
    "            \n",
    "        \n",
    "            "
   ]
  },
  {
   "cell_type": "code",
   "execution_count": 72,
   "metadata": {},
   "outputs": [],
   "source": [
    "l = LinkedList()"
   ]
  },
  {
   "cell_type": "code",
   "execution_count": 73,
   "metadata": {},
   "outputs": [],
   "source": [
    "l.add(7)"
   ]
  },
  {
   "cell_type": "code",
   "execution_count": 74,
   "metadata": {},
   "outputs": [],
   "source": [
    "l.add(11)"
   ]
  },
  {
   "cell_type": "code",
   "execution_count": 75,
   "metadata": {},
   "outputs": [],
   "source": [
    "l.add(19)"
   ]
  },
  {
   "cell_type": "code",
   "execution_count": 76,
   "metadata": {},
   "outputs": [
    {
     "data": {
      "text/plain": [
       "[Head:19]-> [11]-> [Tail: 7]"
      ]
     },
     "execution_count": 76,
     "metadata": {},
     "output_type": "execute_result"
    }
   ],
   "source": [
    "l"
   ]
  },
  {
   "cell_type": "code",
   "execution_count": 77,
   "metadata": {},
   "outputs": [
    {
     "data": {
      "text/plain": [
       "<Node data: 11>"
      ]
     },
     "execution_count": 77,
     "metadata": {},
     "output_type": "execute_result"
    }
   ],
   "source": [
    "l.search(key = 11)"
   ]
  },
  {
   "cell_type": "code",
   "execution_count": 78,
   "metadata": {},
   "outputs": [
    {
     "data": {
      "text/plain": [
       "<Node data: 7>"
      ]
     },
     "execution_count": 78,
     "metadata": {},
     "output_type": "execute_result"
    }
   ],
   "source": [
    "l.search(key = 7)"
   ]
  },
  {
   "cell_type": "code",
   "execution_count": 79,
   "metadata": {},
   "outputs": [
    {
     "data": {
      "text/plain": [
       "<Node data: 19>"
      ]
     },
     "execution_count": 79,
     "metadata": {},
     "output_type": "execute_result"
    }
   ],
   "source": [
    "l.search(key = 19)"
   ]
  },
  {
   "cell_type": "code",
   "execution_count": 80,
   "metadata": {},
   "outputs": [
    {
     "data": {
      "text/plain": [
       "'<5 not in list'"
      ]
     },
     "execution_count": 80,
     "metadata": {},
     "output_type": "execute_result"
    }
   ],
   "source": [
    "l.search(key = 5)"
   ]
  },
  {
   "cell_type": "markdown",
   "metadata": {},
   "source": [
    "# Insert and Delete at specific positions\n",
    "\n",
    "- We only need to chaange references in two nodes"
   ]
  },
  {
   "cell_type": "code",
   "execution_count": 96,
   "metadata": {},
   "outputs": [],
   "source": [
    "class LinkedList:\n",
    "    '''\n",
    "    Singly lisked list\n",
    "    '''\n",
    "    \n",
    "    # Constructor \n",
    "    def __init__(self):\n",
    "        self.head = None\n",
    "        \n",
    "    def is_empty(self):\n",
    "        '''Returns true if head is empty'''\n",
    "        return self.head == None\n",
    "    \n",
    "    def size(self):\n",
    "        '''Visit each node and hit next until heat tail node\n",
    "        the way is coded, it takes linear time, because goes one \n",
    "        step by step all over the list'''\n",
    "        current = self.head\n",
    "        sizevar = 0\n",
    "        \n",
    "        'While loop until there is no more node'\n",
    "        while current:\n",
    "            sizevar += 1\n",
    "            ' Enquanto vai para o próximo node, também vai incrementando o count'\n",
    "            'Tem que chegar ateh o tail node'\n",
    "            current = current.next_node\n",
    "            \n",
    "        'Retorna o tamanho da singly linked list'\n",
    "        return sizevar\n",
    "    \n",
    "    'Utilizando a classe de building blocks aqui dentro da classe linkedlist'\n",
    "    def add(self, data):\n",
    "        '''Adds a new node containing data at the head of the list '''\n",
    "        new_node = Node(data)\n",
    "        # previous head is shifted right\n",
    "        # No momento que adiciono, utilizo self.next_node to refer to this attribute\n",
    "        new_node.next_node = self.head\n",
    "        # new head element will be the node here used\n",
    "        self.head = new_node\n",
    "        \n",
    "    def search(self, key):\n",
    "        '''\n",
    "        Seaarch for the first node containing data matches the key\n",
    "        Returns the node or None if not found\n",
    "        In worst case scenario will check every object\n",
    "        Therefore it runs in O(n)\n",
    "        '''\n",
    "        # Key is the object we're searching for\n",
    "        # Inicio pela head\n",
    "        current = self.head\n",
    "        \n",
    "        # Checo se head corresponde ao que estou procurando\n",
    "        while current:\n",
    "            if current.data == key:\n",
    "                # retorno se for efetivamente ele\n",
    "                return current\n",
    "            else:\n",
    "                # current will be current.next_node\n",
    "                # next_node is a attribute of building block\n",
    "                # current is the node object building block\n",
    "                current = current.next_node\n",
    "            # Se nao encontrar, retornar None  \n",
    "        return \"<%d not in list\" %key \n",
    "    \n",
    "    def insert(self, data, index):\n",
    "        '''\n",
    "        Inserts data into specific position(index)\n",
    "        Overall it is reaally a O(n)\n",
    "        '''\n",
    "        if index == 0:\n",
    "            self.add(data)\n",
    "        \n",
    "        if index > 0:\n",
    "            # Instanciar o objeto que preciso adicionar\n",
    "            new = Node(data)\n",
    "              \n",
    "            # position vai mudando ate encontrar onde adicionar\n",
    "            # Adicionar vai ser O(1) mas encontrar vai ser O(n)\n",
    "            position = index\n",
    "            # current data\n",
    "            current = self.head\n",
    "            \n",
    "            while position > 1:\n",
    "                # Utilizado para obter o current node de referencia\n",
    "                # Ou seja, aquele que atualmente esta na posicao index\n",
    "                # A partir dele determinamos o anterior (prev) e o next_ (prox)\n",
    "                # Dessa maneira conseguimos atribuir ao prev o next_node = new\n",
    "                # E ao new, new.next_node = next_\n",
    "                current = current.next_node\n",
    "                position -= 1\n",
    "                \n",
    "            prev = current\n",
    "            next_ = current.next_node\n",
    "            \n",
    "            # Here it is the O(1) operation of insert\n",
    "            prev.next_node = new\n",
    "            new.next_node = next_\n",
    "        # needs to trasverse the list\n",
    "        \n",
    "    def __repr__(self):\n",
    "        '''\n",
    "        Returns a string representation of the list\n",
    "        Takes O(n) time\n",
    "        '''\n",
    "        \n",
    "        # Python list to help us to represent this likedlist\n",
    "        nodes = []\n",
    "        # Head is a building block\n",
    "        # Every element from the linked list comes from the building block Node\n",
    "        current = self.head\n",
    "        \n",
    "        'Finishes when current = None'\n",
    "        while current:\n",
    "            if current is self.head:\n",
    "                # Python list\n",
    "                nodes.append(\"[Head:%s]\" % current.data)\n",
    "                'tail'\n",
    "            elif current.next_node is None:\n",
    "                'current.data is actual data'\n",
    "                'current.next_node is next_node, accorgindg to the add function'\n",
    "                'current.next_node = self.head'\n",
    "                nodes.append(\"[Tail: %s]\" % current.data)\n",
    "                'significa que acabou'\n",
    "            else:\n",
    "                nodes.append(\"[%s]\" % current.data)\n",
    "                \n",
    "            current = current.next_node\n",
    "        \n",
    "        return '-> '.join(nodes)      "
   ]
  },
  {
   "cell_type": "code",
   "execution_count": 112,
   "metadata": {},
   "outputs": [],
   "source": [
    "l = LinkedList()"
   ]
  },
  {
   "cell_type": "code",
   "execution_count": 113,
   "metadata": {},
   "outputs": [],
   "source": [
    "# sera que kwargs serve para dar um jeito de adicionar varios?"
   ]
  },
  {
   "cell_type": "code",
   "execution_count": 114,
   "metadata": {},
   "outputs": [],
   "source": [
    "l.add(1)\n",
    "\n",
    "l.add(2)\n",
    "\n",
    "l.add(3)\n",
    "\n",
    "l.add(4)\n",
    "\n",
    "l.add(5)"
   ]
  },
  {
   "cell_type": "code",
   "execution_count": 115,
   "metadata": {},
   "outputs": [
    {
     "data": {
      "text/plain": [
       "[Head:5]-> [4]-> [3]-> [2]-> [Tail: 1]"
      ]
     },
     "execution_count": 115,
     "metadata": {},
     "output_type": "execute_result"
    }
   ],
   "source": [
    "l"
   ]
  },
  {
   "cell_type": "code",
   "execution_count": 116,
   "metadata": {},
   "outputs": [],
   "source": [
    "l.insert(data = 89, index = 3)"
   ]
  },
  {
   "cell_type": "code",
   "execution_count": 117,
   "metadata": {},
   "outputs": [
    {
     "data": {
      "text/plain": [
       "[Head:5]-> [4]-> [3]-> [89]-> [2]-> [Tail: 1]"
      ]
     },
     "execution_count": 117,
     "metadata": {},
     "output_type": "execute_result"
    }
   ],
   "source": [
    "l"
   ]
  },
  {
   "cell_type": "markdown",
   "metadata": {},
   "source": [
    "# Remove element"
   ]
  },
  {
   "cell_type": "code",
   "execution_count": 171,
   "metadata": {},
   "outputs": [],
   "source": [
    "class LinkedList:\n",
    "    '''\n",
    "    Singly lisked list\n",
    "    '''\n",
    "    \n",
    "    # Constructor \n",
    "    def __init__(self):\n",
    "        self.head = None\n",
    "        \n",
    "    def is_empty(self):\n",
    "        '''Returns true if head is empty'''\n",
    "        return self.head == None\n",
    "    \n",
    "    def size(self):\n",
    "        '''Visit each node and hit next until heat tail node\n",
    "        the way is coded, it takes linear time, because goes one \n",
    "        step by step all over the list'''\n",
    "        current = self.head\n",
    "        sizevar = 0\n",
    "        \n",
    "        'While loop until there is no more node'\n",
    "        while current:\n",
    "            sizevar += 1\n",
    "            ' Enquanto vai para o próximo node, também vai incrementando o count'\n",
    "            'Tem que chegar ateh o tail node'\n",
    "            current = current.next_node\n",
    "            \n",
    "        'Retorna o tamanho da singly linked list'\n",
    "        return sizevar\n",
    "    \n",
    "    'Utilizando a classe de building blocks aqui dentro da classe linkedlist'\n",
    "    def add(self, data):\n",
    "        '''Adds a new node containing data at the head of the list '''\n",
    "        new_node = Node(data)\n",
    "        # previous head is shifted right\n",
    "        # No momento que adiciono, utilizo self.next_node to refer to this attribute\n",
    "        new_node.next_node = self.head\n",
    "        # new head element will be the node here used\n",
    "        self.head = new_node\n",
    "        \n",
    "    def search(self, key):\n",
    "        '''\n",
    "        Seaarch for the first node containing data matches the key\n",
    "        Returns the node or None if not found\n",
    "        In worst case scenario will check every object\n",
    "        Therefore it runs in O(n)\n",
    "        '''\n",
    "        # Key is the object we're searching for\n",
    "        # Inicio pela head\n",
    "        current = self.head\n",
    "        \n",
    "        # Checo se head corresponde ao que estou procurando\n",
    "        while current:\n",
    "            if current.data == key:\n",
    "                # retorno se for efetivamente ele\n",
    "                return current\n",
    "            else:\n",
    "                # current will be current.next_node\n",
    "                # next_node is a attribute of building block\n",
    "                # current is the node object building block\n",
    "                current = current.next_node\n",
    "            # Se nao encontrar, retornar None  \n",
    "        return \"<%d not in list\" %key \n",
    "    \n",
    "    def insert(self, data, index):\n",
    "        '''\n",
    "        Inserts data into specific position(index)\n",
    "        Overall it is reaally a O(n)\n",
    "        '''\n",
    "        if index == 0:\n",
    "            self.add(data)\n",
    "        \n",
    "        if index > 0:\n",
    "            # Instanciar o objeto que preciso adicionar\n",
    "            new = Node(data)\n",
    "              \n",
    "            # position vai mudando ate encontrar onde adicionar\n",
    "            # Adicionar vai ser O(1) mas encontrar vai ser O(n)\n",
    "            position = index\n",
    "            # current data\n",
    "            current = self.head\n",
    "            \n",
    "            while position > 1:\n",
    "                # Utilizado para obter o current node de referencia\n",
    "                # Ou seja, aquele que atualmente esta na posicao index\n",
    "                # A partir dele determinamos o anterior (prev) e o next_ (prox)\n",
    "                # Dessa maneira conseguimos atribuir ao prev o next_node = new\n",
    "                # E ao new, new.next_node = next_\n",
    "                current = current.next_node\n",
    "                position -= 1\n",
    "                \n",
    "            prev = current\n",
    "            next_ = current.next_node\n",
    "            \n",
    "            # Here it is the O(1) operation of insert\n",
    "            prev.next_node = new\n",
    "            new.next_node = next_\n",
    "        # needs to trasverse the list\n",
    "        \n",
    "    # Possible to provide the key or the index\n",
    "    def remove(self, key):\n",
    "        '''\n",
    "        Removes node containing data that matches the key \n",
    "        Returns the node or None if the key doesn't exist \n",
    "        Takes O(n) time\n",
    "        '''\n",
    "        # current is a building block with head and next_node as attributes\n",
    "        current = self.head\n",
    "        previous = None\n",
    "        found = False\n",
    "        \n",
    "        while current and not found:\n",
    "            # when reachs tail current will be None\n",
    "            # find the key and found = True\n",
    "            if current.data == key and current is self.head:\n",
    "                 # Head case\n",
    "                # if we hit this case, we're at the head, so\n",
    "                found = True\n",
    "                self.head = current.next_node \n",
    "            elif current.data == key:\n",
    "                found = True\n",
    "                # by pass the key element\n",
    "                previous.next_node = current.next_node\n",
    "            else:\n",
    "                previous = current\n",
    "                current = current.next_node\n",
    "                \n",
    "        return current\n",
    "            \n",
    "    def __repr__(self):\n",
    "        '''\n",
    "        Returns a string representation of the list\n",
    "        Takes O(n) time\n",
    "        '''\n",
    "        \n",
    "        # Python list to help us to represent this likedlist\n",
    "        nodes = []\n",
    "        # Head is a building block\n",
    "        # Every element from the linked list comes from the building block Node\n",
    "        current = self.head\n",
    "        \n",
    "        'Finishes when current = None'\n",
    "        while current:\n",
    "            if current is self.head:\n",
    "                # Python list\n",
    "                nodes.append(\"[Head:%s]\" % current.data)\n",
    "                'tail'\n",
    "            elif current.next_node is None:\n",
    "                'current.data is actual data'\n",
    "                'current.next_node is next_node, accorgindg to the add function'\n",
    "                'current.next_node = self.head'\n",
    "                nodes.append(\"[Tail: %s]\" % current.data)\n",
    "                'significa que acabou'\n",
    "            else:\n",
    "                nodes.append(\"[%s]\" % current.data)\n",
    "                \n",
    "            current = current.next_node\n",
    "        \n",
    "        return '-> '.join(nodes)      "
   ]
  },
  {
   "cell_type": "code",
   "execution_count": 172,
   "metadata": {},
   "outputs": [],
   "source": [
    "l = LinkedList()"
   ]
  },
  {
   "cell_type": "code",
   "execution_count": 173,
   "metadata": {},
   "outputs": [],
   "source": [
    "for i in range(5,30,5):\n",
    "    l.add(i)"
   ]
  },
  {
   "cell_type": "code",
   "execution_count": 174,
   "metadata": {},
   "outputs": [
    {
     "data": {
      "text/plain": [
       "[Head:25]-> [20]-> [15]-> [10]-> [Tail: 5]"
      ]
     },
     "execution_count": 174,
     "metadata": {},
     "output_type": "execute_result"
    }
   ],
   "source": [
    "l"
   ]
  },
  {
   "cell_type": "code",
   "execution_count": 175,
   "metadata": {},
   "outputs": [
    {
     "data": {
      "text/plain": [
       "<Node data: 20>"
      ]
     },
     "execution_count": 175,
     "metadata": {},
     "output_type": "execute_result"
    }
   ],
   "source": [
    "l.remove(20)"
   ]
  },
  {
   "cell_type": "code",
   "execution_count": 176,
   "metadata": {},
   "outputs": [
    {
     "data": {
      "text/plain": [
       "[Head:25]-> [15]-> [10]-> [Tail: 5]"
      ]
     },
     "execution_count": 176,
     "metadata": {},
     "output_type": "execute_result"
    }
   ],
   "source": [
    "l"
   ]
  },
  {
   "cell_type": "code",
   "execution_count": null,
   "metadata": {},
   "outputs": [],
   "source": []
  }
 ],
 "metadata": {
  "kernelspec": {
   "display_name": "Python 3 (ipykernel)",
   "language": "python",
   "name": "python3"
  },
  "language_info": {
   "codemirror_mode": {
    "name": "ipython",
    "version": 3
   },
   "file_extension": ".py",
   "mimetype": "text/x-python",
   "name": "python",
   "nbconvert_exporter": "python",
   "pygments_lexer": "ipython3",
   "version": "3.9.12"
  },
  "toc": {
   "base_numbering": 1,
   "nav_menu": {},
   "number_sections": true,
   "sideBar": true,
   "skip_h1_title": false,
   "title_cell": "Table of Contents",
   "title_sidebar": "Contents",
   "toc_cell": false,
   "toc_position": {},
   "toc_section_display": true,
   "toc_window_display": false
  }
 },
 "nbformat": 4,
 "nbformat_minor": 4
}
