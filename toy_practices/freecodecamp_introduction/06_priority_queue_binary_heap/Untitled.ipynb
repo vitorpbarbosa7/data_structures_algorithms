{
 "cells": [
  {
   "cell_type": "markdown",
   "metadata": {},
   "source": [
    "# Heap "
   ]
  },
  {
   "cell_type": "code",
   "execution_count": 1,
   "metadata": {},
   "outputs": [],
   "source": [
    "import sys"
   ]
  },
  {
   "cell_type": "code",
   "execution_count": 2,
   "metadata": {},
   "outputs": [
    {
     "data": {
      "text/plain": [
       "9223372036854775807"
      ]
     },
     "execution_count": 2,
     "metadata": {},
     "output_type": "execute_result"
    }
   ],
   "source": [
    "sys.maxsize"
   ]
  },
  {
   "cell_type": "code",
   "execution_count": 3,
   "metadata": {},
   "outputs": [],
   "source": [
    "import pandas as pd \n",
    "import matplotlib.pyplot as plt \n",
    "import numpy as np\n",
    "import seaborn as sns\n",
    "import scipy.stats as stats\n",
    "import statsmodels.stats.api as sms\n",
    "\n",
    "from IPython.display import display\n",
    "from IPython.display import Markdown as md\n",
    "from IPython.core.interactiveshell import InteractiveShell\n",
    "InteractiveShell.ast_node_interactivity = \"all\"\n",
    "\n",
    "def f():\n",
    "    pd.set_option('display.max_columns', None)\n",
    "    pd.set_option('display.max_rows', None)\n",
    "    \n",
    "def nf():\n",
    "    pd.set_option('display.max_columns', None)\n",
    "    pd.set_option('display.max_rows', 4)\n",
    "\n",
    "import warnings\n",
    "warnings.filterwarnings('ignore')\n",
    "\n",
    "def dp(df, r = 5, c = None):\n",
    "    from IPython.display import display\n",
    "    with pd.option_context('display.max_rows', 4, 'display.max_columns', None):\n",
    "        display(df)\n",
    "\n",
    "def fg(w = 6, h = 4, dpi = 120):\n",
    "    plt.rcParams['figure.figsize'] = (w,h)\n",
    "    plt.rcParams['figure.dpi'] = dpi\n",
    "fg()\n",
    "\n",
    "# import autotime\n",
    "# %load_ext autoreload\n",
    "# %autoreload 2\n",
    "# %load_ext autotime"
   ]
  },
  {
   "cell_type": "code",
   "execution_count": 4,
   "metadata": {},
   "outputs": [],
   "source": [
    "class MinHeap:\n",
    "    \n",
    "    def __init__(self, maxsize):\n",
    "        self.maxsize = mazsize\n",
    "        # initial size\n",
    "        self.size = 0\n",
    "        # all elements to zero to fill later\n",
    "        #self.Heap is a list\n",
    "        self.Heap = [0]**(self.maxsize + 1)\n",
    "        self.Heap[0] = -1 + sys.maxsize\n",
    "        self.FRONT = 1\n",
    "    \n",
    "    # Function to return the position of \n",
    "    # parent for the node currently \n",
    "    # at position\n",
    "    def parent(self, pos):\n",
    "        '''o bang retorna o int da divisao por 2 porque mano'''\n",
    "        return pos//2\n",
    "    \n",
    "    # Function to return the position of the leftChild\n",
    "    def leftChild_pos(self, pos):\n",
    "        return 2*pos\n",
    "    \n",
    "    # Position of right child for the node currently at pos\n",
    "    def rightChild_pos(self, pos):\n",
    "        return (2*pos) + 1\n",
    "    \n",
    "    # Function to return if it is a leaf node according to position\n",
    "    def isLeaf(self, pos):\n",
    "        if pos >=(self.size//2) and pos <= self.size:\n",
    "            return True \n",
    "        return False\n",
    "    \n",
    "    # Function to swap the nodes of the heap\n",
    "    def swap(self, fpos, spos):\n",
    "        self.Heap[fpos], self.Heap[spos] = self.Heap[spos], self.Heap[fpos]\n",
    "        \n",
    "    # Function to heapify the node at pos\n",
    "    # that is, to make it respect the invariant property in the Min Heap Tree\n",
    "    def minHeapify(self, pos):\n",
    "        \n",
    "        # If the node is a non-leaf node and greater \n",
    "        # than any of its child\n",
    "        # that is, the parent node is greater than child nodes\n",
    "        if not self.isLead(pos):\n",
    "            # the pos element tell us in which position we are, \n",
    "            # so we can tell what is the parent node \n",
    "            # and what is the left and right node S\n",
    "            if (self.Heap[pos] > self.Heap[self.leftChild_pos(pos)] or \n",
    "               self.Heap[pos] > self.Heap[self.rightChild_pos(pos)]):\n",
    "                \n",
    "                # Swap with left child and heapify\n",
    "                # the left child\n",
    "                if self.Heap[[self.leftChild_pos[pos]]] < self.Heap[self.rightChild_pos(pos)]:\n",
    "                    # swap parent with left\n",
    "                    self.swap(pos, self.leftChild_pos(pos))\n",
    "                    # swap left which now is parent with its own parent\n",
    "                    # until conditions for invarient are respected\n",
    "                    self.minHeapify(self.leftChild_pos(pos))\n",
    "                \n",
    "                # if leftChild is greater than right child, we will swap with right\n",
    "                # because we always swap with the mininum node\n",
    "                else:\n",
    "                    # Parent node swap with right node\n",
    "                    self.swap(pos, self.rightChild_pos(pos))\n",
    "                    # Right node will be now parent now, which will continue \n",
    "                    # to swap until invarient condition is satisfied\n",
    "                    self.minHeapify(self.righChild_pos(pos))\n",
    "        \n",
    "        # Function to insert a node into the heap \n",
    "        \n",
    "    \n",
    "    \n",
    "    \n",
    "    \n",
    "    \n",
    "    "
   ]
  },
  {
   "cell_type": "code",
   "execution_count": 5,
   "metadata": {},
   "outputs": [],
   "source": [
    "# Python3 implementation of Min Heap\n",
    "\n",
    "import sys\n",
    "\n",
    "class MinHeap:\n",
    "\n",
    "\tdef __init__(self, maxsize):\n",
    "\t\tself.maxsize = maxsize\n",
    "\t\tself.size = 0\n",
    "\t\tself.Heap = [0]*(self.maxsize + 1)\n",
    "\t\tself.Heap[0] = -1 * sys.maxsize\n",
    "\t\tself.FRONT = 1\n",
    "\n",
    "\t# Function to return the position of\n",
    "\t# parent for the node currently\n",
    "\t# at pos\n",
    "\tdef parent(self, pos):\n",
    "\t\treturn pos//2\n",
    "\n",
    "\t# Function to return the position of\n",
    "\t# the left child for the node currently\n",
    "\t# at pos\n",
    "\tdef leftChild(self, pos):\n",
    "\t\treturn 2 * pos\n",
    "\n",
    "\t# Function to return the position of\n",
    "\t# the right child for the node currently\n",
    "\t# at pos\n",
    "\tdef rightChild(self, pos):\n",
    "\t\treturn (2 * pos) + 1\n",
    "\n",
    "\t# Function that returns true if the passed\n",
    "\t# node is a leaf node\n",
    "\tdef isLeaf(self, pos):\n",
    "\t\tif pos >= (self.size//2) and pos <= self.size:\n",
    "\t\t\treturn True\n",
    "\t\treturn False\n",
    "\n",
    "\t# Function to swap two nodes of the heap\n",
    "\tdef swap(self, fpos, spos):\n",
    "\t\tself.Heap[fpos], self.Heap[spos] = self.Heap[spos], self.Heap[fpos]\n",
    "\n",
    "\t# Function to heapify the node at pos\n",
    "\tdef minHeapify(self, pos):\n",
    "\n",
    "\t\t# If the node is a non-leaf node and greater\n",
    "\t\t# than any of its child\n",
    "\t\tif not self.isLeaf(pos):\n",
    "\t\t\tif (self.Heap[pos] > self.Heap[self.leftChild(pos)] or\n",
    "\t\t\tself.Heap[pos] > self.Heap[self.rightChild(pos)]):\n",
    "\n",
    "\t\t\t\t# Swap with the left child and heapify\n",
    "\t\t\t\t# the left child\n",
    "\t\t\t\tif self.Heap[self.leftChild(pos)] < self.Heap[self.rightChild(pos)]:\n",
    "\t\t\t\t\tself.swap(pos, self.leftChild(pos))\n",
    "\t\t\t\t\tself.minHeapify(self.leftChild(pos))\n",
    "\n",
    "\t\t\t\t# Swap with the right child and heapify\n",
    "\t\t\t\t# the right child\n",
    "\t\t\t\telse:\n",
    "\t\t\t\t\tself.swap(pos, self.rightChild(pos))\n",
    "\t\t\t\t\tself.minHeapify(self.rightChild(pos))\n",
    "\n",
    "\t# Function to insert a node into the heap\n",
    "\tdef insert(self, element):\n",
    "\t\tif self.size >= self.maxsize :\n",
    "\t\t\treturn\n",
    "\t\tself.size+= 1\n",
    "\t\tself.Heap[self.size] = element\n",
    "\n",
    "\t\tcurrent = self.size\n",
    "\n",
    "\t\twhile self.Heap[current] < self.Heap[self.parent(current)]:\n",
    "\t\t\tself.swap(current, self.parent(current))\n",
    "\t\t\tcurrent = self.parent(current)\n",
    "\n",
    "\t# Function to print the contents of the heap\n",
    "\tdef Print(self):\n",
    "\t\tfor i in range(1, (self.size//2)+1):\n",
    "\t\t\tprint(\" PARENT : \"+ str(self.Heap[i])+\" LEFT CHILD : \"+\n",
    "\t\t\t\t\t\t\t\tstr(self.Heap[2 * i])+\" RIGHT CHILD : \"+\n",
    "\t\t\t\t\t\t\t\tstr(self.Heap[2 * i + 1]))\n",
    "\n",
    "\t# Function to build the min heap using\n",
    "\t# the minHeapify function\n",
    "\tdef minHeap(self):\n",
    "\n",
    "\t\tfor pos in range(self.size//2, 0, -1):\n",
    "\t\t\tself.minHeapify(pos)\n",
    "\n",
    "\t# Function to remove and return the minimum\n",
    "\t# element from the heap\n",
    "\tdef remove(self):\n",
    "\n",
    "\t\tpopped = self.Heap[self.FRONT]\n",
    "\t\tself.Heap[self.FRONT] = self.Heap[self.size]\n",
    "\t\tself.size-= 1\n",
    "\t\tself.minHeapify(self.FRONT)\n",
    "\t\treturn popped"
   ]
  },
  {
   "cell_type": "code",
   "execution_count": 6,
   "metadata": {},
   "outputs": [
    {
     "data": {
      "text/plain": [
       "[-9223372036854775807, 0, 0, 0, 0, 0, 0, 0, 0, 0, 0, 0, 0, 0, 0, 0]"
      ]
     },
     "execution_count": 6,
     "metadata": {},
     "output_type": "execute_result"
    },
    {
     "data": {
      "text/plain": [
       "[-9223372036854775807, 5, 0, 0, 0, 0, 0, 0, 0, 0, 0, 0, 0, 0, 0, 0]"
      ]
     },
     "execution_count": 6,
     "metadata": {},
     "output_type": "execute_result"
    },
    {
     "data": {
      "text/plain": [
       "[-9223372036854775807, 3, 5, 0, 0, 0, 0, 0, 0, 0, 0, 0, 0, 0, 0, 0]"
      ]
     },
     "execution_count": 6,
     "metadata": {},
     "output_type": "execute_result"
    },
    {
     "data": {
      "text/plain": [
       "[-9223372036854775807, 3, 5, 17, 0, 0, 0, 0, 0, 0, 0, 0, 0, 0, 0, 0]"
      ]
     },
     "execution_count": 6,
     "metadata": {},
     "output_type": "execute_result"
    },
    {
     "data": {
      "text/plain": [
       "[-9223372036854775807, 3, 5, 17, 10, 0, 0, 0, 0, 0, 0, 0, 0, 0, 0, 0]"
      ]
     },
     "execution_count": 6,
     "metadata": {},
     "output_type": "execute_result"
    },
    {
     "data": {
      "text/plain": [
       "[-9223372036854775807, 3, 5, 17, 10, 84, 0, 0, 0, 0, 0, 0, 0, 0, 0, 0]"
      ]
     },
     "execution_count": 6,
     "metadata": {},
     "output_type": "execute_result"
    },
    {
     "data": {
      "text/plain": [
       "[-9223372036854775807, 3, 5, 17, 10, 84, 19, 0, 0, 0, 0, 0, 0, 0, 0, 0]"
      ]
     },
     "execution_count": 6,
     "metadata": {},
     "output_type": "execute_result"
    },
    {
     "data": {
      "text/plain": [
       "[-9223372036854775807, 3, 5, 6, 10, 84, 19, 17, 0, 0, 0, 0, 0, 0, 0, 0]"
      ]
     },
     "execution_count": 6,
     "metadata": {},
     "output_type": "execute_result"
    },
    {
     "data": {
      "text/plain": [
       "[-9223372036854775807, 3, 5, 6, 10, 84, 19, 17, 22, 0, 0, 0, 0, 0, 0, 0]"
      ]
     },
     "execution_count": 6,
     "metadata": {},
     "output_type": "execute_result"
    },
    {
     "data": {
      "text/plain": [
       "[-9223372036854775807, 3, 5, 6, 9, 84, 19, 17, 22, 10, 0, 0, 0, 0, 0, 0]"
      ]
     },
     "execution_count": 6,
     "metadata": {},
     "output_type": "execute_result"
    },
    {
     "data": {
      "text/plain": [
       "[-9223372036854775807, 3, 5, 6, 9, 84, 19, 17, 22, 10, 0, 0, 0, 0, 0, 0]"
      ]
     },
     "execution_count": 6,
     "metadata": {},
     "output_type": "execute_result"
    },
    {
     "name": "stdout",
     "output_type": "stream",
     "text": [
      " PARENT : 3 LEFT CHILD : 5 RIGHT CHILD : 6\n",
      " PARENT : 5 LEFT CHILD : 9 RIGHT CHILD : 84\n",
      " PARENT : 6 LEFT CHILD : 19 RIGHT CHILD : 17\n",
      " PARENT : 9 LEFT CHILD : 22 RIGHT CHILD : 10\n",
      "The Min val is 3\n"
     ]
    }
   ],
   "source": [
    "minHeap = MinHeap(15)\n",
    "minHeap.Heap\n",
    "minHeap.insert(5)\n",
    "minHeap.Heap\n",
    "minHeap.insert(3)\n",
    "minHeap.Heap\n",
    "minHeap.insert(17)\n",
    "minHeap.Heap\n",
    "minHeap.insert(10)\n",
    "minHeap.Heap\n",
    "minHeap.insert(84)\n",
    "minHeap.Heap\n",
    "minHeap.insert(19)\n",
    "minHeap.Heap\n",
    "minHeap.insert(6)\n",
    "minHeap.Heap\n",
    "minHeap.insert(22)\n",
    "minHeap.Heap\n",
    "minHeap.insert(9)\n",
    "minHeap.Heap\n",
    "minHeap.minHeap()\n",
    "minHeap.Heap\n",
    "minHeap.Print()\n",
    "print(\"The Min val is \" + str(minHeap.remove()))"
   ]
  },
  {
   "cell_type": "code",
   "execution_count": null,
   "metadata": {},
   "outputs": [],
   "source": []
  }
 ],
 "metadata": {
  "kernelspec": {
   "display_name": "Python 3",
   "language": "python",
   "name": "python3"
  },
  "language_info": {
   "codemirror_mode": {
    "name": "ipython",
    "version": 3
   },
   "file_extension": ".py",
   "mimetype": "text/x-python",
   "name": "python",
   "nbconvert_exporter": "python",
   "pygments_lexer": "ipython3",
   "version": "3.7.6"
  }
 },
 "nbformat": 4,
 "nbformat_minor": 4
}
