{
 "cells": [
  {
   "cell_type": "code",
   "execution_count": 22,
   "metadata": {},
   "outputs": [
    {
     "name": "stdout",
     "output_type": "stream",
     "text": [
      "time: 386 µs (started: 2021-09-12 17:14:23 -03:00)\n"
     ]
    }
   ],
   "source": [
    "import pandas as pd \n",
    "import matplotlib.pyplot as plt \n",
    "import numpy as np\n",
    "import seaborn as sns\n",
    "import scipy.stats as stats\n",
    "import statsmodels.stats.api as sms\n",
    "\n",
    "from IPython.display import display\n",
    "from IPython.display import Markdown as md\n",
    "from IPython.core.interactiveshell import InteractiveShell\n",
    "InteractiveShell.ast_node_interactivity = \"all\"\n",
    "\n",
    "def f():\n",
    "    pd.set_option('display.max_columns', None)\n",
    "    pd.set_option('display.max_rows', None)\n",
    "    \n",
    "def nf():\n",
    "    pd.set_option('display.max_columns', None)\n",
    "    pd.set_option('display.max_rows', 4)\n",
    "\n",
    "import warnings\n",
    "warnings.filterwarnings('ignore')\n",
    "\n",
    "def dp(df, r = 5, c = None):\n",
    "    from IPython.display import display\n",
    "    with pd.option_context('display.max_rows', 4, 'display.max_columns', None):\n",
    "        display(df)\n",
    "\n",
    "def fg(w = 6, h = 4, dpi = 120):\n",
    "    plt.rcParams['figure.figsize'] = (w,h)\n",
    "    plt.rcParams['figure.dpi'] = dpi\n",
    "fg()\n",
    "\n",
    "import autotime\n",
    "%load_ext autoreload\n",
    "%autoreload 2\n",
    "%load_ext autotime"
   ]
  },
  {
   "cell_type": "markdown",
   "metadata": {},
   "source": [
    "### Para que seja considerado um algoritmo, temos que:\n",
    "\n",
    "- Produzir um resultado \n",
    "- Ser completo \n",
    "- Não ser infinito"
   ]
  },
  {
   "cell_type": "code",
   "execution_count": 53,
   "metadata": {},
   "outputs": [
    {
     "name": "stdout",
     "output_type": "stream",
     "text": [
      "time: 2.08 ms (started: 2021-09-12 17:19:33 -03:00)\n"
     ]
    }
   ],
   "source": [
    "def linear_search(list_, target):\n",
    "    '''\n",
    "    Returns the index position of the target if found, else returns None\n",
    "    '''\n",
    "    target = int(target)\n",
    "    # loop\n",
    "    # len(list) is a constant time operation, that is, independent of n\n",
    "    # it does not increase linearly, or quadratic, or quasilinear, or exponential \n",
    "    # as n increases\n",
    "    # Iterate over the list\n",
    "    for i in range(0, len(list_)):\n",
    "        # check if matches the value\n",
    "        if list_[i] == target:\n",
    "            return i\n",
    "    return None\n",
    "    \n",
    "    # look for the position according to index \n",
    "    # -1 not a position or a exception "
   ]
  },
  {
   "cell_type": "code",
   "execution_count": 24,
   "metadata": {},
   "outputs": [
    {
     "name": "stdout",
     "output_type": "stream",
     "text": [
      "time: 1.93 ms (started: 2021-09-12 17:14:25 -03:00)\n"
     ]
    }
   ],
   "source": [
    "# Função de verificação\n",
    "\n",
    "# Se o valor não é nulo (None), returns the index position\n",
    "# Se o valor é nulo, informa que não foi encontrado\n",
    "\n",
    "def verify(index):\n",
    "    if index is not None:\n",
    "        print(\"Target found at index: \", index)\n",
    "    else:\n",
    "        print(\"Target not found in list\")\n",
    "    "
   ]
  },
  {
   "cell_type": "code",
   "execution_count": 25,
   "metadata": {},
   "outputs": [
    {
     "name": "stdout",
     "output_type": "stream",
     "text": [
      "time: 1.15 ms (started: 2021-09-12 17:14:25 -03:00)\n"
     ]
    }
   ],
   "source": [
    "list_ = list(range(0,50,3))"
   ]
  },
  {
   "cell_type": "code",
   "execution_count": 26,
   "metadata": {},
   "outputs": [
    {
     "data": {
      "text/plain": [
       "[0, 3, 6, 9, 12, 15, 18, 21, 24, 27, 30, 33, 36, 39, 42, 45, 48]"
      ]
     },
     "execution_count": 26,
     "metadata": {},
     "output_type": "execute_result"
    },
    {
     "name": "stdout",
     "output_type": "stream",
     "text": [
      "time: 3 ms (started: 2021-09-12 17:14:26 -03:00)\n"
     ]
    }
   ],
   "source": [
    "list_"
   ]
  },
  {
   "cell_type": "code",
   "execution_count": 27,
   "metadata": {},
   "outputs": [
    {
     "name": "stdout",
     "output_type": "stream",
     "text": [
      "Target found at index:  11\n",
      "time: 1.14 ms (started: 2021-09-12 17:14:26 -03:00)\n"
     ]
    }
   ],
   "source": [
    "verify(linear_search(list_, 33))"
   ]
  },
  {
   "cell_type": "code",
   "execution_count": 28,
   "metadata": {},
   "outputs": [
    {
     "name": "stdout",
     "output_type": "stream",
     "text": [
      "time: 759 µs (started: 2021-09-12 17:14:29 -03:00)\n"
     ]
    }
   ],
   "source": [
    "# Check time"
   ]
  },
  {
   "cell_type": "code",
   "execution_count": 52,
   "metadata": {},
   "outputs": [
    {
     "name": "stdout",
     "output_type": "stream",
     "text": [
      "time: 298 ms (started: 2021-09-12 17:18:55 -03:00)\n"
     ]
    }
   ],
   "source": [
    "lb = list(range(0,int(1e7)))"
   ]
  },
  {
   "cell_type": "code",
   "execution_count": 54,
   "metadata": {},
   "outputs": [
    {
     "data": {
      "text/plain": [
       "1500000"
      ]
     },
     "execution_count": 54,
     "metadata": {},
     "output_type": "execute_result"
    },
    {
     "name": "stdout",
     "output_type": "stream",
     "text": [
      "time: 81.8 ms (started: 2021-09-12 17:19:38 -03:00)\n"
     ]
    }
   ],
   "source": [
    "linear_search(lb, 1.5e6)"
   ]
  },
  {
   "cell_type": "code",
   "execution_count": null,
   "metadata": {},
   "outputs": [],
   "source": []
  }
 ],
 "metadata": {
  "kernelspec": {
   "display_name": "Python 3",
   "language": "python",
   "name": "python3"
  },
  "language_info": {
   "codemirror_mode": {
    "name": "ipython",
    "version": 3
   },
   "file_extension": ".py",
   "mimetype": "text/x-python",
   "name": "python",
   "nbconvert_exporter": "python",
   "pygments_lexer": "ipython3",
   "version": "3.7.6"
  }
 },
 "nbformat": 4,
 "nbformat_minor": 4
}
