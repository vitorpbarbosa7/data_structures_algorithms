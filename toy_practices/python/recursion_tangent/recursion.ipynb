{
 "cells": [
  {
   "cell_type": "code",
   "execution_count": 40,
   "id": "3183ceaa",
   "metadata": {
    "ExecuteTime": {
     "end_time": "2022-05-18T17:22:49.552770Z",
     "start_time": "2022-05-18T17:22:45.336025Z"
    }
   },
   "outputs": [
    {
     "name": "stdout",
     "output_type": "stream",
     "text": [
      "Collecting recursion-visualiser\n",
      "  Downloading recursion_visualiser-1.0.2-py3-none-any.whl (6.9 kB)\n",
      "Collecting pydot\n",
      "  Downloading pydot-1.4.2-py2.py3-none-any.whl (21 kB)\n",
      "Collecting imageio\n",
      "  Downloading imageio-2.19.2-py3-none-any.whl (3.4 MB)\n",
      "\u001b[K     |████████████████████████████████| 3.4 MB 9.6 MB/s eta 0:00:01\n",
      "\u001b[?25hCollecting numpy\n",
      "  Using cached numpy-1.22.3-cp39-cp39-macosx_10_14_x86_64.whl (17.6 MB)\n",
      "Collecting pillow>=8.3.2\n",
      "  Downloading Pillow-9.1.1-cp39-cp39-macosx_10_10_x86_64.whl (3.1 MB)\n",
      "\u001b[K     |████████████████████████████████| 3.1 MB 39.1 MB/s eta 0:00:01\n",
      "\u001b[?25hRequirement already satisfied: pyparsing>=2.1.4 in /Users/vpb/anaconda3/envs/python-binary-search/lib/python3.9/site-packages (from pydot->recursion-visualiser) (3.0.4)\n",
      "Installing collected packages: pillow, numpy, pydot, imageio, recursion-visualiser\n",
      "Successfully installed imageio-2.19.2 numpy-1.22.3 pillow-9.1.1 pydot-1.4.2 recursion-visualiser-1.0.2\n"
     ]
    }
   ],
   "source": [
    "! pip install recursion-visualiser"
   ]
  },
  {
   "cell_type": "code",
   "execution_count": 36,
   "id": "f145aef1",
   "metadata": {
    "ExecuteTime": {
     "end_time": "2022-05-18T17:20:38.354412Z",
     "start_time": "2022-05-18T17:20:38.345527Z"
    }
   },
   "outputs": [],
   "source": [
    "from recviz import recviz"
   ]
  },
  {
   "cell_type": "code",
   "execution_count": 37,
   "id": "8f9e4d78",
   "metadata": {
    "ExecuteTime": {
     "end_time": "2022-05-18T17:20:39.312867Z",
     "start_time": "2022-05-18T17:20:39.306635Z"
    }
   },
   "outputs": [
    {
     "data": {
      "text/plain": [
       "8"
      ]
     },
     "execution_count": 37,
     "metadata": {},
     "output_type": "execute_result"
    }
   ],
   "source": [
    "1\n",
    "2\n",
    "3\n",
    "5\n",
    "8"
   ]
  },
  {
   "cell_type": "code",
   "execution_count": 38,
   "id": "422daf8f",
   "metadata": {
    "ExecuteTime": {
     "end_time": "2022-05-18T17:20:43.057885Z",
     "start_time": "2022-05-18T17:20:43.053455Z"
    }
   },
   "outputs": [],
   "source": [
    "@recviz\n",
    "def fib(n):\n",
    "    if n <= 1:\n",
    "        return n\n",
    "    \n",
    "    else:\n",
    "        return (fib(n-1) + fib(n-2))"
   ]
  },
  {
   "cell_type": "code",
   "execution_count": 39,
   "id": "3710ca79",
   "metadata": {
    "ExecuteTime": {
     "end_time": "2022-05-18T17:20:44.087361Z",
     "start_time": "2022-05-18T17:20:44.078576Z"
    }
   },
   "outputs": [
    {
     "name": "stdout",
     "output_type": "stream",
     "text": [
      " -> fib(7)\n",
      "    -> fib(6)\n",
      "       -> fib(5)\n",
      "          -> fib(4)\n",
      "             -> fib(3)\n",
      "                -> fib(2)\n",
      "                   -> fib(1)\n",
      "                   <- 1\n",
      "                   -> fib(0)\n",
      "                   <- 0\n",
      "                <- 1\n",
      "                -> fib(1)\n",
      "                <- 1\n",
      "             <- 2\n",
      "             -> fib(2)\n",
      "                -> fib(1)\n",
      "                <- 1\n",
      "                -> fib(0)\n",
      "                <- 0\n",
      "             <- 1\n",
      "          <- 3\n",
      "          -> fib(3)\n",
      "             -> fib(2)\n",
      "                -> fib(1)\n",
      "                <- 1\n",
      "                -> fib(0)\n",
      "                <- 0\n",
      "             <- 1\n",
      "             -> fib(1)\n",
      "             <- 1\n",
      "          <- 2\n",
      "       <- 5\n",
      "       -> fib(4)\n",
      "          -> fib(3)\n",
      "             -> fib(2)\n",
      "                -> fib(1)\n",
      "                <- 1\n",
      "                -> fib(0)\n",
      "                <- 0\n",
      "             <- 1\n",
      "             -> fib(1)\n",
      "             <- 1\n",
      "          <- 2\n",
      "          -> fib(2)\n",
      "             -> fib(1)\n",
      "             <- 1\n",
      "             -> fib(0)\n",
      "             <- 0\n",
      "          <- 1\n",
      "       <- 3\n",
      "    <- 8\n",
      "    -> fib(5)\n",
      "       -> fib(4)\n",
      "          -> fib(3)\n",
      "             -> fib(2)\n",
      "                -> fib(1)\n",
      "                <- 1\n",
      "                -> fib(0)\n",
      "                <- 0\n",
      "             <- 1\n",
      "             -> fib(1)\n",
      "             <- 1\n",
      "          <- 2\n",
      "          -> fib(2)\n",
      "             -> fib(1)\n",
      "             <- 1\n",
      "             -> fib(0)\n",
      "             <- 0\n",
      "          <- 1\n",
      "       <- 3\n",
      "       -> fib(3)\n",
      "          -> fib(2)\n",
      "             -> fib(1)\n",
      "             <- 1\n",
      "             -> fib(0)\n",
      "             <- 0\n",
      "          <- 1\n",
      "          -> fib(1)\n",
      "          <- 1\n",
      "       <- 2\n",
      "    <- 5\n",
      " <- 13\n"
     ]
    },
    {
     "data": {
      "text/plain": [
       "13"
      ]
     },
     "execution_count": 39,
     "metadata": {},
     "output_type": "execute_result"
    }
   ],
   "source": [
    "fib(7)"
   ]
  },
  {
   "cell_type": "code",
   "execution_count": 41,
   "id": "3c37ee71",
   "metadata": {
    "ExecuteTime": {
     "end_time": "2022-05-18T17:23:44.803505Z",
     "start_time": "2022-05-18T17:23:24.526425Z"
    }
   },
   "outputs": [
    {
     "name": "stdout",
     "output_type": "stream",
     "text": [
      "8\n",
      "Starting to make animation\n",
      "File fibonacci.png successfully written\n",
      "Writing frames....\n",
      "Writing gif...\n",
      "Saved gif fibonacci.gif successfully\n"
     ]
    }
   ],
   "source": [
    "# Author: Bishal Sarang\n",
    "\n",
    "# Import Visualiser class from module visualiser\n",
    "from visualiser.visualiser import Visualiser as vs\n",
    "\n",
    "# Add decorator\n",
    "# Decorator accepts optional arguments: ignore_args , show_argument_name, show_return_value and node_properties_kwargs\n",
    "@vs(node_properties_kwargs={\"shape\":\"record\", \"color\":\"#f57542\", \"style\":\"filled\", \"fillcolor\":\"grey\"})\n",
    "def fib(n):\n",
    "    if n <= 1:\n",
    "        return n\n",
    "    return fib(n=n - 1) + fib(n=n - 2)\n",
    "\n",
    "\n",
    "def main():\n",
    "    # Call function\n",
    "    print(fib(n=6))\n",
    "    # Save recursion tree to a file\n",
    "    vs.make_animation(\"fibonacci.gif\", delay=2)\n",
    "\n",
    "\n",
    "if __name__ == \"__main__\":\n",
    "    main()"
   ]
  },
  {
   "cell_type": "code",
   "execution_count": null,
   "id": "37501575",
   "metadata": {},
   "outputs": [],
   "source": []
  }
 ],
 "metadata": {
  "kernelspec": {
   "display_name": "Python 3 (ipykernel)",
   "language": "python",
   "name": "python3"
  },
  "language_info": {
   "codemirror_mode": {
    "name": "ipython",
    "version": 3
   },
   "file_extension": ".py",
   "mimetype": "text/x-python",
   "name": "python",
   "nbconvert_exporter": "python",
   "pygments_lexer": "ipython3",
   "version": "3.9.12"
  },
  "toc": {
   "base_numbering": 1,
   "nav_menu": {},
   "number_sections": true,
   "sideBar": true,
   "skip_h1_title": false,
   "title_cell": "Table of Contents",
   "title_sidebar": "Contents",
   "toc_cell": false,
   "toc_position": {},
   "toc_section_display": true,
   "toc_window_display": false
  }
 },
 "nbformat": 4,
 "nbformat_minor": 5
}
