{
 "cells": [
  {
   "cell_type": "markdown",
   "id": "ce434925",
   "metadata": {},
   "source": [
    "https://www.youtube.com/watch?v=aj8f5NPAeTY"
   ]
  },
  {
   "cell_type": "code",
   "execution_count": 103,
   "id": "75e6ea52",
   "metadata": {
    "ExecuteTime": {
     "end_time": "2022-05-20T00:11:35.221769Z",
     "start_time": "2022-05-20T00:11:35.214780Z"
    }
   },
   "outputs": [],
   "source": [
    "from __future__ import annotations\n",
    "from typing import Optional\n",
    "\n",
    "class Node:\n",
    "        \n",
    "    def __init__(self, data:int, next_node = None):\n",
    "        self.data = data\n",
    "        self.next_node = next_node\n",
    "        \n",
    "    def __repr__(self) -> str:\n",
    "        if self.next_node is None:\n",
    "            return f'{self.data} -> None'\n",
    "        else:\n",
    "            return f'{self.data} -> {self.next_node}'\n",
    "        "
   ]
  },
  {
   "cell_type": "code",
   "execution_count": 104,
   "id": "518a8ee8",
   "metadata": {
    "ExecuteTime": {
     "end_time": "2022-05-20T00:11:35.229141Z",
     "start_time": "2022-05-20T00:11:35.225938Z"
    }
   },
   "outputs": [],
   "source": [
    "haystack = Node(0)"
   ]
  },
  {
   "cell_type": "code",
   "execution_count": 105,
   "id": "cc8baed1",
   "metadata": {
    "ExecuteTime": {
     "end_time": "2022-05-20T00:11:35.236230Z",
     "start_time": "2022-05-20T00:11:35.232188Z"
    }
   },
   "outputs": [],
   "source": [
    "needle = Node(1)"
   ]
  },
  {
   "cell_type": "code",
   "execution_count": 106,
   "id": "8f61d83f",
   "metadata": {
    "ExecuteTime": {
     "end_time": "2022-05-20T00:11:35.242501Z",
     "start_time": "2022-05-20T00:11:35.239598Z"
    }
   },
   "outputs": [],
   "source": [
    "na = Node(10)"
   ]
  },
  {
   "cell_type": "code",
   "execution_count": 107,
   "id": "2f61673b",
   "metadata": {
    "ExecuteTime": {
     "end_time": "2022-05-20T00:11:35.247249Z",
     "start_time": "2022-05-20T00:11:35.244595Z"
    }
   },
   "outputs": [],
   "source": [
    "nb = Node(20)"
   ]
  },
  {
   "cell_type": "markdown",
   "id": "73b621d5",
   "metadata": {},
   "source": [
    "dummy way implemented only to visualize it clearly"
   ]
  },
  {
   "cell_type": "code",
   "execution_count": 108,
   "id": "cc03b874",
   "metadata": {
    "ExecuteTime": {
     "end_time": "2022-05-20T00:11:35.251026Z",
     "start_time": "2022-05-20T00:11:35.248642Z"
    }
   },
   "outputs": [],
   "source": [
    "haystack.next_node = na"
   ]
  },
  {
   "cell_type": "code",
   "execution_count": 109,
   "id": "00906e21",
   "metadata": {
    "ExecuteTime": {
     "end_time": "2022-05-20T00:11:35.255736Z",
     "start_time": "2022-05-20T00:11:35.252986Z"
    }
   },
   "outputs": [],
   "source": [
    "haystack.next_node.next_node = nb"
   ]
  },
  {
   "cell_type": "code",
   "execution_count": 110,
   "id": "dac5d9ba",
   "metadata": {
    "ExecuteTime": {
     "end_time": "2022-05-20T00:11:35.260848Z",
     "start_time": "2022-05-20T00:11:35.257430Z"
    }
   },
   "outputs": [
    {
     "data": {
      "text/plain": [
       "20"
      ]
     },
     "execution_count": 110,
     "metadata": {},
     "output_type": "execute_result"
    }
   ],
   "source": [
    "haystack.next_node.next_node.data"
   ]
  },
  {
   "cell_type": "code",
   "execution_count": 111,
   "id": "4aa91320",
   "metadata": {
    "ExecuteTime": {
     "end_time": "2022-05-20T00:11:35.264851Z",
     "start_time": "2022-05-20T00:11:35.262482Z"
    }
   },
   "outputs": [],
   "source": [
    "haystack.next_node.next_node.next_node = needle"
   ]
  },
  {
   "cell_type": "code",
   "execution_count": 112,
   "id": "111c7dba",
   "metadata": {
    "ExecuteTime": {
     "end_time": "2022-05-20T00:11:35.270037Z",
     "start_time": "2022-05-20T00:11:35.267761Z"
    }
   },
   "outputs": [],
   "source": [
    "nc = Node(30)"
   ]
  },
  {
   "cell_type": "code",
   "execution_count": 113,
   "id": "2eaeb443",
   "metadata": {
    "ExecuteTime": {
     "end_time": "2022-05-20T00:11:35.275296Z",
     "start_time": "2022-05-20T00:11:35.272014Z"
    }
   },
   "outputs": [],
   "source": [
    "nd = Node(40)"
   ]
  },
  {
   "cell_type": "code",
   "execution_count": 114,
   "id": "c890e8db",
   "metadata": {
    "ExecuteTime": {
     "end_time": "2022-05-20T00:11:35.279423Z",
     "start_time": "2022-05-20T00:11:35.277316Z"
    }
   },
   "outputs": [],
   "source": [
    "haystack.next_node.next_node.next_node.next_node = nc"
   ]
  },
  {
   "cell_type": "code",
   "execution_count": 115,
   "id": "4e2d4284",
   "metadata": {
    "ExecuteTime": {
     "end_time": "2022-05-20T00:11:35.283549Z",
     "start_time": "2022-05-20T00:11:35.280830Z"
    }
   },
   "outputs": [],
   "source": [
    "haystack.next_node.next_node.next_node.next_node.next_node = nd"
   ]
  },
  {
   "cell_type": "code",
   "execution_count": 116,
   "id": "44230aa3",
   "metadata": {
    "ExecuteTime": {
     "end_time": "2022-05-20T00:12:14.665663Z",
     "start_time": "2022-05-20T00:12:14.658896Z"
    }
   },
   "outputs": [],
   "source": [
    "def includes(needle:int, haystack) -> bool:\n",
    "    # edge cases\n",
    "    if (needle is None) or (haystack is None):\n",
    "        return False\n",
    "    \n",
    "    # edge base case, when head is already our element\n",
    "    elif needle == haystack.data:\n",
    "        return True\n",
    "    \n",
    "    # else, go to others deep down\n",
    "    # it is the same is imperative looping\n",
    "    else:\n",
    "        # how to fill the recursive element in the recursive call is a key point\n",
    "        return includes(needle, haystack.next_node)"
   ]
  },
  {
   "cell_type": "code",
   "execution_count": 121,
   "id": "f4f86639",
   "metadata": {
    "ExecuteTime": {
     "end_time": "2022-05-20T00:12:43.339713Z",
     "start_time": "2022-05-20T00:12:43.334697Z"
    }
   },
   "outputs": [
    {
     "data": {
      "text/plain": [
       "True"
      ]
     },
     "execution_count": 121,
     "metadata": {},
     "output_type": "execute_result"
    }
   ],
   "source": [
    "includes(10, haystack)"
   ]
  },
  {
   "cell_type": "code",
   "execution_count": 122,
   "id": "239d2e10",
   "metadata": {
    "ExecuteTime": {
     "end_time": "2022-05-20T00:15:16.528980Z",
     "start_time": "2022-05-20T00:15:16.523407Z"
    }
   },
   "outputs": [
    {
     "data": {
      "text/plain": [
       "True"
      ]
     },
     "execution_count": 122,
     "metadata": {},
     "output_type": "execute_result"
    }
   ],
   "source": [
    "includes(needle.data, haystack)"
   ]
  },
  {
   "cell_type": "code",
   "execution_count": 124,
   "id": "926b50cf",
   "metadata": {
    "ExecuteTime": {
     "end_time": "2022-05-20T00:15:30.332218Z",
     "start_time": "2022-05-20T00:15:30.326521Z"
    }
   },
   "outputs": [
    {
     "data": {
      "text/plain": [
       "False"
      ]
     },
     "execution_count": 124,
     "metadata": {},
     "output_type": "execute_result"
    }
   ],
   "source": [
    "includes(123, haystack)"
   ]
  },
  {
   "cell_type": "markdown",
   "id": "9da56aeb",
   "metadata": {},
   "source": [
    "# Fibonnaci"
   ]
  },
  {
   "cell_type": "markdown",
   "id": "8cfff2cc",
   "metadata": {},
   "source": [
    "- Input : n sums\n",
    "\n",
    "- edge case: f(0) returns 0\n",
    "\n",
    "- edge case: f(1) returns 1\n",
    "\n",
    "- result: it obvious that general case of fibonacci returns a sum of elements, in a way that the sum of current element sums with last element and so on"
   ]
  },
  {
   "cell_type": "code",
   "execution_count": 54,
   "id": "1f28ab2f",
   "metadata": {
    "ExecuteTime": {
     "end_time": "2022-05-19T23:59:06.096068Z",
     "start_time": "2022-05-19T23:59:06.090962Z"
    }
   },
   "outputs": [],
   "source": [
    "def f(n):\n",
    "    \n",
    "    if (n == 0) | (n == 1):\n",
    "        return 1\n",
    "    else:\n",
    "        # it is pretty obvious that fibonnaci sums to numbers\n",
    "        # but now, how to reference those numbers here?\n",
    "        return f(n-1) + f(n-2)"
   ]
  },
  {
   "cell_type": "code",
   "execution_count": 55,
   "id": "ca8ecd26",
   "metadata": {
    "ExecuteTime": {
     "end_time": "2022-05-19T23:59:06.388163Z",
     "start_time": "2022-05-19T23:59:06.381807Z"
    }
   },
   "outputs": [
    {
     "data": {
      "text/plain": [
       "3"
      ]
     },
     "execution_count": 55,
     "metadata": {},
     "output_type": "execute_result"
    }
   ],
   "source": [
    "f(3)"
   ]
  },
  {
   "cell_type": "code",
   "execution_count": null,
   "id": "a9119ea0",
   "metadata": {},
   "outputs": [],
   "source": []
  }
 ],
 "metadata": {
  "kernelspec": {
   "display_name": "Python 3 (ipykernel)",
   "language": "python",
   "name": "python3"
  },
  "language_info": {
   "codemirror_mode": {
    "name": "ipython",
    "version": 3
   },
   "file_extension": ".py",
   "mimetype": "text/x-python",
   "name": "python",
   "nbconvert_exporter": "python",
   "pygments_lexer": "ipython3",
   "version": "3.9.12"
  },
  "toc": {
   "base_numbering": 1,
   "nav_menu": {},
   "number_sections": true,
   "sideBar": true,
   "skip_h1_title": false,
   "title_cell": "Table of Contents",
   "title_sidebar": "Contents",
   "toc_cell": false,
   "toc_position": {},
   "toc_section_display": true,
   "toc_window_display": false
  }
 },
 "nbformat": 4,
 "nbformat_minor": 5
}
