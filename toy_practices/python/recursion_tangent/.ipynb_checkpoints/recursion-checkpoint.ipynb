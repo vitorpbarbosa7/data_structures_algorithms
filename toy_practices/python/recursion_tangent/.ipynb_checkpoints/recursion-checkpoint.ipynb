{
 "cells": [
  {
   "cell_type": "code",
   "execution_count": 36,
   "id": "036010db",
   "metadata": {
    "ExecuteTime": {
     "end_time": "2022-05-18T17:20:38.354412Z",
     "start_time": "2022-05-18T17:20:38.345527Z"
    }
   },
   "outputs": [],
   "source": [
    "from recviz import recviz"
   ]
  },
  {
   "cell_type": "code",
   "execution_count": 37,
   "id": "280e7b0b",
   "metadata": {
    "ExecuteTime": {
     "end_time": "2022-05-18T17:20:39.312867Z",
     "start_time": "2022-05-18T17:20:39.306635Z"
    }
   },
   "outputs": [
    {
     "data": {
      "text/plain": [
       "8"
      ]
     },
     "execution_count": 37,
     "metadata": {},
     "output_type": "execute_result"
    }
   ],
   "source": [
    "1\n",
    "2\n",
    "3\n",
    "5\n",
    "8"
   ]
  },
  {
   "cell_type": "code",
   "execution_count": 38,
   "id": "d6a24c71",
   "metadata": {
    "ExecuteTime": {
     "end_time": "2022-05-18T17:20:43.057885Z",
     "start_time": "2022-05-18T17:20:43.053455Z"
    }
   },
   "outputs": [],
   "source": [
    "@recviz\n",
    "def fib(n):\n",
    "    if n <= 1:\n",
    "        return n\n",
    "    \n",
    "    else:\n",
    "        return (fib(n-1) + fib(n-2))"
   ]
  },
  {
   "cell_type": "code",
   "execution_count": 39,
   "id": "b740654a",
   "metadata": {
    "ExecuteTime": {
     "end_time": "2022-05-18T17:20:44.087361Z",
     "start_time": "2022-05-18T17:20:44.078576Z"
    }
   },
   "outputs": [
    {
     "name": "stdout",
     "output_type": "stream",
     "text": [
      " -> fib(7)\n",
      "    -> fib(6)\n",
      "       -> fib(5)\n",
      "          -> fib(4)\n",
      "             -> fib(3)\n",
      "                -> fib(2)\n",
      "                   -> fib(1)\n",
      "                   <- 1\n",
      "                   -> fib(0)\n",
      "                   <- 0\n",
      "                <- 1\n",
      "                -> fib(1)\n",
      "                <- 1\n",
      "             <- 2\n",
      "             -> fib(2)\n",
      "                -> fib(1)\n",
      "                <- 1\n",
      "                -> fib(0)\n",
      "                <- 0\n",
      "             <- 1\n",
      "          <- 3\n",
      "          -> fib(3)\n",
      "             -> fib(2)\n",
      "                -> fib(1)\n",
      "                <- 1\n",
      "                -> fib(0)\n",
      "                <- 0\n",
      "             <- 1\n",
      "             -> fib(1)\n",
      "             <- 1\n",
      "          <- 2\n",
      "       <- 5\n",
      "       -> fib(4)\n",
      "          -> fib(3)\n",
      "             -> fib(2)\n",
      "                -> fib(1)\n",
      "                <- 1\n",
      "                -> fib(0)\n",
      "                <- 0\n",
      "             <- 1\n",
      "             -> fib(1)\n",
      "             <- 1\n",
      "          <- 2\n",
      "          -> fib(2)\n",
      "             -> fib(1)\n",
      "             <- 1\n",
      "             -> fib(0)\n",
      "             <- 0\n",
      "          <- 1\n",
      "       <- 3\n",
      "    <- 8\n",
      "    -> fib(5)\n",
      "       -> fib(4)\n",
      "          -> fib(3)\n",
      "             -> fib(2)\n",
      "                -> fib(1)\n",
      "                <- 1\n",
      "                -> fib(0)\n",
      "                <- 0\n",
      "             <- 1\n",
      "             -> fib(1)\n",
      "             <- 1\n",
      "          <- 2\n",
      "          -> fib(2)\n",
      "             -> fib(1)\n",
      "             <- 1\n",
      "             -> fib(0)\n",
      "             <- 0\n",
      "          <- 1\n",
      "       <- 3\n",
      "       -> fib(3)\n",
      "          -> fib(2)\n",
      "             -> fib(1)\n",
      "             <- 1\n",
      "             -> fib(0)\n",
      "             <- 0\n",
      "          <- 1\n",
      "          -> fib(1)\n",
      "          <- 1\n",
      "       <- 2\n",
      "    <- 5\n",
      " <- 13\n"
     ]
    },
    {
     "data": {
      "text/plain": [
       "13"
      ]
     },
     "execution_count": 39,
     "metadata": {},
     "output_type": "execute_result"
    }
   ],
   "source": [
    "fib(7)"
   ]
  },
  {
   "cell_type": "code",
   "execution_count": null,
   "id": "720ef354",
   "metadata": {},
   "outputs": [],
   "source": []
  }
 ],
 "metadata": {
  "kernelspec": {
   "display_name": "Python 3 (ipykernel)",
   "language": "python",
   "name": "python3"
  },
  "language_info": {
   "codemirror_mode": {
    "name": "ipython",
    "version": 3
   },
   "file_extension": ".py",
   "mimetype": "text/x-python",
   "name": "python",
   "nbconvert_exporter": "python",
   "pygments_lexer": "ipython3",
   "version": "3.9.12"
  },
  "toc": {
   "base_numbering": 1,
   "nav_menu": {},
   "number_sections": true,
   "sideBar": true,
   "skip_h1_title": false,
   "title_cell": "Table of Contents",
   "title_sidebar": "Contents",
   "toc_cell": false,
   "toc_position": {},
   "toc_section_display": true,
   "toc_window_display": false
  }
 },
 "nbformat": 4,
 "nbformat_minor": 5
}
