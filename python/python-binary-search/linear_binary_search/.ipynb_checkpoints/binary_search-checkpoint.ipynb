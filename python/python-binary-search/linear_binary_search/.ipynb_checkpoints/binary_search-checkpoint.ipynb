{
 "cells": [
  {
   "cell_type": "code",
   "execution_count": 119,
   "id": "cf65bb3f",
   "metadata": {},
   "outputs": [],
   "source": [
    "def find_max(nums):\n",
    "    \n",
    "    #dummy cases:\n",
    "    if len(nums) == 0:\n",
    "        return -1\n",
    "    \n",
    "    \n",
    "    low = 0\n",
    "    high = len(nums)-1\n",
    "    # go updating the position (by middle, binary search approach), according to not finding the greatest number\n",
    "    \n",
    "    while True:\n",
    "        if len(nums) == 1:\n",
    "            candidate = nums[0]\n",
    "            return -1\n",
    "            \n",
    "        middle = (low + high) //2\n",
    "        candidate = nums[middle]\n",
    "        print('middle position: ', middle)\n",
    "        print('candidate: ', candidate)\n",
    "        # compare with left side\n",
    "        \n",
    "        # strategy to find minimum number\n",
    "        \n",
    "        # check if it was not rotated at all\n",
    "        if nums[low] < nums[high]:\n",
    "            return 0\n",
    "        \n",
    "        # check if we found it at each loop\n",
    "        if (candidate < nums[middle-1]):\n",
    "            return middle\n",
    "        # in case it is not the element, we must find a way whether the smallest element is in the \n",
    "        # left or right side\n",
    "        \n",
    "        # right side\n",
    "        elif (candidate > nums[0]):    \n",
    "            low = middle + 1\n",
    "            \n",
    "        # left side\n",
    "        elif (candidate < nums[0]):\n",
    "            high = middle - 1"
   ]
  },
  {
   "cell_type": "code",
   "execution_count": 116,
   "id": "0068dc51",
   "metadata": {},
   "outputs": [],
   "source": [
    "test0 = [2,0,1]"
   ]
  },
  {
   "cell_type": "code",
   "execution_count": 104,
   "id": "eeba2da4",
   "metadata": {},
   "outputs": [
    {
     "name": "stdout",
     "output_type": "stream",
     "text": [
      "middle position:  1\n",
      "candidate:  0\n"
     ]
    },
    {
     "data": {
      "text/plain": [
       "1"
      ]
     },
     "execution_count": 104,
     "metadata": {},
     "output_type": "execute_result"
    }
   ],
   "source": [
    "find_max(test0)"
   ]
  },
  {
   "cell_type": "code",
   "execution_count": 105,
   "id": "cae87653",
   "metadata": {},
   "outputs": [],
   "source": [
    "test1 = [3,4,5,6,9,0,2]"
   ]
  },
  {
   "cell_type": "code",
   "execution_count": 106,
   "id": "4dbc1ebc",
   "metadata": {},
   "outputs": [
    {
     "name": "stdout",
     "output_type": "stream",
     "text": [
      "middle position:  3\n",
      "candidate:  6\n",
      "middle position:  5\n",
      "candidate:  0\n"
     ]
    },
    {
     "data": {
      "text/plain": [
       "5"
      ]
     },
     "execution_count": 106,
     "metadata": {},
     "output_type": "execute_result"
    }
   ],
   "source": [
    "find_max(test1)"
   ]
  },
  {
   "cell_type": "code",
   "execution_count": 107,
   "id": "f8ce1c78",
   "metadata": {},
   "outputs": [],
   "source": [
    "test2 = [34,35,36,37,38,39,40,41,46,47,48,0,1,2,3,4,5,6]"
   ]
  },
  {
   "cell_type": "code",
   "execution_count": 108,
   "id": "a9aa846b",
   "metadata": {},
   "outputs": [
    {
     "name": "stdout",
     "output_type": "stream",
     "text": [
      "middle position:  4\n",
      "candidate:  -1\n"
     ]
    },
    {
     "data": {
      "text/plain": [
       "4"
      ]
     },
     "execution_count": 108,
     "metadata": {},
     "output_type": "execute_result"
    }
   ],
   "source": [
    "find_max([3, 4, 5, 6, -1, 0, 1, 2, 3])"
   ]
  },
  {
   "cell_type": "code",
   "execution_count": 109,
   "id": "dc4d46da",
   "metadata": {},
   "outputs": [
    {
     "name": "stdout",
     "output_type": "stream",
     "text": [
      "middle position:  8\n",
      "candidate:  46\n",
      "middle position:  13\n",
      "candidate:  2\n",
      "middle position:  10\n",
      "candidate:  48\n",
      "middle position:  11\n",
      "candidate:  0\n"
     ]
    },
    {
     "data": {
      "text/plain": [
       "11"
      ]
     },
     "execution_count": 109,
     "metadata": {},
     "output_type": "execute_result"
    }
   ],
   "source": [
    "find_max(test2)"
   ]
  },
  {
   "cell_type": "code",
   "execution_count": 113,
   "id": "f91fb19f",
   "metadata": {},
   "outputs": [],
   "source": [
    "test3 = [3]"
   ]
  },
  {
   "cell_type": "code",
   "execution_count": 114,
   "id": "ed803e40",
   "metadata": {},
   "outputs": [
    {
     "data": {
      "text/plain": [
       "-1"
      ]
     },
     "execution_count": 114,
     "metadata": {},
     "output_type": "execute_result"
    }
   ],
   "source": [
    "find_max(test3)"
   ]
  },
  {
   "cell_type": "code",
   "execution_count": 117,
   "id": "496e6ab9",
   "metadata": {},
   "outputs": [],
   "source": [
    "test4 = [0,1,2]"
   ]
  },
  {
   "cell_type": "code",
   "execution_count": 118,
   "id": "7f21d601",
   "metadata": {},
   "outputs": [
    {
     "name": "stdout",
     "output_type": "stream",
     "text": [
      "middle position:  1\n",
      "candidate:  1\n"
     ]
    },
    {
     "data": {
      "text/plain": [
       "0"
      ]
     },
     "execution_count": 118,
     "metadata": {},
     "output_type": "execute_result"
    }
   ],
   "source": [
    "find_max(test4)"
   ]
  }
 ],
 "metadata": {
  "kernelspec": {
   "display_name": "Python 3 (ipykernel)",
   "language": "python",
   "name": "python3"
  },
  "language_info": {
   "codemirror_mode": {
    "name": "ipython",
    "version": 3
   },
   "file_extension": ".py",
   "mimetype": "text/x-python",
   "name": "python",
   "nbconvert_exporter": "python",
   "pygments_lexer": "ipython3",
   "version": "3.9.12"
  }
 },
 "nbformat": 4,
 "nbformat_minor": 5
}
