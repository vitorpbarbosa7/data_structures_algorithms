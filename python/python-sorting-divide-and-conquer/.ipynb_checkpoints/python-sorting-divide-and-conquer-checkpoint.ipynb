{
 "cells": [
  {
   "cell_type": "markdown",
   "id": "031da78e",
   "metadata": {},
   "source": [
    "# Merge Sort, Quicksort and Divide-n-Conquer Algorithms in Python\n",
    "\n",
    "### Part 3 of \"Data Structures and Algorithms in Python\"\n",
    "\n",
    "[Data Structures and Algorithms in Python](https://jovian.ai/learn/data-structures-and-algorithms-in-python) is a beginner-friendly introduction to common data structures (linked lists, stacks, queues, graphs) and algorithms (search, sorting, recursion, dynamic programming) in Python, designed to help you prepare for coding interviews and assessments. \n",
    "\n",
    "Earn a verified certificate of accomplishment for this course by signing up here: http://pythondsa.com. Ask questions, get help & participate in discussions on the [course community forum](https://jovian.ai/forum/c/data-structures-and-algorithms-in-python/78). \n"
   ]
  },
  {
   "cell_type": "markdown",
   "id": "eab1edb6",
   "metadata": {},
   "source": [
    "### Prerequisites\n",
    "\n",
    "This course assumes very little background in programming and mathematics, and you can learn the required concepts here:\n",
    "\n",
    "- Basic programming with Python ([variables](https://jovian.ai/aakashns/first-steps-with-python), [data types](https://jovian.ai/aakashns/python-variables-and-data-types), [loops](https://jovian.ai/aakashns/python-branching-and-loops), [functions](https://jovian.ai/aakashns/python-functions-and-scope) etc.)\n",
    "- Some high school mathematics ([polynomials](https://www.youtube.com/watch?v=Vm7H0VTlIco), [vectors, matrices](https://www.youtube.com/watch?v=0oGJTQCy4cQ&list=PLSQl0a2vh4HCs4zPpOEdF2GuydqS90Yb6) and [probability](https://www.youtube.com/watch?v=uzkc-qNVoOk))\n",
    "- No prior knowledge of data structures or algorithms is required\n",
    "\n",
    "We'll cover any additional mathematical and theoretical concepts we need as we go along.\n",
    "\n",
    "\n"
   ]
  },
  {
   "cell_type": "markdown",
   "id": "2405dca6",
   "metadata": {},
   "source": [
    "### How to Run the Code\n",
    "\n",
    "The best way to learn the material is to execute the code and experiment with it yourself. This tutorial is an executable [Jupyter notebook](https://jupyter.org). You can _run_ this tutorial and experiment with the code examples in a couple of ways: *using free online resources* (recommended) or *on your computer*.\n",
    "\n",
    "#### Option 1: Running using free online resources (1-click, recommended)\n",
    "\n",
    "The easiest way to start executing the code is to click the **Run** button at the top of this page and select **Run on Binder**. You can also select \"Run on Colab\" or \"Run on Kaggle\", but you'll need to create an account on [Google Colab](https://colab.research.google.com) or [Kaggle](https://kaggle.com) to use these platforms.\n",
    "\n",
    "\n",
    "#### Option 2: Running on your computer locally\n",
    "\n",
    "To run the code on your computer locally, you'll need to set up [Python](https://www.python.org), download the notebook and install the required libraries. We recommend using the [Conda](https://docs.conda.io/projects/conda/en/latest/user-guide/install/) distribution of Python. Click the **Run** button at the top of this page, select the **Run Locally** option, and follow the instructions.\n",
    "\n"
   ]
  },
  {
   "cell_type": "markdown",
   "id": "1cbe988e",
   "metadata": {},
   "source": [
    "## Problem \n",
    "\n",
    "\n",
    "In this notebook, we'll focus on solving the following problem:\n",
    "\n",
    "> **QUESTION 1**: You're working on a new feature on Jovian called \"Top Notebooks of the Week\". Write a function to sort a list of notebooks in decreasing order of likes. Keep in mind that up to millions of notebooks  can be created every week, so your function needs to be as efficient as possible.\n",
    "\n",
    "\n",
    "The problem of sorting a list of objects comes up over and over in computer science and software development, and it's important to understand common approaches for sorting, and the trade-offs they offer. Before we solve the above problem, we'll solve a simplified version of the problem:\n",
    "\n",
    "> **QUESTION 2**: Write a program to sort a list of numbers.\n",
    "\n",
    "\n",
    "\"Sorting\" usually refers to \"sorting in ascending order\", unless specified otherwise."
   ]
  },
  {
   "cell_type": "markdown",
   "id": "2cdd10f4",
   "metadata": {},
   "source": [
    "## The Method\n",
    "\n",
    "\n",
    "Here's a systematic strategy we'll apply for solving problems:\n",
    "\n",
    "1. State the problem clearly. Identify the input & output formats.\n",
    "2. Come up with some example inputs & outputs. Try to cover all edge cases.\n",
    "3. Come up with a correct solution for the problem. State it in plain English.\n",
    "4. Implement the solution and test it using example inputs. Fix bugs, if any.\n",
    "5. Analyze the algorithm's complexity and identify inefficiencies, if any.\n",
    "6. Apply the right technique to overcome the inefficiency. Repeat steps 3 to 6.\n",
    "\n",
    "\n"
   ]
  },
  {
   "cell_type": "markdown",
   "id": "d25ed09e",
   "metadata": {},
   "source": [
    "## 1. State the problem clearly. Identify the input & output formats.\n",
    "\n",
    "\n",
    "#### Problem\n",
    "\n",
    "> We need to write a function to sort a list of numbers in increasing order.\n",
    "\n",
    "#### Input\n",
    "\n",
    "1. `nums`: A list of numbers e.g. `[4, 2, 6, 3, 4, 6, 2, 1]` \n",
    "\n",
    "#### Output\n",
    "\n",
    "2. `sorted_nums`: The sorted version of `nums` e.g. `[1, 2, 2, 3, 4, 4, 6, 6]`\n",
    "\n",
    "\n",
    "The signature of our function would be as follows:"
   ]
  },
  {
   "cell_type": "code",
   "execution_count": 1,
   "id": "6c41ad32",
   "metadata": {
    "ExecuteTime": {
     "end_time": "2022-05-31T12:34:09.117597Z",
     "start_time": "2022-05-31T12:34:09.111136Z"
    }
   },
   "outputs": [],
   "source": [
    "def sort(nums):\n",
    "    pass"
   ]
  },
  {
   "cell_type": "markdown",
   "id": "43e41259",
   "metadata": {},
   "source": [
    "## 2. Come up with some example inputs & outputs. \n",
    "\n",
    "Here are some scenarios we may want to test out:\n",
    "\n",
    "1. Some lists of numbers in random order.\n",
    "2. A list that's already sorted.\n",
    "3. A list that's sorted in descending order.\n",
    "4. A list containing repeating elements.\n",
    "5. An empty list. \n",
    "6. A list containing just one element.\n",
    "7. A list containing one element repeated many times.\n",
    "8. A really long list.\n",
    "\n",
    "Let's create some test cases for these scenarios. We'll represent each test case as a dictionary for easier automated testing."
   ]
  },
  {
   "cell_type": "code",
   "execution_count": 2,
   "id": "020dec4c",
   "metadata": {
    "ExecuteTime": {
     "end_time": "2022-05-31T12:34:09.557797Z",
     "start_time": "2022-05-31T12:34:09.552655Z"
    }
   },
   "outputs": [],
   "source": [
    "# List of numbers in random order\n",
    "test0 = {\n",
    "    'input': {\n",
    "        'nums': []\n",
    "    },\n",
    "    'output': []\n",
    "}"
   ]
  },
  {
   "cell_type": "code",
   "execution_count": 3,
   "id": "04ee893b",
   "metadata": {
    "ExecuteTime": {
     "end_time": "2022-05-31T12:34:09.778198Z",
     "start_time": "2022-05-31T12:34:09.773399Z"
    }
   },
   "outputs": [],
   "source": [
    "# List of numbers in random order\n",
    "test1 = {\n",
    "    'input': {\n",
    "        'nums': [1]\n",
    "    },\n",
    "    'output': [1]\n",
    "}"
   ]
  },
  {
   "cell_type": "code",
   "execution_count": 4,
   "id": "3d28d1cd",
   "metadata": {
    "ExecuteTime": {
     "end_time": "2022-05-31T12:34:10.007147Z",
     "start_time": "2022-05-31T12:34:10.001210Z"
    }
   },
   "outputs": [],
   "source": [
    "# List of numbers in random order\n",
    "test2 = {\n",
    "    'input': {\n",
    "        'nums': [9,8,7,6,5]\n",
    "    },\n",
    "    'output': [5,6,7,8,9]\n",
    "}"
   ]
  },
  {
   "cell_type": "code",
   "execution_count": 5,
   "id": "1d737c5b",
   "metadata": {
    "ExecuteTime": {
     "end_time": "2022-05-31T12:34:10.240009Z",
     "start_time": "2022-05-31T12:34:10.234830Z"
    }
   },
   "outputs": [],
   "source": [
    "# List of numbers in random order\n",
    "test3 = {\n",
    "    'input': {\n",
    "        'nums': [1,2,3,4,5]\n",
    "    },\n",
    "    'output': [1,2,3,4,5]\n",
    "}"
   ]
  },
  {
   "cell_type": "code",
   "execution_count": 6,
   "id": "4ecfb5ad",
   "metadata": {
    "ExecuteTime": {
     "end_time": "2022-05-31T12:34:10.429939Z",
     "start_time": "2022-05-31T12:34:10.423192Z"
    }
   },
   "outputs": [],
   "source": [
    "# List of numbers in random order\n",
    "test4 = {\n",
    "    'input': {\n",
    "        'nums': [3,4,1,5,2,7]\n",
    "    },\n",
    "    'output': [1,2,3,4,5,7]\n",
    "}"
   ]
  },
  {
   "cell_type": "code",
   "execution_count": 7,
   "id": "c11d5e9f",
   "metadata": {
    "ExecuteTime": {
     "end_time": "2022-05-31T12:34:10.611994Z",
     "start_time": "2022-05-31T12:34:10.605853Z"
    }
   },
   "outputs": [],
   "source": [
    "# List of numbers in random order\n",
    "test5 = {\n",
    "    'input': {\n",
    "        'nums': [2,2,2,2,2,2]\n",
    "    },\n",
    "    'output': [2,2,2,2,2,2]\n",
    "}"
   ]
  },
  {
   "cell_type": "code",
   "execution_count": 8,
   "id": "a21e8232",
   "metadata": {
    "ExecuteTime": {
     "end_time": "2022-05-31T12:34:10.808221Z",
     "start_time": "2022-05-31T12:34:10.801295Z"
    }
   },
   "outputs": [],
   "source": [
    "def bubble_sort(nums):\n",
    "    \n",
    "    lista = list(nums)\n",
    "    \n",
    "    if len(lista) == 0:\n",
    "        return lista\n",
    "    \n",
    "    else:\n",
    "        for _ in range(0, len(lista)-1):\n",
    "            for i in range(0, len(lista)-1):\n",
    "#                 print(f'after: {lista[i+1]} and before: {lista[i]}')\n",
    "#                 print(lista)\n",
    "\n",
    "                if lista[i+1] < lista[i]:\n",
    "                    # swap numbers, since we're comparing two by two\n",
    "                    lista[i+1], lista[i] = lista[i], lista[i+1]\n",
    "                \n",
    "#     print(f'Lista original {nums}')\n",
    "    return lista"
   ]
  },
  {
   "cell_type": "code",
   "execution_count": 9,
   "id": "169e52a9",
   "metadata": {
    "ExecuteTime": {
     "end_time": "2022-05-31T12:34:11.009301Z",
     "start_time": "2022-05-31T12:34:11.001134Z"
    }
   },
   "outputs": [
    {
     "data": {
      "text/plain": [
       "[5, 6, 7, 8, 9]"
      ]
     },
     "execution_count": 9,
     "metadata": {},
     "output_type": "execute_result"
    }
   ],
   "source": [
    "bubble_sort(test2['input']['nums'])"
   ]
  },
  {
   "cell_type": "code",
   "execution_count": 10,
   "id": "f62472ef",
   "metadata": {
    "ExecuteTime": {
     "end_time": "2022-05-31T12:34:11.187107Z",
     "start_time": "2022-05-31T12:34:11.184241Z"
    }
   },
   "outputs": [],
   "source": [
    "lista = []"
   ]
  },
  {
   "cell_type": "code",
   "execution_count": 11,
   "id": "67a95f95",
   "metadata": {
    "ExecuteTime": {
     "end_time": "2022-05-31T12:34:37.042701Z",
     "start_time": "2022-05-31T12:34:37.036694Z"
    }
   },
   "outputs": [],
   "source": [
    "# List of numbers in random order\n",
    "test0 = {\n",
    "    'input': {\n",
    "        'nums': [4, 2, 6, 3, 4, 6, 2, 1]\n",
    "    },\n",
    "    'output': [1, 2, 2, 3, 4, 4, 6, 6]\n",
    "}"
   ]
  },
  {
   "cell_type": "code",
   "execution_count": 12,
   "id": "0fc197f9",
   "metadata": {
    "ExecuteTime": {
     "end_time": "2022-05-31T12:34:37.221897Z",
     "start_time": "2022-05-31T12:34:37.217099Z"
    }
   },
   "outputs": [],
   "source": [
    "# List of numbers in random order\n",
    "test1 = {\n",
    "    'input': {\n",
    "        'nums': [5, 2, 6, 1, 23, 7, -12, 12, -243, 0]\n",
    "    },\n",
    "    'output': [-243, -12, 0, 1, 2, 5, 6, 7, 12, 23]\n",
    "}"
   ]
  },
  {
   "cell_type": "code",
   "execution_count": 13,
   "id": "c83c1811",
   "metadata": {
    "ExecuteTime": {
     "end_time": "2022-05-31T12:34:37.407658Z",
     "start_time": "2022-05-31T12:34:37.402703Z"
    }
   },
   "outputs": [],
   "source": [
    "# A list that's already sorted\n",
    "test2 = {\n",
    "    'input': {\n",
    "        'nums': [3, 5, 6, 8, 9, 10, 99]\n",
    "    },\n",
    "    'output': [3, 5, 6, 8, 9, 10, 99]\n",
    "}"
   ]
  },
  {
   "cell_type": "code",
   "execution_count": 14,
   "id": "eba60474",
   "metadata": {
    "ExecuteTime": {
     "end_time": "2022-05-31T12:34:37.605827Z",
     "start_time": "2022-05-31T12:34:37.600927Z"
    }
   },
   "outputs": [],
   "source": [
    "# A list that's sorted in descending order\n",
    "test3 = {\n",
    "    'input': {\n",
    "        'nums': [99, 10, 9, 8, 6, 5, 3]\n",
    "    },\n",
    "    'output': [3, 5, 6, 8, 9, 10, 99]\n",
    "}"
   ]
  },
  {
   "cell_type": "code",
   "execution_count": 15,
   "id": "2eb82c5a",
   "metadata": {
    "ExecuteTime": {
     "end_time": "2022-05-31T12:34:37.808719Z",
     "start_time": "2022-05-31T12:34:37.802834Z"
    }
   },
   "outputs": [],
   "source": [
    "# A list containing repeating elements\n",
    "test4 = {\n",
    "    'input': {\n",
    "        'nums': [5, -12, 2, 6, 1, 23, 7, 7, -12, 6, 12, 1, -243, 1, 0]\n",
    "    },\n",
    "    'output': [-243, -12, -12, 0, 1, 1, 1, 2, 5, 6, 6, 7, 7, 12, 23]\n",
    "}"
   ]
  },
  {
   "cell_type": "code",
   "execution_count": 16,
   "id": "7b306cf2",
   "metadata": {
    "ExecuteTime": {
     "end_time": "2022-05-31T12:34:38.023275Z",
     "start_time": "2022-05-31T12:34:38.019270Z"
    }
   },
   "outputs": [],
   "source": [
    "# An empty list \n",
    "test5 = {\n",
    "    'input': {\n",
    "        'nums': []\n",
    "    },\n",
    "    'output': []\n",
    "}"
   ]
  },
  {
   "cell_type": "code",
   "execution_count": 17,
   "id": "6868b793",
   "metadata": {
    "ExecuteTime": {
     "end_time": "2022-05-31T12:34:38.229987Z",
     "start_time": "2022-05-31T12:34:38.224875Z"
    }
   },
   "outputs": [],
   "source": [
    "# A list containing just one element\n",
    "test6 = {\n",
    "    'input': {\n",
    "        'nums': [23]\n",
    "    },\n",
    "    'output': [23]\n",
    "}"
   ]
  },
  {
   "cell_type": "code",
   "execution_count": 18,
   "id": "1d68fb88",
   "metadata": {
    "ExecuteTime": {
     "end_time": "2022-05-31T12:34:38.441325Z",
     "start_time": "2022-05-31T12:34:38.435499Z"
    }
   },
   "outputs": [],
   "source": [
    "# A list containing one element repeated many times\n",
    "test7 = {\n",
    "    'input': {\n",
    "        'nums': [42, 42, 42, 42, 42, 42, 42]\n",
    "    },\n",
    "    'output': [42, 42, 42, 42, 42, 42, 42]\n",
    "}"
   ]
  },
  {
   "cell_type": "markdown",
   "id": "7a3be7ca",
   "metadata": {},
   "source": [
    "To create the final test case (a really long list), we can start with a sorted list created using `range` and shuffle it to create the input."
   ]
  },
  {
   "cell_type": "code",
   "execution_count": 19,
   "id": "cbd562bf",
   "metadata": {
    "ExecuteTime": {
     "end_time": "2022-05-31T12:34:39.120615Z",
     "start_time": "2022-05-31T12:34:39.100618Z"
    }
   },
   "outputs": [],
   "source": [
    "import random\n",
    "\n",
    "in_list = list(range(10000))\n",
    "out_list = list(range(10000))\n",
    "random.shuffle(in_list)\n",
    "\n",
    "test8 = {\n",
    "    'input': {\n",
    "        'nums': in_list\n",
    "    },\n",
    "    'output': out_list\n",
    "}"
   ]
  },
  {
   "cell_type": "code",
   "execution_count": 20,
   "id": "9c4892d2",
   "metadata": {
    "ExecuteTime": {
     "end_time": "2022-05-31T12:34:39.439544Z",
     "start_time": "2022-05-31T12:34:39.434314Z"
    }
   },
   "outputs": [],
   "source": [
    "tests = [test0, test1, test2, test3, test4, test5, test6, test7, test8]"
   ]
  },
  {
   "cell_type": "markdown",
   "id": "5851997f",
   "metadata": {},
   "source": [
    "## 3. Come up with a correct solution. State it in plain English.\n",
    "\n",
    "It's easy to come up with a correct solution. Here's one: \n",
    "\n",
    "1. Iterate over the list of numbers, starting from the left\n",
    "2. Compare each number with the number that follows it\n",
    "3. If the number is greater than the one that follows it, swap the two elements\n",
    "4. Repeat steps 1 to 3 till the list is sorted.\n",
    "\n",
    "We need to repeat steps 1 to 3 at most `n-1` times to ensure that the array is sorted. Can you explain why? Hint: After one iteration, the largest number in the list.\n",
    "\n",
    "This method is called **bubble sort**, as it causes smaller elements to *bubble* to the top and larger to *sink* to the bottom. Here's a visual representation of the process:\n",
    "\n",
    "![](https://upload.wikimedia.org/wikipedia/commons/c/c8/Bubble-sort-example-300px.gif)\n",
    "\n"
   ]
  },
  {
   "cell_type": "markdown",
   "id": "64c6c275",
   "metadata": {},
   "source": [
    "## 4. Implement the solution and test it using example inputs.\n",
    "\n",
    "The implementation is straightforward. We'll create a copy of the list inside our function, to avoid changing it while sorting."
   ]
  },
  {
   "cell_type": "code",
   "execution_count": 21,
   "id": "718746aa",
   "metadata": {
    "ExecuteTime": {
     "end_time": "2022-05-31T12:34:43.120888Z",
     "start_time": "2022-05-31T12:34:43.117262Z"
    }
   },
   "outputs": [],
   "source": [
    "nums = [7,1,3,2,8]"
   ]
  },
  {
   "cell_type": "code",
   "execution_count": 22,
   "id": "93728b1a",
   "metadata": {
    "ExecuteTime": {
     "end_time": "2022-05-31T12:34:43.388640Z",
     "start_time": "2022-05-31T12:34:43.383752Z"
    }
   },
   "outputs": [
    {
     "data": {
      "text/plain": [
       "[1, 2, 3, 7, 8]"
      ]
     },
     "execution_count": 22,
     "metadata": {},
     "output_type": "execute_result"
    }
   ],
   "source": [
    "bubble_sort(nums)"
   ]
  },
  {
   "cell_type": "markdown",
   "id": "27c8b7f8",
   "metadata": {},
   "source": [
    "Notice how we're a tuple assignment to swap two elements in a single line of code."
   ]
  },
  {
   "cell_type": "code",
   "execution_count": 23,
   "id": "e0f3fc51",
   "metadata": {
    "ExecuteTime": {
     "end_time": "2022-05-31T12:34:44.831955Z",
     "start_time": "2022-05-31T12:34:44.823345Z"
    }
   },
   "outputs": [
    {
     "name": "stdout",
     "output_type": "stream",
     "text": [
      "Input: [4, 2, 6, 3, 4, 6, 2, 1]\n",
      "Expected output: [1, 2, 2, 3, 4, 4, 6, 6]\n",
      "Actual output: [1, 2, 2, 3, 4, 4, 6, 6]\n",
      "Match: True\n"
     ]
    }
   ],
   "source": [
    "nums0, output0 = test0['input']['nums'], test0['output']\n",
    "\n",
    "print('Input:', nums0)\n",
    "print('Expected output:', output0)\n",
    "result0 = bubble_sort(nums0)\n",
    "print('Actual output:', result0)\n",
    "print('Match:', result0 == output0)"
   ]
  },
  {
   "cell_type": "code",
   "execution_count": 24,
   "id": "51057375",
   "metadata": {
    "ExecuteTime": {
     "end_time": "2022-05-31T12:34:45.226702Z",
     "start_time": "2022-05-31T12:34:45.218509Z"
    }
   },
   "outputs": [
    {
     "data": {
      "text/plain": [
       "True"
      ]
     },
     "execution_count": 24,
     "metadata": {},
     "output_type": "execute_result"
    }
   ],
   "source": [
    "result0 == output0"
   ]
  },
  {
   "cell_type": "markdown",
   "id": "ddf23be7",
   "metadata": {},
   "source": [
    "We can evaluate all the cases together using the `evaluate_test_cases` helper function from the `jovian` library."
   ]
  },
  {
   "cell_type": "code",
   "execution_count": 25,
   "id": "4368ed04",
   "metadata": {
    "ExecuteTime": {
     "end_time": "2022-05-31T12:34:46.484169Z",
     "start_time": "2022-05-31T12:34:46.481302Z"
    }
   },
   "outputs": [],
   "source": [
    "# !pip install jovian --upgrade --quiet"
   ]
  },
  {
   "cell_type": "code",
   "execution_count": 26,
   "id": "213bdd63",
   "metadata": {
    "ExecuteTime": {
     "end_time": "2022-05-31T12:34:46.762001Z",
     "start_time": "2022-05-31T12:34:46.753732Z"
    }
   },
   "outputs": [],
   "source": [
    "from jovian.pythondsa import evaluate_test_cases"
   ]
  },
  {
   "cell_type": "code",
   "execution_count": 27,
   "id": "288f4c7a",
   "metadata": {
    "ExecuteTime": {
     "end_time": "2022-05-31T12:34:58.442094Z",
     "start_time": "2022-05-31T12:34:47.003817Z"
    },
    "scrolled": true
   },
   "outputs": [
    {
     "name": "stdout",
     "output_type": "stream",
     "text": [
      "\n",
      "\u001b[1mTEST CASE #0\u001b[0m\n",
      "\n",
      "Input:\n",
      "{'nums': [4, 2, 6, 3, 4, 6, 2, 1]}\n",
      "\n",
      "Expected Output:\n",
      "[1, 2, 2, 3, 4, 4, 6, 6]\n",
      "\n",
      "\n",
      "Actual Output:\n",
      "[1, 2, 2, 3, 4, 4, 6, 6]\n",
      "\n",
      "Execution Time:\n",
      "0.057 ms\n",
      "\n",
      "Test Result:\n",
      "\u001b[92mPASSED\u001b[0m\n",
      "\n",
      "\n",
      "\u001b[1mTEST CASE #1\u001b[0m\n",
      "\n",
      "Input:\n",
      "{'nums': [5, 2, 6, 1, 23, 7, -12, 12, -243, 0]}\n",
      "\n",
      "Expected Output:\n",
      "[-243, -12, 0, 1, 2, 5, 6, 7, 12, 23]\n",
      "\n",
      "\n",
      "Actual Output:\n",
      "[-243, -12, 0, 1, 2, 5, 6, 7, 12, 23]\n",
      "\n",
      "Execution Time:\n",
      "0.084 ms\n",
      "\n",
      "Test Result:\n",
      "\u001b[92mPASSED\u001b[0m\n",
      "\n",
      "\n",
      "\u001b[1mTEST CASE #2\u001b[0m\n",
      "\n",
      "Input:\n",
      "{'nums': [3, 5, 6, 8, 9, 10, 99]}\n",
      "\n",
      "Expected Output:\n",
      "[3, 5, 6, 8, 9, 10, 99]\n",
      "\n",
      "\n",
      "Actual Output:\n",
      "[3, 5, 6, 8, 9, 10, 99]\n",
      "\n",
      "Execution Time:\n",
      "0.032 ms\n",
      "\n",
      "Test Result:\n",
      "\u001b[92mPASSED\u001b[0m\n",
      "\n",
      "\n",
      "\u001b[1mTEST CASE #3\u001b[0m\n",
      "\n",
      "Input:\n",
      "{'nums': [99, 10, 9, 8, 6, 5, 3]}\n",
      "\n",
      "Expected Output:\n",
      "[3, 5, 6, 8, 9, 10, 99]\n",
      "\n",
      "\n",
      "Actual Output:\n",
      "[3, 5, 6, 8, 9, 10, 99]\n",
      "\n",
      "Execution Time:\n",
      "0.049 ms\n",
      "\n",
      "Test Result:\n",
      "\u001b[92mPASSED\u001b[0m\n",
      "\n",
      "\n",
      "\u001b[1mTEST CASE #4\u001b[0m\n",
      "\n",
      "Input:\n",
      "{'nums': [5, -12, 2, 6, 1, 23, 7, 7, -12, 6, 12, 1, -243, 1, 0]}\n",
      "\n",
      "Expected Output:\n",
      "[-243, -12, -12, 0, 1, 1, 1, 2, 5, 6, 6, 7, 7, 12, 23]\n",
      "\n",
      "\n",
      "Actual Output:\n",
      "[-243, -12, -12, 0, 1, 1, 1, 2, 5, 6, 6, 7, 7, 12, 23]\n",
      "\n",
      "Execution Time:\n",
      "0.16 ms\n",
      "\n",
      "Test Result:\n",
      "\u001b[92mPASSED\u001b[0m\n",
      "\n",
      "\n",
      "\u001b[1mTEST CASE #5\u001b[0m\n",
      "\n",
      "Input:\n",
      "{'nums': []}\n",
      "\n",
      "Expected Output:\n",
      "[]\n",
      "\n",
      "\n",
      "Actual Output:\n",
      "[]\n",
      "\n",
      "Execution Time:\n",
      "0.005 ms\n",
      "\n",
      "Test Result:\n",
      "\u001b[92mPASSED\u001b[0m\n",
      "\n",
      "\n",
      "\u001b[1mTEST CASE #6\u001b[0m\n",
      "\n",
      "Input:\n",
      "{'nums': [23]}\n",
      "\n",
      "Expected Output:\n",
      "[23]\n",
      "\n",
      "\n",
      "Actual Output:\n",
      "[23]\n",
      "\n",
      "Execution Time:\n",
      "0.007 ms\n",
      "\n",
      "Test Result:\n",
      "\u001b[92mPASSED\u001b[0m\n",
      "\n",
      "\n",
      "\u001b[1mTEST CASE #7\u001b[0m\n",
      "\n",
      "Input:\n",
      "{'nums': [42, 42, 42, 42, 42, 42, 42]}\n",
      "\n",
      "Expected Output:\n",
      "[42, 42, 42, 42, 42, 42, 42]\n",
      "\n",
      "\n",
      "Actual Output:\n",
      "[42, 42, 42, 42, 42, 42, 42]\n",
      "\n",
      "Execution Time:\n",
      "0.032 ms\n",
      "\n",
      "Test Result:\n",
      "\u001b[92mPASSED\u001b[0m\n",
      "\n",
      "\n",
      "\u001b[1mTEST CASE #8\u001b[0m\n",
      "\n",
      "Input:\n",
      "{'nums': [9927, 6043, 3575, 3863, 9319, 2564, 5430, 8393, 2753, 2776, 6679, 7790, 6612, 8858, 9051, ...\n",
      "\n",
      "Expected Output:\n",
      "[0, 1, 2, 3, 4, 5, 6, 7, 8, 9, 10, 11, 12, 13, 14, 15, 16, 17, 18, 19, 20, 21, 22, 23, 24, 25, 26, 2...\n",
      "\n",
      "\n",
      "Actual Output:\n",
      "[0, 1, 2, 3, 4, 5, 6, 7, 8, 9, 10, 11, 12, 13, 14, 15, 16, 17, 18, 19, 20, 21, 22, 23, 24, 25, 26, 2...\n",
      "\n",
      "Execution Time:\n",
      "11428.817 ms\n",
      "\n",
      "Test Result:\n",
      "\u001b[92mPASSED\u001b[0m\n",
      "\n",
      "\n",
      "\u001b[1mSUMMARY\u001b[0m\n",
      "\n",
      "TOTAL: 9, \u001b[92mPASSED\u001b[0m: 9, \u001b[91mFAILED\u001b[0m: 0\n"
     ]
    }
   ],
   "source": [
    "results = evaluate_test_cases(bubble_sort, tests)"
   ]
  },
  {
   "cell_type": "markdown",
   "id": "2f8247fe",
   "metadata": {},
   "source": [
    "Great, looks like all our test cases passed! Although the last test case (a list of 10,000 numbers) took about 12 seconds to execute. "
   ]
  },
  {
   "cell_type": "markdown",
   "id": "049446e1",
   "metadata": {},
   "source": [
    "## 5. Analyze the algorithm's complexity and identify inefficiencies\n",
    "\n",
    "The core operations in bubble sort are \"compare\" and \"swap\". To analyze the time complexity, we can simply count the total number of comparisons being made, since the total number of swaps will be less than or equal to the total number of comparisons (can you see why?).\n",
    "\n",
    "```\n",
    "for _ in range(len(nums) - 1):\n",
    "    for i in range(len(nums) - 1):\n",
    "        if nums[i] > nums[i+1]:\n",
    "            nums[i], nums[i+1] = nums[i+1], nums[i]\n",
    "```\n",
    "\n",
    "There are two loops, each of length `n-1`, where `n` is the number of elements in `nums`. So the total number of comparisons is $(n-1)*(n-1)$ i.e. $(n-1)^2$ i.e. $n^2 - 2n + 1$. \n",
    "\n",
    "Expressing this in the Big O notation, we can conclude that the time complexity of bubble sort is $O(n^2)$ (also known as quadratic complexity).\n",
    "\n",
    "**Exercise:** Verify that the bubble sort requires $O(1)$ additional space.\n",
    "\n",
    "The space complexity of bubble sort is $O(n)$, even thought it requires only constant/zero additional space, because the space required to store the inputs is also considered while calculating space complexity.\n",
    "\n",
    "As we saw from the last test, a list of 10,000 numbers takes about 12 seconds to be sorted using bubble sort. A list of ten times the size will 100 times longer i.e. about 20 minutes to be sorted, which is quite inefficient. A list of a million elements would take close to 2 days to be sorted.\n",
    "\n",
    "\n",
    "The inefficiency in bubble sort comes from the fact that we're shifting elements by at most one position at a time.\n",
    "\n",
    "![](https://upload.wikimedia.org/wikipedia/commons/c/c8/Bubble-sort-example-300px.gif)\n"
   ]
  },
  {
   "cell_type": "markdown",
   "id": "6466543b",
   "metadata": {},
   "source": [
    "### Insertion Sort\n",
    "\n",
    "Before we look at explore more efficient sorting techniques, here's another simple sorting technique called insertion sort, where we keep the initial portion of the array sorted and insert the remaining elements one by one at the right position."
   ]
  },
  {
   "cell_type": "code",
   "execution_count": 37,
   "id": "66e3f0ec",
   "metadata": {
    "ExecuteTime": {
     "end_time": "2022-05-31T13:02:02.990335Z",
     "start_time": "2022-05-31T13:02:02.985066Z"
    }
   },
   "outputs": [],
   "source": [
    "nums = [9,8,7,6,5]"
   ]
  },
  {
   "cell_type": "code",
   "execution_count": 38,
   "id": "549d70c6",
   "metadata": {
    "ExecuteTime": {
     "end_time": "2022-05-31T13:02:02.996868Z",
     "start_time": "2022-05-31T13:02:02.993482Z"
    }
   },
   "outputs": [],
   "source": [
    "a = nums.pop(0)"
   ]
  },
  {
   "cell_type": "code",
   "execution_count": 39,
   "id": "049b878b",
   "metadata": {
    "ExecuteTime": {
     "end_time": "2022-05-31T13:02:03.007121Z",
     "start_time": "2022-05-31T13:02:02.999649Z"
    }
   },
   "outputs": [],
   "source": [
    "def insertion_sort(nums):\n",
    "    nums = list(nums)\n",
    "    \n",
    "    # i: for current number\n",
    "    # j: for number before it\n",
    "    \n",
    "    for i in range(len(nums)):\n",
    "        print(f\"i = {i}\")\n",
    "        pointed = nums.pop(i)\n",
    "        \n",
    "        j = i-1\n",
    "#         print(f\"j = {j}\")\n",
    "#         print(f\"pointed: {pointed}\")\n",
    "#         print(f\"before: {nums[j]}\")\n",
    "        \n",
    "        # checar se o nums[j], que eh o numero anterior, eh maior que o posterior, do pointed\n",
    "        while j >=0 and nums[j] > pointed:\n",
    "            print(f\"j inside: {j}\")\n",
    "            # quando chegar em condicao de anterior a 0, paro a insercao\n",
    "            j -= 1\n",
    "            \n",
    "        # insert at position j+1 the pointed number\n",
    "        # it's actually a replace step\n",
    "        nums.insert(j+1, pointed)\n",
    "#         print(f\"nums: {nums} \\n\")\n",
    "    return nums            "
   ]
  },
  {
   "cell_type": "code",
   "execution_count": 40,
   "id": "a6f87131",
   "metadata": {
    "ExecuteTime": {
     "end_time": "2022-05-31T13:02:03.014199Z",
     "start_time": "2022-05-31T13:02:03.010145Z"
    }
   },
   "outputs": [
    {
     "name": "stdout",
     "output_type": "stream",
     "text": [
      "i = 0\n",
      "i = 1\n",
      "j inside: 0\n",
      "i = 2\n",
      "j inside: 1\n",
      "j inside: 0\n",
      "i = 3\n",
      "j inside: 2\n",
      "j inside: 1\n",
      "j inside: 0\n"
     ]
    },
    {
     "data": {
      "text/plain": [
       "[5, 6, 7, 8]"
      ]
     },
     "execution_count": 40,
     "metadata": {},
     "output_type": "execute_result"
    }
   ],
   "source": [
    "insertion_sort(nums)"
   ]
  },
  {
   "cell_type": "code",
   "execution_count": 41,
   "id": "2c317c2a",
   "metadata": {
    "ExecuteTime": {
     "end_time": "2022-05-31T13:02:03.018541Z",
     "start_time": "2022-05-31T13:02:03.015960Z"
    }
   },
   "outputs": [],
   "source": [
    "nums0, output0 = test0['input']['nums'], test0['output']"
   ]
  },
  {
   "cell_type": "code",
   "execution_count": 42,
   "id": "3bf39d37",
   "metadata": {
    "ExecuteTime": {
     "end_time": "2022-05-31T13:02:03.023681Z",
     "start_time": "2022-05-31T13:02:03.020040Z"
    }
   },
   "outputs": [
    {
     "name": "stdout",
     "output_type": "stream",
     "text": [
      "Input: [4, 2, 6, 3, 4, 6, 2, 1]\n",
      "Expected output: [1, 2, 2, 3, 4, 4, 6, 6]\n",
      "i = 0\n",
      "i = 1\n",
      "j inside: 0\n",
      "i = 2\n",
      "i = 3\n",
      "j inside: 2\n",
      "j inside: 1\n",
      "i = 4\n",
      "j inside: 3\n",
      "i = 5\n",
      "i = 6\n",
      "j inside: 5\n",
      "j inside: 4\n",
      "j inside: 3\n",
      "j inside: 2\n",
      "j inside: 1\n",
      "i = 7\n",
      "j inside: 6\n",
      "j inside: 5\n",
      "j inside: 4\n",
      "j inside: 3\n",
      "j inside: 2\n",
      "j inside: 1\n",
      "j inside: 0\n",
      "Actual output: [1, 2, 2, 3, 4, 4, 6, 6]\n",
      "Match: True\n"
     ]
    }
   ],
   "source": [
    "print('Input:', nums0)\n",
    "print('Expected output:', output0)\n",
    "result0 = insertion_sort(nums0)\n",
    "print('Actual output:', result0)\n",
    "print('Match:', result0 == output0)"
   ]
  },
  {
   "cell_type": "markdown",
   "id": "e8b7f4e7",
   "metadata": {},
   "source": [
    "**Exercises**:\n",
    "\n",
    "1. Read the source code of the `insertion_sort` function and describe the algorithm in plain English. Reading source code is an essential skill for software development.\n",
    "2. Determine the time and space complexity of insertion sort. Is it any better than bubble sort? Why or why not?"
   ]
  },
  {
   "cell_type": "markdown",
   "id": "3337b2b4",
   "metadata": {},
   "source": [
    "### Save and upload your work to Jovian\n",
    "\n",
    "Whether you're running this Jupyter notebook online or on your computer, it's essential to save your work from time to time. You can continue working on a saved notebook later or share it with friends and colleagues to let them execute your code. [Jovian](https://jovian.ai/platform-features) offers an easy way of saving and sharing your Jupyter notebooks online."
   ]
  },
  {
   "cell_type": "code",
   "execution_count": 43,
   "id": "471bd2ba",
   "metadata": {
    "ExecuteTime": {
     "end_time": "2022-05-31T13:02:06.846584Z",
     "start_time": "2022-05-31T13:02:06.843787Z"
    }
   },
   "outputs": [],
   "source": [
    "# !pip install jovian --upgrade --quiet"
   ]
  },
  {
   "cell_type": "code",
   "execution_count": 44,
   "id": "f2b509bd",
   "metadata": {
    "ExecuteTime": {
     "end_time": "2022-05-31T13:02:06.852481Z",
     "start_time": "2022-05-31T13:02:06.849398Z"
    }
   },
   "outputs": [],
   "source": [
    "import jovian"
   ]
  },
  {
   "cell_type": "code",
   "execution_count": 45,
   "id": "d1bc0d43",
   "metadata": {
    "ExecuteTime": {
     "end_time": "2022-05-31T13:02:10.179331Z",
     "start_time": "2022-05-31T13:02:06.856035Z"
    }
   },
   "outputs": [
    {
     "data": {
      "application/javascript": [
       "window.require && require([\"base/js/namespace\"],function(Jupyter){Jupyter.notebook.save_checkpoint()})"
      ],
      "text/plain": [
       "<IPython.core.display.Javascript object>"
      ]
     },
     "metadata": {},
     "output_type": "display_data"
    },
    {
     "name": "stdout",
     "output_type": "stream",
     "text": [
      "[jovian] Updating notebook \"vitorpbarbosa7/python-sorting-divide-and-conquer\" on https://jovian.ai/\u001b[0m\n",
      "[jovian] Committed successfully! https://jovian.ai/vitorpbarbosa7/python-sorting-divide-and-conquer\u001b[0m\n"
     ]
    },
    {
     "data": {
      "text/plain": [
       "'https://jovian.ai/vitorpbarbosa7/python-sorting-divide-and-conquer'"
      ]
     },
     "execution_count": 45,
     "metadata": {},
     "output_type": "execute_result"
    }
   ],
   "source": [
    "jovian.commit()"
   ]
  },
  {
   "cell_type": "markdown",
   "id": "82aaf97a",
   "metadata": {},
   "source": [
    "## 6. Apply the right technique to overcome the inefficiency. Repeat Steps 3 to 6.\n",
    "\n",
    "\n",
    "To performing sorting more efficiently, we'll apply a strategy called **Divide and Conquer**, which has the following general steps:\n",
    "\n",
    "1. Divide the inputs into two roughly equal parts.\n",
    "2. Recursively solve the problem individually for each of the two parts.\n",
    "3. Combine the results to solve the problem for the original inputs.\n",
    "4. Include terminating conditions for small or indivisible inputs.\n",
    "\n",
    "Here's a visual representation of the strategy:\n",
    "\n",
    "![](https://www.educative.io/api/edpresso/shot/5327356208087040/image/6475288173084672)\n",
    "\n",
    "### Merge Sort\n",
    "\n",
    "Following a visual representation of the divide and conquer applied for sorting numbers. This algorithm is known as merge sort:\n",
    "\n",
    "\n",
    "<img src=\"https://upload.wikimedia.org/wikipedia/commons/thumb/e/e6/Merge_sort_algorithm_diagram.svg/2560px-Merge_sort_algorithm_diagram.svg.png\" width=\"480\">\n",
    "\n"
   ]
  },
  {
   "cell_type": "code",
   "execution_count": 46,
   "id": "d83b779d",
   "metadata": {
    "ExecuteTime": {
     "end_time": "2022-05-31T13:02:10.188155Z",
     "start_time": "2022-05-31T13:02:10.183212Z"
    }
   },
   "outputs": [],
   "source": [
    "lista = [38,27,43,3,9,82,10]"
   ]
  },
  {
   "cell_type": "code",
   "execution_count": 47,
   "id": "ddb3d0f5",
   "metadata": {
    "ExecuteTime": {
     "end_time": "2022-05-31T13:02:10.193553Z",
     "start_time": "2022-05-31T13:02:10.190593Z"
    }
   },
   "outputs": [],
   "source": [
    "lis = [38,27]"
   ]
  },
  {
   "cell_type": "code",
   "execution_count": 54,
   "id": "ff2d1346",
   "metadata": {
    "ExecuteTime": {
     "end_time": "2022-05-31T13:03:42.936813Z",
     "start_time": "2022-05-31T13:03:42.929005Z"
    }
   },
   "outputs": [],
   "source": [
    "def merge_sort(nums):\n",
    "    \n",
    "    if len(nums) == 1 or []:\n",
    "        return nums\n",
    "    \n",
    "    elif len(nums) > 2:\n",
    "        print(f\"nums: {nums}\")\n",
    "        mid = len(nums) // 2\n",
    "        print(f\"mid: {mid}\")\n",
    "        \n",
    "        left = nums[:mid]\n",
    "        right = nums[mid:]\n",
    "        \n",
    "        left = merge_sort(left)\n",
    "        right = merge_sort(right)\n",
    "        \n",
    "        sorted_nums = merge(left, right)\n",
    "        \n",
    "        return sorted_nums "
   ]
  },
  {
   "cell_type": "markdown",
   "id": "f5d8427b",
   "metadata": {},
   "source": [
    "## 7. Come up with a correct solution. State it in Plain English.\n",
    "\n",
    "Here's a step-by-step description for merge sort:\n",
    "\n",
    "1. If the input list is empty or contains just one element, it is already sorted. Return it.\n",
    "2. If not, divide the list of numbers into two roughly equal parts.\n",
    "3. Sort each part recursively using the merge sort algorithm. You'll get back two sorted lists.\n",
    "4. Merge the two sorted lists to get a single sorted list\n",
    "\n",
    "Can you guess how the \"merge\" operation step 4 works? Hint: Watch this animation: https://youtu.be/GW0USDwhBgo?t=28\n",
    "\n",
    "> **QUESTION 3**: Write a function to merge two sorted arrays.\n",
    "\n",
    "\n",
    "Try to explain how the merge operation works in your own words below:\n",
    "\n",
    "1. ???\n",
    "2. ???\n",
    "3. ???\n",
    "4. ???\n"
   ]
  },
  {
   "cell_type": "markdown",
   "id": "87a5daaf",
   "metadata": {},
   "source": [
    "## 8. Implement the solution and test it using example inputs\n",
    "\n",
    "Let's implement the merge sort algorithm assuming we already have a helper function called `merge` for merging two sorted arrays."
   ]
  },
  {
   "cell_type": "markdown",
   "id": "d8c2750e",
   "metadata": {},
   "source": [
    "Two merge two sorted arrays, we can repeatedly compare the two least elements of each array, and copy over the smaller one into a new array.\n",
    "\n",
    "Here's a visual representation of the merge operation:\n",
    "\n",
    "<img src=\"https://i.imgur.com/XeEpa0U.png\" width=\"480\">\n",
    "\n",
    "\n"
   ]
  },
  {
   "cell_type": "code",
   "execution_count": 55,
   "id": "ba1c92d2",
   "metadata": {
    "ExecuteTime": {
     "end_time": "2022-05-31T13:03:47.336637Z",
     "start_time": "2022-05-31T13:03:47.332971Z"
    }
   },
   "outputs": [],
   "source": [
    "left = [1,4,7]\n",
    "right = [0,2,3]"
   ]
  },
  {
   "cell_type": "code",
   "execution_count": 56,
   "id": "c4a5d195",
   "metadata": {
    "ExecuteTime": {
     "end_time": "2022-05-31T13:04:22.071938Z",
     "start_time": "2022-05-31T13:04:22.063778Z"
    }
   },
   "outputs": [],
   "source": [
    "def merge(left, right):\n",
    "\n",
    "    merged = []\n",
    "\n",
    "    i = 0\n",
    "    j = 0\n",
    "\n",
    "    while i < len(left) and j < len(right):\n",
    "\n",
    "        if left[i] <= right[j]:\n",
    "            merged.append(left[i])\n",
    "            if i < len(left):\n",
    "                i += 1\n",
    "        else:\n",
    "            merged.append(right[j])\n",
    "            if j < len(right):\n",
    "                j += 1\n",
    "\n",
    "        left_tail = left[i:]\n",
    "        right_tail = right[j:]\n",
    "\n",
    "#         print(f\"merged: {merged}\")\n",
    "#         print(f\"left_tail: {left_tail}\")\n",
    "#         print(f\"right_tail: {right_tail} \\n\")\n",
    "\n",
    "    return merged + left_tail + right_tail"
   ]
  },
  {
   "cell_type": "code",
   "execution_count": 57,
   "id": "92919d56",
   "metadata": {
    "ExecuteTime": {
     "end_time": "2022-05-31T13:04:50.983433Z",
     "start_time": "2022-05-31T13:04:50.977020Z"
    }
   },
   "outputs": [],
   "source": [
    "def merge_sort(nums):\n",
    "    # Terminating condition (list of 0 or 1 elements)\n",
    "    if len(nums) <= 1:\n",
    "        return nums\n",
    "    \n",
    "    # Get the midpoint\n",
    "    mid = len(nums) // 2\n",
    "    \n",
    "    # Split the list into two halves\n",
    "    left = nums[:mid]\n",
    "    right = nums[mid:]\n",
    "    \n",
    "    # Solve the problem for each half recursively\n",
    "    left_sorted = merge_sort(left)\n",
    "    right_sorted = merge_sort(right)\n",
    "    \n",
    "    # Combine the results of the two halves\n",
    "    sorted_nums = merge(left_sorted, right_sorted)\n",
    "    \n",
    "    return sorted_nums"
   ]
  },
  {
   "cell_type": "code",
   "execution_count": 58,
   "id": "02b34a9f",
   "metadata": {
    "ExecuteTime": {
     "end_time": "2022-05-31T13:04:51.364107Z",
     "start_time": "2022-05-31T13:04:51.357120Z"
    }
   },
   "outputs": [
    {
     "data": {
      "text/plain": [
       "[0, 1, 2, 3, 4, 7]"
      ]
     },
     "execution_count": 58,
     "metadata": {},
     "output_type": "execute_result"
    }
   ],
   "source": [
    "merge(left, right)"
   ]
  },
  {
   "cell_type": "markdown",
   "id": "9c79a719",
   "metadata": {},
   "source": [
    "Let's test the merge operation, before we test merge sort. "
   ]
  },
  {
   "cell_type": "code",
   "execution_count": 59,
   "id": "41bafe53",
   "metadata": {
    "ExecuteTime": {
     "end_time": "2022-05-31T13:04:53.098726Z",
     "start_time": "2022-05-31T13:04:53.089848Z"
    }
   },
   "outputs": [
    {
     "data": {
      "text/plain": [
       "[-1, 0, 1, 2, 3, 4, 7, 8, 9, 11, 12]"
      ]
     },
     "execution_count": 59,
     "metadata": {},
     "output_type": "execute_result"
    }
   ],
   "source": [
    "merge([1, 4, 7, 9, 11], [-1, 0, 2, 3, 8, 12])"
   ]
  },
  {
   "cell_type": "markdown",
   "id": "ea1ea76b",
   "metadata": {},
   "source": [
    "It seems to work as expected. We can now test the `merge_sort` function."
   ]
  },
  {
   "cell_type": "code",
   "execution_count": 60,
   "id": "4c8bab75",
   "metadata": {
    "ExecuteTime": {
     "end_time": "2022-05-31T13:04:53.748924Z",
     "start_time": "2022-05-31T13:04:53.743240Z"
    }
   },
   "outputs": [],
   "source": [
    "nums0, output0 = test0['input']['nums'], test0['output']"
   ]
  },
  {
   "cell_type": "code",
   "execution_count": 61,
   "id": "fd174f47",
   "metadata": {
    "ExecuteTime": {
     "end_time": "2022-05-31T13:04:54.041397Z",
     "start_time": "2022-05-31T13:04:54.034080Z"
    }
   },
   "outputs": [
    {
     "name": "stdout",
     "output_type": "stream",
     "text": [
      "Input: [4, 2, 6, 3, 4, 6, 2, 1]\n",
      "Expected output: [1, 2, 2, 3, 4, 4, 6, 6]\n",
      "Actual output: [1, 2, 2, 3, 4, 4, 6, 6]\n",
      "Match: True\n"
     ]
    }
   ],
   "source": [
    "print('Input:', nums0)\n",
    "print('Expected output:', output0)\n",
    "result0 = merge_sort(nums0)\n",
    "print('Actual output:', result0)\n",
    "print('Match:', result0 == output0)"
   ]
  },
  {
   "cell_type": "code",
   "execution_count": 62,
   "id": "83bedd99",
   "metadata": {
    "ExecuteTime": {
     "end_time": "2022-05-31T13:04:55.436436Z",
     "start_time": "2022-05-31T13:04:55.427821Z"
    }
   },
   "outputs": [
    {
     "data": {
      "text/plain": [
       "[1, 2, 3, 4, 4, 4, 5, 5, 6, 6, 6, 6, 7, 7, 8, 8, 32]"
      ]
     },
     "execution_count": 62,
     "metadata": {},
     "output_type": "execute_result"
    }
   ],
   "source": [
    "merge_sort([4,5,6,6,8,7,6,4,2,1,32,3,4,5,6,7,8])"
   ]
  },
  {
   "cell_type": "markdown",
   "id": "77e43c38",
   "metadata": {},
   "source": [
    "Let's test all the cases using the `evaluate_test_cases` function from `jovian`."
   ]
  },
  {
   "cell_type": "code",
   "execution_count": 63,
   "id": "7b59355e",
   "metadata": {
    "ExecuteTime": {
     "end_time": "2022-05-31T13:04:56.374277Z",
     "start_time": "2022-05-31T13:04:56.055686Z"
    },
    "scrolled": true
   },
   "outputs": [
    {
     "name": "stdout",
     "output_type": "stream",
     "text": [
      "\n",
      "\u001b[1mTEST CASE #0\u001b[0m\n",
      "\n",
      "Input:\n",
      "{'nums': [4, 2, 6, 3, 4, 6, 2, 1]}\n",
      "\n",
      "Expected Output:\n",
      "[1, 2, 2, 3, 4, 4, 6, 6]\n",
      "\n",
      "\n",
      "Actual Output:\n",
      "[1, 2, 2, 3, 4, 4, 6, 6]\n",
      "\n",
      "Execution Time:\n",
      "0.05 ms\n",
      "\n",
      "Test Result:\n",
      "\u001b[92mPASSED\u001b[0m\n",
      "\n",
      "\n",
      "\u001b[1mTEST CASE #1\u001b[0m\n",
      "\n",
      "Input:\n",
      "{'nums': [5, 2, 6, 1, 23, 7, -12, 12, -243, 0]}\n",
      "\n",
      "Expected Output:\n",
      "[-243, -12, 0, 1, 2, 5, 6, 7, 12, 23]\n",
      "\n",
      "\n",
      "Actual Output:\n",
      "[-243, -12, 0, 1, 2, 5, 6, 7, 12, 23]\n",
      "\n",
      "Execution Time:\n",
      "0.062 ms\n",
      "\n",
      "Test Result:\n",
      "\u001b[92mPASSED\u001b[0m\n",
      "\n",
      "\n",
      "\u001b[1mTEST CASE #2\u001b[0m\n",
      "\n",
      "Input:\n",
      "{'nums': [3, 5, 6, 8, 9, 10, 99]}\n",
      "\n",
      "Expected Output:\n",
      "[3, 5, 6, 8, 9, 10, 99]\n",
      "\n",
      "\n",
      "Actual Output:\n",
      "[3, 5, 6, 8, 9, 10, 99]\n",
      "\n",
      "Execution Time:\n",
      "0.029 ms\n",
      "\n",
      "Test Result:\n",
      "\u001b[92mPASSED\u001b[0m\n",
      "\n",
      "\n",
      "\u001b[1mTEST CASE #3\u001b[0m\n",
      "\n",
      "Input:\n",
      "{'nums': [99, 10, 9, 8, 6, 5, 3]}\n",
      "\n",
      "Expected Output:\n",
      "[3, 5, 6, 8, 9, 10, 99]\n",
      "\n",
      "\n",
      "Actual Output:\n",
      "[3, 5, 6, 8, 9, 10, 99]\n",
      "\n",
      "Execution Time:\n",
      "0.032 ms\n",
      "\n",
      "Test Result:\n",
      "\u001b[92mPASSED\u001b[0m\n",
      "\n",
      "\n",
      "\u001b[1mTEST CASE #4\u001b[0m\n",
      "\n",
      "Input:\n",
      "{'nums': [5, -12, 2, 6, 1, 23, 7, 7, -12, 6, 12, 1, -243, 1, 0]}\n",
      "\n",
      "Expected Output:\n",
      "[-243, -12, -12, 0, 1, 1, 1, 2, 5, 6, 6, 7, 7, 12, 23]\n",
      "\n",
      "\n",
      "Actual Output:\n",
      "[-243, -12, -12, 0, 1, 1, 1, 2, 5, 6, 6, 7, 7, 12, 23]\n",
      "\n",
      "Execution Time:\n",
      "0.108 ms\n",
      "\n",
      "Test Result:\n",
      "\u001b[92mPASSED\u001b[0m\n",
      "\n",
      "\n",
      "\u001b[1mTEST CASE #5\u001b[0m\n",
      "\n",
      "Input:\n",
      "{'nums': []}\n",
      "\n",
      "Expected Output:\n",
      "[]\n",
      "\n",
      "\n",
      "Actual Output:\n",
      "[]\n",
      "\n",
      "Execution Time:\n",
      "0.003 ms\n",
      "\n",
      "Test Result:\n",
      "\u001b[92mPASSED\u001b[0m\n",
      "\n",
      "\n",
      "\u001b[1mTEST CASE #6\u001b[0m\n",
      "\n",
      "Input:\n",
      "{'nums': [23]}\n",
      "\n",
      "Expected Output:\n",
      "[23]\n",
      "\n",
      "\n",
      "Actual Output:\n",
      "[23]\n",
      "\n",
      "Execution Time:\n",
      "0.002 ms\n",
      "\n",
      "Test Result:\n",
      "\u001b[92mPASSED\u001b[0m\n",
      "\n",
      "\n",
      "\u001b[1mTEST CASE #7\u001b[0m\n",
      "\n",
      "Input:\n",
      "{'nums': [42, 42, 42, 42, 42, 42, 42]}\n",
      "\n",
      "Expected Output:\n",
      "[42, 42, 42, 42, 42, 42, 42]\n",
      "\n",
      "\n",
      "Actual Output:\n",
      "[42, 42, 42, 42, 42, 42, 42]\n",
      "\n",
      "Execution Time:\n",
      "0.067 ms\n",
      "\n",
      "Test Result:\n",
      "\u001b[92mPASSED\u001b[0m\n",
      "\n",
      "\n",
      "\u001b[1mTEST CASE #8\u001b[0m\n",
      "\n",
      "Input:\n",
      "{'nums': [9927, 6043, 3575, 3863, 9319, 2564, 5430, 8393, 2753, 2776, 6679, 7790, 6612, 8858, 9051, ...\n",
      "\n",
      "Expected Output:\n",
      "[0, 1, 2, 3, 4, 5, 6, 7, 8, 9, 10, 11, 12, 13, 14, 15, 16, 17, 18, 19, 20, 21, 22, 23, 24, 25, 26, 2...\n",
      "\n",
      "\n",
      "Actual Output:\n",
      "[0, 1, 2, 3, 4, 5, 6, 7, 8, 9, 10, 11, 12, 13, 14, 15, 16, 17, 18, 19, 20, 21, 22, 23, 24, 25, 26, 2...\n",
      "\n",
      "Execution Time:\n",
      "311.061 ms\n",
      "\n",
      "Test Result:\n",
      "\u001b[92mPASSED\u001b[0m\n",
      "\n",
      "\n",
      "\u001b[1mSUMMARY\u001b[0m\n",
      "\n",
      "TOTAL: 9, \u001b[92mPASSED\u001b[0m: 9, \u001b[91mFAILED\u001b[0m: 0\n"
     ]
    }
   ],
   "source": [
    "results = evaluate_test_cases(merge_sort, tests)"
   ]
  },
  {
   "cell_type": "markdown",
   "id": "911290e1",
   "metadata": {},
   "source": [
    "All the test cases have passed! Our function works as expected.\n",
    "\n",
    "Notice the last test case, the merge sort function took just 50 milliseconds to sort 10,000 numbers, which took bubble sort about 12 seconds."
   ]
  },
  {
   "cell_type": "code",
   "execution_count": 64,
   "id": "aa33b052",
   "metadata": {
    "ExecuteTime": {
     "end_time": "2022-05-31T13:05:02.424905Z",
     "start_time": "2022-05-31T13:04:58.898489Z"
    }
   },
   "outputs": [
    {
     "data": {
      "application/javascript": [
       "window.require && require([\"base/js/namespace\"],function(Jupyter){Jupyter.notebook.save_checkpoint()})"
      ],
      "text/plain": [
       "<IPython.core.display.Javascript object>"
      ]
     },
     "metadata": {},
     "output_type": "display_data"
    },
    {
     "name": "stdout",
     "output_type": "stream",
     "text": [
      "[jovian] Updating notebook \"vitorpbarbosa7/python-sorting-divide-and-conquer\" on https://jovian.ai/\u001b[0m\n",
      "[jovian] Committed successfully! https://jovian.ai/vitorpbarbosa7/python-sorting-divide-and-conquer\u001b[0m\n"
     ]
    },
    {
     "data": {
      "text/plain": [
       "'https://jovian.ai/vitorpbarbosa7/python-sorting-divide-and-conquer'"
      ]
     },
     "execution_count": 64,
     "metadata": {},
     "output_type": "execute_result"
    }
   ],
   "source": [
    "jovian.commit()"
   ]
  },
  {
   "cell_type": "markdown",
   "id": "2f608746",
   "metadata": {},
   "source": [
    "## 9. Analyze the algorithm's complexity and identify inefficiencies\n",
    "\n",
    "Analyzing the complexity of recursive algorithms can be tricky. It helps to track and follow the chain of recursive calls. We'll add some print statements to our `merge_sort` and `merge_functions` to display the _tree_ of recursive function calls."
   ]
  },
  {
   "cell_type": "code",
   "execution_count": 66,
   "id": "a61e7d4b",
   "metadata": {
    "ExecuteTime": {
     "end_time": "2022-05-31T13:05:18.009785Z",
     "start_time": "2022-05-31T13:05:17.997743Z"
    }
   },
   "outputs": [],
   "source": [
    "def merge(nums1, nums2, depth=0):\n",
    "    print('  '*depth, 'merge:', nums1, nums2)\n",
    "    i, j, merged = 0, 0, []\n",
    "    while i < len(nums1) and j < len(nums2):\n",
    "        if nums1[i] <= nums2[j]:\n",
    "            merged.append(nums1[i])\n",
    "            i += 1\n",
    "        else:\n",
    "            merged.append(nums2[j])\n",
    "            j += 1\n",
    "    return merged + nums1[i:] + nums2[j:]\n",
    "        \n",
    "def merge_sort(nums, depth=0):\n",
    "    print('  '*depth, 'merge_sort:', nums)\n",
    "    if len(nums) < 2: \n",
    "        return nums\n",
    "    mid = len(nums) // 2\n",
    "    return merge(merge_sort(nums[:mid], depth+1), \n",
    "                 merge_sort(nums[mid:], depth+1), \n",
    "                 depth+1)"
   ]
  },
  {
   "cell_type": "code",
   "execution_count": 67,
   "id": "ccacb838",
   "metadata": {
    "ExecuteTime": {
     "end_time": "2022-05-31T13:05:18.418946Z",
     "start_time": "2022-05-31T13:05:18.407852Z"
    }
   },
   "outputs": [
    {
     "name": "stdout",
     "output_type": "stream",
     "text": [
      " merge_sort: [5, -12, 2, 6, 1, 23, 7, 7, -12]\n",
      "   merge_sort: [5, -12, 2, 6]\n",
      "     merge_sort: [5, -12]\n",
      "       merge_sort: [5]\n",
      "       merge_sort: [-12]\n",
      "       merge: [5] [-12]\n",
      "     merge_sort: [2, 6]\n",
      "       merge_sort: [2]\n",
      "       merge_sort: [6]\n",
      "       merge: [2] [6]\n",
      "     merge: [-12, 5] [2, 6]\n",
      "   merge_sort: [1, 23, 7, 7, -12]\n",
      "     merge_sort: [1, 23]\n",
      "       merge_sort: [1]\n",
      "       merge_sort: [23]\n",
      "       merge: [1] [23]\n",
      "     merge_sort: [7, 7, -12]\n",
      "       merge_sort: [7]\n",
      "       merge_sort: [7, -12]\n",
      "         merge_sort: [7]\n",
      "         merge_sort: [-12]\n",
      "         merge: [7] [-12]\n",
      "       merge: [7] [-12, 7]\n",
      "     merge: [1, 23] [-12, 7, 7]\n",
      "   merge: [-12, 2, 5, 6] [-12, 1, 7, 7, 23]\n"
     ]
    },
    {
     "data": {
      "text/plain": [
       "[-12, -12, 1, 2, 5, 6, 7, 7, 23]"
      ]
     },
     "execution_count": 67,
     "metadata": {},
     "output_type": "execute_result"
    }
   ],
   "source": [
    "merge_sort([5, -12, 2, 6, 1, 23, 7, 7, -12])"
   ]
  },
  {
   "cell_type": "markdown",
   "id": "8aed37cc",
   "metadata": {},
   "source": [
    "We can now see that each `merge_sort` call itself invokes `merge_sort` twice (but with an array half the size), and also invokes the `merge` function once to merge the two resulting arrays. The two calls to `merge_sort` themselves make two recursive calls followed by an invocation of `merge`. The division continues till we reach an list of size 1 or 0. Thus, the merge sort algorithm ultimately boils down to a series of `merge` operations performed on arrays of varying sizes. Inside the `merge` function we perform comparisons and add numbers to a new array.\n",
    "\n",
    "**Exercise:** Verify that time complexity of the merge operation is $O(n)$, where $n$ is the sum of the sizes of the two input lists. Hint: Count the number of comparisons.\n",
    "\n",
    "To find the overall complexity of `merge_sort`, we simply need to count how many times the `merge` function was invoked and the size of the input list for each invocation. Here's how all the subproblems can be visualized:\n",
    "\n",
    "\n",
    "![](https://i.imgur.com/j1IuS2t.png)\n",
    "\n",
    "Counting from the top and starting from 0, the $k^{th}$ level of the above tree involves $2^k$ invocations of `merge` with sublists of size roughly $n / 2^k$, where $n$ is the size of the original input list. Therefore the total number of comparisons at each level of the tree is $2^k * n/2^k = n$.\n",
    "\n",
    "Thus, if the height of the tree is $h$, the total number of comparisons is $n*h$. Since there are $n$ sublists of size 1 at the lowest level, it follows that $2^{(h-1)} = n$ i.e. $h = \\log n + 1$. Thus the time complexity of the merge sort algorithms is $O(n \\log n)$.\n",
    "\n",
    "As we already saw, it took just 50 ms to sort an array of 10,000 elements. Even an array of 1 million elements will take only a few seconds to be sorted.\n",
    "\n",
    "\n",
    "### Space Complexity\n",
    "\n",
    "\n",
    "\n",
    "\n",
    "To find the space complexity of merge sort, it helps to recall that a new list with equal to the sum of the sizes of the two lists is created in each invocation of `merge`. \n",
    "\n",
    "```\n",
    "i, j, merged = 0, 0, []\n",
    "while i < len(nums1) and j < len(nums2):\n",
    "    if nums1[i] <= nums2[j]:\n",
    "        merged.append(nums1[i])\n",
    "        i += 1\n",
    "    else:\n",
    "        merged.append(nums2[j])\n",
    "        j += 1\n",
    "```\n",
    "\n",
    "\n",
    "At first glance, it may seem that $O(n)$ space is required for each level of the tree, so the space complexity of merge sort is $O(n \\log n)$.\n",
    "\n",
    "![](https://i.imgur.com/KTbibGC.png)\n",
    "\n",
    "However, since the original sublists can be discarded after the `merge` operation, the additional space can be freed or reused for future merge calls. Thus, merge sort requires $O(n)$ additional space i.e. the space complexity is $O(n)$.\n",
    "\n",
    "\n",
    "There are several extensions and variations and extensions of merge sort:\n",
    "\n",
    "* K-way merge sort: https://en.wikipedia.org/wiki/K-way_merge_algorithm\n",
    "* Counting inversions in an array: https://www.geeksforgeeks.org/counting-inversions/\n",
    "* Merge sort and insertion sort hybrids: https://en.wikipedia.org/wiki/Timsort\n"
   ]
  },
  {
   "cell_type": "code",
   "execution_count": 68,
   "id": "07cb19a7",
   "metadata": {
    "ExecuteTime": {
     "end_time": "2022-05-31T13:05:26.591147Z",
     "start_time": "2022-05-31T13:05:23.376047Z"
    }
   },
   "outputs": [
    {
     "data": {
      "application/javascript": [
       "window.require && require([\"base/js/namespace\"],function(Jupyter){Jupyter.notebook.save_checkpoint()})"
      ],
      "text/plain": [
       "<IPython.core.display.Javascript object>"
      ]
     },
     "metadata": {},
     "output_type": "display_data"
    },
    {
     "name": "stdout",
     "output_type": "stream",
     "text": [
      "[jovian] Updating notebook \"vitorpbarbosa7/python-sorting-divide-and-conquer\" on https://jovian.ai/\u001b[0m\n",
      "[jovian] Committed successfully! https://jovian.ai/vitorpbarbosa7/python-sorting-divide-and-conquer\u001b[0m\n"
     ]
    },
    {
     "data": {
      "text/plain": [
       "'https://jovian.ai/vitorpbarbosa7/python-sorting-divide-and-conquer'"
      ]
     },
     "execution_count": 68,
     "metadata": {},
     "output_type": "execute_result"
    }
   ],
   "source": [
    "jovian.commit()"
   ]
  },
  {
   "cell_type": "markdown",
   "id": "f2ea2cf6",
   "metadata": {},
   "source": [
    "## 10. Apply the right technique to overcome the inefficiency. Repeat Steps 3 to 6.\n",
    "\n",
    "The fact that merge sort requires allocating additional space as large as the input itself makes it somewhat slow in practice because memory allocation is far more expensive than comparisons or swapping.\n",
    "\n",
    "### Quicksort\n",
    "\n",
    "To overcome the space inefficiencies of merge sort, we'll study another divide-and-conquer based sorting algorithm called **quicksort**, which works as follows:\n",
    "\n",
    "1. If the list is empty or has just one element, return it. It's already sorted.\n",
    "2. Pick a random element from the list. This element is called a _pivot_.\n",
    "3. Reorder the list so that all elements with values less than or equal to the pivot come before the pivot, while all elements with values greater than the pivot come after it. This operation is called _partitioning_.\n",
    "4. The pivot element divides the array into two parts which can be sorted independently by making a recursive call to quicksort.\n",
    "\n",
    "![](https://images.deepai.org/glossary-terms/a5228ea07c794b468efd1b7f758b9ead/Quicksort.png)\n",
    "\n",
    "The key observation here is that after the partition, the pivot element is at its right place in the sorted array, and the two parts of the array can be sorted independently in-place.\n",
    "\n",
    "Here's an implementation of quicksort, assuming we already have a helper function called `partitions` which picks a pivot, partitions the array in-place, and returns the position of the pivot element."
   ]
  },
  {
   "cell_type": "code",
   "execution_count": 166,
   "id": "a9f190ab",
   "metadata": {
    "ExecuteTime": {
     "end_time": "2022-05-31T14:40:33.628854Z",
     "start_time": "2022-05-31T14:40:33.622448Z"
    }
   },
   "outputs": [],
   "source": [
    "def quicksort(nums, start=0, end=None):\n",
    "    # print('quicksort', nums, start, end)\n",
    "    if end is None:\n",
    "        nums = list(nums)\n",
    "        end = len(nums) - 1\n",
    "    \n",
    "    if start < end:\n",
    "        pivot = partition(nums, start, end)\n",
    "        quicksort(nums, start, pivot-1)\n",
    "        quicksort(nums, pivot+1, end)\n",
    "\n",
    "    return nums"
   ]
  },
  {
   "cell_type": "code",
   "execution_count": 167,
   "id": "e67ea099",
   "metadata": {
    "ExecuteTime": {
     "end_time": "2022-05-31T14:40:33.812041Z",
     "start_time": "2022-05-31T14:40:33.807080Z"
    }
   },
   "outputs": [],
   "source": [
    "nums = [9,-3,5,2,6,8,-6,1,3]"
   ]
  },
  {
   "cell_type": "code",
   "execution_count": 183,
   "id": "e934fec4",
   "metadata": {
    "ExecuteTime": {
     "end_time": "2022-05-31T14:51:56.760602Z",
     "start_time": "2022-05-31T14:51:56.744840Z"
    }
   },
   "outputs": [],
   "source": [
    "start = 0\n",
    "end = len(nums)-1\n",
    "def partition(nums, start=0, end=None):\n",
    "    \n",
    "    '''\n",
    "    condicao inicial para o end, este apenas o primeiro caso da stack que vai se aprofundando com \n",
    "    casos que possuem sim o end jah definido pelo pivot que foi retornado pelo left_pointer ou right_pointer\n",
    "    que sao iguais no final da funcao partition e irao corresponder a posicao do atual pivot\n",
    "    assim o novo pivot permite a divisao da funcao para a nova chamada recursiva para mais um empilhamento na \n",
    "    stack e mais uma nova e mais uma nova ateh ir desimpilhando com os subsets inplace ordenados atraves dos swaps\n",
    "    \n",
    "    - O \"end\" sempre será o pivot na chamada recursiva em que o próprio partition aqui retorna o pivot após \n",
    "    realizar os swaps\n",
    "    '''\n",
    "    if end is None:\n",
    "        end = len(nums) - 1\n",
    "    \n",
    "    # initiliaze pointers\n",
    "    left_pointer = start\n",
    "    right_pointer = end - 1\n",
    "    while left_pointer < right_pointer:\n",
    "        \n",
    "        # se, por exemplo, atendendo essas duas iteracoes, foi porque nao ocorreu swap\n",
    "        if nums[left_pointer] <= nums[end]:\n",
    "            left_pointer +=1\n",
    "            print(f'left pointer: {left_pointer}')\n",
    "            \n",
    "        elif nums[right_pointer] > nums[end]:\n",
    "            right_pointer -=1\n",
    "            print(f'right pointer: {right_pointer}')\n",
    "            \n",
    "        # se o esquerda eh maior que o pointer, e o da direita eh menor que o pointer \n",
    "        # logo o da esquerda eh maior que o da direita e deve-se realizar o swap\n",
    "        else:\n",
    "            nums[left_pointer], nums[right_pointer] = nums[right_pointer], nums[left_pointer]\n",
    "            print(f\"nums: {nums}\")\n",
    "    \n",
    "    # apenas sai do while quando left_pointer = right_pointer, logo, estaremos no local certo para o swap do pivot\n",
    "    # swap pivot:\n",
    "    if nums[left_pointer] < nums[end]:\n",
    "        nums[left_pointer], nums[end]\n",
    "        return left_pointer\n",
    "    else:\n",
    "        return end"
   ]
  },
  {
   "cell_type": "code",
   "execution_count": 184,
   "id": "94df3c73",
   "metadata": {
    "ExecuteTime": {
     "end_time": "2022-05-31T14:51:58.071803Z",
     "start_time": "2022-05-31T14:51:58.066399Z"
    }
   },
   "outputs": [
    {
     "data": {
      "text/plain": [
       "[9, -3, 5, 2, 6, 8, -6, 1, 3]"
      ]
     },
     "execution_count": 184,
     "metadata": {},
     "output_type": "execute_result"
    }
   ],
   "source": [
    "nums"
   ]
  },
  {
   "cell_type": "code",
   "execution_count": 185,
   "id": "9abeee80",
   "metadata": {
    "ExecuteTime": {
     "end_time": "2022-05-31T14:51:58.252508Z",
     "start_time": "2022-05-31T14:51:58.243392Z"
    }
   },
   "outputs": [
    {
     "name": "stdout",
     "output_type": "stream",
     "text": [
      "nums: [1, -3, 5, 2, 6, 8, -6, 9, 3]\n",
      "left pointer: 1\n",
      "left pointer: 2\n",
      "right pointer: 6\n",
      "nums: [1, -3, -6, 2, 6, 8, 5, 9, 3]\n",
      "left pointer: 3\n",
      "left pointer: 4\n",
      "right pointer: 5\n",
      "right pointer: 4\n",
      "left pointer: 1\n",
      "left pointer: 2\n",
      "left pointer: 3\n",
      "left pointer: 4\n",
      "left pointer: 5\n",
      "left pointer: 6\n",
      "left pointer: 1\n",
      "left pointer: 2\n",
      "left pointer: 3\n",
      "left pointer: 4\n",
      "left pointer: 1\n",
      "left pointer: 2\n"
     ]
    },
    {
     "data": {
      "text/plain": [
       "[1, -3, -6, 2, 6, 8, 5, 9, 3]"
      ]
     },
     "execution_count": 185,
     "metadata": {},
     "output_type": "execute_result"
    }
   ],
   "source": [
    "quicksort(nums)"
   ]
  },
  {
   "cell_type": "markdown",
   "id": "62ee1373",
   "metadata": {},
   "source": [
    "Here's how the partition operation works([source](https://medium.com/basecs/pivoting-to-understand-quicksort-part-1-75178dfb9313)):\n",
    "\n",
    "<img src=\"https://i.imgur.com/Igk7Kr4.png\" width=\"420\">\n",
    "\n",
    "\n",
    "Here's an implementation of partition, which uses the last element of the list as a pivot:"
   ]
  },
  {
   "cell_type": "code",
   "execution_count": null,
   "id": "41972542",
   "metadata": {},
   "outputs": [],
   "source": [
    "def partition(nums, start = 0, end = None):\n",
    "    \n",
    "    if end is None:\n",
    "        end = len(nums) - 1\n",
    "        \n",
    "    left, right = start, end-1\n",
    "    \n",
    "    # Enquanto o pointer esquerdo eh diferente do pointer direito"
   ]
  },
  {
   "cell_type": "code",
   "execution_count": null,
   "id": "9f1e70cf",
   "metadata": {},
   "outputs": [],
   "source": [
    "def partition(nums, start=0, end=None):\n",
    "    # print('partition', nums, start, end)\n",
    "    if end is None:\n",
    "        end = len(nums) - 1\n",
    "    \n",
    "    # Initialize right and left pointers\n",
    "    l, r = start, end-1\n",
    "    \n",
    "    # Iterate while they're apart\n",
    "    while r > l:\n",
    "        # print('  ', nums, l, r)\n",
    "        # Increment left pointer if number is less or equal to pivot\n",
    "        if nums[l] <= nums[end]:\n",
    "            l += 1\n",
    "        \n",
    "        # Decrement right pointer if number is greater than pivot\n",
    "        elif nums[r] > nums[end]:\n",
    "            r -= 1\n",
    "        \n",
    "        # Two out-of-place elements found, swap them\n",
    "        else:\n",
    "            nums[l], nums[r] = nums[r], nums[l]\n",
    "    # print('  ', nums, l, r)\n",
    "    # Place the pivot between the two parts\n",
    "    if nums[l] > nums[end]:\n",
    "        nums[l], nums[end] = nums[end], nums[l]\n",
    "        return l\n",
    "    else:\n",
    "        return end"
   ]
  },
  {
   "cell_type": "markdown",
   "id": "f3feca98",
   "metadata": {},
   "source": [
    "Let's see the partition function in action:"
   ]
  },
  {
   "cell_type": "code",
   "execution_count": null,
   "id": "f98b3292",
   "metadata": {},
   "outputs": [],
   "source": [
    "l1 = [1, 5, 6, 2, 0, 11, 3]\n",
    "pivot = partition(l1)\n",
    "print(l1, pivot)"
   ]
  },
  {
   "cell_type": "markdown",
   "id": "9a510b39",
   "metadata": {},
   "source": [
    "As expected the list was partitioned using `3` as the pivot element, which finally ends up at the index `2` within the partitioned list.\n",
    "\n",
    "**Exercise:** Add print statements inside the partition function to display the list, the left pointer and the right pointer at the beginning and end of every loop, to study how the partitioning works."
   ]
  },
  {
   "cell_type": "code",
   "execution_count": null,
   "id": "9bfd9b7d",
   "metadata": {},
   "outputs": [],
   "source": []
  },
  {
   "cell_type": "markdown",
   "id": "06272a54",
   "metadata": {},
   "source": [
    "We can now see quicksort in action:"
   ]
  },
  {
   "cell_type": "code",
   "execution_count": null,
   "id": "a2a8a5aa",
   "metadata": {},
   "outputs": [],
   "source": [
    "nums0, output0 = test0['input']['nums'], test0['output']\n",
    "\n",
    "print('Input:', nums0)\n",
    "print('Expected output:', output0)\n",
    "result0 = quicksort(nums0)\n",
    "print('Actual output:', result0)\n",
    "print('Match:', result0 == output0)"
   ]
  },
  {
   "cell_type": "markdown",
   "id": "0158e12f",
   "metadata": {},
   "source": [
    "Let's test all the cases using the `evaluate_test_cases` function from `jovian`."
   ]
  },
  {
   "cell_type": "code",
   "execution_count": null,
   "id": "1f7ce80b",
   "metadata": {
    "scrolled": true
   },
   "outputs": [],
   "source": [
    "from jovian.pythondsa import evaluate_test_cases\n",
    "\n",
    "results = evaluate_test_cases(quicksort, tests)"
   ]
  },
  {
   "cell_type": "markdown",
   "id": "22c19c42",
   "metadata": {},
   "source": [
    "All the test cases have passed successfully! You will also notice that is also marginally faster than merge sort for larger lists."
   ]
  },
  {
   "cell_type": "markdown",
   "id": "53aa3e14",
   "metadata": {},
   "source": [
    "### Time Complexity of Quicksort\n",
    "\n",
    "If we assume that \n",
    "\n",
    "\n",
    "Best case partitioning:\n",
    "\n",
    "<img src=\"https://i.imgur.com/DgvYvnG.png\" width=\"480\">\n",
    "\n",
    "\n",
    "If we partition the list into two nearly equal parts, then the complexity analysis is similar to that of merge sort and quicksort has the complexity $O(n \\log n)$. This is called the average-case complexity.\n",
    "\n",
    "\n",
    "Worst case partitioning:\n",
    "\n",
    "\n",
    "<img src=\"https://cdn.kastatic.org/ka-perseus-images/7da2ac32779bef669a6f05decb62f219a9132158.png\" width=\"480\">\n",
    "\n",
    "In this case, the partition is called `n` times with lists of sizes `n`, `n-1`... so that total comparisions are $n + (n-1) + (n-2) + ... + 2 + 1 = n * (n-1) / 2$. So the worst-case complexity of quicksort is $O(n^2)$.\n",
    "\n",
    "**Exercise:** Verify that quicksort requires $O(1)$ additional space.\n",
    "\n",
    "Despite the quadratic worst case time complexity Quicksort is preferred in many situations because its running time is closer to $O(n \\log n)$ in practice, especially with a good strategy for picking a pivot. Some these are:\n",
    "\n",
    "- [Picking a random pivot](https://cs.stackexchange.com/questions/7582/what-is-the-advantage-of-randomized-quicksort)\n",
    "- [Picking median of medians](https://en.wikipedia.org/wiki/Median_of_medians)\n",
    "\n",
    "\n",
    "Here are some other problems you can solve using the partitioning strategy of Quicksort: https://www.techiedelight.com/problems-solved-using-partitioning-logic-quicksort/\n",
    "\n",
    "\n",
    "\n"
   ]
  },
  {
   "cell_type": "code",
   "execution_count": null,
   "id": "b9fb9570",
   "metadata": {},
   "outputs": [],
   "source": [
    "jovian.commit()"
   ]
  },
  {
   "cell_type": "markdown",
   "id": "f484fa05",
   "metadata": {},
   "source": [
    "## Custom Comparison Functions\n",
    "\n",
    "Let's return to our original problem statement now.\n",
    "\n",
    "> **QUESTION 1**: You're working on a new feature on Jovian called \"Top Notebooks of the Week\". Write a function to sort a list of notebooks in decreasing order of likes. Keep in mind that up to millions of notebooks  can be created every week, so your function needs to be as efficient as possible.\n",
    "\n",
    "First, we need to sort objects, not just numbers. Also, we want to sort them in the descending order of likes. To achieve this, all we need is a custom comparison function to compare two notebooks.\n",
    "\n",
    "Let's create a class that captures basic information about notebooks."
   ]
  },
  {
   "cell_type": "code",
   "execution_count": null,
   "id": "9f4e9b52",
   "metadata": {},
   "outputs": [],
   "source": [
    "class Notebook:\n",
    "    def __init__(self, title, username, likes):\n",
    "        self.title, self.username, self.likes = title, username, likes\n",
    "        \n",
    "    def __repr__(self):\n",
    "        return 'Notebook <\"{}/{}\", {} likes>'.format(self.username, self.title, self.likes)"
   ]
  },
  {
   "cell_type": "markdown",
   "id": "7f363267",
   "metadata": {},
   "source": [
    "Let's create some sample notebooks"
   ]
  },
  {
   "cell_type": "code",
   "execution_count": null,
   "id": "2bed6c20",
   "metadata": {},
   "outputs": [],
   "source": [
    "nb0 = Notebook('pytorch-basics', 'aakashns', 373)\n",
    "nb1 = Notebook('linear-regression', 'siddhant', 532)\n",
    "nb2 = Notebook('logistic-regression', 'vikas', 31)\n",
    "nb3 = Notebook('feedforward-nn', 'sonaksh', 94)\n",
    "nb4 = Notebook('cifar10-cnn', 'biraj', 2)\n",
    "nb5 = Notebook('cifar10-resnet', 'tanya', 29)\n",
    "nb6 = Notebook('anime-gans', 'hemanth', 80)\n",
    "nb7 = Notebook('python-fundamentals', 'vishal', 136)\n",
    "nb8 = Notebook('python-functions', 'aakashns', 74)\n",
    "nb9 = Notebook('python-numpy', 'siddhant', 92)"
   ]
  },
  {
   "cell_type": "code",
   "execution_count": null,
   "id": "9fdb857d",
   "metadata": {},
   "outputs": [],
   "source": [
    "notebooks = [nb0, nb1, nb2, nb3, nb4, nb5,nb6, nb7, nb8, nb9]"
   ]
  },
  {
   "cell_type": "code",
   "execution_count": null,
   "id": "3b62cfc0",
   "metadata": {},
   "outputs": [],
   "source": [
    "notebooks"
   ]
  },
  {
   "cell_type": "markdown",
   "id": "bf5d2438",
   "metadata": {},
   "source": [
    "Next, we'll define a custom comparison function for comparing two notebooks. It will return the strings `'lesser'`, `'equal'` or `'greater'` to establish order between the two objects."
   ]
  },
  {
   "cell_type": "code",
   "execution_count": null,
   "id": "8d6d38f3",
   "metadata": {},
   "outputs": [],
   "source": [
    "def compare_likes(nb1, nb2):\n",
    "    if nb1.likes > nb2.likes:\n",
    "        return 'lesser'\n",
    "    elif nb1.likes == nb2.likes:\n",
    "        return 'equal'\n",
    "    elif nb1.likes < nb2.likes:\n",
    "        return 'greater'"
   ]
  },
  {
   "cell_type": "markdown",
   "id": "0cd84f06",
   "metadata": {},
   "source": [
    "Note that we say `nb1` is _lesser_ than `nb2` if it has higher likes, because we want to sort the notebooks in decreasing order of likes.\n",
    "\n",
    "Here's an implementation of merge sort which accepts a custom comparison function."
   ]
  },
  {
   "cell_type": "code",
   "execution_count": null,
   "id": "349ba2f5",
   "metadata": {},
   "outputs": [],
   "source": [
    "def default_compare(x, y):\n",
    "    if x < y:\n",
    "        return 'less'\n",
    "    elif x == y:\n",
    "        return 'equal'\n",
    "    else:\n",
    "        return 'greater'\n",
    "\n",
    "def merge_sort(objs, compare=default_compare):\n",
    "    if len(objs) < 2:\n",
    "        return objs\n",
    "    mid = len(objs) // 2\n",
    "    return merge(merge_sort(objs[:mid], compare), \n",
    "                 merge_sort(objs[mid:], compare), \n",
    "                 compare)\n",
    "\n",
    "def merge(left, right, compare):\n",
    "    i, j, merged = 0, 0, []\n",
    "    while i < len(left) and j < len(right):\n",
    "        result = compare(left[i], right[j])\n",
    "        if result == 'lesser' or result == 'equal':\n",
    "            merged.append(left[i])\n",
    "            i += 1\n",
    "        else:\n",
    "            merged.append(right[j])\n",
    "            j += 1\n",
    "    return merged + left[i:] + right[j:]"
   ]
  },
  {
   "cell_type": "code",
   "execution_count": null,
   "id": "9a18b72e",
   "metadata": {},
   "outputs": [],
   "source": [
    "sorted_notebooks = merge_sort(notebooks, compare_likes)"
   ]
  },
  {
   "cell_type": "code",
   "execution_count": null,
   "id": "a45c4514",
   "metadata": {},
   "outputs": [],
   "source": [
    "sorted_notebooks"
   ]
  },
  {
   "cell_type": "markdown",
   "id": "0c974f00",
   "metadata": {},
   "source": [
    "As you can see, the notebooks are now sorted by likes. Since we have written a generic `merge_sort` function that works with any compare function, we can also use it to sort the notebooks by title."
   ]
  },
  {
   "cell_type": "code",
   "execution_count": null,
   "id": "96b0d622",
   "metadata": {},
   "outputs": [],
   "source": [
    "def compare_titles(nb1, nb2):\n",
    "    if nb1.title < nb2.title:\n",
    "        return 'lesser'\n",
    "    elif nb1.title == nb2.title:\n",
    "        return 'equal'\n",
    "    elif nb1.title > nb2.title:\n",
    "        return 'greater'"
   ]
  },
  {
   "cell_type": "code",
   "execution_count": null,
   "id": "3f50330e",
   "metadata": {},
   "outputs": [],
   "source": [
    "merge_sort(notebooks, compare_titles)"
   ]
  },
  {
   "cell_type": "markdown",
   "id": "1b3df841",
   "metadata": {},
   "source": [
    "**Exercise:** Implement and test generic versions of bubble sort, insertion sort and quicksort using the empty cells below."
   ]
  },
  {
   "cell_type": "code",
   "execution_count": null,
   "id": "ff9854ac",
   "metadata": {},
   "outputs": [],
   "source": []
  },
  {
   "cell_type": "code",
   "execution_count": null,
   "id": "b3e1da9d",
   "metadata": {},
   "outputs": [],
   "source": []
  },
  {
   "cell_type": "code",
   "execution_count": null,
   "id": "a37e7158",
   "metadata": {},
   "outputs": [],
   "source": []
  },
  {
   "cell_type": "markdown",
   "id": "c8f35ce1",
   "metadata": {},
   "source": [
    "Let's save our work before continuing."
   ]
  },
  {
   "cell_type": "code",
   "execution_count": null,
   "id": "ed4ed209",
   "metadata": {},
   "outputs": [],
   "source": [
    "jovian.commit()"
   ]
  },
  {
   "cell_type": "markdown",
   "id": "04e30895",
   "metadata": {},
   "source": [
    "## Summary and Exercises\n",
    "\n",
    "We've covered the following sorting algorithms in this tutorial:\n",
    "\n",
    "1. Bubble sort\n",
    "2. Insertion sort\n",
    "3. Merge sort\n",
    "4. Quick sort\n",
    "\n",
    "There are several other sorting algorithms, and most languages provide library functions for sorting that use a hybrid approach depending on the size and type of element in the list/array.\n",
    "\n",
    "\n",
    "Try out some problems on sorting and divide-n-conquer here:\n",
    "\n",
    "* https://leetcode.com/tag/sort/\n",
    "* https://www.techiedelight.com/sorting-interview-questions/\n",
    "* [HackerRank](https://www.hackerrank.com/domains/algorithms?filters%5Bsubdomains%5D%5B%5D=arrays-and-sorting)\n",
    "* https://leetcode.com/tag/divide-and-conquer/\n",
    "* https://www.geeksforgeeks.org/divide-and-conquer/\n",
    "\n",
    "Use this problem solving template: https://jovian.ai/aakashns/python-problem-solving-template"
   ]
  },
  {
   "cell_type": "code",
   "execution_count": null,
   "id": "b18b61b4",
   "metadata": {},
   "outputs": [],
   "source": []
  }
 ],
 "metadata": {
  "kernelspec": {
   "display_name": "Python 3 (ipykernel)",
   "language": "python",
   "name": "python3"
  },
  "language_info": {
   "codemirror_mode": {
    "name": "ipython",
    "version": 3
   },
   "file_extension": ".py",
   "mimetype": "text/x-python",
   "name": "python",
   "nbconvert_exporter": "python",
   "pygments_lexer": "ipython3",
   "version": "3.9.12"
  },
  "toc": {
   "base_numbering": 1,
   "nav_menu": {},
   "number_sections": true,
   "sideBar": true,
   "skip_h1_title": false,
   "title_cell": "Table of Contents",
   "title_sidebar": "Contents",
   "toc_cell": false,
   "toc_position": {},
   "toc_section_display": true,
   "toc_window_display": false
  }
 },
 "nbformat": 4,
 "nbformat_minor": 5
}
