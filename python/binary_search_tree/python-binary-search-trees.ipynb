{
 "cells": [
  {
   "cell_type": "markdown",
   "id": "precise-filename",
   "metadata": {},
   "source": [
    "# Binary Search Trees, Traversals and Balancing in Python\n",
    "\n",
    "### Part 2 of \"Data Structures and Algorithms in Python\"\n",
    "\n",
    "![](https://i.imgur.com/lVqP63n.png)\n",
    "\n",
    "\n",
    "\n",
    "\n",
    "\n",
    "[Data Structures and Algorithms in Python](https://jovian.ai/learn/data-structures-and-algorithms-in-python) is a beginner-friendly introduction to common data structures (linked lists, stacks, queues, graphs) and algorithms (search, sorting, recursion, dynamic programming) in Python, designed to help you prepare for coding interviews and assessments.\n",
    "\n",
    "\n",
    "Earn a verified certificate of accomplishment for this course by signing up here: http://pythondsa.com.\n",
    "\n",
    "Ask questions, get help & participate in discussions on the community forum: https://jovian.ai/forum/c/data-structures-and-algorithms-in-python/78"
   ]
  },
  {
   "cell_type": "markdown",
   "id": "adaptive-birmingham",
   "metadata": {},
   "source": [
    "### Prerequisites\n",
    "\n",
    "This course assumes very little background in programming and mathematics, and you can learn the required concepts here:\n",
    "\n",
    "- Basic programming with Python ([variables](https://jovian.ai/aakashns/first-steps-with-python), [data types](https://jovian.ai/aakashns/python-variables-and-data-types), [loops](https://jovian.ai/aakashns/python-branching-and-loops), [functions](https://jovian.ai/aakashns/python-functions-and-scope) etc.)\n",
    "- Some high school mathematics ([polynomials](https://www.youtube.com/watch?v=Vm7H0VTlIco), [vectors, matrices](https://www.youtube.com/watch?v=0oGJTQCy4cQ&list=PLSQl0a2vh4HCs4zPpOEdF2GuydqS90Yb6) and [probability](https://www.youtube.com/watch?v=uzkc-qNVoOk))\n",
    "- No prior knowledge of data structures or algorithms is required\n",
    "\n",
    "We'll cover any additional mathematical and theoretical concepts we need as we go along.\n",
    "\n"
   ]
  },
  {
   "cell_type": "markdown",
   "id": "polished-current",
   "metadata": {},
   "source": [
    "## How to Run the Code\n",
    "\n",
    "The best way to learn the material is to execute the code and experiment with it yourself. This tutorial is an executable [Jupyter notebook](https://jupyter.org). You can _run_ this tutorial and experiment with the code examples in a couple of ways: *using free online resources* (recommended) or *on your computer*.\n",
    "\n",
    "#### Option 1: Running using free online resources (1-click, recommended)\n",
    "\n",
    "The easiest way to start executing the code is to click the **Run** button at the top of this page and select **Run on Binder**. You can also select \"Run on Colab\" or \"Run on Kaggle\", but you'll need to create an account on [Google Colab](https://colab.research.google.com) or [Kaggle](https://kaggle.com) to use these platforms.\n",
    "\n",
    "\n",
    "#### Option 2: Running on your computer locally\n",
    "\n",
    "To run the code on your computer locally, you'll need to set up [Python](https://www.python.org), download the notebook and install the required libraries. We recommend using the [Conda](https://docs.conda.io/projects/conda/en/latest/user-guide/install/) distribution of Python. Click the **Run** button at the top of this page, select the **Run Locally** option, and follow the instructions.\n"
   ]
  },
  {
   "cell_type": "markdown",
   "id": "governmental-worry",
   "metadata": {},
   "source": [
    "## Problem \n",
    "\n",
    "\n",
    "In this notebook, we'll focus on solving the following problem:\n",
    "\n",
    "> **QUESTION 1**: As a senior backend engineer at Jovian, you are tasked with developing a fast in-memory data structure to manage profile information (username, name and email) for 100 million users. It should allow the following operations to be performed efficiently:\n",
    "> \n",
    "> 1. **Insert** the profile information for a new user.\n",
    "> 2. **Find** the profile information of a user, given their username\n",
    "> 3. **Update** the profile information of a user, given their usrname\n",
    "> 5. **List** all the users of the platform, sorted by username\n",
    ">\n",
    "> You can assume that usernames are unique. \n",
    "\n",
    "Along the way, we will also solve several other questions related to binary trees and binary search trees that are often asked in coding interviews and assessments. "
   ]
  },
  {
   "cell_type": "markdown",
   "id": "primary-adjustment",
   "metadata": {},
   "source": [
    "## The Method\n",
    "\n",
    "\n",
    "Here's a systematic strategy we'll apply for solving problems:\n",
    "\n",
    "1. State the problem clearly. Identify the input & output formats.\n",
    "2. Come up with some example inputs & outputs. Try to cover all edge cases.\n",
    "3. Come up with a correct solution for the problem. State it in plain English.\n",
    "4. Implement the solution and test it using example inputs. Fix bugs, if any.\n",
    "5. Analyze the algorithm's complexity and identify inefficiencies, if any.\n",
    "6. Apply the right technique to overcome the inefficiency. Repeat steps 3 to 6.\n",
    "\n"
   ]
  },
  {
   "cell_type": "markdown",
   "id": "three-register",
   "metadata": {},
   "source": [
    "## 1. State the problem clearly. Identify the input & output formats.\n",
    "\n",
    "#### Problem\n",
    "\n",
    "> We need to create a data structure which can store 100 million records and perform insertion, search, update and list operations efficiently.\n",
    "\n",
    "#### Input\n",
    "\n",
    "The key inputs to our data structure are user profiles, which contain the username, name and email of a user. \n",
    "\n",
    "A Python _class_ would be a great way to represent the information for a user. A class is a blueprint for creating _objects_. Everything in Python is an _object_ belonging to some _class_. Here's the simples possible class in Python, with nothing in it:"
   ]
  },
  {
   "cell_type": "code",
   "execution_count": 1,
   "id": "exempt-financing",
   "metadata": {
    "ExecuteTime": {
     "end_time": "2022-05-17T10:46:12.335235Z",
     "start_time": "2022-05-17T10:46:12.329285Z"
    }
   },
   "outputs": [],
   "source": [
    "class User:\n",
    "    pass"
   ]
  },
  {
   "cell_type": "markdown",
   "id": "pointed-navigator",
   "metadata": {},
   "source": [
    "We can create or _instantiate_ an object of the class by calling it like a function."
   ]
  },
  {
   "cell_type": "code",
   "execution_count": 2,
   "id": "smooth-copyright",
   "metadata": {
    "ExecuteTime": {
     "end_time": "2022-05-17T10:46:12.342547Z",
     "start_time": "2022-05-17T10:46:12.338601Z"
    }
   },
   "outputs": [],
   "source": [
    "user1 = User()"
   ]
  },
  {
   "cell_type": "markdown",
   "id": "unavailable-silly",
   "metadata": {},
   "source": [
    "We can verify that the object is of the class `User`."
   ]
  },
  {
   "cell_type": "code",
   "execution_count": 3,
   "id": "frank-launch",
   "metadata": {
    "ExecuteTime": {
     "end_time": "2022-05-17T10:46:12.350960Z",
     "start_time": "2022-05-17T10:46:12.345840Z"
    }
   },
   "outputs": [
    {
     "data": {
      "text/plain": [
       "<__main__.User at 0x7fa5995f4b20>"
      ]
     },
     "execution_count": 3,
     "metadata": {},
     "output_type": "execute_result"
    }
   ],
   "source": [
    "user1"
   ]
  },
  {
   "cell_type": "code",
   "execution_count": 4,
   "id": "variable-enclosure",
   "metadata": {
    "ExecuteTime": {
     "end_time": "2022-05-17T10:46:12.356612Z",
     "start_time": "2022-05-17T10:46:12.353148Z"
    }
   },
   "outputs": [
    {
     "data": {
      "text/plain": [
       "__main__.User"
      ]
     },
     "execution_count": 4,
     "metadata": {},
     "output_type": "execute_result"
    }
   ],
   "source": [
    "type(user1)"
   ]
  },
  {
   "cell_type": "markdown",
   "id": "direct-projector",
   "metadata": {},
   "source": [
    "The object `user1` does not contain any useful information. Let's add a _constructor method_ to the class to store some _attributes_ or _properties_."
   ]
  },
  {
   "cell_type": "code",
   "execution_count": 5,
   "id": "excessive-force",
   "metadata": {
    "ExecuteTime": {
     "end_time": "2022-05-17T10:46:12.362639Z",
     "start_time": "2022-05-17T10:46:12.359420Z"
    }
   },
   "outputs": [],
   "source": [
    "class User:\n",
    "    def __init__(self, username, name, email):\n",
    "        self.username = username\n",
    "        self.name = name\n",
    "        self.email = email\n",
    "        print('User created!')"
   ]
  },
  {
   "cell_type": "markdown",
   "id": "biblical-recommendation",
   "metadata": {},
   "source": [
    "We can now create an object with some properties."
   ]
  },
  {
   "cell_type": "code",
   "execution_count": 6,
   "id": "above-daughter",
   "metadata": {
    "ExecuteTime": {
     "end_time": "2022-05-17T10:46:12.367190Z",
     "start_time": "2022-05-17T10:46:12.364658Z"
    }
   },
   "outputs": [
    {
     "name": "stdout",
     "output_type": "stream",
     "text": [
      "User created!\n"
     ]
    }
   ],
   "source": [
    "user2 = User('john', 'John Doe', 'john@doe.com')"
   ]
  },
  {
   "cell_type": "code",
   "execution_count": 7,
   "id": "single-roads",
   "metadata": {
    "ExecuteTime": {
     "end_time": "2022-05-17T10:46:12.371846Z",
     "start_time": "2022-05-17T10:46:12.368726Z"
    }
   },
   "outputs": [
    {
     "data": {
      "text/plain": [
       "<__main__.User at 0x7fa58879b730>"
      ]
     },
     "execution_count": 7,
     "metadata": {},
     "output_type": "execute_result"
    }
   ],
   "source": [
    "user2"
   ]
  },
  {
   "cell_type": "markdown",
   "id": "narrow-seeker",
   "metadata": {},
   "source": [
    "Here's what's happening above (conceptually):\n",
    "\n",
    "- Python creates an empty object of the type user and stores in the variable `user2`\n",
    "- Python then invokes the function `User.___init__` with the arguments `user2`, `\"john\"`, `\"John Doe\"` and `\"john@doe.com\"`\n",
    "- As the `__init__` function is executed, the properties `username`, `name` and `email` are set on the object `user2`\n"
   ]
  },
  {
   "cell_type": "markdown",
   "id": "injured-sheffield",
   "metadata": {},
   "source": [
    "We can access the properties of the object using the `.` notation."
   ]
  },
  {
   "cell_type": "code",
   "execution_count": 8,
   "id": "blessed-albert",
   "metadata": {
    "ExecuteTime": {
     "end_time": "2022-05-17T10:46:12.376240Z",
     "start_time": "2022-05-17T10:46:12.373164Z"
    }
   },
   "outputs": [
    {
     "data": {
      "text/plain": [
       "'John Doe'"
      ]
     },
     "execution_count": 8,
     "metadata": {},
     "output_type": "execute_result"
    }
   ],
   "source": [
    "user2.name"
   ]
  },
  {
   "cell_type": "code",
   "execution_count": 9,
   "id": "strategic-mixture",
   "metadata": {
    "ExecuteTime": {
     "end_time": "2022-05-17T10:46:12.380720Z",
     "start_time": "2022-05-17T10:46:12.377581Z"
    }
   },
   "outputs": [
    {
     "data": {
      "text/plain": [
       "('john@doe.com', 'john')"
      ]
     },
     "execution_count": 9,
     "metadata": {},
     "output_type": "execute_result"
    }
   ],
   "source": [
    "user2.email, user2.username"
   ]
  },
  {
   "cell_type": "markdown",
   "id": "international-arrow",
   "metadata": {},
   "source": [
    "You can also define custom methods inside a class."
   ]
  },
  {
   "cell_type": "code",
   "execution_count": 10,
   "id": "trying-listening",
   "metadata": {
    "ExecuteTime": {
     "end_time": "2022-05-17T10:46:12.384460Z",
     "start_time": "2022-05-17T10:46:12.381837Z"
    }
   },
   "outputs": [],
   "source": [
    "class User:\n",
    "    def __init__(self, username, name, email):\n",
    "        self.username = username\n",
    "        self.name = name\n",
    "        self.email = email\n",
    "    \n",
    "    def introduce_yourself(self, guest_name):\n",
    "        print(\"Hi {}, I'm {}! Contact me at {} .\".format(guest_name, self.name, self.email))"
   ]
  },
  {
   "cell_type": "code",
   "execution_count": 11,
   "id": "previous-nicaragua",
   "metadata": {
    "ExecuteTime": {
     "end_time": "2022-05-17T10:46:12.389631Z",
     "start_time": "2022-05-17T10:46:12.387319Z"
    }
   },
   "outputs": [],
   "source": [
    "user3 = User('jane', 'Jane Doe', 'jane@doe.com')"
   ]
  },
  {
   "cell_type": "code",
   "execution_count": 12,
   "id": "negative-tunisia",
   "metadata": {
    "ExecuteTime": {
     "end_time": "2022-05-17T10:46:12.393153Z",
     "start_time": "2022-05-17T10:46:12.390848Z"
    }
   },
   "outputs": [
    {
     "name": "stdout",
     "output_type": "stream",
     "text": [
      "Hi David, I'm Jane Doe! Contact me at jane@doe.com .\n"
     ]
    }
   ],
   "source": [
    "user3.introduce_yourself('David')"
   ]
  },
  {
   "cell_type": "markdown",
   "id": "rental-power",
   "metadata": {},
   "source": [
    "When we try to invoke the method `user3.introduce_yourself`, the object `user3` is automatically passed as the first argument `self`. Indeed, the following statement is equivalent to the above statement."
   ]
  },
  {
   "cell_type": "code",
   "execution_count": 13,
   "id": "apparent-spring",
   "metadata": {
    "ExecuteTime": {
     "end_time": "2022-05-17T10:46:12.396690Z",
     "start_time": "2022-05-17T10:46:12.394435Z"
    }
   },
   "outputs": [
    {
     "name": "stdout",
     "output_type": "stream",
     "text": [
      "Hi David, I'm Jane Doe! Contact me at jane@doe.com .\n"
     ]
    }
   ],
   "source": [
    "User.introduce_yourself(user3, 'David')"
   ]
  },
  {
   "cell_type": "markdown",
   "id": "veterinary-sustainability",
   "metadata": {},
   "source": [
    "Finally, we'll define a couple of helper methods to display user objects nicely within Jupyter."
   ]
  },
  {
   "cell_type": "code",
   "execution_count": 14,
   "id": "regular-equivalent",
   "metadata": {
    "ExecuteTime": {
     "end_time": "2022-05-17T10:46:12.401190Z",
     "start_time": "2022-05-17T10:46:12.397828Z"
    }
   },
   "outputs": [],
   "source": [
    "class User:\n",
    "    def __init__(self, username, name, email):\n",
    "        self.username = username\n",
    "        self.name = name\n",
    "        self.email = email\n",
    "        \n",
    "    def __repr__(self):\n",
    "        return \"User(username='{}', name='{}', email='{}')\".format(self.username, self.name, self.email)\n",
    "    \n",
    "    def __str__(self):\n",
    "        return self.__repr__()"
   ]
  },
  {
   "cell_type": "code",
   "execution_count": 15,
   "id": "bright-vegetation",
   "metadata": {
    "ExecuteTime": {
     "end_time": "2022-05-17T10:46:12.403970Z",
     "start_time": "2022-05-17T10:46:12.402231Z"
    }
   },
   "outputs": [],
   "source": [
    "user4 = User('jane', 'Jane Doe', 'jane@doe.com')"
   ]
  },
  {
   "cell_type": "code",
   "execution_count": 16,
   "id": "controlling-vehicle",
   "metadata": {
    "ExecuteTime": {
     "end_time": "2022-05-17T10:46:12.407619Z",
     "start_time": "2022-05-17T10:46:12.404994Z"
    }
   },
   "outputs": [
    {
     "data": {
      "text/plain": [
       "User(username='jane', name='Jane Doe', email='jane@doe.com')"
      ]
     },
     "execution_count": 16,
     "metadata": {},
     "output_type": "execute_result"
    }
   ],
   "source": [
    "user4"
   ]
  },
  {
   "cell_type": "markdown",
   "id": "closing-auditor",
   "metadata": {},
   "source": [
    "**Exercise:** What is the purpose of defining the functions `__str__` and `__repr__` within a class? How are the two functions different? Illustrate with some examples using the empty cells below.\n",
    "\n",
    "\n",
    "Learn more about classes in Python here: https://jovian.ai/aakashns/python-classes-and-linked-lists ."
   ]
  },
  {
   "cell_type": "markdown",
   "id": "enclosed-surface",
   "metadata": {},
   "source": [
    "#### Output\n",
    "\n",
    "We can also express our desired data structure as a Python class `UserDatabase` with four methods: `insert`, `find`, `update` and `list_all`. "
   ]
  },
  {
   "cell_type": "code",
   "execution_count": 17,
   "id": "matched-homework",
   "metadata": {
    "ExecuteTime": {
     "end_time": "2022-05-17T10:46:12.411073Z",
     "start_time": "2022-05-17T10:46:12.408747Z"
    }
   },
   "outputs": [],
   "source": [
    "class UserDatabase:\n",
    "    def insert(self, user):\n",
    "        pass\n",
    "    \n",
    "    def find(self, username):\n",
    "        pass\n",
    "    \n",
    "    def update(self, user):\n",
    "        pass\n",
    "        \n",
    "    def list_all(self):\n",
    "        pass"
   ]
  },
  {
   "cell_type": "markdown",
   "id": "temporal-tender",
   "metadata": {},
   "source": [
    "It's good programming practice to list out the signatures of different class functions before we actually implement the class."
   ]
  },
  {
   "cell_type": "markdown",
   "id": "laden-tiger",
   "metadata": {},
   "source": [
    "## 2. Come up with some example inputs & outputs. \n",
    "\n",
    "Let's create some sample user profiles that we can use to test our functions once we implement them."
   ]
  },
  {
   "cell_type": "code",
   "execution_count": 18,
   "id": "appointed-guatemala",
   "metadata": {
    "ExecuteTime": {
     "end_time": "2022-05-17T10:46:12.415074Z",
     "start_time": "2022-05-17T10:46:12.412238Z"
    }
   },
   "outputs": [],
   "source": [
    "aakash = User('aakash', 'Aakash Rai', 'aakash@example.com')\n",
    "biraj = User('biraj', 'Biraj Das', 'biraj@example.com')\n",
    "hemanth = User('hemanth', 'Hemanth Jain', 'hemanth@example.com')\n",
    "jadhesh = User('jadhesh', 'Jadhesh Verma', 'jadhesh@example.com')\n",
    "siddhant = User('siddhant', 'Siddhant Sinha', 'siddhant@example.com')\n",
    "sonaksh = User('sonaksh', 'Sonaksh Kumar', 'sonaksh@example.com')\n",
    "vishal = User('vishal', 'Vishal Goel', 'vishal@example.com')"
   ]
  },
  {
   "cell_type": "code",
   "execution_count": 19,
   "id": "digital-happening",
   "metadata": {
    "ExecuteTime": {
     "end_time": "2022-05-17T10:46:12.418060Z",
     "start_time": "2022-05-17T10:46:12.416098Z"
    }
   },
   "outputs": [],
   "source": [
    "users = [aakash, biraj, hemanth, jadhesh, siddhant, sonaksh, vishal]"
   ]
  },
  {
   "cell_type": "markdown",
   "id": "introductory-prison",
   "metadata": {},
   "source": [
    "We can access different fields within a user profile object using the `.` (dot) notation."
   ]
  },
  {
   "cell_type": "code",
   "execution_count": 20,
   "id": "extreme-judge",
   "metadata": {
    "ExecuteTime": {
     "end_time": "2022-05-17T10:46:12.421693Z",
     "start_time": "2022-05-17T10:46:12.419085Z"
    }
   },
   "outputs": [
    {
     "data": {
      "text/plain": [
       "('biraj', 'biraj@example.com', 'Biraj Das')"
      ]
     },
     "execution_count": 20,
     "metadata": {},
     "output_type": "execute_result"
    }
   ],
   "source": [
    "biraj.username, biraj.email, biraj.name"
   ]
  },
  {
   "cell_type": "markdown",
   "id": "reserved-transition",
   "metadata": {},
   "source": [
    "We can also view a string representation of the object, since defined the `__repr__` and `__str__` methods"
   ]
  },
  {
   "cell_type": "code",
   "execution_count": 21,
   "id": "conceptual-clearing",
   "metadata": {
    "ExecuteTime": {
     "end_time": "2022-05-17T10:46:12.424443Z",
     "start_time": "2022-05-17T10:46:12.422540Z"
    },
    "scrolled": true
   },
   "outputs": [
    {
     "name": "stdout",
     "output_type": "stream",
     "text": [
      "User(username='aakash', name='Aakash Rai', email='aakash@example.com')\n"
     ]
    }
   ],
   "source": [
    "print(aakash)"
   ]
  },
  {
   "cell_type": "code",
   "execution_count": 22,
   "id": "funky-start",
   "metadata": {
    "ExecuteTime": {
     "end_time": "2022-05-17T10:46:12.428007Z",
     "start_time": "2022-05-17T10:46:12.425460Z"
    }
   },
   "outputs": [
    {
     "data": {
      "text/plain": [
       "[User(username='aakash', name='Aakash Rai', email='aakash@example.com'),\n",
       " User(username='biraj', name='Biraj Das', email='biraj@example.com'),\n",
       " User(username='hemanth', name='Hemanth Jain', email='hemanth@example.com'),\n",
       " User(username='jadhesh', name='Jadhesh Verma', email='jadhesh@example.com'),\n",
       " User(username='siddhant', name='Siddhant Sinha', email='siddhant@example.com'),\n",
       " User(username='sonaksh', name='Sonaksh Kumar', email='sonaksh@example.com'),\n",
       " User(username='vishal', name='Vishal Goel', email='vishal@example.com')]"
      ]
     },
     "execution_count": 22,
     "metadata": {},
     "output_type": "execute_result"
    }
   ],
   "source": [
    "users"
   ]
  },
  {
   "cell_type": "markdown",
   "id": "broken-methodology",
   "metadata": {},
   "source": [
    "Since we haven't implemented our data structure yet, it's not possible to list sample outputs. However you can try to come up with different scenarios to test future implementations\n",
    "\n",
    "**Exercise:** List some scenarios for testing the class methods `insert`, `find`, `update` and `list_all`.\n",
    "\n",
    "1. Insert:\n",
    "    1. Inserting into an empty database of users\n",
    "    2. Trying to insert a user with a username that already exists\n",
    "    3. Inserting a user with a username that does not exist\n",
    "    4. ???\n",
    "\n",
    "2. Find:\n",
    "    1. ???\n",
    "    2. ???\n",
    "    3. ???\n",
    "\n",
    "3. Update:\n",
    "    1. ???\n",
    "    2. ???\n",
    "    3. ???\n",
    "\n",
    "4. List:\n",
    "    1. ???\n",
    "    2. ???\n",
    "    3. ???\n",
    "\n",
    "\n"
   ]
  },
  {
   "cell_type": "markdown",
   "id": "nuclear-infrared",
   "metadata": {},
   "source": [
    "## 3. Come up with a correct solution. State it in plain English.\n",
    "\n",
    "Here's a simple and easy solution to the problem: we store the `User` objects in a list sorted by usernames. \n",
    "\n",
    "The various functions can be implemented as follows:\n",
    "\n",
    "1. **Insert**: Loop through the list and add the new user at a position that keeps the list sorted.\n",
    "2. **Find**: Loop through the list and find the user object with the username matching the query.\n",
    "3. **Update**: Loop through the list, find the user object matching the query and update the details\n",
    "4. **List**: Return the list of user objects.\n",
    "\n",
    "We can use the fact usernames, which are are strings can be compared using the `<`, `>` and `==` operators in Python."
   ]
  },
  {
   "cell_type": "code",
   "execution_count": 23,
   "id": "fifth-polymer",
   "metadata": {
    "ExecuteTime": {
     "end_time": "2022-05-17T10:46:12.431355Z",
     "start_time": "2022-05-17T10:46:12.429089Z"
    }
   },
   "outputs": [
    {
     "data": {
      "text/plain": [
       "True"
      ]
     },
     "execution_count": 23,
     "metadata": {},
     "output_type": "execute_result"
    }
   ],
   "source": [
    "'biraj' < 'hemanth'"
   ]
  },
  {
   "cell_type": "markdown",
   "id": "computational-affairs",
   "metadata": {},
   "source": [
    "## 4. Implement the solution and test it using example inputs.\n",
    "\n",
    "The code for implementing the above solution is also fairly straightfoward."
   ]
  },
  {
   "cell_type": "code",
   "execution_count": 24,
   "id": "a07161e4",
   "metadata": {
    "ExecuteTime": {
     "end_time": "2022-05-17T10:46:12.436935Z",
     "start_time": "2022-05-17T10:46:12.432311Z"
    }
   },
   "outputs": [],
   "source": [
    "from typing import Type\n",
    "\n",
    "class UserDatabase:\n",
    "    def __init__(self):\n",
    "        # initialize the list needed to insert users\n",
    "        self.users = []\n",
    "\n",
    "    def insert(self, user:Type[User]):\n",
    "        if self._find(user) != None:\n",
    "            # do nothing if the user is already in the database\n",
    "            pass\n",
    "        else:\n",
    "            # what is python implementation of append in list?\n",
    "            self.users.append(user)\n",
    "            \n",
    "    def find(self, username):\n",
    "        _, user_found = self._find(username)\n",
    "        return user_found\n",
    "\n",
    "    def update(self, user):\n",
    "        '''\n",
    "        If does not exist in the database, then insert it\n",
    "        '''\n",
    "        username = user.username\n",
    "        \n",
    "        index, _ = self._find(username)\n",
    "        if index == None:\n",
    "            # did not find the user\n",
    "            self.users.append(user)\n",
    "        elif index != None:\n",
    "            # if already exists in database, we must updated it\n",
    "            self.users[index].name = user.name\n",
    "            self.users[index].email = user.email\n",
    "\n",
    "    def list_all(self): \n",
    "        return self.users\n",
    "    \n",
    "    def _find(self, username):\n",
    "        # return the user object from specific username\n",
    "        # linear search implementation\n",
    "        # binary search requires ordered array\n",
    "        for index, current_user in enumerate(self.users):\n",
    "            if username == current_user.username:\n",
    "                return index, current_user"
   ]
  },
  {
   "cell_type": "code",
   "execution_count": 25,
   "id": "58f329d6",
   "metadata": {
    "ExecuteTime": {
     "end_time": "2022-05-17T10:46:12.442309Z",
     "start_time": "2022-05-17T10:46:12.440750Z"
    }
   },
   "outputs": [],
   "source": [
    "user_database = UserDatabase()"
   ]
  },
  {
   "cell_type": "code",
   "execution_count": 26,
   "id": "aaae5e84",
   "metadata": {
    "ExecuteTime": {
     "end_time": "2022-05-17T10:46:12.444985Z",
     "start_time": "2022-05-17T10:46:12.443214Z"
    }
   },
   "outputs": [],
   "source": [
    "user_database.insert(users[0])"
   ]
  },
  {
   "cell_type": "code",
   "execution_count": 27,
   "id": "2928afb0",
   "metadata": {
    "ExecuteTime": {
     "end_time": "2022-05-17T10:46:12.447499Z",
     "start_time": "2022-05-17T10:46:12.445868Z"
    }
   },
   "outputs": [],
   "source": [
    "user_database.insert(users[1])"
   ]
  },
  {
   "cell_type": "code",
   "execution_count": 28,
   "id": "5a351614",
   "metadata": {
    "ExecuteTime": {
     "end_time": "2022-05-17T10:46:12.450846Z",
     "start_time": "2022-05-17T10:46:12.448428Z"
    }
   },
   "outputs": [
    {
     "data": {
      "text/plain": [
       "[User(username='aakash', name='Aakash Rai', email='aakash@example.com'),\n",
       " User(username='biraj', name='Biraj Das', email='biraj@example.com')]"
      ]
     },
     "execution_count": 28,
     "metadata": {},
     "output_type": "execute_result"
    }
   ],
   "source": [
    "user_database.list_all()"
   ]
  },
  {
   "cell_type": "code",
   "execution_count": 29,
   "id": "5553bff4",
   "metadata": {
    "ExecuteTime": {
     "end_time": "2022-05-17T10:46:12.454043Z",
     "start_time": "2022-05-17T10:46:12.451805Z"
    }
   },
   "outputs": [
    {
     "data": {
      "text/plain": [
       "User(username='aakash', name='Aakash Rai', email='aakash@example.com')"
      ]
     },
     "execution_count": 29,
     "metadata": {},
     "output_type": "execute_result"
    }
   ],
   "source": [
    "user_database.find('aakash')"
   ]
  },
  {
   "cell_type": "code",
   "execution_count": 30,
   "id": "5d4c9f81",
   "metadata": {
    "ExecuteTime": {
     "end_time": "2022-05-17T10:46:12.457190Z",
     "start_time": "2022-05-17T10:46:12.455014Z"
    }
   },
   "outputs": [
    {
     "data": {
      "text/plain": [
       "User(username='aakash', name='Aakash Rai', email='aakash@example.com')"
      ]
     },
     "execution_count": 30,
     "metadata": {},
     "output_type": "execute_result"
    }
   ],
   "source": [
    "users[0]"
   ]
  },
  {
   "cell_type": "code",
   "execution_count": 31,
   "id": "87eeeaea",
   "metadata": {
    "ExecuteTime": {
     "end_time": "2022-05-17T10:46:12.459779Z",
     "start_time": "2022-05-17T10:46:12.458104Z"
    }
   },
   "outputs": [],
   "source": [
    "user_to_update = User(username = 'aakash', name = 'Aakash Bangladesh', email = 'aakash@gmail.com')"
   ]
  },
  {
   "cell_type": "code",
   "execution_count": 32,
   "id": "ff918100",
   "metadata": {
    "ExecuteTime": {
     "end_time": "2022-05-17T10:46:12.462530Z",
     "start_time": "2022-05-17T10:46:12.460721Z"
    }
   },
   "outputs": [],
   "source": [
    "user_database.update(user_to_update)"
   ]
  },
  {
   "cell_type": "code",
   "execution_count": 33,
   "id": "e71f446b",
   "metadata": {
    "ExecuteTime": {
     "end_time": "2022-05-17T10:46:12.465799Z",
     "start_time": "2022-05-17T10:46:12.463513Z"
    }
   },
   "outputs": [
    {
     "data": {
      "text/plain": [
       "[User(username='aakash', name='Aakash Bangladesh', email='aakash@gmail.com'),\n",
       " User(username='biraj', name='Biraj Das', email='biraj@example.com')]"
      ]
     },
     "execution_count": 33,
     "metadata": {},
     "output_type": "execute_result"
    }
   ],
   "source": [
    "user_database.list_all()"
   ]
  },
  {
   "cell_type": "markdown",
   "id": "f9c92403",
   "metadata": {},
   "source": [
    "### Professor implementation"
   ]
  },
  {
   "cell_type": "code",
   "execution_count": 34,
   "id": "detailed-technician",
   "metadata": {
    "ExecuteTime": {
     "end_time": "2022-05-17T10:46:12.470539Z",
     "start_time": "2022-05-17T10:46:12.466791Z"
    }
   },
   "outputs": [],
   "source": [
    "class UserDatabase:\n",
    "    def __init__(self):\n",
    "        self.users = []\n",
    "    \n",
    "    def insert(self, user):\n",
    "        i = 0\n",
    "        while i < len(self.users):\n",
    "            # Find the first username greater than the new user's username\n",
    "            if self.users[i].username > user.username:\n",
    "                break\n",
    "            i += 1\n",
    "        self.users.insert(i, user)\n",
    "    \n",
    "    def find(self, username):\n",
    "        for user in self.users:\n",
    "            if user.username == username:\n",
    "                return user\n",
    "    \n",
    "    def update(self, user):\n",
    "        target = self.find(user.username)\n",
    "        target.name, target.email = user.name, user.email\n",
    "        \n",
    "    def list_all(self):\n",
    "        return self.users"
   ]
  },
  {
   "cell_type": "markdown",
   "id": "rational-retrieval",
   "metadata": {},
   "source": [
    "We can create a new database of users by _instantiating_ and object of the `UserDatabase` class."
   ]
  },
  {
   "cell_type": "code",
   "execution_count": 35,
   "id": "useful-sperm",
   "metadata": {
    "ExecuteTime": {
     "end_time": "2022-05-17T10:46:12.473100Z",
     "start_time": "2022-05-17T10:46:12.471633Z"
    }
   },
   "outputs": [],
   "source": [
    "database = UserDatabase()"
   ]
  },
  {
   "cell_type": "markdown",
   "id": "enabling-billion",
   "metadata": {},
   "source": [
    "Let's insert some entires into the object."
   ]
  },
  {
   "cell_type": "code",
   "execution_count": 36,
   "id": "regular-relevance",
   "metadata": {
    "ExecuteTime": {
     "end_time": "2022-05-17T10:46:12.475697Z",
     "start_time": "2022-05-17T10:46:12.473957Z"
    }
   },
   "outputs": [],
   "source": [
    "database.insert(hemanth)\n",
    "database.insert(aakash)\n",
    "database.insert(siddhant)"
   ]
  },
  {
   "cell_type": "markdown",
   "id": "entire-professional",
   "metadata": {},
   "source": [
    "We can now retrieve the data for a user, given their username."
   ]
  },
  {
   "cell_type": "code",
   "execution_count": 37,
   "id": "incoming-session",
   "metadata": {
    "ExecuteTime": {
     "end_time": "2022-05-17T10:46:12.478943Z",
     "start_time": "2022-05-17T10:46:12.476650Z"
    }
   },
   "outputs": [
    {
     "data": {
      "text/plain": [
       "User(username='siddhant', name='Siddhant Sinha', email='siddhant@example.com')"
      ]
     },
     "execution_count": 37,
     "metadata": {},
     "output_type": "execute_result"
    }
   ],
   "source": [
    "user = database.find('siddhant')\n",
    "user"
   ]
  },
  {
   "cell_type": "markdown",
   "id": "lesbian-location",
   "metadata": {},
   "source": [
    "Let's try changing the information for a user"
   ]
  },
  {
   "cell_type": "code",
   "execution_count": 38,
   "id": "wanted-colonial",
   "metadata": {
    "ExecuteTime": {
     "end_time": "2022-05-17T10:46:12.481733Z",
     "start_time": "2022-05-17T10:46:12.479787Z"
    }
   },
   "outputs": [],
   "source": [
    "database.update(User(username='siddhant', name='Siddhant U', email='siddhantu@example.com'))"
   ]
  },
  {
   "cell_type": "code",
   "execution_count": 39,
   "id": "starting-hurricane",
   "metadata": {
    "ExecuteTime": {
     "end_time": "2022-05-17T10:46:12.484989Z",
     "start_time": "2022-05-17T10:46:12.482746Z"
    }
   },
   "outputs": [
    {
     "data": {
      "text/plain": [
       "User(username='siddhant', name='Siddhant U', email='siddhantu@example.com')"
      ]
     },
     "execution_count": 39,
     "metadata": {},
     "output_type": "execute_result"
    }
   ],
   "source": [
    "user = database.find('siddhant')\n",
    "user"
   ]
  },
  {
   "cell_type": "markdown",
   "id": "minor-accident",
   "metadata": {},
   "source": [
    "Finally, we can retrieve a list of users in alphabetical order."
   ]
  },
  {
   "cell_type": "code",
   "execution_count": 40,
   "id": "approved-square",
   "metadata": {
    "ExecuteTime": {
     "end_time": "2022-05-17T10:46:12.488243Z",
     "start_time": "2022-05-17T10:46:12.485933Z"
    }
   },
   "outputs": [
    {
     "data": {
      "text/plain": [
       "[User(username='aakash', name='Aakash Bangladesh', email='aakash@gmail.com'),\n",
       " User(username='hemanth', name='Hemanth Jain', email='hemanth@example.com'),\n",
       " User(username='siddhant', name='Siddhant U', email='siddhantu@example.com')]"
      ]
     },
     "execution_count": 40,
     "metadata": {},
     "output_type": "execute_result"
    }
   ],
   "source": [
    "database.list_all()"
   ]
  },
  {
   "cell_type": "markdown",
   "id": "together-basketball",
   "metadata": {},
   "source": [
    "Let's verify that a new user is inserted into the correct position."
   ]
  },
  {
   "cell_type": "code",
   "execution_count": 41,
   "id": "advised-hungarian",
   "metadata": {
    "ExecuteTime": {
     "end_time": "2022-05-17T10:46:12.490774Z",
     "start_time": "2022-05-17T10:46:12.489216Z"
    }
   },
   "outputs": [],
   "source": [
    "database.insert(biraj)"
   ]
  },
  {
   "cell_type": "code",
   "execution_count": 42,
   "id": "radio-smell",
   "metadata": {
    "ExecuteTime": {
     "end_time": "2022-05-17T10:46:12.494108Z",
     "start_time": "2022-05-17T10:46:12.491692Z"
    }
   },
   "outputs": [
    {
     "data": {
      "text/plain": [
       "[User(username='aakash', name='Aakash Bangladesh', email='aakash@gmail.com'),\n",
       " User(username='biraj', name='Biraj Das', email='biraj@example.com'),\n",
       " User(username='hemanth', name='Hemanth Jain', email='hemanth@example.com'),\n",
       " User(username='siddhant', name='Siddhant U', email='siddhantu@example.com')]"
      ]
     },
     "execution_count": 42,
     "metadata": {},
     "output_type": "execute_result"
    }
   ],
   "source": [
    "database.list_all()"
   ]
  },
  {
   "cell_type": "markdown",
   "id": "comfortable-satisfaction",
   "metadata": {},
   "source": [
    "The user `biraj` was inserted just before `hemanth`, as expected.\n",
    "\n",
    "**Exercise:** Use the empty cells below to test the various scenarios you listed in step 2 above."
   ]
  },
  {
   "cell_type": "markdown",
   "id": "dangerous-venezuela",
   "metadata": {},
   "source": [
    "## 5. Analyze the algorithm's complexity and identify inefficiencies\n",
    "\n",
    "The operations `insert`, `find`, `update` involves iterating over a list of users, in the worst case, they may take up to `N` iterations to return a result, where `N` is the total number of users. `list_all` however, simply returns the existing internal list of users. \n",
    "\n",
    "Thus, the time complexities of the various operations are:\n",
    "\n",
    "1. Insert: **O(N)**\n",
    "2. Find: **O(N)**\n",
    "3. Update: **O(N)**\n",
    "4. List: **O(1)**\n",
    "\n",
    "**Exercise:** Verify that the space complexity of each operation is **O(1)**.\n",
    "\n",
    "Is this good enough? To get a sense how long each function might take if there are 100 million users on the platform, we can simply run an `for` or `while` loop on 10 million numbers."
   ]
  },
  {
   "cell_type": "code",
   "execution_count": 43,
   "id": "healthy-blade",
   "metadata": {
    "ExecuteTime": {
     "end_time": "2022-05-17T10:46:20.660650Z",
     "start_time": "2022-05-17T10:46:12.495140Z"
    }
   },
   "outputs": [
    {
     "name": "stdout",
     "output_type": "stream",
     "text": [
      "CPU times: user 8.12 s, sys: 25.4 ms, total: 8.15 s\n",
      "Wall time: 8.16 s\n"
     ]
    }
   ],
   "source": [
    "%%time\n",
    "for i in range(100000000):\n",
    "    j = i*i"
   ]
  },
  {
   "cell_type": "markdown",
   "id": "endangered-centre",
   "metadata": {},
   "source": [
    "It takes almost 10 seconds to execute all the iterations in the above cell. \n",
    "\n",
    "* A 10-second delay for fetching user profiles will lead to a suboptimal users experience and may cause many users to stop using the platform altogether. \n",
    "* The 10-second processing time for each profile request will also significantly limit the number of users that can access the platform at a time or increase the cloud infrastructure costs for the company by millions of dollars.\n",
    "\n",
    "As a senior backend engineer, you must come up with a more efficient data structure! Choosing the right data structure for the requirements at hand is an important skill. It's apparent that a sorted list of users might not be the best data structure to organize profile information for millions of users. "
   ]
  },
  {
   "cell_type": "markdown",
   "id": "popular-launch",
   "metadata": {},
   "source": [
    "### Save and upload your work to Jovian\n",
    "\n",
    "Whether you're running this Jupyter notebook online or on your computer, it's essential to save your work from time to time. You can continue working on a saved notebook later or share it with friends and colleagues to let them execute your code. [Jovian](https://jovian.ai/platform-features) offers an easy way of saving and sharing your Jupyter notebooks online."
   ]
  },
  {
   "cell_type": "code",
   "execution_count": 44,
   "id": "interpreted-engine",
   "metadata": {
    "ExecuteTime": {
     "end_time": "2022-05-17T10:46:20.663396Z",
     "start_time": "2022-05-17T10:46:20.661731Z"
    }
   },
   "outputs": [],
   "source": [
    "# !pip install jovian --upgrade --quiet"
   ]
  },
  {
   "cell_type": "code",
   "execution_count": 45,
   "id": "concrete-groove",
   "metadata": {
    "ExecuteTime": {
     "end_time": "2022-05-17T10:46:20.666026Z",
     "start_time": "2022-05-17T10:46:20.664155Z"
    }
   },
   "outputs": [],
   "source": [
    "import jovian"
   ]
  },
  {
   "cell_type": "code",
   "execution_count": 46,
   "id": "spread-agriculture",
   "metadata": {
    "ExecuteTime": {
     "end_time": "2022-05-17T10:46:24.126473Z",
     "start_time": "2022-05-17T10:46:20.666852Z"
    }
   },
   "outputs": [
    {
     "data": {
      "application/javascript": [
       "window.require && require([\"base/js/namespace\"],function(Jupyter){Jupyter.notebook.save_checkpoint()})"
      ],
      "text/plain": [
       "<IPython.core.display.Javascript object>"
      ]
     },
     "metadata": {},
     "output_type": "display_data"
    },
    {
     "name": "stdout",
     "output_type": "stream",
     "text": [
      "[jovian] Updating notebook \"vitorpbarbosa7/python-binary-search-trees\" on https://jovian.ai/\u001b[0m\n",
      "[jovian] Committed successfully! https://jovian.ai/vitorpbarbosa7/python-binary-search-trees\u001b[0m\n"
     ]
    },
    {
     "data": {
      "text/plain": [
       "'https://jovian.ai/vitorpbarbosa7/python-binary-search-trees'"
      ]
     },
     "execution_count": 46,
     "metadata": {},
     "output_type": "execute_result"
    }
   ],
   "source": [
    "jovian.commit(project='python-binary-search-trees')"
   ]
  },
  {
   "cell_type": "markdown",
   "id": "bright-nothing",
   "metadata": {},
   "source": [
    "## 6. Apply the right technique to overcome the inefficiency\n",
    "\n",
    "We can limit the number of iterations required for common operations like find, insert and update by organizing our data in the following structure, called a **binary tree**:\n",
    "\n",
    "<img src=\"https://i.imgur.com/lVqP63n.png\" width=\"520\">\n",
    "\n",
    "\n",
    "\n",
    "It's called a tree because it vaguely like an inverted tree trunk with branches. \n",
    "* The word \"binary\" indicates that each \"node\" in the tree can have at most 2 children (left or right). \n",
    "* Nodes can have 0, 1 or 2 children. Nodes that do not have any children are sometimes also called \"leaves\".\n",
    "* The single node at the top is called the \"root\" node, and it typically where operations like search, insertion etc. begin.\n",
    "\n",
    "<img src=\"https://i.imgur.com/TZHMKJr.png\" width=\"400\">\n"
   ]
  },
  {
   "cell_type": "markdown",
   "id": "useful-blade",
   "metadata": {},
   "source": [
    "## Balanced Binary Search Trees\n",
    "\n",
    "<img src=\"https://i.imgur.com/Mqef5b3.png\" width=\"520\">\n",
    "\n",
    "For our use case, we require the binary tree to have some additional properties:\n",
    "\n",
    "1. **Keys and Values**: Each node of the tree stores a key (a username) and a value (a `User` object). Only keys are shown in the picture above for brevity. A binary tree where nodes have both a key and a value is often referred to as a **map** or **treemap** (because it maps keys to values).\n",
    "2. **Binary Search Tree**: The *left subtree* of any node only contains nodes with keys that are lexicographically smaller than the node's key, and the *right subtree* of any node only contains nodes with keys that lexicographically larger than the node's key. A tree that satisfies this property is called a **binary search trees**, and it's easy to locate a specific key by traversing a single path down from the root note.\n",
    "3. **Balanced Tree**: The tree is **balanced** i.e. it does not skew too heavily to one side or the other. The left and right subtrees of any node shouldn't differ in height/depth by more than 1 level.\n",
    "\n",
    "\n",
    "### Height of a Binary Tree\n",
    "\n",
    "The number of levels in a tree is called its height. As you can tell from the picture above, each level of a tree contains twice as many nodes as the previous level. \n",
    "\n",
    "For a tree of height `k`, here's a list of the number of nodes at each level:\n",
    "\n",
    "Level 0: `1`\n",
    "\n",
    "Level 1: `2`\n",
    "\n",
    "Level 2: `4` i.e. `2^2`\n",
    "\n",
    "Level 3: `8` i.e. `2^3`\n",
    "\n",
    "...\n",
    "\n",
    "Level k-1: `2^(k-1)`\n",
    "\n",
    "If the total number of nodes in the tree is `N`, then it follows that\n",
    "\n",
    "```\n",
    "N = 1 + 2^1 + 2^2 + 2^3 + ... + 2^(k-1)\n",
    "```\n",
    "\n",
    "\n",
    "We can simplify this equation by adding `1` on each side:\n",
    "\n",
    "```\n",
    "N + 1 = 1 + 1 + 2^1 + 2^2 + 2^3 + ... + 2^(k-1) \n",
    "\n",
    "N + 1 = 2^1 + 2^1 + 2^2+ 2^3 + ... + 2^(k-1) \n",
    "\n",
    "N + 1 = = 2^2 + 2^2 + 2^3 + ... + 2^(k-1)\n",
    "\n",
    "N + 1 = = 2^3 + 2^3 + ... + 2^(k-1)\n",
    "\n",
    "...\n",
    "\n",
    "N + 1 = 2^(k-1) + 2^(k-1)\n",
    "\n",
    "N + 1 = 2^k\n",
    "\n",
    "k = log(N + 1) <= log(N) + 1 \n",
    "\n",
    "```\n",
    "\n",
    "Thus, to store `N` records we require a balanced binary search tree (BST) of height no larger than `log(N) + 1`. This is a very useful property, in combination with the fact that nodes are arranged in a way that makes it easy to find a specific key by following a single path down from the root. \n",
    "\n",
    "As we'll see soon, the `insert`, `find` and `update` operations in a balanced BST have time complexity `O(log N)` since they all involve traversing a single path down from the root of the tree."
   ]
  },
  {
   "cell_type": "markdown",
   "id": "fatty-brook",
   "metadata": {},
   "source": [
    "## Binary Tree\n",
    "\n",
    "> **QUESTION 2**: Implement a binary tree using Python, and show its usage with some examples.\n",
    "\n",
    "To begin, we'll create simple binary tree (without any of the additional properties) containing numbers as keys within nodes. Here's an example:\n",
    "\n",
    "<img src=\"https://i.imgur.com/hg2ZG5h.png\" width=\"240\">\n",
    "\n",
    "Here's a simple class representing a node within a binary tree.\n"
   ]
  },
  {
   "cell_type": "code",
   "execution_count": 49,
   "id": "df2314ae",
   "metadata": {
    "ExecuteTime": {
     "end_time": "2022-05-17T10:48:31.920461Z",
     "start_time": "2022-05-17T10:48:31.913172Z"
    }
   },
   "outputs": [],
   "source": [
    "class TreeNode:\n",
    "    def __init__(self, key):\n",
    "        self.key = key\n",
    "        # left child node\n",
    "        self.left = None\n",
    "        # left right node\n",
    "        self.right = None"
   ]
  },
  {
   "cell_type": "code",
   "execution_count": 50,
   "id": "f3419815",
   "metadata": {
    "ExecuteTime": {
     "end_time": "2022-05-17T10:48:33.014576Z",
     "start_time": "2022-05-17T10:48:33.009233Z"
    }
   },
   "outputs": [],
   "source": [
    "node0 = TreeNode(key=3)\n",
    "node1 = TreeNode(key=4)\n",
    "node2 = TreeNode(key=5)"
   ]
  },
  {
   "cell_type": "code",
   "execution_count": 56,
   "id": "9cf03a98",
   "metadata": {
    "ExecuteTime": {
     "end_time": "2022-05-17T10:50:45.653309Z",
     "start_time": "2022-05-17T10:50:45.650090Z"
    }
   },
   "outputs": [],
   "source": [
    "node0.left = node1\n",
    "node0.right = node2"
   ]
  },
  {
   "cell_type": "code",
   "execution_count": 57,
   "id": "30d6119d",
   "metadata": {
    "ExecuteTime": {
     "end_time": "2022-05-17T10:50:45.965373Z",
     "start_time": "2022-05-17T10:50:45.961408Z"
    }
   },
   "outputs": [
    {
     "name": "stdout",
     "output_type": "stream",
     "text": [
      "3 4 5\n"
     ]
    }
   ],
   "source": [
    "print(node0.key, node0.left.key, node0.right.key)"
   ]
  },
  {
   "cell_type": "code",
   "execution_count": 58,
   "id": "5d6b2ed8",
   "metadata": {
    "ExecuteTime": {
     "end_time": "2022-05-17T10:51:10.819259Z",
     "start_time": "2022-05-17T10:51:10.814458Z"
    }
   },
   "outputs": [],
   "source": [
    "tree = node0"
   ]
  },
  {
   "cell_type": "code",
   "execution_count": 59,
   "id": "71e661db",
   "metadata": {
    "ExecuteTime": {
     "end_time": "2022-05-17T10:51:17.971516Z",
     "start_time": "2022-05-17T10:51:17.964709Z"
    }
   },
   "outputs": [
    {
     "data": {
      "text/plain": [
       "3"
      ]
     },
     "execution_count": 59,
     "metadata": {},
     "output_type": "execute_result"
    }
   ],
   "source": [
    "tree.key"
   ]
  },
  {
   "cell_type": "code",
   "execution_count": 60,
   "id": "f1b0297d",
   "metadata": {
    "ExecuteTime": {
     "end_time": "2022-05-17T10:51:22.239121Z",
     "start_time": "2022-05-17T10:51:22.232580Z"
    }
   },
   "outputs": [
    {
     "data": {
      "text/plain": [
       "4"
      ]
     },
     "execution_count": 60,
     "metadata": {},
     "output_type": "execute_result"
    }
   ],
   "source": [
    "tree.left.key"
   ]
  },
  {
   "cell_type": "code",
   "execution_count": 61,
   "id": "59a07449",
   "metadata": {
    "ExecuteTime": {
     "end_time": "2022-05-17T10:51:28.084166Z",
     "start_time": "2022-05-17T10:51:28.078014Z"
    }
   },
   "outputs": [
    {
     "data": {
      "text/plain": [
       "5"
      ]
     },
     "execution_count": 61,
     "metadata": {},
     "output_type": "execute_result"
    }
   ],
   "source": [
    "tree.right.key"
   ]
  },
  {
   "cell_type": "markdown",
   "id": "criminal-leeds",
   "metadata": {},
   "source": [
    "Going forward, we'll use the term \"tree\" to refer to the root node. The term \"node\" can refer to any node in a tree, not necessarily the root.\n",
    "\n",
    "**Exercise:** Create the following binary tree using the `TreeNode` class defined above.\n",
    "\n",
    "<img src=\"https://i.imgur.com/d7djJAf.png\" width=\"540\">"
   ]
  },
  {
   "cell_type": "code",
   "execution_count": 62,
   "id": "ccf02e86",
   "metadata": {
    "ExecuteTime": {
     "end_time": "2022-05-17T10:55:40.164886Z",
     "start_time": "2022-05-17T10:55:40.158799Z"
    }
   },
   "outputs": [],
   "source": [
    "class Node:\n",
    "    def __init__(self,key):\n",
    "        self.key = key\n",
    "        self.left = None\n",
    "        self.right = None"
   ]
  },
  {
   "cell_type": "markdown",
   "id": "94e0f994",
   "metadata": {},
   "source": [
    "- Creating object nodes"
   ]
  },
  {
   "cell_type": "code",
   "execution_count": 63,
   "id": "8a3ffe8e",
   "metadata": {
    "ExecuteTime": {
     "end_time": "2022-05-17T10:57:32.774323Z",
     "start_time": "2022-05-17T10:57:32.769217Z"
    }
   },
   "outputs": [],
   "source": [
    "root_node = Node(2)\n",
    "node_a = Node(3)\n",
    "node_b = Node(1)\n",
    "node_c = Node(5)\n",
    "node_d = Node(3)\n",
    "node_e = Node(4)\n",
    "node_f = Node(7)\n",
    "node_g = Node(6)\n",
    "node_h = Node(8)"
   ]
  },
  {
   "cell_type": "code",
   "execution_count": 64,
   "id": "2e9d1224",
   "metadata": {
    "ExecuteTime": {
     "end_time": "2022-05-17T10:58:11.817733Z",
     "start_time": "2022-05-17T10:58:11.812691Z"
    }
   },
   "outputs": [],
   "source": [
    "root_node.left = node_a\n",
    "root_node.right = node_c"
   ]
  },
  {
   "cell_type": "code",
   "execution_count": 65,
   "id": "ccac9976",
   "metadata": {
    "ExecuteTime": {
     "end_time": "2022-05-17T10:58:24.780927Z",
     "start_time": "2022-05-17T10:58:24.775639Z"
    }
   },
   "outputs": [],
   "source": [
    "node_a.left = node_b"
   ]
  },
  {
   "cell_type": "code",
   "execution_count": 66,
   "id": "1df74e71",
   "metadata": {
    "ExecuteTime": {
     "end_time": "2022-05-17T10:58:42.805243Z",
     "start_time": "2022-05-17T10:58:42.801530Z"
    }
   },
   "outputs": [],
   "source": [
    "node_c.left = node_d\n",
    "node_c.right = node_f"
   ]
  },
  {
   "cell_type": "code",
   "execution_count": 67,
   "id": "080330a4",
   "metadata": {
    "ExecuteTime": {
     "end_time": "2022-05-17T10:59:04.143261Z",
     "start_time": "2022-05-17T10:59:04.138296Z"
    }
   },
   "outputs": [],
   "source": [
    "node_d.right = node_e"
   ]
  },
  {
   "cell_type": "code",
   "execution_count": 68,
   "id": "7e60cdc8",
   "metadata": {
    "ExecuteTime": {
     "end_time": "2022-05-17T10:59:28.520765Z",
     "start_time": "2022-05-17T10:59:28.515471Z"
    }
   },
   "outputs": [],
   "source": [
    "node_f.left = node_g\n",
    "node_f.right = node_h"
   ]
  },
  {
   "cell_type": "markdown",
   "id": "1149570e",
   "metadata": {},
   "source": [
    "Going forward, we'll use the term \"tree\" to refer to the root node. The term \"node\" can refer to any node in a tree, not necessarily the root.\n",
    "\n",
    "**Exercise:** Create the following binary tree using the `TreeNode` class defined above.\n",
    "\n",
    "<img src=\"https://i.imgur.com/d7djJAf.png\" width=\"540\">"
   ]
  },
  {
   "cell_type": "markdown",
   "id": "crucial-bacon",
   "metadata": {},
   "source": [
    "It's a bit inconvenient to create a tree by manually connecting all the nodes. Let's write a helper function which can convert a tuple with the structure `( left_subtree, key, right_subtree)` (where `left_subtree` and `right_subtree` are themselves tuples) into binary tree.\n",
    "\n",
    "Here's an tuple representing the tree shown above:"
   ]
  },
  {
   "cell_type": "code",
   "execution_count": 87,
   "id": "ae5f3621",
   "metadata": {
    "ExecuteTime": {
     "end_time": "2022-05-17T11:14:44.270096Z",
     "start_time": "2022-05-17T11:14:44.266394Z"
    }
   },
   "outputs": [],
   "source": [
    "_tuple = (1,2,3)"
   ]
  },
  {
   "cell_type": "code",
   "execution_count": 222,
   "id": "2de7451a",
   "metadata": {
    "ExecuteTime": {
     "end_time": "2022-05-17T12:06:06.977663Z",
     "start_time": "2022-05-17T12:06:06.970801Z"
    }
   },
   "outputs": [],
   "source": [
    "class TreeNode:\n",
    "    def __init__(self, key):\n",
    "        self.key = key\n",
    "        # left child node\n",
    "        self.left = None\n",
    "        # left right node\n",
    "        self.right = None\n",
    "        \n",
    "    def __str__(self):\n",
    "        return f'{self.key}'"
   ]
  },
  {
   "cell_type": "code",
   "execution_count": 223,
   "id": "6eae3ceb",
   "metadata": {
    "ExecuteTime": {
     "end_time": "2022-05-17T12:06:07.201489Z",
     "start_time": "2022-05-17T12:06:07.190872Z"
    }
   },
   "outputs": [],
   "source": [
    "def parse_tuple(data:tuple):\n",
    "    \n",
    "    if isinstance(data, tuple) and len(data) == 3:\n",
    "        # if it is a tuple with three elements, it has key value, left node and right node\n",
    "        node = TreeNode(data[1])\n",
    "        \n",
    "        # if left and/or right node are tuples with length tree to continue to parsed, will be determined here\n",
    "        node.left = parse_tuple(data[0])\n",
    "        \n",
    "        node.right = parse_tuple(data[2])\n",
    "        \n",
    "        _str = f'key {node.key} \\n - left node: {node.left} \\n - right node: {node.right}'\n",
    "        print(_str)\n",
    "        \n",
    "    elif data is None:\n",
    "        # it is not a tuple with length 3, can be None, empty\n",
    "        node = None\n",
    "    else:\n",
    "        # data can not be None and nor tuple with length tree, can be only a single value node without\n",
    "        # children\n",
    "        node = TreeNode(data)\n",
    "    return node"
   ]
  },
  {
   "cell_type": "code",
   "execution_count": 224,
   "id": "rising-zealand",
   "metadata": {
    "ExecuteTime": {
     "end_time": "2022-05-17T12:06:07.446826Z",
     "start_time": "2022-05-17T12:06:07.441229Z"
    }
   },
   "outputs": [],
   "source": [
    "tree_tuple = ((1,3,None), 2, ((None, 3, 4), 5, (6, 7, 8)))"
   ]
  },
  {
   "cell_type": "code",
   "execution_count": 225,
   "id": "17d64a44",
   "metadata": {
    "ExecuteTime": {
     "end_time": "2022-05-17T12:06:07.896275Z",
     "start_time": "2022-05-17T12:06:07.889901Z"
    }
   },
   "outputs": [
    {
     "name": "stdout",
     "output_type": "stream",
     "text": [
      "key 3 \n",
      " - left node: 1 \n",
      " - right node: None\n",
      "key 3 \n",
      " - left node: None \n",
      " - right node: 4\n",
      "key 7 \n",
      " - left node: 6 \n",
      " - right node: 8\n",
      "key 5 \n",
      " - left node: 3 \n",
      " - right node: 7\n",
      "key 2 \n",
      " - left node: 3 \n",
      " - right node: 5\n"
     ]
    },
    {
     "data": {
      "text/plain": [
       "<__main__.TreeNode at 0x7fa56806bca0>"
      ]
     },
     "execution_count": 225,
     "metadata": {},
     "output_type": "execute_result"
    }
   ],
   "source": [
    "parse_tuple(tree_tuple)"
   ]
  },
  {
   "cell_type": "markdown",
   "id": "final-cambridge",
   "metadata": {},
   "source": [
    "The `parse_tuple` creates a new root node when a tuple of size 3 as an the input. Interestingly, to create the left and right subtrees for the node, the `parse_tuple` function invokes itself. This technique is called _recursion_. The chain of _recursive_ calls ends when `parse_tuple` encounters a number or `None` as input. We'll use recursion extensively throughout this tutorial.\n",
    "\n",
    "\n",
    "**Exercise:** Add print statements inside `parse_tuple` to display the arguments for each call of the function. Does the sequence of recursive calls make sense to you?\n"
   ]
  },
  {
   "cell_type": "markdown",
   "id": "different-surprise",
   "metadata": {},
   "source": [
    "Let's try out `parse_tuple` with the tuple define earlier."
   ]
  },
  {
   "cell_type": "code",
   "execution_count": 226,
   "id": "heavy-consent",
   "metadata": {
    "ExecuteTime": {
     "end_time": "2022-05-17T22:58:44.579333Z",
     "start_time": "2022-05-17T22:58:44.571086Z"
    }
   },
   "outputs": [
    {
     "name": "stdout",
     "output_type": "stream",
     "text": [
      "key 3 \n",
      " - left node: 1 \n",
      " - right node: None\n",
      "key 3 \n",
      " - left node: None \n",
      " - right node: 4\n",
      "key 7 \n",
      " - left node: 6 \n",
      " - right node: 8\n",
      "key 5 \n",
      " - left node: 3 \n",
      " - right node: 7\n",
      "key 2 \n",
      " - left node: 3 \n",
      " - right node: 5\n"
     ]
    }
   ],
   "source": [
    "tree2 = parse_tuple(((1,3,None), 2, ((None, 3, 4), 5, (6, 7, 8))))"
   ]
  },
  {
   "cell_type": "code",
   "execution_count": 227,
   "id": "received-click",
   "metadata": {
    "ExecuteTime": {
     "end_time": "2022-05-17T22:58:58.717626Z",
     "start_time": "2022-05-17T22:58:58.709449Z"
    }
   },
   "outputs": [
    {
     "data": {
      "text/plain": [
       "<__main__.TreeNode at 0x7fa56804bd00>"
      ]
     },
     "execution_count": 227,
     "metadata": {},
     "output_type": "execute_result"
    }
   ],
   "source": [
    "tree2"
   ]
  },
  {
   "cell_type": "markdown",
   "id": "urban-result",
   "metadata": {},
   "source": [
    "We can now examine the tree to verify that it was constructed as expected.\n",
    "\n",
    "<img src=\"https://i.imgur.com/d7djJAf.png\" width=\"540\">"
   ]
  },
  {
   "cell_type": "code",
   "execution_count": 236,
   "id": "d120b4ac",
   "metadata": {
    "ExecuteTime": {
     "end_time": "2022-05-17T23:08:51.379942Z",
     "start_time": "2022-05-17T23:08:51.375170Z"
    }
   },
   "outputs": [
    {
     "data": {
      "text/plain": [
       "2"
      ]
     },
     "execution_count": 236,
     "metadata": {},
     "output_type": "execute_result"
    }
   ],
   "source": [
    "tree2.key\n",
    "\n",
    "tree2.left.key\n",
    "\n",
    "tree2.left.left.key\n",
    "\n",
    "tree2.right.left.right.key\n",
    "\n",
    "tree2.right.right.right.key\n",
    "\n",
    "tree2.right.right.left.key\n",
    "\n",
    "tree2.right.left.right.key"
   ]
  },
  {
   "cell_type": "markdown",
   "id": "parallel-healthcare",
   "metadata": {},
   "source": [
    "**Exercise:** Define a function `tree_to_tuple` that converts a binary tree into a tuple representing the same tree. E.g. `tree_to_tuple` converts the tree created above to the tuple `((1, 3, None), 2, ((None, 3, 4), 5, (6, 7, 8)))`. *Hint*: Use recursion."
   ]
  },
  {
   "cell_type": "code",
   "execution_count": 247,
   "id": "23a26818",
   "metadata": {
    "ExecuteTime": {
     "end_time": "2022-05-17T23:13:26.107407Z",
     "start_time": "2022-05-17T23:13:26.101835Z"
    }
   },
   "outputs": [],
   "source": [
    "tree = tree2"
   ]
  },
  {
   "cell_type": "code",
   "execution_count": 271,
   "id": "069427af",
   "metadata": {
    "ExecuteTime": {
     "end_time": "2022-05-17T23:36:39.775146Z",
     "start_time": "2022-05-17T23:36:39.767740Z"
    }
   },
   "outputs": [
    {
     "data": {
      "text/plain": [
       "1"
      ]
     },
     "execution_count": 271,
     "metadata": {},
     "output_type": "execute_result"
    }
   ],
   "source": [
    "tree.left.left.key"
   ]
  },
  {
   "cell_type": "code",
   "execution_count": 345,
   "id": "2ea05f89",
   "metadata": {
    "ExecuteTime": {
     "end_time": "2022-05-18T00:24:07.194628Z",
     "start_time": "2022-05-18T00:24:07.181021Z"
    }
   },
   "outputs": [],
   "source": [
    "def traverse(node):\n",
    "    \n",
    "    \n",
    "    # Sometimes it will return a number, and sometimes a tuple\n",
    "    \n",
    "    if isinstance(node, TreeNode):\n",
    "        if node.left is None:\n",
    "            node_left = None\n",
    "        else:\n",
    "            node_left = traverse(node.left)\n",
    "            \n",
    "        if node.right is None:\n",
    "            node_right = None\n",
    "        else:\n",
    "            node_right = traverse(node.right)\n",
    "            \n",
    "        if (node.right is None) and (node.left is None):\n",
    "            node_left = traverse(node.left)\n",
    "            node_right = traverse(node.right)\n",
    "        else:\n",
    "            tree_node = node.key\n",
    "            single_node = (node_left, tree_node, node_right)\n",
    "            \n",
    "    if node is None:\n",
    "        single_node = None\n",
    "        \n",
    "    elif node.left == None and node.right == None:\n",
    "        single_node = node.key\n",
    "        \n",
    "    return single_node"
   ]
  },
  {
   "cell_type": "code",
   "execution_count": 428,
   "id": "6230540c",
   "metadata": {
    "ExecuteTime": {
     "end_time": "2022-05-18T11:15:30.890430Z",
     "start_time": "2022-05-18T11:15:30.882646Z"
    }
   },
   "outputs": [],
   "source": [
    "f[]"
   ]
  },
  {
   "cell_type": "code",
   "execution_count": 427,
   "id": "bb0c91e9",
   "metadata": {
    "ExecuteTime": {
     "end_time": "2022-05-18T11:14:51.615120Z",
     "start_time": "2022-05-18T11:14:51.606593Z"
    }
   },
   "outputs": [
    {
     "data": {
      "text/plain": [
       "((1, 3, None), 2, ((None, 3, 4), 5, (6, 7, 8)))"
      ]
     },
     "execution_count": 427,
     "metadata": {},
     "output_type": "execute_result"
    }
   ],
   "source": [
    "to_tuple(tree)"
   ]
  },
  {
   "cell_type": "code",
   "execution_count": 346,
   "id": "eac5f7c9",
   "metadata": {
    "ExecuteTime": {
     "end_time": "2022-05-18T00:24:07.361847Z",
     "start_time": "2022-05-18T00:24:07.354586Z"
    }
   },
   "outputs": [
    {
     "data": {
      "text/plain": [
       "((1, 3, None), 2, ((None, 3, 4), 5, (6, 7, 8)))"
      ]
     },
     "execution_count": 346,
     "metadata": {},
     "output_type": "execute_result"
    }
   ],
   "source": [
    "traverse(tree)"
   ]
  },
  {
   "cell_type": "markdown",
   "id": "comparative-civilization",
   "metadata": {},
   "source": [
    "Let's create another helper function to display all the keys in a tree-like structure for easier visualization."
   ]
  },
  {
   "cell_type": "code",
   "execution_count": 347,
   "id": "advance-bunch",
   "metadata": {
    "ExecuteTime": {
     "end_time": "2022-05-18T00:27:03.213619Z",
     "start_time": "2022-05-18T00:27:03.205536Z"
    }
   },
   "outputs": [],
   "source": [
    "def display_keys(node, space='\\t', level=0):\n",
    "    # print(node.key if node else None, level)\n",
    "    \n",
    "    # If the node is empty\n",
    "    if node is None:\n",
    "        print(space*level + '∅')\n",
    "        return   \n",
    "    \n",
    "    # If the node is a leaf \n",
    "    if node.left is None and node.right is None:\n",
    "        print(space*level + str(node.key))\n",
    "        return\n",
    "    \n",
    "    # If the node has children\n",
    "    display_keys(node.right, space, level+1)\n",
    "    print(space*level + str(node.key))\n",
    "    display_keys(node.left,space, level+1)    "
   ]
  },
  {
   "cell_type": "markdown",
   "id": "international-rider",
   "metadata": {},
   "source": [
    "Once again, the `display_keys` function users recursion to print all the keys of the left and right subtree with proper indentation.\n",
    "\n",
    "**Exercise:** Add print statements inside `display_keys` to display the arguments for each call of the function. Does the sequence of recursive calls make sense to you?\n",
    "\n",
    "Let's try using the function."
   ]
  },
  {
   "cell_type": "code",
   "execution_count": 351,
   "id": "rental-junction",
   "metadata": {
    "ExecuteTime": {
     "end_time": "2022-05-18T00:27:37.162137Z",
     "start_time": "2022-05-18T00:27:37.155208Z"
    }
   },
   "outputs": [
    {
     "name": "stdout",
     "output_type": "stream",
     "text": [
      "          8\n",
      "        7\n",
      "          6\n",
      "      5\n",
      "          4\n",
      "        3\n",
      "          ∅\n",
      "    2\n",
      "        ∅\n",
      "      3\n",
      "        1\n"
     ]
    }
   ],
   "source": [
    "display_keys(tree2, space = '  ', level = 2)"
   ]
  },
  {
   "cell_type": "markdown",
   "id": "continuing-modification",
   "metadata": {},
   "source": [
    "We can now visualize the tree that was just created (albeit rotated by 90 degrees). It's easy to see that it matches the expected structure.\n",
    "\n",
    "<img src=\"https://i.imgur.com/d7djJAf.png\" width=\"540\">\n",
    "\n",
    "**Exercise**: Create some more trees and visualize them using `display_keys`. You can use [excalidraw.com](https://excalidraw.com) as a digital whiteboard to create trees."
   ]
  },
  {
   "cell_type": "markdown",
   "id": "rocky-collar",
   "metadata": {},
   "source": [
    "## Traversing a Binary Tree\n",
    "\n",
    "The following questions are frequently asked in coding interviews and assessments:\n",
    "\n",
    "> **QUESTION 3**: Write a function to perform the _inorder_ traversal of a binary tree.\n",
    "\n",
    "> **QUESTION 4**: Write a function to perform the _preorder_ traversal of a binary tree.\n",
    "\n",
    "> **QUESTION 5**: Write a function to perform the _postorder_ traversal of a binary tree.\n",
    "\n",
    "A *traversal* refers to the process of visiting each node of a tree exactly once. _Visiting a node_ generally refers to adding the node's key to a list. There are three ways to traverse a binary tree and return the list of visited keys: \n",
    "\n",
    "### Inorder traversal\n",
    "\n",
    "\n",
    "\n",
    "  1. Traverse the left subtree recursively inorder.\n",
    "  2. Traverse the current node.\n",
    "  3. Traverse the right subtree recursively inorder.\n",
    "\n",
    "\n",
    "<img src=\"https://i.imgur.com/KCXpMA9.png\" width=\"540\">\n",
    "\n",
    "\n",
    "### Preorder traversal\n",
    "\n",
    "  1. Traverse the current node.\n",
    "  2. Traverse the left subtree recursively preorder.\n",
    "  3. Traverse the right subtree recursively preorder.\n",
    "  \n",
    "<img src=\"https://i.imgur.com/2xrMUWP.png\" width=\"540\">\n",
    "\n",
    "\n",
    "Can you guess how **postorder** traversal works??\n",
    "\n",
    "\n",
    "Here's an implementation of inorder traversal of a binary tree."
   ]
  },
  {
   "cell_type": "markdown",
   "id": "chicken-benchmark",
   "metadata": {},
   "source": [
    "Let's try it out with this tree:\n",
    "\n",
    "<img src=\"https://i.imgur.com/d7djJAf.png\" width=\"540\">"
   ]
  },
  {
   "cell_type": "code",
   "execution_count": 357,
   "id": "natural-nashville",
   "metadata": {
    "ExecuteTime": {
     "end_time": "2022-05-18T00:36:52.143963Z",
     "start_time": "2022-05-18T00:36:52.138694Z"
    }
   },
   "outputs": [
    {
     "name": "stdout",
     "output_type": "stream",
     "text": [
      "key 3 \n",
      " - left node: 1 \n",
      " - right node: None\n",
      "key 3 \n",
      " - left node: None \n",
      " - right node: 4\n",
      "key 7 \n",
      " - left node: 6 \n",
      " - right node: 8\n",
      "key 5 \n",
      " - left node: 3 \n",
      " - right node: 7\n",
      "key 2 \n",
      " - left node: 3 \n",
      " - right node: 5\n"
     ]
    }
   ],
   "source": [
    "tree = parse_tuple(((1,3,None), 2, ((None, 3, 4), 5, (6, 7, 8))))"
   ]
  },
  {
   "cell_type": "code",
   "execution_count": 358,
   "id": "greatest-return",
   "metadata": {
    "ExecuteTime": {
     "end_time": "2022-05-18T00:36:52.398840Z",
     "start_time": "2022-05-18T00:36:52.395222Z"
    }
   },
   "outputs": [
    {
     "name": "stdout",
     "output_type": "stream",
     "text": [
      "      8\n",
      "    7\n",
      "      6\n",
      "  5\n",
      "      4\n",
      "    3\n",
      "      ∅\n",
      "2\n",
      "    ∅\n",
      "  3\n",
      "    1\n"
     ]
    }
   ],
   "source": [
    "display_keys(tree, '  ')"
   ]
  },
  {
   "cell_type": "code",
   "execution_count": 378,
   "id": "vanilla-capability",
   "metadata": {
    "ExecuteTime": {
     "end_time": "2022-05-18T00:45:07.370087Z",
     "start_time": "2022-05-18T00:45:07.363476Z"
    }
   },
   "outputs": [],
   "source": [
    "def traverse_in_order(node):\n",
    "    if node is None: \n",
    "        return []\n",
    "    return(traverse_in_order(node.left) + \n",
    "           [node.key] + \n",
    "           traverse_in_order(node.right))"
   ]
  },
  {
   "cell_type": "code",
   "execution_count": 379,
   "id": "continent-twins",
   "metadata": {
    "ExecuteTime": {
     "end_time": "2022-05-18T00:45:07.602195Z",
     "start_time": "2022-05-18T00:45:07.594129Z"
    }
   },
   "outputs": [
    {
     "data": {
      "text/plain": [
       "[1, 3, 2, 3, 4, 5, 6, 7, 8]"
      ]
     },
     "execution_count": 379,
     "metadata": {},
     "output_type": "execute_result"
    }
   ],
   "source": [
    "traverse_in_order(tree)"
   ]
  },
  {
   "cell_type": "code",
   "execution_count": 385,
   "id": "ea9300d5",
   "metadata": {
    "ExecuteTime": {
     "end_time": "2022-05-18T00:49:19.322378Z",
     "start_time": "2022-05-18T00:49:19.319157Z"
    }
   },
   "outputs": [],
   "source": [
    "lista = [1] + [2] + []"
   ]
  },
  {
   "cell_type": "code",
   "execution_count": 387,
   "id": "8ee5603a",
   "metadata": {
    "ExecuteTime": {
     "end_time": "2022-05-18T00:49:44.721182Z",
     "start_time": "2022-05-18T00:49:44.715152Z"
    }
   },
   "outputs": [],
   "source": [
    "def traverse_pre_order(node):\n",
    "    if node is None:\n",
    "        return []\n",
    "    \n",
    "    \n",
    "    # ja retorno a key e depois vou para left\n",
    "    # vou concatenando os valores que vao sendo adicionados em determinada ordem\n",
    "    return([node.key] + \n",
    "           traverse_pre_order(node.left) +\n",
    "           traverse_pre_order(node.right))"
   ]
  },
  {
   "cell_type": "code",
   "execution_count": 388,
   "id": "68b3b849",
   "metadata": {
    "ExecuteTime": {
     "end_time": "2022-05-18T00:49:44.894191Z",
     "start_time": "2022-05-18T00:49:44.889202Z"
    }
   },
   "outputs": [
    {
     "data": {
      "text/plain": [
       "[2, 3, 1, 5, 3, 4, 7, 6, 8]"
      ]
     },
     "execution_count": 388,
     "metadata": {},
     "output_type": "execute_result"
    }
   ],
   "source": [
    "traverse_pre_order(tree)"
   ]
  },
  {
   "cell_type": "code",
   "execution_count": 389,
   "id": "0516577b",
   "metadata": {
    "ExecuteTime": {
     "end_time": "2022-05-18T00:56:35.921035Z",
     "start_time": "2022-05-18T00:56:35.910878Z"
    }
   },
   "outputs": [],
   "source": [
    "def traverse_postorder(node):\n",
    "    \n",
    "    if node is None:\n",
    "        return []\n",
    "    \n",
    "    # basta olhar o que tem que acontecer no ultimo nivel de no nao folha\n",
    "    # left \n",
    "    # right\n",
    "    # key\n",
    "    return(\n",
    "           traverse_postorder(node.left) \n",
    "           +\n",
    "           traverse_postorder(node.right)\n",
    "           +\n",
    "           [node.key]\n",
    "          )"
   ]
  },
  {
   "cell_type": "code",
   "execution_count": 392,
   "id": "c000ea20",
   "metadata": {
    "ExecuteTime": {
     "end_time": "2022-05-18T00:57:13.993485Z",
     "start_time": "2022-05-18T00:57:13.985059Z"
    }
   },
   "outputs": [
    {
     "data": {
      "text/plain": [
       "[1, 3, 4, 3, 6, 8, 7, 5, 2]"
      ]
     },
     "execution_count": 392,
     "metadata": {},
     "output_type": "execute_result"
    }
   ],
   "source": [
    "traverse_postorder(tree)"
   ]
  },
  {
   "cell_type": "markdown",
   "id": "dirty-street",
   "metadata": {},
   "source": [
    "\n",
    "**Exercise:** Implement functions for preorder and postorder traversal of a binary tree.\n",
    "\n",
    "Test your implementations by making submissions to the following problems:\n",
    "\n",
    "* https://leetcode.com/problems/binary-tree-inorder-traversal/\n",
    "* https://leetcode.com/problems/binary-tree-preorder-traversal/\n",
    "* https://leetcode.com/problems/binary-tree-postorder-traversal/"
   ]
  },
  {
   "cell_type": "code",
   "execution_count": 393,
   "id": "burning-breathing",
   "metadata": {
    "ExecuteTime": {
     "end_time": "2022-05-18T00:59:02.006179Z",
     "start_time": "2022-05-18T00:58:58.694798Z"
    }
   },
   "outputs": [
    {
     "data": {
      "application/javascript": [
       "window.require && require([\"base/js/namespace\"],function(Jupyter){Jupyter.notebook.save_checkpoint()})"
      ],
      "text/plain": [
       "<IPython.core.display.Javascript object>"
      ]
     },
     "metadata": {},
     "output_type": "display_data"
    },
    {
     "name": "stdout",
     "output_type": "stream",
     "text": [
      "[jovian] Updating notebook \"vitorpbarbosa7/python-binary-search-trees\" on https://jovian.ai/\u001b[0m\n",
      "[jovian] Committed successfully! https://jovian.ai/vitorpbarbosa7/python-binary-search-trees\u001b[0m\n"
     ]
    },
    {
     "data": {
      "text/plain": [
       "'https://jovian.ai/vitorpbarbosa7/python-binary-search-trees'"
      ]
     },
     "execution_count": 393,
     "metadata": {},
     "output_type": "execute_result"
    }
   ],
   "source": [
    "jovian.commit()"
   ]
  },
  {
   "cell_type": "markdown",
   "id": "vietnamese-difficulty",
   "metadata": {},
   "source": [
    "## Height and Size of a Binary Tree\n",
    "\n",
    "\n",
    "> **QUESTION 6**: Write a function to calculate the height/depth of a binary tree\n",
    "\n",
    "> **QUESTION 7**: Write a function to count the number of nodes in a binary tree\n",
    "\n",
    "\n",
    "The _height/depth_ of a binary tree is defined as the length of the longest path from its root node to a leaf. It can be computed recursively, as follows:\n"
   ]
  },
  {
   "cell_type": "code",
   "execution_count": 402,
   "id": "occasional-supplier",
   "metadata": {
    "ExecuteTime": {
     "end_time": "2022-05-18T10:59:05.338557Z",
     "start_time": "2022-05-18T10:59:05.327440Z"
    }
   },
   "outputs": [],
   "source": [
    "def tree_height(node):\n",
    "    if node is None:\n",
    "        return 0\n",
    "    return 1 + max(tree_height(node.left), tree_height(node.right))"
   ]
  },
  {
   "cell_type": "markdown",
   "id": "potential-jefferson",
   "metadata": {},
   "source": [
    "Let's compute the height of this tree:\n",
    "\n",
    "<img src=\"https://i.imgur.com/d7djJAf.png\" width=\"540\">"
   ]
  },
  {
   "cell_type": "code",
   "execution_count": 403,
   "id": "integrated-experiment",
   "metadata": {
    "ExecuteTime": {
     "end_time": "2022-05-18T10:59:05.761447Z",
     "start_time": "2022-05-18T10:59:05.755531Z"
    }
   },
   "outputs": [
    {
     "data": {
      "text/plain": [
       "4"
      ]
     },
     "execution_count": 403,
     "metadata": {},
     "output_type": "execute_result"
    }
   ],
   "source": [
    "tree_height(tree)"
   ]
  },
  {
   "cell_type": "markdown",
   "id": "collect-official",
   "metadata": {},
   "source": [
    "Here's a function to count the number of nodes in a binary tree."
   ]
  },
  {
   "cell_type": "code",
   "execution_count": 404,
   "id": "presidential-development",
   "metadata": {
    "ExecuteTime": {
     "end_time": "2022-05-18T10:59:06.475374Z",
     "start_time": "2022-05-18T10:59:06.468321Z"
    }
   },
   "outputs": [],
   "source": [
    "def tree_size(node):\n",
    "    if node is None:\n",
    "        return 0\n",
    "    return 1 + tree_size(node.left) + tree_size(node.right)"
   ]
  },
  {
   "cell_type": "code",
   "execution_count": 406,
   "id": "significant-cheat",
   "metadata": {
    "ExecuteTime": {
     "end_time": "2022-05-18T10:59:10.330913Z",
     "start_time": "2022-05-18T10:59:10.322331Z"
    }
   },
   "outputs": [
    {
     "data": {
      "text/plain": [
       "9"
      ]
     },
     "execution_count": 406,
     "metadata": {},
     "output_type": "execute_result"
    }
   ],
   "source": [
    "tree_size(tree)"
   ]
  },
  {
   "cell_type": "markdown",
   "id": "substantial-electricity",
   "metadata": {},
   "source": [
    "**Exercise:** Try solving these problems relating to path lengths in a binary tree:\n",
    "\n",
    "* https://leetcode.com/problems/maximum-depth-of-binary-tree/\n",
    "* https://leetcode.com/problems/minimum-depth-of-binary-tree/\n",
    "* https://leetcode.com/problems/diameter-of-binary-tree/"
   ]
  },
  {
   "cell_type": "markdown",
   "id": "painted-auditor",
   "metadata": {},
   "source": [
    "As a final step, let's compile all the functions we've written so far as methods withing the `TreeNode` class itself. Encapsulation of data and functionality within the same class is a good programming practice."
   ]
  },
  {
   "cell_type": "code",
   "execution_count": 431,
   "id": "secret-macintosh",
   "metadata": {
    "ExecuteTime": {
     "end_time": "2022-05-18T11:16:37.857079Z",
     "start_time": "2022-05-18T11:16:37.832713Z"
    }
   },
   "outputs": [],
   "source": [
    "class TreeNode():\n",
    "    def __init__(self, key):\n",
    "        self.key = key\n",
    "        self.left = None\n",
    "        self.right = None\n",
    "    \n",
    "    def height(self):\n",
    "        if self is None:\n",
    "            return 0\n",
    "        return 1 + max(TreeNode.height(self.left), TreeNode.height(self.right))\n",
    "    \n",
    "    def size(self):\n",
    "        if self is None:\n",
    "            return 0\n",
    "        return 1 + TreeNode.size(self.left) + TreeNode.size(self.right)\n",
    "\n",
    "    def traverse_in_order(self):\n",
    "        if self is None: \n",
    "            return []\n",
    "        return (TreeNode.traverse_in_order(self.left) + \n",
    "                [self.key] + \n",
    "                TreeNode.traverse_in_order(self.right))\n",
    "    \n",
    "    def display_keys(self, space='\\t', level=0):\n",
    "        # If the node is empty\n",
    "        if self is None:\n",
    "            print(space*level + '∅')\n",
    "            return   \n",
    "\n",
    "        # If the node is a leaf \n",
    "        if self.left is None and self.right is None:\n",
    "            print(space*level + str(self.key))\n",
    "            return\n",
    "\n",
    "        # If the node has children\n",
    "        display_keys(self.right, space, level+1)\n",
    "        print(space*level + str(self.key))\n",
    "        display_keys(self.left,space, level+1)    \n",
    "    \n",
    "    def to_tuple(self):\n",
    "        if self is None:\n",
    "            return None\n",
    "        if self.left is None and self.right is None:\n",
    "            return self.key\n",
    "        return TreeNode.to_tuple(self.left),  self.key, TreeNode.to_tuple(self.right)\n",
    "    \n",
    "    def __str__(self):\n",
    "        return \"BinaryTree <{}>\".format(self.to_tuple())\n",
    "    \n",
    "    def __repr__(self):\n",
    "        return \"BinaryTree <{}>\".format(self.to_tuple())\n",
    "    \n",
    "    @staticmethod    \n",
    "    def parse_tuple(data):\n",
    "        if data is None:\n",
    "            node = None\n",
    "        elif isinstance(data, tuple) and len(data) == 3:\n",
    "            node = TreeNode(data[1])\n",
    "            node.left = TreeNode.parse_tuple(data[0])\n",
    "            node.right = TreeNode.parse_tuple(data[2])\n",
    "        else:\n",
    "            node = TreeNode(data)\n",
    "        return node"
   ]
  },
  {
   "cell_type": "markdown",
   "id": "consolidated-language",
   "metadata": {},
   "source": [
    "The class method invocations `TreeNode.height(node)` and `node.height()` are equivalent. Can you guess why we're using the former in the function definitions above? Hint: Track the recursive calls. Discuss on the forum: https://jovian.ai/forum/c/data-structures-and-algorithms-in-python/lesson-2/82\n",
    "\n",
    "Let's try out the various methods defined above for this tree:\n",
    "\n",
    "<img src=\"https://i.imgur.com/d7djJAf.png\" width=\"540\">"
   ]
  },
  {
   "cell_type": "code",
   "execution_count": 432,
   "id": "failing-chrome",
   "metadata": {
    "ExecuteTime": {
     "end_time": "2022-05-18T11:16:38.210754Z",
     "start_time": "2022-05-18T11:16:38.204401Z"
    }
   },
   "outputs": [],
   "source": [
    "tree_tuple = ((1,3,None), 2, ((None, 3, 4), 5, (6, 7, 8)))"
   ]
  },
  {
   "cell_type": "code",
   "execution_count": 433,
   "id": "extreme-filling",
   "metadata": {
    "ExecuteTime": {
     "end_time": "2022-05-18T11:16:38.381445Z",
     "start_time": "2022-05-18T11:16:38.376406Z"
    }
   },
   "outputs": [],
   "source": [
    "tree = TreeNode.parse_tuple(tree_tuple)"
   ]
  },
  {
   "cell_type": "code",
   "execution_count": 434,
   "id": "dynamic-satellite",
   "metadata": {
    "ExecuteTime": {
     "end_time": "2022-05-18T11:16:38.874806Z",
     "start_time": "2022-05-18T11:16:38.870288Z"
    }
   },
   "outputs": [
    {
     "data": {
      "text/plain": [
       "BinaryTree <((1, 3, None), 2, ((None, 3, 4), 5, (6, 7, 8)))>"
      ]
     },
     "execution_count": 434,
     "metadata": {},
     "output_type": "execute_result"
    }
   ],
   "source": [
    "tree"
   ]
  },
  {
   "cell_type": "code",
   "execution_count": 435,
   "id": "cc2df299",
   "metadata": {
    "ExecuteTime": {
     "end_time": "2022-05-18T11:16:39.766912Z",
     "start_time": "2022-05-18T11:16:39.759408Z"
    }
   },
   "outputs": [
    {
     "data": {
      "text/plain": [
       "4"
      ]
     },
     "execution_count": 435,
     "metadata": {},
     "output_type": "execute_result"
    }
   ],
   "source": [
    "tree.height()"
   ]
  },
  {
   "cell_type": "code",
   "execution_count": 436,
   "id": "engaging-neutral",
   "metadata": {
    "ExecuteTime": {
     "end_time": "2022-05-18T11:16:40.141317Z",
     "start_time": "2022-05-18T11:16:40.137053Z"
    }
   },
   "outputs": [
    {
     "name": "stdout",
     "output_type": "stream",
     "text": [
      "      8\n",
      "    7\n",
      "      6\n",
      "  5\n",
      "      4\n",
      "    3\n",
      "      ∅\n",
      "2\n",
      "    ∅\n",
      "  3\n",
      "    1\n"
     ]
    }
   ],
   "source": [
    "tree.display_keys('  ')"
   ]
  },
  {
   "cell_type": "code",
   "execution_count": 437,
   "id": "signal-decimal",
   "metadata": {
    "ExecuteTime": {
     "end_time": "2022-05-18T11:16:42.658387Z",
     "start_time": "2022-05-18T11:16:42.652450Z"
    }
   },
   "outputs": [
    {
     "data": {
      "text/plain": [
       "4"
      ]
     },
     "execution_count": 437,
     "metadata": {},
     "output_type": "execute_result"
    }
   ],
   "source": [
    "tree.height()"
   ]
  },
  {
   "cell_type": "code",
   "execution_count": 438,
   "id": "chinese-swimming",
   "metadata": {
    "ExecuteTime": {
     "end_time": "2022-05-18T11:16:42.910009Z",
     "start_time": "2022-05-18T11:16:42.904257Z"
    }
   },
   "outputs": [
    {
     "data": {
      "text/plain": [
       "9"
      ]
     },
     "execution_count": 438,
     "metadata": {},
     "output_type": "execute_result"
    }
   ],
   "source": [
    "tree.size()"
   ]
  },
  {
   "cell_type": "code",
   "execution_count": 439,
   "id": "hearing-network",
   "metadata": {
    "ExecuteTime": {
     "end_time": "2022-05-18T11:16:44.056329Z",
     "start_time": "2022-05-18T11:16:44.048596Z"
    }
   },
   "outputs": [
    {
     "data": {
      "text/plain": [
       "[1, 3, 2, 3, 4, 5, 6, 7, 8]"
      ]
     },
     "execution_count": 439,
     "metadata": {},
     "output_type": "execute_result"
    }
   ],
   "source": [
    "tree.traverse_in_order()"
   ]
  },
  {
   "cell_type": "code",
   "execution_count": 440,
   "id": "protected-vermont",
   "metadata": {
    "ExecuteTime": {
     "end_time": "2022-05-18T11:16:44.593461Z",
     "start_time": "2022-05-18T11:16:44.586957Z"
    }
   },
   "outputs": [
    {
     "data": {
      "text/plain": [
       "((1, 3, None), 2, ((None, 3, 4), 5, (6, 7, 8)))"
      ]
     },
     "execution_count": 440,
     "metadata": {},
     "output_type": "execute_result"
    }
   ],
   "source": [
    "tree.to_tuple()"
   ]
  },
  {
   "cell_type": "markdown",
   "id": "secondary-potter",
   "metadata": {},
   "source": [
    "**Exercise:** Create some more trees and try out the operations defined above. Add more operations to the `TreeNode` class."
   ]
  },
  {
   "cell_type": "code",
   "execution_count": null,
   "id": "respiratory-invalid",
   "metadata": {},
   "outputs": [],
   "source": []
  },
  {
   "cell_type": "code",
   "execution_count": null,
   "id": "higher-table",
   "metadata": {},
   "outputs": [],
   "source": []
  },
  {
   "cell_type": "code",
   "execution_count": null,
   "id": "turkish-memorabilia",
   "metadata": {},
   "outputs": [],
   "source": []
  },
  {
   "cell_type": "markdown",
   "id": "dangerous-sweet",
   "metadata": {},
   "source": [
    "## Binary Search Tree (BST)\n",
    "\n",
    "A binary search tree or BST is a binary tree that satisfies the following conditions:\n",
    "\n",
    "1. The left subtree of any node only contains nodes with keys less than the node's key\n",
    "2. The right subtree of any node only contains nodes with keys greater than the node's key\n",
    "\n",
    "It follows from the above conditions that every subtree of a binary search tree must also be a binary search tree.\n",
    "\n",
    "\n",
    "> **QUESTION 8**: Write a function to check if a binary tree is a binary search tree (BST).\n",
    "\n",
    "> **QUESTION 9**: Write a function to find the maximum key in a binary tree.\n",
    "\n",
    "> **QUESTION 10**: Write a function to find the minimum key in a binary tree.\n",
    "\n",
    "\n",
    "Here's a function that covers all of the above:"
   ]
  },
  {
   "cell_type": "code",
   "execution_count": 441,
   "id": "7de4809e",
   "metadata": {
    "ExecuteTime": {
     "end_time": "2022-05-18T11:20:45.089805Z",
     "start_time": "2022-05-18T11:20:45.082078Z"
    }
   },
   "outputs": [
    {
     "data": {
      "text/plain": [
       "BinaryTree <(1, 3, None)>"
      ]
     },
     "execution_count": 441,
     "metadata": {},
     "output_type": "execute_result"
    }
   ],
   "source": [
    "tree.left"
   ]
  },
  {
   "cell_type": "code",
   "execution_count": 444,
   "id": "2271ac7e",
   "metadata": {
    "ExecuteTime": {
     "end_time": "2022-05-18T11:21:12.142567Z",
     "start_time": "2022-05-18T11:21:12.136330Z"
    }
   },
   "outputs": [
    {
     "name": "stdout",
     "output_type": "stream",
     "text": [
      "\t\t\t8\n",
      "\t\t7\n",
      "\t\t\t6\n",
      "\t5\n",
      "\t\t\t4\n",
      "\t\t3\n",
      "\t\t\t∅\n",
      "2\n",
      "\t\t∅\n",
      "\t3\n",
      "\t\t1\n"
     ]
    }
   ],
   "source": [
    "tree.display_keys()"
   ]
  },
  {
   "cell_type": "code",
   "execution_count": 449,
   "id": "2539d7ca",
   "metadata": {
    "ExecuteTime": {
     "end_time": "2022-05-18T11:29:48.967662Z",
     "start_time": "2022-05-18T11:29:48.957547Z"
    }
   },
   "outputs": [],
   "source": [
    "bst_tree_tuple = ((1,3,(4,6,7)),8,(None,10,(13,14,None)))"
   ]
  },
  {
   "cell_type": "code",
   "execution_count": 450,
   "id": "5dc00095",
   "metadata": {
    "ExecuteTime": {
     "end_time": "2022-05-18T11:29:49.242461Z",
     "start_time": "2022-05-18T11:29:49.237161Z"
    }
   },
   "outputs": [],
   "source": [
    "bst_tree = TreeNode.parse_tuple(bst_tree_tuple)"
   ]
  },
  {
   "cell_type": "code",
   "execution_count": 451,
   "id": "296510e2",
   "metadata": {
    "ExecuteTime": {
     "end_time": "2022-05-18T11:29:49.526184Z",
     "start_time": "2022-05-18T11:29:49.520338Z"
    }
   },
   "outputs": [
    {
     "name": "stdout",
     "output_type": "stream",
     "text": [
      "\t\t\t∅\n",
      "\t\t14\n",
      "\t\t\t13\n",
      "\t10\n",
      "\t\t∅\n",
      "8\n",
      "\t\t\t7\n",
      "\t\t6\n",
      "\t\t\t4\n",
      "\t3\n",
      "\t\t1\n"
     ]
    }
   ],
   "source": [
    "bst_tree.display_keys()"
   ]
  },
  {
   "cell_type": "code",
   "execution_count": 540,
   "id": "a99ed6b4",
   "metadata": {
    "ExecuteTime": {
     "end_time": "2022-05-18T17:25:45.924117Z",
     "start_time": "2022-05-18T17:25:45.918680Z"
    }
   },
   "outputs": [],
   "source": [
    "# Author: Bishal Sarang\n",
    "\n",
    "# Import Visualiser class from module visualiser\n",
    "from visualiser.visualiser import Visualiser as vs\n",
    "\n",
    "# Add decorator\n",
    "# Decorator accepts optional arguments: ignore_args , show_argument_name, show_return_value and node_properties_kwargs"
   ]
  },
  {
   "cell_type": "code",
   "execution_count": 562,
   "id": "dying-rates",
   "metadata": {
    "ExecuteTime": {
     "end_time": "2022-05-18T23:02:03.487382Z",
     "start_time": "2022-05-18T23:02:03.480949Z"
    }
   },
   "outputs": [],
   "source": [
    "tree1 = TreeNode.parse_tuple(((1, 3, None), 2, ((None, 3, 4), 5, (6, 7, 8))))"
   ]
  },
  {
   "cell_type": "code",
   "execution_count": 567,
   "id": "183837db",
   "metadata": {
    "ExecuteTime": {
     "end_time": "2022-05-18T23:02:23.391307Z",
     "start_time": "2022-05-18T23:02:23.385587Z"
    }
   },
   "outputs": [],
   "source": [
    "def remove_none(nums):\n",
    "    # remover os Nodes num para o calculo do min e max\n",
    "    return [x for x in nums if x is not None]"
   ]
  },
  {
   "cell_type": "code",
   "execution_count": 568,
   "id": "a9f29c6b",
   "metadata": {
    "ExecuteTime": {
     "end_time": "2022-05-18T23:02:23.792303Z",
     "start_time": "2022-05-18T23:02:23.780094Z"
    },
    "collapsed": true
   },
   "outputs": [],
   "source": [
    "def is_bst(node):\n",
    "    \n",
    "    # Caso noh folha:\n",
    "    # lah em baixo, o primeiro output, depois o output serah atraves do \n",
    "    # return is_bst_node, min_key, max_key\n",
    "    if node is None:\n",
    "        return True, None, None\n",
    "    \n",
    "    is_bst_left, min_left, max_left = is_bst(node.left)\n",
    "    is_bst_right, min_right, max_right = is_bst(node.right)\n",
    "    \n",
    "    is_bst_node = (\n",
    "        # if both subtrees are bst\n",
    "        is_bst_left and is_bst_right\n",
    "        and\n",
    "        # compare node.key and left maximum number\n",
    "        (node.key > max_left or max_left is None)\n",
    "        and\n",
    "        # compare node.key and right minimun number\n",
    "        (min_right > node.key or min_right is None)\n",
    "    )\n",
    "    \n",
    "    min_key = min(remove_none([min_left, node.key, min_right]))\n",
    "    max_key = max(remove_none([max_left, node.key, max_right]))\n",
    "    \n",
    "    # return boolean\n",
    "    # minimum key of subtree\n",
    "    # maximum key of subtree\n",
    "    return is_bst_node, min_key, max_key"
   ]
  },
  {
   "cell_type": "code",
   "execution_count": 570,
   "id": "c5c408e6",
   "metadata": {
    "ExecuteTime": {
     "end_time": "2022-05-18T23:10:28.220084Z",
     "start_time": "2022-05-18T23:10:28.207187Z"
    }
   },
   "outputs": [],
   "source": [
    "def is_bst(node):\n",
    "    if node is None:\n",
    "        return True, None, None\n",
    "    \n",
    "    is_bst_l, min_l, max_l = is_bst(node.left)\n",
    "    is_bst_r, min_r, max_r = is_bst(node.right)\n",
    "    \n",
    "    is_bst_node = (\n",
    "        is_bst_l and is_bst_r\n",
    "        and\n",
    "        (max_l is None or node.key > max_l)\n",
    "        and\n",
    "        (min_r is None or node.key < min_r)\n",
    "    )\n",
    "    \n",
    "    min_key = min(remove_none([min_l, node.key, min_r]))\n",
    "    max_key = max(remove_none([max_l, node.key, max_r]))\n",
    "    return is_bst_node, min_key, max_key"
   ]
  },
  {
   "cell_type": "code",
   "execution_count": 571,
   "id": "ca6ecb81",
   "metadata": {
    "ExecuteTime": {
     "end_time": "2022-05-18T23:10:34.396154Z",
     "start_time": "2022-05-18T23:10:34.388057Z"
    }
   },
   "outputs": [
    {
     "data": {
      "text/plain": [
       "(False, 1, 8)"
      ]
     },
     "execution_count": 571,
     "metadata": {},
     "output_type": "execute_result"
    }
   ],
   "source": [
    "is_bst(tree1)"
   ]
  },
  {
   "cell_type": "code",
   "execution_count": 544,
   "id": "silver-credit",
   "metadata": {
    "ExecuteTime": {
     "end_time": "2022-05-18T22:40:52.498970Z",
     "start_time": "2022-05-18T22:40:52.482934Z"
    }
   },
   "outputs": [],
   "source": [
    "def remove_none(nums):\n",
    "    return [x for x in nums if x is not None]\n",
    "\n",
    "@vs(node_properties_kwargs={\"shape\":\"record\", \"color\":\"#f57542\", \"style\":\"filled\", \"fillcolor\":\"grey\"})\n",
    "def is_bst(node):\n",
    "    if node is None:\n",
    "        return True, None, None, \n",
    "    \n",
    "    is_bst_l, min_l, max_l = is_bst(node.left)\n",
    "    is_bst_r, min_r, max_r = is_bst(node.right)\n",
    "    \n",
    "    #primeira variavel da saida\n",
    "    # construida a partir das condicoes de validacao se eh ou nao bst\n",
    "    is_bst_node = (\n",
    "                    is_bst_l and is_bst_r \n",
    "                    and \n",
    "                    (max_l is None or node.key > max_l) \n",
    "                    and \n",
    "                    (min_r is None or node.key < min_r)\n",
    "                  )\n",
    "    \n",
    "    # vai subindo atualizando o valor de min_key e max_key\n",
    "    # retorna o valor minimo respectivamente a left e right\n",
    "    # dado que node.key deve ser maior que todos valores left\n",
    "    # e\n",
    "    # menor que todos valores presentes em right\n",
    "    \n",
    "    min_key = min(remove_none([min_l, node.key, min_r]))\n",
    "    max_key = max(remove_none([max_l, node.key, max_r]))\n",
    "    \n",
    "    # print(node.key, min_key, max_key, is_bst_node)\n",
    "        \n",
    "    return is_bst_node, min_key, max_key"
   ]
  },
  {
   "cell_type": "markdown",
   "id": "consistent-concentrate",
   "metadata": {},
   "source": [
    "The following tree is not a BST (because a node with the key 3 appears in the left subtree of a node with the key 2):\n",
    "\n",
    "<img src=\"https://i.imgur.com/d7djJAf.png\" width=\"540\">\n",
    "\n",
    "Let's verify this using `is_bst`."
   ]
  },
  {
   "cell_type": "code",
   "execution_count": 546,
   "id": "innocent-triumph",
   "metadata": {
    "ExecuteTime": {
     "end_time": "2022-05-18T22:42:00.052226Z",
     "start_time": "2022-05-18T22:40:54.642346Z"
    }
   },
   "outputs": [
    {
     "name": "stdout",
     "output_type": "stream",
     "text": [
      "(False, 1, 8)\n",
      "Starting to make animation\n",
      "File binary_search_tree.png successfully written\n",
      "Writing frames....\n",
      "Writing gif...\n",
      "Saved gif binary_search_tree.gif successfully\n"
     ]
    }
   ],
   "source": [
    "print(is_bst(tree1))\n",
    "vs.make_animation(\"binary_search_tree.gif\", delay=2)"
   ]
  },
  {
   "cell_type": "markdown",
   "id": "polish-offering",
   "metadata": {},
   "source": [
    "On the other hand, the following tree is a BST:\n",
    "\n",
    "<img src=\"https://i.imgur.com/JZeF9ix.png\" width=\"520\">\n",
    "\n",
    "Let's create this tree and verify that it is a BST. Note that the `TreeNode` class also supports using strings as keys, as strings support the comparison operators `<` and `>` too."
   ]
  },
  {
   "cell_type": "code",
   "execution_count": 572,
   "id": "about-kenya",
   "metadata": {
    "ExecuteTime": {
     "end_time": "2022-05-18T23:11:43.392046Z",
     "start_time": "2022-05-18T23:11:43.385122Z"
    }
   },
   "outputs": [],
   "source": [
    "tree2 = TreeNode.parse_tuple((('aakash', 'biraj', 'hemanth')  , 'jadhesh', ('siddhant', 'sonaksh', 'vishal')))"
   ]
  },
  {
   "cell_type": "code",
   "execution_count": 573,
   "id": "german-volleyball",
   "metadata": {
    "ExecuteTime": {
     "end_time": "2022-05-18T23:11:43.692808Z",
     "start_time": "2022-05-18T23:11:43.682885Z"
    }
   },
   "outputs": [
    {
     "data": {
      "text/plain": [
       "(True, 'aakash', 'vishal')"
      ]
     },
     "execution_count": 573,
     "metadata": {},
     "output_type": "execute_result"
    }
   ],
   "source": [
    "is_bst(tree2)"
   ]
  },
  {
   "cell_type": "markdown",
   "id": "strategic-incentive",
   "metadata": {},
   "source": [
    "**Exercise:** Test the `is_bst` function with some more examples using the empty cells below."
   ]
  },
  {
   "cell_type": "markdown",
   "id": "adjustable-upper",
   "metadata": {},
   "source": [
    "## Storing Key-Value Pairs using BSTs\n",
    "\n",
    "Recall that we need to store user objects with each key in our BST. Let's define new class `BSTNode` to represent the nodes of of our tree. Apart from having properties `key`, `left` and `right`, we'll also store a `value` and pointer to the parent node (for easier upward traversal)."
   ]
  },
  {
   "cell_type": "code",
   "execution_count": 574,
   "id": "polish-maker",
   "metadata": {
    "ExecuteTime": {
     "end_time": "2022-05-18T23:13:06.909668Z",
     "start_time": "2022-05-18T23:13:06.902097Z"
    }
   },
   "outputs": [],
   "source": [
    "class BSTNode():\n",
    "    def __init__(self, key, value=None):\n",
    "        self.key = key\n",
    "        self.value = value\n",
    "        self.left = None\n",
    "        self.right = None\n",
    "        self.parent = None"
   ]
  },
  {
   "cell_type": "markdown",
   "id": "literary-effect",
   "metadata": {},
   "source": [
    "Let's try to recreate this BST with usernames as keys and user objects as values:\n",
    "\n",
    "<img src=\"https://i.imgur.com/JZeF9ix.png\" width=\"520\">"
   ]
  },
  {
   "cell_type": "code",
   "execution_count": 577,
   "id": "theoretical-cleaner",
   "metadata": {
    "ExecuteTime": {
     "end_time": "2022-05-18T23:13:27.433681Z",
     "start_time": "2022-05-18T23:13:27.429942Z"
    }
   },
   "outputs": [],
   "source": [
    "# Level 0\n",
    "tree = BSTNode(jadhesh.username, jadhesh)"
   ]
  },
  {
   "cell_type": "code",
   "execution_count": 578,
   "id": "homeless-welsh",
   "metadata": {
    "ExecuteTime": {
     "end_time": "2022-05-18T23:13:32.090549Z",
     "start_time": "2022-05-18T23:13:32.082449Z"
    }
   },
   "outputs": [
    {
     "data": {
      "text/plain": [
       "('jadhesh',\n",
       " User(username='jadhesh', name='Jadhesh Verma', email='jadhesh@example.com'))"
      ]
     },
     "execution_count": 578,
     "metadata": {},
     "output_type": "execute_result"
    }
   ],
   "source": [
    "# View Level 0\n",
    "tree.key, tree.value"
   ]
  },
  {
   "cell_type": "code",
   "execution_count": 579,
   "id": "alternate-antenna",
   "metadata": {
    "ExecuteTime": {
     "end_time": "2022-05-18T23:13:36.401716Z",
     "start_time": "2022-05-18T23:13:36.398038Z"
    }
   },
   "outputs": [],
   "source": [
    "# Level 1\n",
    "tree.left = BSTNode(biraj.username, biraj)\n",
    "tree.right = BSTNode(sonaksh.username, sonaksh)"
   ]
  },
  {
   "cell_type": "code",
   "execution_count": 580,
   "id": "assured-czech",
   "metadata": {
    "ExecuteTime": {
     "end_time": "2022-05-18T23:13:37.049444Z",
     "start_time": "2022-05-18T23:13:37.043468Z"
    }
   },
   "outputs": [
    {
     "data": {
      "text/plain": [
       "('biraj',\n",
       " User(username='biraj', name='Biraj Das', email='biraj@example.com'),\n",
       " 'sonaksh',\n",
       " User(username='sonaksh', name='Sonaksh Kumar', email='sonaksh@example.com'))"
      ]
     },
     "execution_count": 580,
     "metadata": {},
     "output_type": "execute_result"
    }
   ],
   "source": [
    "# View Level 1\n",
    "tree.left.key, tree.left.value, tree.right.key, tree.right.value"
   ]
  },
  {
   "cell_type": "markdown",
   "id": "sporting-youth",
   "metadata": {},
   "source": [
    "**Exercise:** Add the next layer of nodes to the tree and verify that they were added properly."
   ]
  },
  {
   "cell_type": "code",
   "execution_count": 581,
   "id": "classical-trigger",
   "metadata": {
    "ExecuteTime": {
     "end_time": "2022-05-18T23:14:46.147596Z",
     "start_time": "2022-05-18T23:14:46.141156Z"
    }
   },
   "outputs": [],
   "source": [
    "tree.left.left = BSTNode(aakash.username, aakash)\n",
    "tree.left.right = BSTNode(hemanth.username, hemanth)"
   ]
  },
  {
   "cell_type": "code",
   "execution_count": 582,
   "id": "common-cruise",
   "metadata": {
    "ExecuteTime": {
     "end_time": "2022-05-18T23:15:06.286446Z",
     "start_time": "2022-05-18T23:15:06.278731Z"
    }
   },
   "outputs": [
    {
     "data": {
      "text/plain": [
       "User(username='aakash', name='Aakash Bangladesh', email='aakash@gmail.com')"
      ]
     },
     "execution_count": 582,
     "metadata": {},
     "output_type": "execute_result"
    }
   ],
   "source": [
    "tree.left.left.key\n",
    "tree.left.left.value"
   ]
  },
  {
   "cell_type": "code",
   "execution_count": 583,
   "id": "2f35c2f9",
   "metadata": {
    "ExecuteTime": {
     "end_time": "2022-05-18T23:15:17.587977Z",
     "start_time": "2022-05-18T23:15:17.582012Z"
    }
   },
   "outputs": [
    {
     "data": {
      "text/plain": [
       "User(username='hemanth', name='Hemanth Jain', email='hemanth@example.com')"
      ]
     },
     "execution_count": 583,
     "metadata": {},
     "output_type": "execute_result"
    }
   ],
   "source": [
    "tree.left.right.key\n",
    "tree.left.right.value"
   ]
  },
  {
   "cell_type": "markdown",
   "id": "drawn-coverage",
   "metadata": {},
   "source": [
    "We can use the same `display_keys` function we defined earlier to visualize our tree."
   ]
  },
  {
   "cell_type": "code",
   "execution_count": 584,
   "id": "living-therapist",
   "metadata": {
    "ExecuteTime": {
     "end_time": "2022-05-18T23:15:21.309091Z",
     "start_time": "2022-05-18T23:15:21.302189Z"
    }
   },
   "outputs": [
    {
     "name": "stdout",
     "output_type": "stream",
     "text": [
      "\tsonaksh\n",
      "jadhesh\n",
      "\t\themanth\n",
      "\tbiraj\n",
      "\t\taakash\n"
     ]
    }
   ],
   "source": [
    "display_keys(tree)"
   ]
  },
  {
   "cell_type": "markdown",
   "id": "latin-discharge",
   "metadata": {},
   "source": [
    "### Insertion into BST\n",
    "\n",
    "\n",
    "> **QUESTION 11**: Write a function to insert a new node into a BST.\n",
    "\n",
    "\n",
    "We use the BST-property to perform insertion efficiently: \n",
    "\n",
    "1. Starting from the root node, we compare the key to be inserted with the current node's key\n",
    "2. If the key is smaller, we recursively insert it in the left subtree (if it exists) or attach it as as the left child if no left subtree exists.\n",
    "3. If the key is larger, we recursively insert it in the right subtree (if it exists) or attach it as as the right child if no right subtree exists.\n",
    "\n",
    "Here's a recursive implementation of `insert`."
   ]
  },
  {
   "cell_type": "code",
   "execution_count": 601,
   "id": "8ea9d6e9",
   "metadata": {
    "ExecuteTime": {
     "end_time": "2022-05-18T23:48:28.613107Z",
     "start_time": "2022-05-18T23:48:28.601089Z"
    }
   },
   "outputs": [],
   "source": [
    "def insert(node, key, value):\n",
    "    \n",
    "    '''\n",
    "    Parameters\n",
    "    -----------------------\n",
    "    node: node (or tree at all) which will be receiveing new node with particular key and value\n",
    "    key: key from particular node\n",
    "    value: value from particular node\n",
    "    '''\n",
    "    \n",
    "    # if we finally arrived at the end of the tree\n",
    "    # or the given node is Node, let's create a node\n",
    "    # let's insert the value\n",
    "    if node is None:\n",
    "        node = BSTNode(key, value)\n",
    "        \n",
    "     # Create conditions to get to final of the tree\n",
    "    \n",
    "    # if it is smaller than given key from that node, go to the left\n",
    "    # the insert function returns a node\n",
    "    # that's all it works\n",
    "    # this one is less complicated then previous ones\n",
    "    if key < node.key:\n",
    "        node.left = insert(node.left, key, value)\n",
    "        # child node (left or right) receveives current node as parent\n",
    "        node.left.parent = node\n",
    "        \n",
    "    # if it is greater than given key node, go to the right   \n",
    "    if key > node.key:\n",
    "        node.right = insert(node.right, key, value)\n",
    "        # child node (left or right) receives current node as parent\n",
    "        # with that rule, the order of a node which was as parent node, for example, can change\n",
    "        node.right.parent = node\n",
    "    \n",
    "    # once the node was created, we can return the node\n",
    "    # which will be inserted using \n",
    "    # node.left\n",
    "    # and \n",
    "    # node.right\n",
    "    return node"
   ]
  },
  {
   "cell_type": "markdown",
   "id": "registered-cocktail",
   "metadata": {},
   "source": [
    "Let's use this to recreate our tree.\n",
    "\n",
    "<img src=\"https://i.imgur.com/JZeF9ix.png\" width=\"520\">\n",
    "\n",
    "To create the first node, we can use the `insert` function with `None` as the target tree."
   ]
  },
  {
   "cell_type": "code",
   "execution_count": 602,
   "id": "skilled-quantum",
   "metadata": {
    "ExecuteTime": {
     "end_time": "2022-05-18T23:48:28.997543Z",
     "start_time": "2022-05-18T23:48:28.993017Z"
    }
   },
   "outputs": [],
   "source": [
    "tree = insert(None, jadhesh.username, jadhesh)"
   ]
  },
  {
   "cell_type": "code",
   "execution_count": 603,
   "id": "121fb922",
   "metadata": {
    "ExecuteTime": {
     "end_time": "2022-05-18T23:48:29.249909Z",
     "start_time": "2022-05-18T23:48:29.240418Z"
    }
   },
   "outputs": [
    {
     "data": {
      "text/plain": [
       "'jadhesh'"
      ]
     },
     "execution_count": 603,
     "metadata": {},
     "output_type": "execute_result"
    }
   ],
   "source": [
    "tree.key"
   ]
  },
  {
   "cell_type": "markdown",
   "id": "authorized-beijing",
   "metadata": {},
   "source": [
    "The remaining nodes can now be inserted into `tree`."
   ]
  },
  {
   "cell_type": "code",
   "execution_count": 604,
   "id": "egyptian-category",
   "metadata": {
    "ExecuteTime": {
     "end_time": "2022-05-18T23:48:30.139615Z",
     "start_time": "2022-05-18T23:48:30.128782Z"
    }
   },
   "outputs": [
    {
     "data": {
      "text/plain": [
       "<__main__.BSTNode at 0x7fa59a004130>"
      ]
     },
     "execution_count": 604,
     "metadata": {},
     "output_type": "execute_result"
    }
   ],
   "source": [
    "insert(tree, biraj.username, biraj)\n",
    "insert(tree, sonaksh.username, sonaksh)\n",
    "insert(tree, aakash.username, aakash)\n",
    "insert(tree, hemanth.username, hemanth)\n",
    "insert(tree, siddhant.username, siddhant)\n",
    "insert(tree, vishal.username, siddhant)"
   ]
  },
  {
   "cell_type": "code",
   "execution_count": 605,
   "id": "romance-sullivan",
   "metadata": {
    "ExecuteTime": {
     "end_time": "2022-05-18T23:48:30.446107Z",
     "start_time": "2022-05-18T23:48:30.440894Z"
    }
   },
   "outputs": [
    {
     "name": "stdout",
     "output_type": "stream",
     "text": [
      "\t\tvishal\n",
      "\tsonaksh\n",
      "\t\tsiddhant\n",
      "jadhesh\n",
      "\t\themanth\n",
      "\tbiraj\n",
      "\t\taakash\n"
     ]
    }
   ],
   "source": [
    "display_keys(tree)"
   ]
  },
  {
   "cell_type": "markdown",
   "id": "inappropriate-stream",
   "metadata": {},
   "source": [
    "Perfect! The tree was created as expected. \n",
    "\n",
    "Note, however, that the order of insertion of nodes change the structure of the resulting tree."
   ]
  },
  {
   "cell_type": "code",
   "execution_count": 606,
   "id": "martial-batch",
   "metadata": {
    "ExecuteTime": {
     "end_time": "2022-05-18T23:48:31.788063Z",
     "start_time": "2022-05-18T23:48:31.779568Z"
    }
   },
   "outputs": [
    {
     "data": {
      "text/plain": [
       "<__main__.BSTNode at 0x7fa59a004070>"
      ]
     },
     "execution_count": 606,
     "metadata": {},
     "output_type": "execute_result"
    }
   ],
   "source": [
    "tree2 = insert(None, aakash.username, aakash)\n",
    "insert(tree2, biraj.username, biraj)\n",
    "insert(tree2, hemanth.username, hemanth)\n",
    "insert(tree2, jadhesh.username, jadhesh)\n",
    "insert(tree2, siddhant.username, siddhant)\n",
    "insert(tree2, sonaksh.username, sonaksh)\n",
    "insert(tree2, vishal.username, vishal)"
   ]
  },
  {
   "cell_type": "code",
   "execution_count": 607,
   "id": "julian-scholarship",
   "metadata": {
    "ExecuteTime": {
     "end_time": "2022-05-18T23:48:32.385610Z",
     "start_time": "2022-05-18T23:48:32.379626Z"
    }
   },
   "outputs": [
    {
     "name": "stdout",
     "output_type": "stream",
     "text": [
      "\t\t\t\t\t\tvishal\n",
      "\t\t\t\t\tsonaksh\n",
      "\t\t\t\t\t\t∅\n",
      "\t\t\t\tsiddhant\n",
      "\t\t\t\t\t∅\n",
      "\t\t\tjadhesh\n",
      "\t\t\t\t∅\n",
      "\t\themanth\n",
      "\t\t\t∅\n",
      "\tbiraj\n",
      "\t\t∅\n",
      "aakash\n",
      "\t∅\n"
     ]
    }
   ],
   "source": [
    "display_keys(tree2)"
   ]
  },
  {
   "cell_type": "markdown",
   "id": "enormous-block",
   "metadata": {},
   "source": [
    "Can you see why the tree created above is skewed/unbalanced?\n",
    "\n",
    "<img src=\"https://i.imgur.com/lP5Thct.png\" width=\"520\">\n",
    "\n",
    "Skewed/unbalanced BSTs are problematic because the height of such trees often ceases to logarithmic compared to the number of nodes in the tree. For instance the above tree has 7 nodes and height 7.\n",
    "\n",
    "The length of the path traversed by `insert` is equal to the height of the tree (in the worst case). It follows that if the tree is balanced, the time complexity of insertion is `O(log N)` otherwise it is `O(N)`."
   ]
  },
  {
   "cell_type": "code",
   "execution_count": 608,
   "id": "changing-trunk",
   "metadata": {
    "ExecuteTime": {
     "end_time": "2022-05-18T23:49:16.465795Z",
     "start_time": "2022-05-18T23:49:16.458706Z"
    }
   },
   "outputs": [
    {
     "data": {
      "text/plain": [
       "7"
      ]
     },
     "execution_count": 608,
     "metadata": {},
     "output_type": "execute_result"
    }
   ],
   "source": [
    "tree_height(tree2)"
   ]
  },
  {
   "cell_type": "markdown",
   "id": "received-charles",
   "metadata": {},
   "source": [
    "**Exercise:** Create some more balanced and unbalanced BSTs using the `insert` function defined above."
   ]
  },
  {
   "cell_type": "code",
   "execution_count": 612,
   "id": "ecee285a",
   "metadata": {
    "ExecuteTime": {
     "end_time": "2022-05-18T23:52:08.548388Z",
     "start_time": "2022-05-18T23:52:08.541858Z"
    }
   },
   "outputs": [],
   "source": [
    "a = User('a', 'a Rai', 'a@example.com')\n",
    "b = User('b', 'b Das', 'b@example.com')\n",
    "c = User('c', 'c Jain', 'c@example.com')\n",
    "d = User('d', 'd Verma', 'd@example.com')\n",
    "e = User('e', 'e Sinha', 'e@example.com')\n",
    "f = User('f', 'f Kumar', 'f@example.com')\n",
    "g = User('g', 'g Goel', 'g@example.com')"
   ]
  },
  {
   "cell_type": "code",
   "execution_count": 617,
   "id": "cbda8eb8",
   "metadata": {
    "ExecuteTime": {
     "end_time": "2022-05-18T23:52:50.043540Z",
     "start_time": "2022-05-18T23:52:50.037991Z"
    }
   },
   "outputs": [],
   "source": [
    "arvore = insert(None, a.username, a)"
   ]
  },
  {
   "cell_type": "code",
   "execution_count": 618,
   "id": "e798389e",
   "metadata": {
    "ExecuteTime": {
     "end_time": "2022-05-18T23:52:58.938970Z",
     "start_time": "2022-05-18T23:52:58.931458Z"
    }
   },
   "outputs": [
    {
     "data": {
      "text/plain": [
       "<__main__.BSTNode at 0x7fa59a016580>"
      ]
     },
     "execution_count": 618,
     "metadata": {},
     "output_type": "execute_result"
    }
   ],
   "source": [
    "insert(arvore, b.username, b)"
   ]
  },
  {
   "cell_type": "code",
   "execution_count": 619,
   "id": "4eb5d215",
   "metadata": {
    "ExecuteTime": {
     "end_time": "2022-05-18T23:53:06.071540Z",
     "start_time": "2022-05-18T23:53:06.063396Z"
    }
   },
   "outputs": [
    {
     "data": {
      "text/plain": [
       "<__main__.BSTNode at 0x7fa59a016580>"
      ]
     },
     "execution_count": 619,
     "metadata": {},
     "output_type": "execute_result"
    }
   ],
   "source": [
    "insert(arvore, c.username, c)"
   ]
  },
  {
   "cell_type": "code",
   "execution_count": 620,
   "id": "e7c68390",
   "metadata": {
    "ExecuteTime": {
     "end_time": "2022-05-18T23:53:11.886039Z",
     "start_time": "2022-05-18T23:53:11.878085Z"
    }
   },
   "outputs": [
    {
     "data": {
      "text/plain": [
       "<__main__.BSTNode at 0x7fa59a016580>"
      ]
     },
     "execution_count": 620,
     "metadata": {},
     "output_type": "execute_result"
    }
   ],
   "source": [
    "insert(arvore, d.username, d)"
   ]
  },
  {
   "cell_type": "code",
   "execution_count": 621,
   "id": "3793eb8c",
   "metadata": {
    "ExecuteTime": {
     "end_time": "2022-05-18T23:53:25.722760Z",
     "start_time": "2022-05-18T23:53:25.714496Z"
    }
   },
   "outputs": [
    {
     "data": {
      "text/plain": [
       "<__main__.BSTNode at 0x7fa59a016580>"
      ]
     },
     "execution_count": 621,
     "metadata": {},
     "output_type": "execute_result"
    }
   ],
   "source": [
    "insert(arvore, e.username, e)"
   ]
  },
  {
   "cell_type": "code",
   "execution_count": 622,
   "id": "585d9773",
   "metadata": {
    "ExecuteTime": {
     "end_time": "2022-05-18T23:53:31.476017Z",
     "start_time": "2022-05-18T23:53:31.468974Z"
    }
   },
   "outputs": [
    {
     "data": {
      "text/plain": [
       "<__main__.BSTNode at 0x7fa59a016580>"
      ]
     },
     "execution_count": 622,
     "metadata": {},
     "output_type": "execute_result"
    }
   ],
   "source": [
    "insert(arvore, f.username, f)"
   ]
  },
  {
   "cell_type": "code",
   "execution_count": 624,
   "id": "127b31c4",
   "metadata": {
    "ExecuteTime": {
     "end_time": "2022-05-18T23:53:42.038674Z",
     "start_time": "2022-05-18T23:53:42.031550Z"
    }
   },
   "outputs": [
    {
     "data": {
      "text/plain": [
       "<__main__.BSTNode at 0x7fa59a016580>"
      ]
     },
     "execution_count": 624,
     "metadata": {},
     "output_type": "execute_result"
    }
   ],
   "source": [
    "insert(arvore, g.username, g)"
   ]
  },
  {
   "cell_type": "code",
   "execution_count": 625,
   "id": "df6a53b9",
   "metadata": {
    "ExecuteTime": {
     "end_time": "2022-05-18T23:53:46.671117Z",
     "start_time": "2022-05-18T23:53:46.665540Z"
    }
   },
   "outputs": [
    {
     "name": "stdout",
     "output_type": "stream",
     "text": [
      "\t\t\t\t\t\tg\n",
      "\t\t\t\t\tf\n",
      "\t\t\t\t\t\t∅\n",
      "\t\t\t\te\n",
      "\t\t\t\t\t∅\n",
      "\t\t\td\n",
      "\t\t\t\t∅\n",
      "\t\tc\n",
      "\t\t\t∅\n",
      "\tb\n",
      "\t\t∅\n",
      "a\n",
      "\t∅\n"
     ]
    }
   ],
   "source": [
    "display_keys(arvore)"
   ]
  },
  {
   "cell_type": "code",
   "execution_count": 647,
   "id": "c1476b76",
   "metadata": {
    "ExecuteTime": {
     "end_time": "2022-05-18T23:58:45.189735Z",
     "start_time": "2022-05-18T23:58:45.183846Z"
    }
   },
   "outputs": [],
   "source": [
    "arvore_balanceada = insert(None, d.username, d)"
   ]
  },
  {
   "cell_type": "code",
   "execution_count": 648,
   "id": "8e330f1b",
   "metadata": {
    "ExecuteTime": {
     "end_time": "2022-05-18T23:58:49.086032Z",
     "start_time": "2022-05-18T23:58:49.077345Z"
    }
   },
   "outputs": [
    {
     "data": {
      "text/plain": [
       "<__main__.BSTNode at 0x7fa528110a00>"
      ]
     },
     "execution_count": 648,
     "metadata": {},
     "output_type": "execute_result"
    }
   ],
   "source": [
    "insert(arvore_balanceada, f.username, f)"
   ]
  },
  {
   "cell_type": "code",
   "execution_count": 649,
   "id": "f6e41f82",
   "metadata": {
    "ExecuteTime": {
     "end_time": "2022-05-18T23:58:49.385084Z",
     "start_time": "2022-05-18T23:58:49.378088Z"
    }
   },
   "outputs": [
    {
     "data": {
      "text/plain": [
       "<__main__.BSTNode at 0x7fa528110a00>"
      ]
     },
     "execution_count": 649,
     "metadata": {},
     "output_type": "execute_result"
    }
   ],
   "source": [
    "insert(arvore_balanceada, b.username, b)"
   ]
  },
  {
   "cell_type": "code",
   "execution_count": 651,
   "id": "30dd0dd0",
   "metadata": {
    "ExecuteTime": {
     "end_time": "2022-05-18T23:59:40.941953Z",
     "start_time": "2022-05-18T23:59:40.936455Z"
    }
   },
   "outputs": [
    {
     "data": {
      "text/plain": [
       "<__main__.BSTNode at 0x7fa528110a00>"
      ]
     },
     "execution_count": 651,
     "metadata": {},
     "output_type": "execute_result"
    }
   ],
   "source": [
    "insert(arvore_balanceada, a.username, a)"
   ]
  },
  {
   "cell_type": "code",
   "execution_count": 652,
   "id": "c949dbeb",
   "metadata": {
    "ExecuteTime": {
     "end_time": "2022-05-18T23:59:56.326474Z",
     "start_time": "2022-05-18T23:59:56.320543Z"
    }
   },
   "outputs": [
    {
     "data": {
      "text/plain": [
       "<__main__.BSTNode at 0x7fa528110a00>"
      ]
     },
     "execution_count": 652,
     "metadata": {},
     "output_type": "execute_result"
    }
   ],
   "source": [
    "insert(arvore_balanceada, c.username, c)"
   ]
  },
  {
   "cell_type": "code",
   "execution_count": 654,
   "id": "f85682ab",
   "metadata": {
    "ExecuteTime": {
     "end_time": "2022-05-19T00:00:18.243992Z",
     "start_time": "2022-05-19T00:00:18.236475Z"
    }
   },
   "outputs": [
    {
     "data": {
      "text/plain": [
       "<__main__.BSTNode at 0x7fa528110a00>"
      ]
     },
     "execution_count": 654,
     "metadata": {},
     "output_type": "execute_result"
    }
   ],
   "source": [
    "insert(arvore_balanceada, e.username, e)"
   ]
  },
  {
   "cell_type": "code",
   "execution_count": 655,
   "id": "f20f1e67",
   "metadata": {
    "ExecuteTime": {
     "end_time": "2022-05-19T00:00:26.953544Z",
     "start_time": "2022-05-19T00:00:26.946141Z"
    }
   },
   "outputs": [
    {
     "data": {
      "text/plain": [
       "<__main__.BSTNode at 0x7fa528110a00>"
      ]
     },
     "execution_count": 655,
     "metadata": {},
     "output_type": "execute_result"
    }
   ],
   "source": [
    "insert(arvore_balanceada, g.username, g)"
   ]
  },
  {
   "cell_type": "code",
   "execution_count": 656,
   "id": "20847e55",
   "metadata": {
    "ExecuteTime": {
     "end_time": "2022-05-19T00:00:27.235499Z",
     "start_time": "2022-05-19T00:00:27.229853Z"
    }
   },
   "outputs": [
    {
     "name": "stdout",
     "output_type": "stream",
     "text": [
      "\t\tg\n",
      "\tf\n",
      "\t\te\n",
      "d\n",
      "\t\tc\n",
      "\tb\n",
      "\t\ta\n"
     ]
    }
   ],
   "source": [
    "display_keys(arvore_balanceada)"
   ]
  },
  {
   "cell_type": "markdown",
   "id": "affecting-hormone",
   "metadata": {},
   "source": [
    "### Finding a Node in BST\n",
    "\n",
    "> **QUESTION 11**: Find the value associated with a given key in a BST.\n",
    "\n",
    "We can follow a recursive strategy similar to insertion to find the node with a given key within a BST."
   ]
  },
  {
   "cell_type": "code",
   "execution_count": 657,
   "id": "84afe4d5",
   "metadata": {
    "ExecuteTime": {
     "end_time": "2022-05-19T00:03:31.515562Z",
     "start_time": "2022-05-19T00:03:31.506036Z"
    }
   },
   "outputs": [],
   "source": [
    "def find(node, key):\n",
    "    \n",
    "    if node is None:\n",
    "        return None\n",
    "    # if I arrived at the node I want\n",
    "    if key == node.key:\n",
    "        return node\n",
    "    \n",
    "    if key < node.key:\n",
    "        # if the i'm looking for is smaller than the node i'm in, \n",
    "        # should continue to go deep looking in the left subtree\n",
    "        return find(node.left, key)\n",
    "    \n",
    "    if key > node.key:\n",
    "        # if the key i'm looking for is greater than the node i'm in, \n",
    "        # should continue to go deep looking in the right subtree\n",
    "        # so return new nodes so that can continue the search\n",
    "        return find(node.right, key)"
   ]
  },
  {
   "cell_type": "code",
   "execution_count": 658,
   "id": "b159b1fd",
   "metadata": {
    "ExecuteTime": {
     "end_time": "2022-05-19T00:03:43.911379Z",
     "start_time": "2022-05-19T00:03:43.904450Z"
    }
   },
   "outputs": [
    {
     "data": {
      "text/plain": [
       "User(username='a', name='a Rai', email='a@example.com')"
      ]
     },
     "execution_count": 658,
     "metadata": {},
     "output_type": "execute_result"
    }
   ],
   "source": [
    "a"
   ]
  },
  {
   "cell_type": "code",
   "execution_count": 661,
   "id": "0a8db0fc",
   "metadata": {
    "ExecuteTime": {
     "end_time": "2022-05-19T00:04:12.896485Z",
     "start_time": "2022-05-19T00:04:12.890637Z"
    }
   },
   "outputs": [
    {
     "data": {
      "text/plain": [
       "'c'"
      ]
     },
     "execution_count": 661,
     "metadata": {},
     "output_type": "execute_result"
    }
   ],
   "source": [
    "find(arvore_balanceada, c.username).key"
   ]
  },
  {
   "cell_type": "markdown",
   "id": "governmental-chocolate",
   "metadata": {},
   "source": [
    "<img src=\"https://i.imgur.com/dzDszlw.png\" width=\"520\">"
   ]
  },
  {
   "cell_type": "code",
   "execution_count": 662,
   "id": "chemical-switzerland",
   "metadata": {
    "ExecuteTime": {
     "end_time": "2022-05-19T00:04:46.738338Z",
     "start_time": "2022-05-19T00:04:46.732867Z"
    }
   },
   "outputs": [],
   "source": [
    "node = find(tree, 'hemanth')"
   ]
  },
  {
   "cell_type": "code",
   "execution_count": 663,
   "id": "adjacent-advisory",
   "metadata": {
    "ExecuteTime": {
     "end_time": "2022-05-19T00:04:46.958931Z",
     "start_time": "2022-05-19T00:04:46.950909Z"
    }
   },
   "outputs": [
    {
     "data": {
      "text/plain": [
       "('hemanth',\n",
       " User(username='hemanth', name='Hemanth Jain', email='hemanth@example.com'))"
      ]
     },
     "execution_count": 663,
     "metadata": {},
     "output_type": "execute_result"
    }
   ],
   "source": [
    "node.key, node.value"
   ]
  },
  {
   "cell_type": "markdown",
   "id": "gentle-bosnia",
   "metadata": {},
   "source": [
    "The the length of the path followed by `find` is equal to the height of the tree (in the worst case). Thus it has a similar time complexity as `insert`.\n",
    "\n",
    "**Example:** Try finding some more nodes from the BST created above (or create new trees)."
   ]
  },
  {
   "cell_type": "markdown",
   "id": "fuzzy-general",
   "metadata": {},
   "source": [
    "### Updating a value in a BST\n",
    "\n",
    "> **QUESTION 12:** Write a function to update the value associated with a given key within a BST\n",
    "\n",
    "We can use `find` to locate the node to be updated, and simply update it's value."
   ]
  },
  {
   "cell_type": "code",
   "execution_count": 667,
   "id": "999c5eba",
   "metadata": {
    "ExecuteTime": {
     "end_time": "2022-05-19T00:05:44.158069Z",
     "start_time": "2022-05-19T00:05:44.152108Z"
    }
   },
   "outputs": [
    {
     "name": "stdout",
     "output_type": "stream",
     "text": [
      "a a Rai a@example.com\n"
     ]
    }
   ],
   "source": [
    "print(a.username, a.name, a.email)"
   ]
  },
  {
   "cell_type": "code",
   "execution_count": 673,
   "id": "1dfdfd4b",
   "metadata": {
    "ExecuteTime": {
     "end_time": "2022-05-19T00:08:27.029814Z",
     "start_time": "2022-05-19T00:08:27.025521Z"
    }
   },
   "outputs": [],
   "source": [
    "def update(tree, key, email):\n",
    "    \n",
    "    # return the node\n",
    "    node = find(tree, key)\n",
    "    \n",
    "    if node is not None:\n",
    "        node.email = email"
   ]
  },
  {
   "cell_type": "code",
   "execution_count": 670,
   "id": "76dff1ad",
   "metadata": {
    "ExecuteTime": {
     "end_time": "2022-05-19T00:07:46.164831Z",
     "start_time": "2022-05-19T00:07:46.159351Z"
    }
   },
   "outputs": [],
   "source": [
    "update(arvore_balanceada, a.username, 'new_email_updated@updated_email')"
   ]
  },
  {
   "cell_type": "code",
   "execution_count": 672,
   "id": "cc8bb5c4",
   "metadata": {
    "ExecuteTime": {
     "end_time": "2022-05-19T00:08:06.047115Z",
     "start_time": "2022-05-19T00:08:06.039153Z"
    }
   },
   "outputs": [
    {
     "data": {
      "text/plain": [
       "'new_email_updated@updated_email'"
      ]
     },
     "execution_count": 672,
     "metadata": {},
     "output_type": "execute_result"
    }
   ],
   "source": [
    "find(arvore_balanceada, a.username).email"
   ]
  },
  {
   "cell_type": "code",
   "execution_count": 97,
   "id": "requested-medicine",
   "metadata": {},
   "outputs": [],
   "source": [
    "update(tree, 'hemanth', User('hemanth', 'Hemanth J', 'hemanthj@example.com'))"
   ]
  },
  {
   "cell_type": "code",
   "execution_count": 98,
   "id": "serious-lithuania",
   "metadata": {},
   "outputs": [
    {
     "data": {
      "text/plain": [
       "User(username='hemanth', name='Hemanth J', email='hemanthj@example.com')"
      ]
     },
     "execution_count": 98,
     "metadata": {},
     "output_type": "execute_result"
    }
   ],
   "source": [
    "node = find(tree, 'hemanth')\n",
    "node.value"
   ]
  },
  {
   "cell_type": "markdown",
   "id": "neutral-effects",
   "metadata": {},
   "source": [
    "The value of the node was successfully updated. The time complexity of `update` is the same as that of `find`.\n",
    "\n",
    "**Exercise:** Try some more update operations using the BST created earlier."
   ]
  },
  {
   "cell_type": "markdown",
   "id": "dramatic-bleeding",
   "metadata": {},
   "source": [
    "### List the nodes\n",
    "\n",
    "> **QUESTION 13:** Write a function to retrieve all the key-values pairs stored in a BST in the sorted order of keys.\n",
    "\n",
    "The nodes can be listed in sorted order by performing an inorder traversal of the BST."
   ]
  },
  {
   "cell_type": "code",
   "execution_count": 683,
   "id": "79647ab1",
   "metadata": {
    "ExecuteTime": {
     "end_time": "2022-05-19T00:18:21.884464Z",
     "start_time": "2022-05-19T00:18:21.877317Z"
    }
   },
   "outputs": [],
   "source": [
    "def traverse_in_order(node):\n",
    "    if node is None: \n",
    "        return []\n",
    "    return(traverse_in_order(node.left) + \n",
    "           [node.key] + \n",
    "           traverse_in_order(node.right))"
   ]
  },
  {
   "cell_type": "code",
   "execution_count": 684,
   "id": "77d1d70a",
   "metadata": {
    "ExecuteTime": {
     "end_time": "2022-05-19T00:18:22.149838Z",
     "start_time": "2022-05-19T00:18:22.143394Z"
    }
   },
   "outputs": [],
   "source": [
    "def list_all(node):\n",
    "    if node is None:\n",
    "        return []\n",
    "    # o concatenar da certo pq concatenar lista com lista vazia da a lista original\n",
    "    return  (\n",
    "            list_all(node.left) + \n",
    "            [node.key] +\n",
    "            list_all(node.right)\n",
    "    )\n",
    "            "
   ]
  },
  {
   "cell_type": "code",
   "execution_count": 686,
   "id": "817d0d2e",
   "metadata": {
    "ExecuteTime": {
     "end_time": "2022-05-19T00:18:46.523966Z",
     "start_time": "2022-05-19T00:18:46.516726Z"
    }
   },
   "outputs": [
    {
     "data": {
      "text/plain": [
       "['aakash', 'biraj', 'hemanth', 'jadhesh', 'siddhant', 'sonaksh', 'vishal']"
      ]
     },
     "execution_count": 686,
     "metadata": {},
     "output_type": "execute_result"
    }
   ],
   "source": [
    "list_all(tree)"
   ]
  },
  {
   "cell_type": "code",
   "execution_count": 685,
   "id": "285246e0",
   "metadata": {
    "ExecuteTime": {
     "end_time": "2022-05-19T00:18:22.843042Z",
     "start_time": "2022-05-19T00:18:22.835646Z"
    }
   },
   "outputs": [
    {
     "data": {
      "text/plain": [
       "['a', 'b', 'c', 'd', 'e', 'f', 'g']"
      ]
     },
     "execution_count": 685,
     "metadata": {},
     "output_type": "execute_result"
    }
   ],
   "source": [
    "list_all(arvore_balanceada)"
   ]
  },
  {
   "cell_type": "code",
   "execution_count": null,
   "id": "4ade1764",
   "metadata": {},
   "outputs": [],
   "source": [
    "def list_all(node):\n",
    "    if node is None: \n",
    "        return []\n",
    "    return(traverse_in_order(node.left) + \n",
    "           [node.key] + \n",
    "           traverse_in_order(node.right))"
   ]
  },
  {
   "cell_type": "code",
   "execution_count": 99,
   "id": "independent-contrary",
   "metadata": {},
   "outputs": [],
   "source": [
    "def list_all(node):\n",
    "    if node is None:\n",
    "        return []\n",
    "    return list_all(node.left) + [(node.key, node.value)] + list_all(node.right)"
   ]
  },
  {
   "cell_type": "code",
   "execution_count": 100,
   "id": "acquired-japan",
   "metadata": {},
   "outputs": [
    {
     "data": {
      "text/plain": [
       "[('aakash',\n",
       "  User(username='aakash', name='Aakash Rai', email='aakash@example.com')),\n",
       " ('biraj',\n",
       "  User(username='biraj', name='Biraj Das', email='biraj@example.com')),\n",
       " ('hemanth',\n",
       "  User(username='hemanth', name='Hemanth J', email='hemanthj@example.com')),\n",
       " ('jadhesh',\n",
       "  User(username='jadhesh', name='Jadhesh Verma', email='jadhesh@example.com')),\n",
       " ('siddhant',\n",
       "  User(username='siddhant', name='Siddhant U', email='siddhantu@example.com')),\n",
       " ('sonaksh',\n",
       "  User(username='sonaksh', name='Sonaksh Kumar', email='sonaksh@example.com')),\n",
       " ('vishal',\n",
       "  User(username='siddhant', name='Siddhant U', email='siddhantu@example.com'))]"
      ]
     },
     "execution_count": 100,
     "metadata": {},
     "output_type": "execute_result"
    }
   ],
   "source": [
    "list_all(tree)"
   ]
  },
  {
   "cell_type": "markdown",
   "id": "traditional-disclaimer",
   "metadata": {},
   "source": [
    "**Exercise:** Determine the time complexity and space complexity of `list_all`."
   ]
  },
  {
   "cell_type": "code",
   "execution_count": 101,
   "id": "reliable-algorithm",
   "metadata": {},
   "outputs": [],
   "source": [
    "import jovian"
   ]
  },
  {
   "cell_type": "code",
   "execution_count": 102,
   "id": "offensive-escape",
   "metadata": {},
   "outputs": [
    {
     "data": {
      "application/javascript": [
       "window.require && require([\"base/js/namespace\"],function(Jupyter){Jupyter.notebook.save_checkpoint()})"
      ],
      "text/plain": [
       "<IPython.core.display.Javascript object>"
      ]
     },
     "metadata": {},
     "output_type": "display_data"
    },
    {
     "name": "stdout",
     "output_type": "stream",
     "text": [
      "[jovian] Attempting to save notebook..\u001b[0m\n",
      "[jovian] Updating notebook \"aakashns/python-binary-search-trees\" on https://jovian.ai/\u001b[0m\n",
      "[jovian] Uploading notebook..\u001b[0m\n",
      "[jovian] Capturing environment..\u001b[0m\n",
      "[jovian] Committed successfully! https://jovian.ai/aakashns/python-binary-search-trees\u001b[0m\n"
     ]
    },
    {
     "data": {
      "text/plain": [
       "'https://jovian.ai/aakashns/python-binary-search-trees'"
      ]
     },
     "execution_count": 102,
     "metadata": {},
     "output_type": "execute_result"
    }
   ],
   "source": [
    "jovian.commit()"
   ]
  },
  {
   "cell_type": "markdown",
   "id": "constitutional-charleston",
   "metadata": {},
   "source": [
    "## Balanced Binary Trees\n",
    "\n",
    "> **QUESTION 14**: Write a function to determine if a binary tree is balanced.\n",
    "\n",
    "Here's a recursive strategy:\n",
    "\n",
    "1. Ensure that the left subtree is balanced.\n",
    "2. Ensure that the right subtree is balanced.\n",
    "3. Ensure that the difference between heights of left subtree and right subtree is not more than 1.\n",
    "\n"
   ]
  },
  {
   "cell_type": "code",
   "execution_count": 700,
   "id": "ef30f436",
   "metadata": {
    "ExecuteTime": {
     "end_time": "2022-05-20T00:36:38.773305Z",
     "start_time": "2022-05-20T00:36:38.760896Z"
    }
   },
   "outputs": [
    {
     "name": "stdout",
     "output_type": "stream",
     "text": [
      "\t\t\t∅\n",
      "\t\tg\n",
      "\t\t\t\t∅\n",
      "\t\t\tf\n",
      "\t\t\t\t\t∅\n",
      "\t\t\t\te\n",
      "\t\t\t\t\t\td\n",
      "\t\t\t\t\tc\n",
      "\t\t\t\t\t\t∅\n",
      "\tb\n",
      "\t\t∅\n",
      "a\n",
      "\t∅\n"
     ]
    }
   ],
   "source": [
    "arvore_desbalanceada = insert(None, a.username, a)\n",
    "\n",
    "insert(arvore_desbalanceada, b.username, b)\n",
    "\n",
    "insert(arvore_desbalanceada, g.username, g)\n",
    "\n",
    "insert(arvore_desbalanceada, f.username, f)\n",
    "\n",
    "insert(arvore_desbalanceada, e.username, e)\n",
    "\n",
    "insert(arvore_desbalanceada, c.username, c)\n",
    "\n",
    "insert(arvore_desbalanceada, d.username, d)\n",
    "\n",
    "display_keys(arvore_desbalanceada)"
   ]
  },
  {
   "cell_type": "code",
   "execution_count": 702,
   "id": "1b70feed",
   "metadata": {
    "ExecuteTime": {
     "end_time": "2022-05-20T00:38:06.160215Z",
     "start_time": "2022-05-20T00:38:06.154363Z"
    }
   },
   "outputs": [
    {
     "name": "stdout",
     "output_type": "stream",
     "text": [
      "\t\tg\n",
      "\tf\n",
      "\t\te\n",
      "d\n",
      "\t\tc\n",
      "\tb\n",
      "\t\ta\n"
     ]
    }
   ],
   "source": [
    "display_keys(arvore_balanceada)"
   ]
  },
  {
   "cell_type": "code",
   "execution_count": 692,
   "id": "c138873b",
   "metadata": {
    "ExecuteTime": {
     "end_time": "2022-05-20T00:23:49.747101Z",
     "start_time": "2022-05-20T00:23:49.739946Z"
    }
   },
   "outputs": [
    {
     "data": {
      "text/plain": [
       "User(username='d', name='d Verma', email='d@example.com')"
      ]
     },
     "execution_count": 692,
     "metadata": {},
     "output_type": "execute_result"
    }
   ],
   "source": [
    "arvore_balanceada.value"
   ]
  },
  {
   "cell_type": "code",
   "execution_count": 695,
   "id": "920242eb",
   "metadata": {
    "ExecuteTime": {
     "end_time": "2022-05-20T00:29:59.451224Z",
     "start_time": "2022-05-20T00:29:59.443165Z"
    }
   },
   "outputs": [
    {
     "data": {
      "text/plain": [
       "'b'"
      ]
     },
     "execution_count": 695,
     "metadata": {},
     "output_type": "execute_result"
    }
   ],
   "source": [
    "arvore_balanceada.left.key"
   ]
  },
  {
   "cell_type": "code",
   "execution_count": 713,
   "id": "fe1618e6",
   "metadata": {
    "ExecuteTime": {
     "end_time": "2022-05-20T00:44:04.779485Z",
     "start_time": "2022-05-20T00:44:04.771442Z"
    }
   },
   "outputs": [
    {
     "data": {
      "text/plain": [
       "0"
      ]
     },
     "execution_count": 713,
     "metadata": {},
     "output_type": "execute_result"
    }
   ],
   "source": [
    "tree_height(arvore_balanceada.left.left.left)"
   ]
  },
  {
   "cell_type": "code",
   "execution_count": 714,
   "id": "5807d908",
   "metadata": {
    "ExecuteTime": {
     "end_time": "2022-05-20T00:45:12.250869Z",
     "start_time": "2022-05-20T00:45:12.245254Z"
    }
   },
   "outputs": [],
   "source": [
    "from typing import Tuple"
   ]
  },
  {
   "cell_type": "code",
   "execution_count": 739,
   "id": "3bcadec7",
   "metadata": {
    "ExecuteTime": {
     "end_time": "2022-05-20T00:59:29.840606Z",
     "start_time": "2022-05-20T00:59:29.830384Z"
    }
   },
   "outputs": [],
   "source": [
    "def is_balanced(node) -> Tuple[bool, int]:\n",
    "    if node is None:\n",
    "        return True, 0\n",
    "    \n",
    "    # recursion part\n",
    "    else:\n",
    "        is_balanced_left, left_height = is_balanced(node.left)\n",
    "        is_balanced_right, right_height = is_balanced(node.right)\n",
    "        \n",
    "        # incrementa a altura aqui?\n",
    "        max_diff = 1 + max(left_height, right_height)\n",
    "        \n",
    "        is_balanced_condition = is_balanced_left \\\n",
    "                                and \\\n",
    "                                is_balanced_right \\\n",
    "                                and \\\n",
    "                                abs(left_height - right_height) <= 1\n",
    "        \n",
    "        return is_balanced_condition, max_diff"
   ]
  },
  {
   "cell_type": "code",
   "execution_count": 740,
   "id": "22aafff1",
   "metadata": {
    "ExecuteTime": {
     "end_time": "2022-05-20T00:59:30.224781Z",
     "start_time": "2022-05-20T00:59:30.219475Z"
    }
   },
   "outputs": [
    {
     "data": {
      "text/plain": [
       "(True, 1)"
      ]
     },
     "execution_count": 740,
     "metadata": {},
     "output_type": "execute_result"
    }
   ],
   "source": [
    "is_balanced(arvore_balanceada.left.left)"
   ]
  },
  {
   "cell_type": "code",
   "execution_count": 742,
   "id": "04ef7e98",
   "metadata": {
    "ExecuteTime": {
     "end_time": "2022-05-20T01:00:43.646127Z",
     "start_time": "2022-05-20T01:00:43.636964Z"
    }
   },
   "outputs": [
    {
     "data": {
      "text/plain": [
       "(True, 0)"
      ]
     },
     "execution_count": 742,
     "metadata": {},
     "output_type": "execute_result"
    }
   ],
   "source": [
    "is_balanced(arvore_balanceada.left.left.left)"
   ]
  },
  {
   "cell_type": "code",
   "execution_count": 743,
   "id": "da0f0f81",
   "metadata": {
    "ExecuteTime": {
     "end_time": "2022-05-20T01:00:45.201948Z",
     "start_time": "2022-05-20T01:00:45.194248Z"
    }
   },
   "outputs": [
    {
     "data": {
      "text/plain": [
       "(True, 3)"
      ]
     },
     "execution_count": 743,
     "metadata": {},
     "output_type": "execute_result"
    }
   ],
   "source": [
    "is_balanced(arvore_balanceada)"
   ]
  },
  {
   "cell_type": "code",
   "execution_count": null,
   "id": "8003d987",
   "metadata": {},
   "outputs": [],
   "source": []
  },
  {
   "cell_type": "code",
   "execution_count": null,
   "id": "bce9d130",
   "metadata": {},
   "outputs": [],
   "source": []
  },
  {
   "cell_type": "code",
   "execution_count": null,
   "id": "5e45876c",
   "metadata": {},
   "outputs": [],
   "source": []
  },
  {
   "cell_type": "code",
   "execution_count": null,
   "id": "73b5d53d",
   "metadata": {},
   "outputs": [],
   "source": []
  },
  {
   "cell_type": "code",
   "execution_count": null,
   "id": "ee6a270b",
   "metadata": {},
   "outputs": [],
   "source": []
  },
  {
   "cell_type": "code",
   "execution_count": null,
   "id": "7c24ec2b",
   "metadata": {},
   "outputs": [],
   "source": []
  },
  {
   "cell_type": "code",
   "execution_count": null,
   "id": "c102be9c",
   "metadata": {},
   "outputs": [],
   "source": []
  },
  {
   "cell_type": "code",
   "execution_count": null,
   "id": "2e3cbf4d",
   "metadata": {},
   "outputs": [],
   "source": []
  },
  {
   "cell_type": "code",
   "execution_count": null,
   "id": "aadc29f2",
   "metadata": {},
   "outputs": [],
   "source": []
  },
  {
   "cell_type": "code",
   "execution_count": null,
   "id": "e8635d58",
   "metadata": {},
   "outputs": [],
   "source": []
  },
  {
   "cell_type": "code",
   "execution_count": 103,
   "id": "downtown-isaac",
   "metadata": {},
   "outputs": [],
   "source": [
    "def is_balanced(node):\n",
    "    if node is None:\n",
    "        return True, 0\n",
    "    balanced_l, height_l = is_balanced(node.left)\n",
    "    balanced_r, height_r = is_balanced(node.right)\n",
    "    balanced = balanced_l and balanced_r and abs(height_l - height_r) <=1\n",
    "    height = 1 + max(height_l, height_r)\n",
    "    return balanced, height"
   ]
  },
  {
   "cell_type": "markdown",
   "id": "polar-calculator",
   "metadata": {},
   "source": [
    "The following tree is balanced:\n",
    "\n",
    "<img src=\"https://i.imgur.com/JZeF9ix.png\" width=\"520\">"
   ]
  },
  {
   "cell_type": "code",
   "execution_count": 104,
   "id": "bigger-movie",
   "metadata": {},
   "outputs": [
    {
     "data": {
      "text/plain": [
       "(True, 3)"
      ]
     },
     "execution_count": 104,
     "metadata": {},
     "output_type": "execute_result"
    }
   ],
   "source": [
    "is_balanced(tree)"
   ]
  },
  {
   "cell_type": "markdown",
   "id": "institutional-board",
   "metadata": {},
   "source": [
    "The following tree is not balanced:\n",
    "\n",
    "<img src=\"https://i.imgur.com/lP5Thct.png\" width=\"520\">"
   ]
  },
  {
   "cell_type": "code",
   "execution_count": 105,
   "id": "coordinated-selection",
   "metadata": {},
   "outputs": [
    {
     "data": {
      "text/plain": [
       "(False, 7)"
      ]
     },
     "execution_count": 105,
     "metadata": {},
     "output_type": "execute_result"
    }
   ],
   "source": [
    "is_balanced(tree2)"
   ]
  },
  {
   "cell_type": "markdown",
   "id": "express-steal",
   "metadata": {},
   "source": [
    "**Exercise:** Is the tree shown below balanced? Why or why not? Create this tree and check if it's balanced using the `is_balanced` function.\n",
    "\n",
    "<img src=\"https://i.imgur.com/LlOT712.png\" width=\"520\">\n",
    "\n"
   ]
  },
  {
   "cell_type": "code",
   "execution_count": null,
   "id": "indie-mississippi",
   "metadata": {},
   "outputs": [],
   "source": []
  },
  {
   "cell_type": "code",
   "execution_count": null,
   "id": "prescription-light",
   "metadata": {},
   "outputs": [],
   "source": []
  },
  {
   "cell_type": "markdown",
   "id": "flexible-budapest",
   "metadata": {},
   "source": [
    "Also try this related problem on *complete* binary trees: https://leetcode.com/problems/check-completeness-of-a-binary-tree/\n",
    "\n"
   ]
  },
  {
   "cell_type": "markdown",
   "id": "juvenile-coating",
   "metadata": {},
   "source": [
    "## Balanced Binary Search Trees\n",
    "\n",
    "> **QUESTION 15**: Write a function to create a balanced BST from a sorted list/array of key-value pairs.\n",
    "\n",
    "We can use a recursive strategy here, turning the middle element of the list into the root, and recursively creating left and right subtrees.\n"
   ]
  },
  {
   "cell_type": "code",
   "execution_count": 106,
   "id": "equivalent-nerve",
   "metadata": {},
   "outputs": [],
   "source": [
    "def make_balanced_bst(data, lo=0, hi=None, parent=None):\n",
    "    if hi is None:\n",
    "        hi = len(data) - 1\n",
    "    if lo > hi:\n",
    "        return None\n",
    "    \n",
    "    mid = (lo + hi) // 2\n",
    "    key, value = data[mid]\n",
    "\n",
    "    root = BSTNode(key, value)\n",
    "    root.parent = parent\n",
    "    root.left = make_balanced_bst(data, lo, mid-1, root)\n",
    "    root.right = make_balanced_bst(data, mid+1, hi, root)\n",
    "    \n",
    "    return root\n",
    "    "
   ]
  },
  {
   "cell_type": "code",
   "execution_count": 107,
   "id": "casual-payroll",
   "metadata": {},
   "outputs": [
    {
     "data": {
      "text/plain": [
       "[('aakash',\n",
       "  User(username='aakash', name='Aakash Rai', email='aakash@example.com')),\n",
       " ('biraj',\n",
       "  User(username='biraj', name='Biraj Das', email='biraj@example.com')),\n",
       " ('hemanth',\n",
       "  User(username='hemanth', name='Hemanth Jain', email='hemanth@example.com')),\n",
       " ('jadhesh',\n",
       "  User(username='jadhesh', name='Jadhesh Verma', email='jadhesh@example.com')),\n",
       " ('siddhant',\n",
       "  User(username='siddhant', name='Siddhant U', email='siddhantu@example.com')),\n",
       " ('sonaksh',\n",
       "  User(username='sonaksh', name='Sonaksh Kumar', email='sonaksh@example.com')),\n",
       " ('vishal',\n",
       "  User(username='vishal', name='Vishal Goel', email='vishal@example.com'))]"
      ]
     },
     "execution_count": 107,
     "metadata": {},
     "output_type": "execute_result"
    }
   ],
   "source": [
    "data = [(user.username, user) for user in users]\n",
    "data"
   ]
  },
  {
   "cell_type": "code",
   "execution_count": 108,
   "id": "opened-establishment",
   "metadata": {},
   "outputs": [],
   "source": [
    "tree = make_balanced_bst(data)"
   ]
  },
  {
   "cell_type": "code",
   "execution_count": 109,
   "id": "statistical-alert",
   "metadata": {},
   "outputs": [
    {
     "name": "stdout",
     "output_type": "stream",
     "text": [
      "\t\tvishal\n",
      "\tsonaksh\n",
      "\t\tsiddhant\n",
      "jadhesh\n",
      "\t\themanth\n",
      "\tbiraj\n",
      "\t\taakash\n"
     ]
    }
   ],
   "source": [
    "display_keys(tree)"
   ]
  },
  {
   "cell_type": "markdown",
   "id": "pleasant-hepatitis",
   "metadata": {},
   "source": [
    "<img src=\"https://i.imgur.com/JZeF9ix.png\" width=\"520\">\n",
    "\n",
    "Recall that the same list of users, when inserted one-by-one resulted in a skewed tree."
   ]
  },
  {
   "cell_type": "code",
   "execution_count": 110,
   "id": "pregnant-binding",
   "metadata": {},
   "outputs": [],
   "source": [
    "tree3 = None\n",
    "for username, user in data:\n",
    "    tree3 = insert(tree3, username, user)"
   ]
  },
  {
   "cell_type": "code",
   "execution_count": null,
   "id": "measured-graduate",
   "metadata": {},
   "outputs": [],
   "source": []
  },
  {
   "cell_type": "code",
   "execution_count": null,
   "id": "unable-communications",
   "metadata": {},
   "outputs": [],
   "source": []
  },
  {
   "cell_type": "code",
   "execution_count": null,
   "id": "affected-bikini",
   "metadata": {},
   "outputs": [],
   "source": []
  },
  {
   "cell_type": "markdown",
   "id": "computational-leader",
   "metadata": {},
   "source": [
    "## Balancing an Unbalanced BST\n",
    "\n",
    "> **QUESTION 16:** Write a function to balance an unbalanced binary search tree.\n",
    "\n",
    "We first perform an inorder traversal, then create a balanced BST using the function defined earlier."
   ]
  },
  {
   "cell_type": "code",
   "execution_count": 111,
   "id": "enclosed-criterion",
   "metadata": {},
   "outputs": [],
   "source": [
    "def balance_bst(node):\n",
    "    return make_balanced_bst(list_all(node))"
   ]
  },
  {
   "cell_type": "code",
   "execution_count": 112,
   "id": "informational-flooring",
   "metadata": {},
   "outputs": [],
   "source": [
    "tree1 = None\n",
    "\n",
    "for user in users:\n",
    "    tree1 = insert(tree1, user.username, user)"
   ]
  },
  {
   "cell_type": "code",
   "execution_count": 113,
   "id": "continued-study",
   "metadata": {},
   "outputs": [
    {
     "name": "stdout",
     "output_type": "stream",
     "text": [
      "\t\t\t\t\t\tvishal\n",
      "\t\t\t\t\tsonaksh\n",
      "\t\t\t\t\t\t∅\n",
      "\t\t\t\tsiddhant\n",
      "\t\t\t\t\t∅\n",
      "\t\t\tjadhesh\n",
      "\t\t\t\t∅\n",
      "\t\themanth\n",
      "\t\t\t∅\n",
      "\tbiraj\n",
      "\t\t∅\n",
      "aakash\n",
      "\t∅\n"
     ]
    }
   ],
   "source": [
    "display_keys(tree1)"
   ]
  },
  {
   "cell_type": "code",
   "execution_count": 114,
   "id": "naval-arrangement",
   "metadata": {},
   "outputs": [],
   "source": [
    "tree2 = balance_bst(tree1)"
   ]
  },
  {
   "cell_type": "code",
   "execution_count": 115,
   "id": "compatible-family",
   "metadata": {},
   "outputs": [
    {
     "name": "stdout",
     "output_type": "stream",
     "text": [
      "\t\tvishal\n",
      "\tsonaksh\n",
      "\t\tsiddhant\n",
      "jadhesh\n",
      "\t\themanth\n",
      "\tbiraj\n",
      "\t\taakash\n"
     ]
    }
   ],
   "source": [
    "display_keys(tree2)"
   ]
  },
  {
   "cell_type": "markdown",
   "id": "elegant-passenger",
   "metadata": {},
   "source": [
    "After every insertion, we can balance the tree. This way the tree will remain balanced.\n",
    "\n",
    "Complexity of the various operations in a balanced BST:\n",
    "\n",
    "* Insert - O(log N) + O(N) = O(N)\n",
    "* Find - O(log N)\n",
    "* Update - O(log N)\n",
    "* List all - O(N)\n",
    "\n",
    "What's the real improvement between O(N) and O(log N)? "
   ]
  },
  {
   "cell_type": "code",
   "execution_count": 116,
   "id": "linear-vertical",
   "metadata": {},
   "outputs": [
    {
     "data": {
      "text/plain": [
       "26.5754247590989"
      ]
     },
     "execution_count": 116,
     "metadata": {},
     "output_type": "execute_result"
    }
   ],
   "source": [
    "import math\n",
    "\n",
    "math.log(100000000, 2)"
   ]
  },
  {
   "cell_type": "markdown",
   "id": "fatal-belarus",
   "metadata": {},
   "source": [
    "The logarithm (base 2) of 100 million is around 26. Thus, it takes only 26 operations to find or update a node within a BST (as opposed to 100 million)."
   ]
  },
  {
   "cell_type": "code",
   "execution_count": 117,
   "id": "nonprofit-joshua",
   "metadata": {},
   "outputs": [
    {
     "name": "stdout",
     "output_type": "stream",
     "text": [
      "CPU times: user 8 µs, sys: 1e+03 ns, total: 9 µs\n",
      "Wall time: 14.1 µs\n"
     ]
    }
   ],
   "source": [
    "%%time\n",
    "for i in range(26):\n",
    "    j = i*i"
   ]
  },
  {
   "cell_type": "markdown",
   "id": "welsh-retirement",
   "metadata": {},
   "source": [
    "Compared to linear time:"
   ]
  },
  {
   "cell_type": "code",
   "execution_count": 118,
   "id": "affected-tackle",
   "metadata": {},
   "outputs": [
    {
     "name": "stdout",
     "output_type": "stream",
     "text": [
      "CPU times: user 8.85 s, sys: 10.2 ms, total: 8.86 s\n",
      "Wall time: 8.87 s\n"
     ]
    }
   ],
   "source": [
    "%%time\n",
    "for i in range(100000000):\n",
    "    j = i*i"
   ]
  },
  {
   "cell_type": "markdown",
   "id": "complex-employment",
   "metadata": {},
   "source": [
    "Thus, find and update from a balanced binary search tree is 300,000 times faster than our original solution. To speed up insertions, we may choose to perform the balancing periodically (e.g. once every 1000 insertions). This way, most insertions will be O (log N), but every 1000th insertion will take a few seconds. Another options is to rebalance the tree periodically at the end of every hour."
   ]
  },
  {
   "cell_type": "markdown",
   "id": "lesbian-detector",
   "metadata": {},
   "source": [
    "## A Python-Friendly Treemap \n",
    "\n",
    "We are now ready to return to our original problem statement.\n",
    "\n",
    "> **QUESTION 1**: As a senior backend engineer at Jovian, you are tasked with developing a fast in-memory data structure to manage profile information (username, name and email) for 100 million users. It should allow the following operations to be performed efficiently:\n",
    "> \n",
    "> 1. **Insert** the profile information for a new user.\n",
    "> 2. **Find** the profile information of a user, given their username\n",
    "> 3. **Update** the profile information of a user, given their usrname\n",
    "> 5. **List** all the users of the platform, sorted by username\n",
    ">\n",
    "> You can assume that usernames are unique. \n",
    "\n",
    "\n",
    "\n",
    "We can create a generic class `TreeMap` which supports all the operations specified in the original problem statement in a python-friendly manner."
   ]
  },
  {
   "cell_type": "code",
   "execution_count": 119,
   "id": "global-aberdeen",
   "metadata": {},
   "outputs": [],
   "source": [
    "class TreeMap():\n",
    "    def __init__(self):\n",
    "        self.root = None\n",
    "        \n",
    "    def __setitem__(self, key, value):\n",
    "        node = find(self.root, key)\n",
    "        if not node:\n",
    "            self.root = insert(self.root, key, value)\n",
    "            self.root = balance_bst(self.root)\n",
    "        else:\n",
    "            update(self.root, key, value)\n",
    "            \n",
    "        \n",
    "    def __getitem__(self, key):\n",
    "        node = find(self.root, key)\n",
    "        return node.value if node else None\n",
    "    \n",
    "    def __iter__(self):\n",
    "        return (x for x in list_all(self.root))\n",
    "    \n",
    "    def __len__(self):\n",
    "        return tree_size(self.root)\n",
    "    \n",
    "    def display(self):\n",
    "        return display_keys(self.root)"
   ]
  },
  {
   "cell_type": "markdown",
   "id": "loaded-deposit",
   "metadata": {},
   "source": [
    "**Exercise**: What is the time complexity of `__len__`? Can you reduce it to **O(1)**. Hint: Modify the `BSTNode` class.\n",
    "\n",
    "Let's try using the `TreeMap` class below."
   ]
  },
  {
   "cell_type": "code",
   "execution_count": 120,
   "id": "creative-assessment",
   "metadata": {},
   "outputs": [
    {
     "data": {
      "text/plain": [
       "[User(username='aakash', name='Aakash Rai', email='aakash@example.com'),\n",
       " User(username='biraj', name='Biraj Das', email='biraj@example.com'),\n",
       " User(username='hemanth', name='Hemanth Jain', email='hemanth@example.com'),\n",
       " User(username='jadhesh', name='Jadhesh Verma', email='jadhesh@example.com'),\n",
       " User(username='siddhant', name='Siddhant U', email='siddhantu@example.com'),\n",
       " User(username='sonaksh', name='Sonaksh Kumar', email='sonaksh@example.com'),\n",
       " User(username='vishal', name='Vishal Goel', email='vishal@example.com')]"
      ]
     },
     "execution_count": 120,
     "metadata": {},
     "output_type": "execute_result"
    }
   ],
   "source": [
    "users"
   ]
  },
  {
   "cell_type": "code",
   "execution_count": 121,
   "id": "dedicated-airfare",
   "metadata": {},
   "outputs": [],
   "source": [
    "treemap = TreeMap()"
   ]
  },
  {
   "cell_type": "code",
   "execution_count": 122,
   "id": "organic-vampire",
   "metadata": {},
   "outputs": [
    {
     "name": "stdout",
     "output_type": "stream",
     "text": [
      "∅\n"
     ]
    }
   ],
   "source": [
    "treemap.display()"
   ]
  },
  {
   "cell_type": "code",
   "execution_count": 123,
   "id": "proper-brain",
   "metadata": {},
   "outputs": [],
   "source": [
    "treemap['aakash'] = aakash\n",
    "treemap['jadhesh'] = jadhesh\n",
    "treemap['sonaksh'] = sonaksh"
   ]
  },
  {
   "cell_type": "code",
   "execution_count": 124,
   "id": "mathematical-sender",
   "metadata": {},
   "outputs": [
    {
     "name": "stdout",
     "output_type": "stream",
     "text": [
      "\tsonaksh\n",
      "jadhesh\n",
      "\taakash\n"
     ]
    }
   ],
   "source": [
    "treemap.display()"
   ]
  },
  {
   "cell_type": "code",
   "execution_count": 125,
   "id": "crude-lobby",
   "metadata": {},
   "outputs": [
    {
     "data": {
      "text/plain": [
       "User(username='jadhesh', name='Jadhesh Verma', email='jadhesh@example.com')"
      ]
     },
     "execution_count": 125,
     "metadata": {},
     "output_type": "execute_result"
    }
   ],
   "source": [
    "treemap['jadhesh']"
   ]
  },
  {
   "cell_type": "code",
   "execution_count": 126,
   "id": "running-disposition",
   "metadata": {},
   "outputs": [
    {
     "data": {
      "text/plain": [
       "3"
      ]
     },
     "execution_count": 126,
     "metadata": {},
     "output_type": "execute_result"
    }
   ],
   "source": [
    "len(treemap)"
   ]
  },
  {
   "cell_type": "code",
   "execution_count": 127,
   "id": "victorian-contractor",
   "metadata": {},
   "outputs": [],
   "source": [
    "treemap['biraj'] = biraj\n",
    "treemap['hemanth'] = hemanth\n",
    "treemap['siddhant'] = siddhant\n",
    "treemap['vishal'] = vishal"
   ]
  },
  {
   "cell_type": "code",
   "execution_count": 128,
   "id": "offensive-notice",
   "metadata": {},
   "outputs": [
    {
     "name": "stdout",
     "output_type": "stream",
     "text": [
      "\t\tvishal\n",
      "\tsonaksh\n",
      "\t\tsiddhant\n",
      "jadhesh\n",
      "\t\themanth\n",
      "\tbiraj\n",
      "\t\taakash\n"
     ]
    }
   ],
   "source": [
    "treemap.display()"
   ]
  },
  {
   "cell_type": "code",
   "execution_count": 129,
   "id": "south-hazard",
   "metadata": {},
   "outputs": [
    {
     "name": "stdout",
     "output_type": "stream",
     "text": [
      "aakash User(username='aakash', name='Aakash Rai', email='aakash@example.com')\n",
      "biraj User(username='biraj', name='Biraj Das', email='biraj@example.com')\n",
      "hemanth User(username='hemanth', name='Hemanth Jain', email='hemanth@example.com')\n",
      "jadhesh User(username='jadhesh', name='Jadhesh Verma', email='jadhesh@example.com')\n",
      "siddhant User(username='siddhant', name='Siddhant U', email='siddhantu@example.com')\n",
      "sonaksh User(username='sonaksh', name='Sonaksh Kumar', email='sonaksh@example.com')\n",
      "vishal User(username='vishal', name='Vishal Goel', email='vishal@example.com')\n"
     ]
    }
   ],
   "source": [
    "for key, value in treemap:\n",
    "    print(key, value)"
   ]
  },
  {
   "cell_type": "code",
   "execution_count": 130,
   "id": "dominant-sector",
   "metadata": {},
   "outputs": [
    {
     "data": {
      "text/plain": [
       "[('aakash',\n",
       "  User(username='aakash', name='Aakash Rai', email='aakash@example.com')),\n",
       " ('biraj',\n",
       "  User(username='biraj', name='Biraj Das', email='biraj@example.com')),\n",
       " ('hemanth',\n",
       "  User(username='hemanth', name='Hemanth Jain', email='hemanth@example.com')),\n",
       " ('jadhesh',\n",
       "  User(username='jadhesh', name='Jadhesh Verma', email='jadhesh@example.com')),\n",
       " ('siddhant',\n",
       "  User(username='siddhant', name='Siddhant U', email='siddhantu@example.com')),\n",
       " ('sonaksh',\n",
       "  User(username='sonaksh', name='Sonaksh Kumar', email='sonaksh@example.com')),\n",
       " ('vishal',\n",
       "  User(username='vishal', name='Vishal Goel', email='vishal@example.com'))]"
      ]
     },
     "execution_count": 130,
     "metadata": {},
     "output_type": "execute_result"
    }
   ],
   "source": [
    "list(treemap)"
   ]
  },
  {
   "cell_type": "code",
   "execution_count": 131,
   "id": "large-freedom",
   "metadata": {},
   "outputs": [],
   "source": [
    "treemap['aakash'] = User(username='aakash', name='Aakash N S', email='aakashns@example.com')"
   ]
  },
  {
   "cell_type": "code",
   "execution_count": 132,
   "id": "tropical-advice",
   "metadata": {},
   "outputs": [
    {
     "data": {
      "text/plain": [
       "User(username='aakash', name='Aakash N S', email='aakashns@example.com')"
      ]
     },
     "execution_count": 132,
     "metadata": {},
     "output_type": "execute_result"
    }
   ],
   "source": [
    "treemap['aakash']"
   ]
  },
  {
   "cell_type": "markdown",
   "id": "attached-pacific",
   "metadata": {},
   "source": [
    "\n",
    "**Exercise:** Try out some more examples below. Can our treemap actually handle millions of users profiles?"
   ]
  },
  {
   "cell_type": "code",
   "execution_count": null,
   "id": "wanted-cooking",
   "metadata": {},
   "outputs": [],
   "source": []
  },
  {
   "cell_type": "code",
   "execution_count": null,
   "id": "photographic-desktop",
   "metadata": {},
   "outputs": [],
   "source": []
  },
  {
   "cell_type": "code",
   "execution_count": null,
   "id": "elder-carolina",
   "metadata": {},
   "outputs": [],
   "source": []
  },
  {
   "cell_type": "markdown",
   "id": "conceptual-microphone",
   "metadata": {},
   "source": [
    "Let's save our work before cotinuing."
   ]
  },
  {
   "cell_type": "code",
   "execution_count": 133,
   "id": "affected-rings",
   "metadata": {},
   "outputs": [],
   "source": [
    "import jovian"
   ]
  },
  {
   "cell_type": "code",
   "execution_count": 134,
   "id": "national-stupid",
   "metadata": {},
   "outputs": [
    {
     "data": {
      "application/javascript": [
       "window.require && require([\"base/js/namespace\"],function(Jupyter){Jupyter.notebook.save_checkpoint()})"
      ],
      "text/plain": [
       "<IPython.core.display.Javascript object>"
      ]
     },
     "metadata": {},
     "output_type": "display_data"
    },
    {
     "name": "stdout",
     "output_type": "stream",
     "text": [
      "[jovian] Attempting to save notebook..\u001b[0m\n",
      "[jovian] Updating notebook \"aakashns/python-binary-search-trees\" on https://jovian.ai/\u001b[0m\n",
      "[jovian] Uploading notebook..\u001b[0m\n",
      "[jovian] Capturing environment..\u001b[0m\n",
      "[jovian] Committed successfully! https://jovian.ai/aakashns/python-binary-search-trees\u001b[0m\n"
     ]
    },
    {
     "data": {
      "text/plain": [
       "'https://jovian.ai/aakashns/python-binary-search-trees'"
      ]
     },
     "execution_count": 134,
     "metadata": {},
     "output_type": "execute_result"
    }
   ],
   "source": [
    "jovian.commit()"
   ]
  },
  {
   "cell_type": "markdown",
   "id": "meaning-phrase",
   "metadata": {},
   "source": [
    "## Self-Balancing Binary Trees and AVL Trees\n",
    "\n",
    "A *self-balancing binary tree* remains balanced after every insertion or deletion. Several decades of research has gone into creating self-balancing binary trees, and many approaches have been devised e.g. B-trees, Red Black Trees and  AVL (Adelson-Velsky Landis) trees.\n",
    "\n",
    "We'll take a brief look at AVL trees. Self-balancing in AVL trees is achieved by tracking the *balance factor* (difference between the height of the left subtree and the right subtree) for each node and *rotating* unbalanced subtrees along the path of insertion/deletion to balance them.\n",
    "\n",
    "![](https://upload.wikimedia.org/wikipedia/commons/f/fd/AVL_Tree_Example.gif)\n",
    "\n",
    "In a balanced BST, the balance factor of each node is either 0, -1, or 1. When we perform an insertion, then the balance factor of certain nodes along the path of insertion may change to 2 or -2. Those nodes can be \"rotated\" one-by-one to bring the balance factor back to 1, 0 or -1. \n",
    "\n",
    "There are 4 different scenarios for balancing, two of which require a single rotation, while the others require 2 rotations:\n",
    "\n",
    "\n",
    "![](https://s3.amazonaws.com/hr-challenge-images/0/1436854305-b167cc766c-AVL_Tree_Rebalancing.svg.png)\n",
    "\n",
    "Source: [HackerRank](https://www.hackerrank.com/challenges/self-balancing-tree/problem)\n",
    "\n",
    "Since each rotation takes constant time, and at most `log N` rotations may be required, this operation is far more efficient than creating a balanced binary tree from scratch, allowing insertion and deletion to be performed in `O (log N)` time. Here are some references for AVL Trees:\n",
    "\n",
    "* Explanation of the various cases: https://youtu.be/jDM6_TnYIqE?t=482\n",
    "* Implementation: https://www.geeksforgeeks.org/avl-tree-set-1-insertion/\n"
   ]
  },
  {
   "cell_type": "markdown",
   "id": "persistent-rating",
   "metadata": {},
   "source": [
    "## Summary and Exercises\n",
    "\n",
    "![](https://i.imgur.com/lVqP63n.png)\n",
    "\n",
    "Binary trees form the basis of many modern programming language features (e.g. maps in C++ and Java) and data storage systems (filesystem indexes, relational databases like MySQL). You might wonder if dictionaries in Python are also binary search trees. They're not. They're hash tables, which is a different but equally interesting and important data structure. We'll explore hash tables in a future tutorial.\n",
    "\n",
    "\n",
    "\n",
    "\n",
    "\n",
    "\n",
    "We've covered a lot of ground this in this tutorial, including several common interview questions. Here are a few more problems you can try out:\n",
    "\n",
    "1. Implement rotations and self-balancing insertion\n",
    "1. Implement deletion of a node from a binary search tree\n",
    "2. Implement deletion of a node from a BST (with balancing)\n",
    "3. Find the lowest common ancestor of two nodes in a tree (Hint: Use the `parent` property)\n",
    "4. Find the next node in lexicographic order for a given node\n",
    "5. Given a number k, find the k-th node in a BST.\n",
    "\n",
    "Try more questions here: \n",
    "\n",
    "* https://medium.com/techie-delight/binary-tree-interview-questions-and-practice-problems-439df7e5ea1f\n",
    "* https://leetcode.com/tag/tree/\n",
    "\n",
    "\n",
    "\n",
    "\n"
   ]
  },
  {
   "cell_type": "code",
   "execution_count": 135,
   "id": "judicial-specialist",
   "metadata": {},
   "outputs": [],
   "source": [
    "import jovian"
   ]
  },
  {
   "cell_type": "code",
   "execution_count": null,
   "id": "surprising-guest",
   "metadata": {},
   "outputs": [
    {
     "data": {
      "application/javascript": [
       "window.require && require([\"base/js/namespace\"],function(Jupyter){Jupyter.notebook.save_checkpoint()})"
      ],
      "text/plain": [
       "<IPython.core.display.Javascript object>"
      ]
     },
     "metadata": {},
     "output_type": "display_data"
    },
    {
     "name": "stdout",
     "output_type": "stream",
     "text": [
      "[jovian] Attempting to save notebook..\u001b[0m\n"
     ]
    }
   ],
   "source": [
    "jovian.commit()"
   ]
  },
  {
   "cell_type": "code",
   "execution_count": null,
   "id": "furnished-harvard",
   "metadata": {},
   "outputs": [],
   "source": []
  }
 ],
 "metadata": {
  "kernelspec": {
   "display_name": "Python 3 (ipykernel)",
   "language": "python",
   "name": "python3"
  },
  "language_info": {
   "codemirror_mode": {
    "name": "ipython",
    "version": 3
   },
   "file_extension": ".py",
   "mimetype": "text/x-python",
   "name": "python",
   "nbconvert_exporter": "python",
   "pygments_lexer": "ipython3",
   "version": "3.9.12"
  },
  "toc": {
   "base_numbering": 1,
   "nav_menu": {},
   "number_sections": true,
   "sideBar": true,
   "skip_h1_title": false,
   "title_cell": "Table of Contents",
   "title_sidebar": "Contents",
   "toc_cell": false,
   "toc_position": {},
   "toc_section_display": true,
   "toc_window_display": true
  }
 },
 "nbformat": 4,
 "nbformat_minor": 5
}
