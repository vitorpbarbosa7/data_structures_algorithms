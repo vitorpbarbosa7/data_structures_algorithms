{
 "cells": [
  {
   "cell_type": "code",
   "execution_count": 2,
   "metadata": {},
   "outputs": [],
   "source": [
    "import pandas as pd \n",
    "import numpy as np\n",
    "\n",
    "from IPython.core.interactiveshell import InteractiveShell\n",
    "InteractiveShell.ast_node_interactivity = \"all\"\n",
    "\n",
    "%load_ext autoreload\n",
    "%autoreload 2"
   ]
  },
  {
   "cell_type": "code",
   "execution_count": 19,
   "metadata": {},
   "outputs": [],
   "source": [
    "def binary_search(list_, target):\n",
    "    first = 0\n",
    "    # Constant runtime len\n",
    "    last = len(list_) - 1\n",
    "    print(f'last : {last}')\n",
    "    \n",
    "    while first <= last:\n",
    "        # Calculate midpoint\n",
    "        midpoint = (first + last)//2 # constant runtime\n",
    "        print(f\"Recalculou midpoint {first} + {last} // 2= {midpoint}\")\n",
    "        print(f\"Estamos no valor {list_[midpoint]} e o valor target é {target}\")\n",
    "        if list_[midpoint] == target:\n",
    "            # Finalizamos a execução da função\n",
    "            return midpoint # best case scenario, where we found it\n",
    "        # se for menor que o target, nos livramos do lado esquerdo \n",
    "        elif list_[midpoint] < target:\n",
    "            # vamos para frente, ou seja, para direita\n",
    "            first = midpoint + 1\n",
    "            print('Atualizou first: ', first)\n",
    "        else:\n",
    "            # Se não, podemos ir para esquerda\n",
    "            last = midpoint - 1       \n",
    "            print('Atualizou last: ', last)\n",
    "            \n",
    "    # Caso não caia em nenhuma destas condições, não encontrou o valor\n",
    "    return None"
   ]
  },
  {
   "cell_type": "code",
   "execution_count": 20,
   "metadata": {},
   "outputs": [],
   "source": [
    "init = 0\n",
    "end = 301\n",
    "target = 30"
   ]
  },
  {
   "cell_type": "code",
   "execution_count": 21,
   "metadata": {},
   "outputs": [],
   "source": [
    "lb = list(range(init,int(end)))"
   ]
  },
  {
   "cell_type": "code",
   "execution_count": 22,
   "metadata": {},
   "outputs": [
    {
     "name": "stdout",
     "output_type": "stream",
     "text": [
      "last : 300\n",
      "Recalculou midpoint 0 + 300 // 2= 150\n",
      "Estamos no valor 150 e o valor target é 30\n",
      "Atualizou last:  149\n",
      "Recalculou midpoint 0 + 149 // 2= 74\n",
      "Estamos no valor 74 e o valor target é 30\n",
      "Atualizou last:  73\n",
      "Recalculou midpoint 0 + 73 // 2= 36\n",
      "Estamos no valor 36 e o valor target é 30\n",
      "Atualizou last:  35\n",
      "Recalculou midpoint 0 + 35 // 2= 17\n",
      "Estamos no valor 17 e o valor target é 30\n",
      "Atualizou first:  18\n",
      "Recalculou midpoint 18 + 35 // 2= 26\n",
      "Estamos no valor 26 e o valor target é 30\n",
      "Atualizou first:  27\n",
      "Recalculou midpoint 27 + 35 // 2= 31\n",
      "Estamos no valor 31 e o valor target é 30\n",
      "Atualizou last:  30\n",
      "Recalculou midpoint 27 + 30 // 2= 28\n",
      "Estamos no valor 28 e o valor target é 30\n",
      "Atualizou first:  29\n",
      "Recalculou midpoint 29 + 30 // 2= 29\n",
      "Estamos no valor 29 e o valor target é 30\n",
      "Atualizou first:  30\n",
      "Recalculou midpoint 30 + 30 // 2= 30\n",
      "Estamos no valor 30 e o valor target é 30\n"
     ]
    },
    {
     "data": {
      "text/plain": [
       "30"
      ]
     },
     "execution_count": 22,
     "metadata": {},
     "output_type": "execute_result"
    }
   ],
   "source": [
    "binary_search(lb, target)"
   ]
  },
  {
   "cell_type": "markdown",
   "metadata": {},
   "source": [
    "# Evaluation Space complexity"
   ]
  },
  {
   "cell_type": "code",
   "execution_count": null,
   "metadata": {},
   "outputs": [],
   "source": []
  },
  {
   "cell_type": "code",
   "execution_count": null,
   "metadata": {},
   "outputs": [],
   "source": []
  },
  {
   "cell_type": "code",
   "execution_count": null,
   "metadata": {},
   "outputs": [],
   "source": []
  },
  {
   "cell_type": "markdown",
   "metadata": {},
   "source": [
    "# // floor operator"
   ]
  },
  {
   "cell_type": "code",
   "execution_count": 107,
   "metadata": {},
   "outputs": [
    {
     "name": "stdout",
     "output_type": "stream",
     "text": [
      "time: 1.33 ms (started: 2021-09-12 17:29:22 -03:00)\n"
     ]
    }
   ],
   "source": [
    "aux = list(range(0,10))"
   ]
  },
  {
   "cell_type": "code",
   "execution_count": 108,
   "metadata": {},
   "outputs": [
    {
     "data": {
      "text/plain": [
       "[0, 1, 2, 3, 4, 5, 6, 7, 8, 9]"
      ]
     },
     "execution_count": 108,
     "metadata": {},
     "output_type": "execute_result"
    },
    {
     "name": "stdout",
     "output_type": "stream",
     "text": [
      "time: 2.26 ms (started: 2021-09-12 17:29:22 -03:00)\n"
     ]
    }
   ],
   "source": [
    "aux"
   ]
  },
  {
   "cell_type": "code",
   "execution_count": 109,
   "metadata": {},
   "outputs": [
    {
     "data": {
      "text/plain": [
       "10"
      ]
     },
     "execution_count": 109,
     "metadata": {},
     "output_type": "execute_result"
    },
    {
     "name": "stdout",
     "output_type": "stream",
     "text": [
      "time: 3.31 ms (started: 2021-09-12 17:29:22 -03:00)\n"
     ]
    }
   ],
   "source": [
    "len(aux)"
   ]
  },
  {
   "cell_type": "code",
   "execution_count": 110,
   "metadata": {},
   "outputs": [
    {
     "data": {
      "text/plain": [
       "5.0"
      ]
     },
     "execution_count": 110,
     "metadata": {},
     "output_type": "execute_result"
    },
    {
     "name": "stdout",
     "output_type": "stream",
     "text": [
      "time: 2.97 ms (started: 2021-09-12 17:29:22 -03:00)\n"
     ]
    }
   ],
   "source": [
    "len(aux)/2"
   ]
  },
  {
   "cell_type": "code",
   "execution_count": 111,
   "metadata": {},
   "outputs": [
    {
     "data": {
      "text/plain": [
       "5"
      ]
     },
     "execution_count": 111,
     "metadata": {},
     "output_type": "execute_result"
    },
    {
     "name": "stdout",
     "output_type": "stream",
     "text": [
      "time: 2.31 ms (started: 2021-09-12 17:29:22 -03:00)\n"
     ]
    }
   ],
   "source": [
    "len(aux)//2"
   ]
  },
  {
   "cell_type": "code",
   "execution_count": 112,
   "metadata": {},
   "outputs": [
    {
     "data": {
      "text/plain": [
       "2.3333333333333335"
      ]
     },
     "execution_count": 112,
     "metadata": {},
     "output_type": "execute_result"
    },
    {
     "name": "stdout",
     "output_type": "stream",
     "text": [
      "time: 2.8 ms (started: 2021-09-12 17:29:22 -03:00)\n"
     ]
    }
   ],
   "source": [
    "7/3"
   ]
  },
  {
   "cell_type": "code",
   "execution_count": 113,
   "metadata": {},
   "outputs": [
    {
     "data": {
      "text/plain": [
       "2"
      ]
     },
     "execution_count": 113,
     "metadata": {},
     "output_type": "execute_result"
    },
    {
     "name": "stdout",
     "output_type": "stream",
     "text": [
      "time: 2.82 ms (started: 2021-09-12 17:29:22 -03:00)\n"
     ]
    }
   ],
   "source": [
    "7//3"
   ]
  },
  {
   "cell_type": "code",
   "execution_count": 114,
   "metadata": {},
   "outputs": [
    {
     "data": {
      "text/plain": [
       "2.6666666666666665"
      ]
     },
     "execution_count": 114,
     "metadata": {},
     "output_type": "execute_result"
    },
    {
     "name": "stdout",
     "output_type": "stream",
     "text": [
      "time: 2.21 ms (started: 2021-09-12 17:29:22 -03:00)\n"
     ]
    }
   ],
   "source": [
    "8/3"
   ]
  },
  {
   "cell_type": "code",
   "execution_count": 115,
   "metadata": {},
   "outputs": [
    {
     "data": {
      "text/plain": [
       "2"
      ]
     },
     "execution_count": 115,
     "metadata": {},
     "output_type": "execute_result"
    },
    {
     "name": "stdout",
     "output_type": "stream",
     "text": [
      "time: 2.39 ms (started: 2021-09-12 17:29:22 -03:00)\n"
     ]
    }
   ],
   "source": [
    "8//3"
   ]
  }
 ],
 "metadata": {
  "kernelspec": {
   "display_name": "Python 3 (ipykernel)",
   "language": "python",
   "name": "python3"
  },
  "language_info": {
   "codemirror_mode": {
    "name": "ipython",
    "version": 3
   },
   "file_extension": ".py",
   "mimetype": "text/x-python",
   "name": "python",
   "nbconvert_exporter": "python",
   "pygments_lexer": "ipython3",
   "version": "3.7.2"
  }
 },
 "nbformat": 4,
 "nbformat_minor": 4
}
