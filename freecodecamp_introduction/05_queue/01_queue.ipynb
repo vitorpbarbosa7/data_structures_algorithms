{
 "cells": [
  {
   "cell_type": "markdown",
   "metadata": {},
   "source": [
    "https://www.geeksforgeeks.org/breadth-first-search-or-bfs-for-a-graph/"
   ]
  },
  {
   "cell_type": "code",
   "execution_count": 2,
   "metadata": {},
   "outputs": [],
   "source": [
    "from collections import defaultdict"
   ]
  },
  {
   "cell_type": "markdown",
   "metadata": {},
   "source": [
    "## how to use defaultdict in python "
   ]
  },
  {
   "cell_type": "markdown",
   "metadata": {},
   "source": [
    "### Default function initialization for defaultdict"
   ]
  },
  {
   "cell_type": "code",
   "execution_count": 3,
   "metadata": {},
   "outputs": [],
   "source": [
    "ice_cream = defaultdict(lambda: 'Vanilla')"
   ]
  },
  {
   "cell_type": "code",
   "execution_count": 8,
   "metadata": {},
   "outputs": [],
   "source": [
    "ice_cream['Sarah'] = 'Chunky Monkey'"
   ]
  },
  {
   "cell_type": "code",
   "execution_count": 9,
   "metadata": {},
   "outputs": [
    {
     "name": "stdout",
     "output_type": "stream",
     "text": [
      "Chunky Monkey\n"
     ]
    }
   ],
   "source": [
    "print(ice_cream['Sarah'])"
   ]
  },
  {
   "cell_type": "code",
   "execution_count": 10,
   "metadata": {},
   "outputs": [
    {
     "name": "stdout",
     "output_type": "stream",
     "text": [
      "Vanilla\n"
     ]
    }
   ],
   "source": [
    "print(ice_cream['not_declared'])"
   ]
  },
  {
   "cell_type": "markdown",
   "metadata": {},
   "source": [
    "# Another example, which is better for graphs"
   ]
  },
  {
   "cell_type": "code",
   "execution_count": 11,
   "metadata": {},
   "outputs": [],
   "source": [
    "from collections import defaultdict"
   ]
  },
  {
   "cell_type": "code",
   "execution_count": 12,
   "metadata": {},
   "outputs": [],
   "source": [
    "city_list = [('TX','Austin'), ('TX','Houston'), ('NY','Albany'), ('NY', 'Syracuse'), ('NY', 'Buffalo'), ('NY', 'Rochester'), ('TX', 'Dallas'), ('CA','Sacramento'), ('CA', 'Palo Alto'), ('GA', 'Atlanta')]"
   ]
  },
  {
   "cell_type": "code",
   "execution_count": 14,
   "metadata": {},
   "outputs": [],
   "source": [
    "# Declarando o defaultdict a partir de uma lista\n",
    "cities_by_state = defaultdict(list)"
   ]
  },
  {
   "cell_type": "code",
   "execution_count": 15,
   "metadata": {},
   "outputs": [],
   "source": [
    "for state, city in city_list:\n",
    "    cities_by_state[state].append(city)"
   ]
  },
  {
   "cell_type": "code",
   "execution_count": 16,
   "metadata": {},
   "outputs": [
    {
     "data": {
      "text/plain": [
       "defaultdict(list,\n",
       "            {'TX': ['Austin', 'Houston', 'Dallas'],\n",
       "             'NY': ['Albany', 'Syracuse', 'Buffalo', 'Rochester'],\n",
       "             'CA': ['Sacramento', 'Palo Alto'],\n",
       "             'GA': ['Atlanta']})"
      ]
     },
     "execution_count": 16,
     "metadata": {},
     "output_type": "execute_result"
    }
   ],
   "source": [
    "cities_by_stateS"
   ]
  },
  {
   "cell_type": "code",
   "execution_count": 17,
   "metadata": {},
   "outputs": [],
   "source": [
    "class Graph:\n",
    "    \n",
    "    # Constructor\n",
    "    def __init__(self):\n",
    "        \n",
    "        # default dictionary to store the graph\n",
    "        self.graph = defaultdict(list)\n",
    "        \n",
    "    # Append edge to graph\n",
    "    def addEdge(self,u,v):\n",
    "        # vertice u com adjancentes v?\n",
    "        self.graph[u].append(v)\n",
    "        \n",
    "    # Function to print a Breatdh First Search\n",
    "    # De acordo com o vertice s passado para \n",
    "    # descobrir quais sao os adjacentes\n",
    "    def bfs(self, s):\n",
    "        \n",
    "        # Mark vertices as not visited\n",
    "        visited = [False]*(max(self.graph)+1)\n",
    "        \n",
    "        # new queue\n",
    "        # Utilização de lista para ser utilizada como fila, aqui no python\n",
    "        queue = []\n",
    "        \n",
    "        # Mark the source node as visited and enqueue to continue with other as follows\n",
    "        queue.append(s)\n",
    "        visited[s] = True\n",
    "        \n",
    "        # Enquanto nao visitar todos elementos do grafo, a não estará vazia \n",
    "        # A fila vai sendo esvaziada conforme visita-se cada vértice do grafo\n",
    "        while queue:\n",
    "            \n",
    "            s = queue.pop(0)\n",
    "            print(s, end = \" \")\n",
    "            \n",
    "            # Pegar todos vértices adjacentes da vértice que acabou de ser \n",
    "            # dequeued. Se um vérvice desses adjacentes não foi visitado, \n",
    "            # Então queue, adicione à fila.\n",
    "            \n",
    "            # Aqui estarão todos elementos adjacentes a um vértice\n",
    "            for i in self.graph[s]:\n",
    "                if visited[i] == False:\n",
    "                    # Não visitado entra pra fila\n",
    "                    # para podermos checar quais são os nodes adjancentes a ele\n",
    "                    queue.append(i)\n",
    "                    # Ai visitamos ele\n",
    "                    visited[i] = True\n",
    "        "
   ]
  },
  {
   "cell_type": "code",
   "execution_count": 18,
   "metadata": {},
   "outputs": [],
   "source": [
    "g = Graph()"
   ]
  },
  {
   "cell_type": "code",
   "execution_count": 19,
   "metadata": {},
   "outputs": [],
   "source": [
    "g.addEdge(0,1)"
   ]
  },
  {
   "cell_type": "code",
   "execution_count": 20,
   "metadata": {},
   "outputs": [],
   "source": [
    "g.addEdge(0,2)"
   ]
  },
  {
   "cell_type": "code",
   "execution_count": 21,
   "metadata": {},
   "outputs": [],
   "source": [
    "g.addEdge(1,2)"
   ]
  },
  {
   "cell_type": "code",
   "execution_count": 22,
   "metadata": {},
   "outputs": [],
   "source": [
    "g.addEdge(2,0)"
   ]
  },
  {
   "cell_type": "code",
   "execution_count": 23,
   "metadata": {},
   "outputs": [],
   "source": [
    "g.addEdge(2,3)"
   ]
  },
  {
   "cell_type": "code",
   "execution_count": 24,
   "metadata": {},
   "outputs": [],
   "source": [
    "g.addEdge(3,3)"
   ]
  },
  {
   "cell_type": "code",
   "execution_count": 27,
   "metadata": {},
   "outputs": [
    {
     "name": "stdout",
     "output_type": "stream",
     "text": [
      "2 0 3 1 "
     ]
    }
   ],
   "source": [
    "g.bfs(2)"
   ]
  },
  {
   "cell_type": "code",
   "execution_count": 28,
   "metadata": {},
   "outputs": [
    {
     "name": "stdout",
     "output_type": "stream",
     "text": [
      "Initial queue\n",
      "['a', 'b', 'c']\n",
      "\n",
      "Elements dequeued from queue\n",
      "a\n",
      "b\n",
      "c\n",
      "\n",
      "Queue after removing elements\n",
      "[]\n"
     ]
    }
   ],
   "source": [
    "# Python program to\n",
    "# demonstrate queue implementation\n",
    "# using list\n",
    " \n",
    "# Initializing a queue\n",
    "queue = []\n",
    " \n",
    "# Adding elements to the queue\n",
    "queue.append('a')\n",
    "queue.append('b')\n",
    "queue.append('c')\n",
    " \n",
    "print(\"Initial queue\")\n",
    "print(queue)\n",
    " \n",
    "# Removing elements from the queue\n",
    "print(\"\\nElements dequeued from queue\")\n",
    "print(queue.pop(0))\n",
    "print(queue.pop(0))\n",
    "print(queue.pop(0))\n",
    " \n",
    "print(\"\\nQueue after removing elements\")\n",
    "print(queue)\n",
    " \n",
    "# Uncommenting print(queue.pop(0))\n",
    "# will raise and IndexError\n",
    "# as the queue is now empty"
   ]
  },
  {
   "cell_type": "code",
   "execution_count": null,
   "metadata": {},
   "outputs": [],
   "source": []
  }
 ],
 "metadata": {
  "kernelspec": {
   "display_name": "Python 3",
   "language": "python",
   "name": "python3"
  },
  "language_info": {
   "codemirror_mode": {
    "name": "ipython",
    "version": 3
   },
   "file_extension": ".py",
   "mimetype": "text/x-python",
   "name": "python",
   "nbconvert_exporter": "python",
   "pygments_lexer": "ipython3",
   "version": "3.7.6"
  }
 },
 "nbformat": 4,
 "nbformat_minor": 4
}
