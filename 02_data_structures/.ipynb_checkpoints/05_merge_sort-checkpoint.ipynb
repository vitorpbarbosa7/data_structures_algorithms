{
 "cells": [
  {
   "cell_type": "code",
   "execution_count": 1,
   "metadata": {},
   "outputs": [],
   "source": [
    "%load_ext autoreload\n",
    "%autoreload 2"
   ]
  },
  {
   "cell_type": "code",
   "execution_count": 95,
   "metadata": {},
   "outputs": [],
   "source": [
    "def merge(left, right):\n",
    "    '''\n",
    "    Merges two lists (arrays), sorting them in the process\n",
    "    Returns a new merged list\n",
    "    '''\n",
    "    \n",
    "    # keep track of index values for the lists\n",
    "    l = []\n",
    "    i = 0 # index in left list\n",
    "    j = 0 # index in right list\n",
    "    \n",
    "    while i < len(left) and j < len(right):\n",
    "        # first values \n",
    "        # append left\n",
    "        if left[i] < right[j]:\n",
    "            l.append(left[i])\n",
    "            # left list shift right\n",
    "            i+=1\n",
    "        # append right\n",
    "        else: # left[i] >= right[j]\n",
    "            l.append(right[j])\n",
    "            j+=1\n",
    "            \n",
    "    # account for the right list is shorter than the left list\n",
    "    # \n",
    "    while i < len(left):\n",
    "        l.append(left[i])\n",
    "        print('LEFT')\n",
    "        i+=1\n",
    "    \n",
    "    # left list is shorter than the right\n",
    "    # Adds last element \n",
    "    while j < len(right):\n",
    "        l.append(right[j])\n",
    "        print('RIGHT')\n",
    "        j+=1\n",
    "        \n",
    "    return l\n",
    "            \n"
   ]
  },
  {
   "cell_type": "markdown",
   "metadata": {},
   "source": [
    "# Merge Function"
   ]
  },
  {
   "cell_type": "code",
   "execution_count": 112,
   "metadata": {},
   "outputs": [],
   "source": [
    "def merge(left, right):\n",
    "    '''\n",
    "    Merges two lists (arrays), sorting them in the process\n",
    "    Returns a new merged list\n",
    "    '''\n",
    "    \n",
    "    # keep track of index values for the lists\n",
    "    l = []\n",
    "    i = 0 # index in left list\n",
    "    j = 0 # index in right list\n",
    "    \n",
    "    while i < len(left) and j < len(right):\n",
    "        # first values \n",
    "        # append left\n",
    "        if left[i] < right[j]:\n",
    "            l.append(left[i])\n",
    "            # left list shift right\n",
    "            i+=1\n",
    "        # append right\n",
    "        else: # left[i] >= right[j]\n",
    "            l.append(right[j])\n",
    "            j+=1\n",
    "            \n",
    "    # account for the right list is shorter than the left list\n",
    "    # \n",
    "    while i < len(left):\n",
    "        l.append(left[i])\n",
    "#         print('LEFT')\n",
    "        i+=1\n",
    "    \n",
    "    # left list is shorter than the right\n",
    "    # Adds last element \n",
    "    while j < len(right):\n",
    "        l.append(right[j])\n",
    "#         print('RIGHT')\n",
    "        j+=1\n",
    "        \n",
    "    return l\n",
    "            \n"
   ]
  },
  {
   "cell_type": "code",
   "execution_count": 118,
   "metadata": {},
   "outputs": [],
   "source": [
    "def merge_sort(list_):\n",
    "    '''\n",
    "    Sorts a list in ascending order\n",
    "    Returns a new sorted list\n",
    "    \n",
    "    Divide: Find the midpoint of the list and divide into sublists\n",
    "    Conquer: Recursively sort the sublists created in previous steps\n",
    "    Combine: Merge the sorted sublists created in previous step\n",
    "    '''\n",
    "    \n",
    "    # stopping condition \n",
    "    # [] list and len(list) = 1\n",
    "    if len(list_) <= 1:\n",
    "        return list_\n",
    "    \n",
    "    # Split list\n",
    "    left_half, right_half = split(list_)\n",
    "    print('left_half',left_half)\n",
    "    print('right_half', right_half,'end split \\n ')\n",
    "    \n",
    "    \n",
    "    # recursive portion\n",
    "    # Applying merge_sort to new lists, to divide, conquer(sort) and combine again\n",
    "    # left_half vai receber novo split\n",
    "    left = merge_sort(left_half)\n",
    "    print(left, 'merge_sort left step \\n \\n')\n",
    "    right = merge_sort(right_half)\n",
    "    print(right, 'merge_sort right step \\n \\n')\n",
    "    \n",
    "    # deu split \n",
    "    # sort and merge\n",
    "    # return left and right merged\n",
    "    return print('final',(merge(left, right)))"
   ]
  },
  {
   "cell_type": "markdown",
   "metadata": {},
   "source": [
    "# Utilizando a função merge_sort"
   ]
  },
  {
   "cell_type": "code",
   "execution_count": 119,
   "metadata": {},
   "outputs": [],
   "source": [
    "list_ = [54,62,93,17,77,31,44,55,20]"
   ]
  },
  {
   "cell_type": "code",
   "execution_count": 120,
   "metadata": {},
   "outputs": [
    {
     "name": "stdout",
     "output_type": "stream",
     "text": [
      "left_half [54, 62, 93, 17]\n",
      "right_half [77, 31, 44, 55, 20] end split \n",
      " \n",
      "left_half [54, 62]\n",
      "right_half [93, 17] end split \n",
      " \n",
      "left_half [54]\n",
      "right_half [62] end split \n",
      " \n",
      "[54] merge_sort left step \n",
      " \n",
      "\n",
      "[62] merge_sort right step \n",
      " \n",
      "\n",
      "final [54, 62]\n",
      "None merge_sort left step \n",
      " \n",
      "\n",
      "left_half [93]\n",
      "right_half [17] end split \n",
      " \n",
      "[93] merge_sort left step \n",
      " \n",
      "\n",
      "[17] merge_sort right step \n",
      " \n",
      "\n",
      "final [17, 93]\n",
      "None merge_sort right step \n",
      " \n",
      "\n"
     ]
    },
    {
     "ename": "TypeError",
     "evalue": "object of type 'NoneType' has no len()",
     "output_type": "error",
     "traceback": [
      "\u001b[0;31m---------------------------------------------------------------------------\u001b[0m",
      "\u001b[0;31mTypeError\u001b[0m                                 Traceback (most recent call last)",
      "\u001b[0;32m<ipython-input-120-7c110db5090f>\u001b[0m in \u001b[0;36m<module>\u001b[0;34m\u001b[0m\n\u001b[0;32m----> 1\u001b[0;31m \u001b[0mmerge_sort\u001b[0m\u001b[0;34m(\u001b[0m\u001b[0mlist_\u001b[0m\u001b[0;34m)\u001b[0m\u001b[0;34m\u001b[0m\u001b[0;34m\u001b[0m\u001b[0m\n\u001b[0m",
      "\u001b[0;32m<ipython-input-118-a7e060432f96>\u001b[0m in \u001b[0;36mmerge_sort\u001b[0;34m(list_)\u001b[0m\n\u001b[1;32m     23\u001b[0m     \u001b[0;31m# Applying merge_sort to new lists, to divide, conquer(sort) and combine again\u001b[0m\u001b[0;34m\u001b[0m\u001b[0;34m\u001b[0m\u001b[0;34m\u001b[0m\u001b[0m\n\u001b[1;32m     24\u001b[0m     \u001b[0;31m# left_half vai receber novo split\u001b[0m\u001b[0;34m\u001b[0m\u001b[0;34m\u001b[0m\u001b[0;34m\u001b[0m\u001b[0m\n\u001b[0;32m---> 25\u001b[0;31m     \u001b[0mleft\u001b[0m \u001b[0;34m=\u001b[0m \u001b[0mmerge_sort\u001b[0m\u001b[0;34m(\u001b[0m\u001b[0mleft_half\u001b[0m\u001b[0;34m)\u001b[0m\u001b[0;34m\u001b[0m\u001b[0;34m\u001b[0m\u001b[0m\n\u001b[0m\u001b[1;32m     26\u001b[0m     \u001b[0mprint\u001b[0m\u001b[0;34m(\u001b[0m\u001b[0mleft\u001b[0m\u001b[0;34m,\u001b[0m \u001b[0;34m'merge_sort left step \\n \\n'\u001b[0m\u001b[0;34m)\u001b[0m\u001b[0;34m\u001b[0m\u001b[0;34m\u001b[0m\u001b[0m\n\u001b[1;32m     27\u001b[0m     \u001b[0mright\u001b[0m \u001b[0;34m=\u001b[0m \u001b[0mmerge_sort\u001b[0m\u001b[0;34m(\u001b[0m\u001b[0mright_half\u001b[0m\u001b[0;34m)\u001b[0m\u001b[0;34m\u001b[0m\u001b[0;34m\u001b[0m\u001b[0m\n",
      "\u001b[0;32m<ipython-input-118-a7e060432f96>\u001b[0m in \u001b[0;36mmerge_sort\u001b[0;34m(list_)\u001b[0m\n\u001b[1;32m     31\u001b[0m     \u001b[0;31m# sort and merge\u001b[0m\u001b[0;34m\u001b[0m\u001b[0;34m\u001b[0m\u001b[0;34m\u001b[0m\u001b[0m\n\u001b[1;32m     32\u001b[0m     \u001b[0;31m# return left and right merged\u001b[0m\u001b[0;34m\u001b[0m\u001b[0;34m\u001b[0m\u001b[0;34m\u001b[0m\u001b[0m\n\u001b[0;32m---> 33\u001b[0;31m     \u001b[0;32mreturn\u001b[0m \u001b[0mprint\u001b[0m\u001b[0;34m(\u001b[0m\u001b[0;34m'final'\u001b[0m\u001b[0;34m,\u001b[0m\u001b[0;34m(\u001b[0m\u001b[0mmerge\u001b[0m\u001b[0;34m(\u001b[0m\u001b[0mleft\u001b[0m\u001b[0;34m,\u001b[0m \u001b[0mright\u001b[0m\u001b[0;34m)\u001b[0m\u001b[0;34m)\u001b[0m\u001b[0;34m)\u001b[0m\u001b[0;34m\u001b[0m\u001b[0;34m\u001b[0m\u001b[0m\n\u001b[0m",
      "\u001b[0;32m<ipython-input-112-e0fd7cb1da7f>\u001b[0m in \u001b[0;36mmerge\u001b[0;34m(left, right)\u001b[0m\n\u001b[1;32m     10\u001b[0m     \u001b[0mj\u001b[0m \u001b[0;34m=\u001b[0m \u001b[0;36m0\u001b[0m \u001b[0;31m# index in right list\u001b[0m\u001b[0;34m\u001b[0m\u001b[0;34m\u001b[0m\u001b[0m\n\u001b[1;32m     11\u001b[0m \u001b[0;34m\u001b[0m\u001b[0m\n\u001b[0;32m---> 12\u001b[0;31m     \u001b[0;32mwhile\u001b[0m \u001b[0mi\u001b[0m \u001b[0;34m<\u001b[0m \u001b[0mlen\u001b[0m\u001b[0;34m(\u001b[0m\u001b[0mleft\u001b[0m\u001b[0;34m)\u001b[0m \u001b[0;32mand\u001b[0m \u001b[0mj\u001b[0m \u001b[0;34m<\u001b[0m \u001b[0mlen\u001b[0m\u001b[0;34m(\u001b[0m\u001b[0mright\u001b[0m\u001b[0;34m)\u001b[0m\u001b[0;34m:\u001b[0m\u001b[0;34m\u001b[0m\u001b[0;34m\u001b[0m\u001b[0m\n\u001b[0m\u001b[1;32m     13\u001b[0m         \u001b[0;31m# first values\u001b[0m\u001b[0;34m\u001b[0m\u001b[0;34m\u001b[0m\u001b[0;34m\u001b[0m\u001b[0m\n\u001b[1;32m     14\u001b[0m         \u001b[0;31m# append left\u001b[0m\u001b[0;34m\u001b[0m\u001b[0;34m\u001b[0m\u001b[0;34m\u001b[0m\u001b[0m\n",
      "\u001b[0;31mTypeError\u001b[0m: object of type 'NoneType' has no len()"
     ]
    }
   ],
   "source": [
    "merge_sort(list_)"
   ]
  },
  {
   "cell_type": "code",
   "execution_count": null,
   "metadata": {},
   "outputs": [],
   "source": []
  }
 ],
 "metadata": {
  "kernelspec": {
   "display_name": "Python 3",
   "language": "python",
   "name": "python3"
  },
  "language_info": {
   "codemirror_mode": {
    "name": "ipython",
    "version": 3
   },
   "file_extension": ".py",
   "mimetype": "text/x-python",
   "name": "python",
   "nbconvert_exporter": "python",
   "pygments_lexer": "ipython3",
   "version": "3.7.6"
  }
 },
 "nbformat": 4,
 "nbformat_minor": 4
}
