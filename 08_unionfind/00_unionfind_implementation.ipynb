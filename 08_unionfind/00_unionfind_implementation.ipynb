{
 "cells": [
  {
   "cell_type": "code",
   "execution_count": 1,
   "metadata": {},
   "outputs": [],
   "source": [
    "import pandas as pd \n",
    "import matplotlib.pyplot as plt \n",
    "import numpy as np\n",
    "import seaborn as sns\n",
    "import scipy.stats as stats\n",
    "import statsmodels.stats.api as sms\n",
    "\n",
    "from IPython.display import display\n",
    "from IPython.display import Markdown as md\n",
    "from IPython.core.interactiveshell import InteractiveShell\n",
    "InteractiveShell.ast_node_interactivity = \"all\"\n",
    "plt.style.use('seaborn')\n",
    "\n",
    "def f():\n",
    "    pd.set_option('display.max_columns', None)\n",
    "    pd.set_option('display.max_rows', None)\n",
    "    \n",
    "def nf():\n",
    "    pd.set_option('display.max_columns', None)\n",
    "    pd.set_option('display.max_rows', 4)\n",
    "\n",
    "import warnings\n",
    "warnings.filterwarnings('ignore')\n",
    "\n",
    "def dp(df, r = 5, c = None):\n",
    "    from IPython.display import display\n",
    "    with pd.option_context('display.max_rows', 4, 'display.max_columns', None):\n",
    "        display(df)\n",
    "\n",
    "def fg(w = 6, h = 4, dpi = 120):\n",
    "    plt.rcParams['figure.figsize'] = (w,h)\n",
    "    plt.rcParams['figure.dpi'] = dpi\n",
    "fg()\n",
    "\n",
    "# import autotime\n",
    "# %load_ext autoreload\n",
    "# %autoreload 2\n",
    "# %load_ext autotime"
   ]
  },
  {
   "cell_type": "markdown",
   "metadata": {},
   "source": [
    "# Union Find"
   ]
  },
  {
   "cell_type": "markdown",
   "metadata": {},
   "source": [
    "https://www.geeksforgeeks.org/union-find/"
   ]
  },
  {
   "cell_type": "markdown",
   "metadata": {},
   "source": [
    "**Find** : Determines in which subset a particular element is \n",
    "**Union** : Join two subsets into a single subset"
   ]
  },
  {
   "cell_type": "markdown",
   "metadata": {},
   "source": [
    "#### Enumerate"
   ]
  },
  {
   "cell_type": "code",
   "execution_count": 7,
   "metadata": {},
   "outputs": [
    {
     "name": "stdout",
     "output_type": "stream",
     "text": [
      "index 0 \n",
      "  value 8\n",
      "index 1 \n",
      "  value 5\n",
      "index 2 \n",
      "  value 7\n",
      "index 3 \n",
      "  value 9\n",
      "index 4 \n",
      "  value 6\n",
      "index 5 \n",
      "  value 4\n",
      "index 6 \n",
      "  value 1\n",
      "index 7 \n",
      "  value 5\n",
      "index 8 \n",
      "  value 3\n",
      "index 9 \n",
      "  value 2\n"
     ]
    }
   ],
   "source": [
    "_array = [8,5,7,9,6,4,1,5,3,2]\n",
    "for index, value in enumerate(_array):\n",
    "    print('index',index, '\\n  value', value)"
   ]
  },
  {
   "cell_type": "code",
   "execution_count": 10,
   "metadata": {},
   "outputs": [],
   "source": [
    "_names = ['apple','intel','amd']"
   ]
  },
  {
   "cell_type": "code",
   "execution_count": 11,
   "metadata": {},
   "outputs": [
    {
     "name": "stdout",
     "output_type": "stream",
     "text": [
      "(0, 'apple')\n",
      "(1, 'intel')\n",
      "(2, 'amd')\n"
     ]
    }
   ],
   "source": [
    "for item in enumerate(_names):\n",
    "    print(item)"
   ]
  },
  {
   "cell_type": "code",
   "execution_count": 12,
   "metadata": {},
   "outputs": [
    {
     "name": "stdout",
     "output_type": "stream",
     "text": [
      "(5, 'apple')\n",
      "(6, 'intel')\n",
      "(7, 'amd')\n"
     ]
    }
   ],
   "source": [
    "for item in enumerate(_names, start = 5):\n",
    "    print(item)"
   ]
  },
  {
   "cell_type": "markdown",
   "metadata": {},
   "source": [
    "#### sort and sorted"
   ]
  },
  {
   "cell_type": "code",
   "execution_count": 13,
   "metadata": {},
   "outputs": [],
   "source": [
    "_nums = [6,9,3,1]"
   ]
  },
  {
   "cell_type": "code",
   "execution_count": 15,
   "metadata": {},
   "outputs": [
    {
     "name": "stdout",
     "output_type": "stream",
     "text": [
      "(0, 1)\n",
      "(1, 3)\n",
      "(2, 6)\n",
      "(3, 9)\n"
     ]
    }
   ],
   "source": [
    "for num in enumerate(sorted(_nums)):\n",
    "    print(num)"
   ]
  },
  {
   "cell_type": "code",
   "execution_count": 16,
   "metadata": {},
   "outputs": [
    {
     "ename": "NameError",
     "evalue": "name 'sort' is not defined",
     "output_type": "error",
     "traceback": [
      "\u001b[0;31m---------------------------------------------------------------------------\u001b[0m",
      "\u001b[0;31mNameError\u001b[0m                                 Traceback (most recent call last)",
      "\u001b[0;32m<ipython-input-16-5d84a842da66>\u001b[0m in \u001b[0;36m<module>\u001b[0;34m\u001b[0m\n\u001b[0;32m----> 1\u001b[0;31m \u001b[0msort\u001b[0m\u001b[0;34m(\u001b[0m\u001b[0m_nums\u001b[0m\u001b[0;34m)\u001b[0m\u001b[0;34m\u001b[0m\u001b[0;34m\u001b[0m\u001b[0m\n\u001b[0m",
      "\u001b[0;31mNameError\u001b[0m: name 'sort' is not defined"
     ]
    }
   ],
   "source": [
    "sort(_nums)"
   ]
  },
  {
   "cell_type": "markdown",
   "metadata": {},
   "source": [
    "## Implementation"
   ]
  },
  {
   "cell_type": "code",
   "execution_count": 21,
   "metadata": {},
   "outputs": [
    {
     "name": "stdout",
     "output_type": "stream",
     "text": [
      "i 0 \n",
      "  a: 1 and b: 2\n",
      "i 1 \n",
      "  a: 2 and b: 3\n",
      "i 2 \n",
      "  a: 4 and b: 5\n",
      "i 3 \n",
      "  a: 6 and b: 7\n",
      "i 4 \n",
      "  a: 1 and b: 7\n"
     ]
    }
   ],
   "source": [
    "lis = [(1,2),(2,3),(4,5),(6,7),(1,7)]\n",
    "\n",
    "for i, (a,b) in enumerate(lis):\n",
    "    print('i', i, '\\n  a:',a, 'and b:', b)"
   ]
  },
  {
   "cell_type": "code",
   "execution_count": 62,
   "metadata": {},
   "outputs": [],
   "source": [
    "from collections import defaultdict\n",
    "\n",
    "class Graph:\n",
    "    '''\n",
    "    Structure to represent the graph\n",
    "    '''\n",
    "    # recebe o numero de vertices que o grafo tera\n",
    "    def __init__(self, num_of_v):\n",
    "        self.num_of_v = num_of_v\n",
    "        self.edges = defaultdict(list)\n",
    "        \n",
    "    # grafo eh representado em um array de arestas\n",
    "    def add_edge(self, u, v):\n",
    "        #u: aresta\n",
    "        #v: node\n",
    "        self.edges[u].append(v)"
   ]
  },
  {
   "cell_type": "code",
   "execution_count": 63,
   "metadata": {},
   "outputs": [],
   "source": [
    "class Subset:\n",
    "    def __init__(self, parent, rank):\n",
    "        # parent node\n",
    "        self.parent = parent\n",
    "        self.rank = rank"
   ]
  },
  {
   "cell_type": "code",
   "execution_count": 74,
   "metadata": {},
   "outputs": [],
   "source": [
    "def find(subsets, node):\n",
    "    '''\n",
    "    # Funcao para encontrar o conjunto ao qual um determinado vertice pertence\n",
    "    '''\n",
    "    # Se ele nao for seu proprio no parent\n",
    "    if subsets[node].parent !=node:\n",
    "        # entao recursivamente encontrar qual o no parent \n",
    "        # passando como argumento o proximo no parent\n",
    "        subsets[node].parent = find(subsets, subsets[node].parent)\n",
    "    # retorna exatamente o no parent para continuar\n",
    "    return subsets[node].parent\n",
    "\n",
    "def union(subsets, u, v):\n",
    "    '''\n",
    "    Funcao que unifica dois subsets\n",
    "    '''\n",
    "    # se o rank de um subset eh maior que o rank de outro subset\n",
    "    if subsets[u].rank > subsets[v].rank:\n",
    "        # realizo a unicao fazendo o no parent do subset v apontar \n",
    "        # para o s\n",
    "        subsets[v].parent = u\n",
    "    elif subsets[v].rank > subsets[u].rank:\n",
    "        subsets[u].paranet = v\n",
    "\n",
    "    # If ranks are same, then make one as \n",
    "    # root and increment its rank by one\n",
    "    else:\n",
    "        subsets[v].parent = u\n",
    "        subsets[u].rank +=1\n",
    "\n",
    "def isCycle(graph):\n",
    "\n",
    "    # Alucar memoria para criar subsets\n",
    "    subsets = []\n",
    "    \n",
    "    # A Classe Subset serviu para ser utilzada aqui\n",
    "    for u in range(graph.num_of_v):\n",
    "        # Cada subset recebe seu no parent\n",
    "        # com rank 0\n",
    "        print('número de vertices: ',u)\n",
    "        subsets.append(Subset(u,0))\n",
    "        print(f'parent {subsets[u].parent} and rank {subsets[u].rank}')\n",
    "\n",
    "    # Iterar por todas arestas do grafo \n",
    "    # para encontrar os conjuntos de ambos vertices de \n",
    "    # cada aresta, se os conjuntos dos vertices sao os mesmos\n",
    "    # entao o set contem um ciclo\n",
    "\n",
    "    # subsets sao todos subsets,eh a lista toda\n",
    "    for u in graph.edges:\n",
    "        # mas u eh edge, aresta, nao vertice, \n",
    "        u_rep = find(subsets, u)\n",
    "\n",
    "        # para cada vertice das arestas enumeradas\n",
    "        for v in graph.edges[u]:\n",
    "            v_rep = find(subsets, v)\n",
    "\n",
    "            # Se o no parent do \n",
    "            if u_rep == v_rep:\n",
    "                return True\n",
    "            else:\n",
    "                union(subsets, u_rep, v_rep)"
   ]
  },
  {
   "cell_type": "code",
   "execution_count": 75,
   "metadata": {},
   "outputs": [],
   "source": [
    "g = Graph(3)\n",
    "\n",
    "# Adicionar vertice 0 -1\n",
    "g.add_edge(0,1)\n",
    "\n",
    "# Adicionar vertice 1 -2\n",
    "g.add_edge(1,2)\n",
    "\n",
    "# Adicionar vertice 0 -2\n",
    "g.add_edge(0,2)"
   ]
  },
  {
   "cell_type": "code",
   "execution_count": 76,
   "metadata": {},
   "outputs": [
    {
     "name": "stdout",
     "output_type": "stream",
     "text": [
      "número de vertices:  0\n",
      "parent 0 and rank 0\n",
      "número de vertices:  1\n",
      "parent 1 and rank 0\n",
      "número de vertices:  2\n",
      "parent 2 and rank 0\n",
      "Graph contains cycle\n"
     ]
    }
   ],
   "source": [
    "if isCycle(g):\n",
    "    print('Graph contains cycle')\n",
    "else:\n",
    "    print('Graph does not contain cycle')\n",
    "\n",
    "                "
   ]
  },
  {
   "cell_type": "code",
   "execution_count": 84,
   "metadata": {},
   "outputs": [],
   "source": [
    "g2 = Graph(5)\n",
    "g2.add_edge(0,6)\n",
    "g2.add_edge(1,7)\n",
    "g2.add_edge(2,8)\n",
    "g2.add_edge(3,9)\n",
    "g2.add_edge(4,10)\n",
    "g2.add_edge(5,11)"
   ]
  },
  {
   "cell_type": "code",
   "execution_count": 85,
   "metadata": {},
   "outputs": [
    {
     "data": {
      "text/plain": [
       "defaultdict(list, {0: [6], 1: [7], 2: [8], 3: [9], 4: [10], 5: [11]})"
      ]
     },
     "execution_count": 85,
     "metadata": {},
     "output_type": "execute_result"
    }
   ],
   "source": [
    "g2.edges"
   ]
  },
  {
   "cell_type": "code",
   "execution_count": 86,
   "metadata": {},
   "outputs": [
    {
     "name": "stdout",
     "output_type": "stream",
     "text": [
      "número de vertices:  0\n",
      "parent 0 and rank 0\n",
      "número de vertices:  1\n",
      "parent 1 and rank 0\n",
      "número de vertices:  2\n",
      "parent 2 and rank 0\n",
      "número de vertices:  3\n",
      "parent 3 and rank 0\n",
      "número de vertices:  4\n",
      "parent 4 and rank 0\n"
     ]
    },
    {
     "ename": "IndexError",
     "evalue": "list index out of range",
     "output_type": "error",
     "traceback": [
      "\u001b[0;31m---------------------------------------------------------------------------\u001b[0m",
      "\u001b[0;31mIndexError\u001b[0m                                Traceback (most recent call last)",
      "\u001b[0;32m<ipython-input-86-02d71ab6d209>\u001b[0m in \u001b[0;36m<module>\u001b[0;34m\u001b[0m\n\u001b[0;32m----> 1\u001b[0;31m \u001b[0misCycle\u001b[0m\u001b[0;34m(\u001b[0m\u001b[0mg2\u001b[0m\u001b[0;34m)\u001b[0m\u001b[0;34m\u001b[0m\u001b[0;34m\u001b[0m\u001b[0m\n\u001b[0m",
      "\u001b[0;32m<ipython-input-74-38113801e58c>\u001b[0m in \u001b[0;36misCycle\u001b[0;34m(graph)\u001b[0m\n\u001b[1;32m     54\u001b[0m         \u001b[0;31m# para cada vertice das arestas enumeradas\u001b[0m\u001b[0;34m\u001b[0m\u001b[0;34m\u001b[0m\u001b[0;34m\u001b[0m\u001b[0m\n\u001b[1;32m     55\u001b[0m         \u001b[0;32mfor\u001b[0m \u001b[0mv\u001b[0m \u001b[0;32min\u001b[0m \u001b[0mgraph\u001b[0m\u001b[0;34m.\u001b[0m\u001b[0medges\u001b[0m\u001b[0;34m[\u001b[0m\u001b[0mu\u001b[0m\u001b[0;34m]\u001b[0m\u001b[0;34m:\u001b[0m\u001b[0;34m\u001b[0m\u001b[0;34m\u001b[0m\u001b[0m\n\u001b[0;32m---> 56\u001b[0;31m             \u001b[0mv_rep\u001b[0m \u001b[0;34m=\u001b[0m \u001b[0mfind\u001b[0m\u001b[0;34m(\u001b[0m\u001b[0msubsets\u001b[0m\u001b[0;34m,\u001b[0m \u001b[0mv\u001b[0m\u001b[0;34m)\u001b[0m\u001b[0;34m\u001b[0m\u001b[0;34m\u001b[0m\u001b[0m\n\u001b[0m\u001b[1;32m     57\u001b[0m \u001b[0;34m\u001b[0m\u001b[0m\n\u001b[1;32m     58\u001b[0m             \u001b[0;31m# Se o no parent do\u001b[0m\u001b[0;34m\u001b[0m\u001b[0;34m\u001b[0m\u001b[0;34m\u001b[0m\u001b[0m\n",
      "\u001b[0;32m<ipython-input-74-38113801e58c>\u001b[0m in \u001b[0;36mfind\u001b[0;34m(subsets, node)\u001b[0m\n\u001b[1;32m      4\u001b[0m     '''\n\u001b[1;32m      5\u001b[0m     \u001b[0;31m# Se ele nao for seu proprio no parent\u001b[0m\u001b[0;34m\u001b[0m\u001b[0;34m\u001b[0m\u001b[0;34m\u001b[0m\u001b[0m\n\u001b[0;32m----> 6\u001b[0;31m     \u001b[0;32mif\u001b[0m \u001b[0msubsets\u001b[0m\u001b[0;34m[\u001b[0m\u001b[0mnode\u001b[0m\u001b[0;34m]\u001b[0m\u001b[0;34m.\u001b[0m\u001b[0mparent\u001b[0m \u001b[0;34m!=\u001b[0m\u001b[0mnode\u001b[0m\u001b[0;34m:\u001b[0m\u001b[0;34m\u001b[0m\u001b[0;34m\u001b[0m\u001b[0m\n\u001b[0m\u001b[1;32m      7\u001b[0m         \u001b[0;31m# entao recursivamente encontrar qual o no parent\u001b[0m\u001b[0;34m\u001b[0m\u001b[0;34m\u001b[0m\u001b[0;34m\u001b[0m\u001b[0m\n\u001b[1;32m      8\u001b[0m         \u001b[0;31m# passando como argumento o proximo no parent\u001b[0m\u001b[0;34m\u001b[0m\u001b[0;34m\u001b[0m\u001b[0;34m\u001b[0m\u001b[0m\n",
      "\u001b[0;31mIndexError\u001b[0m: list index out of range"
     ]
    }
   ],
   "source": [
    "isCycle(g2)"
   ]
  },
  {
   "cell_type": "code",
   "execution_count": 56,
   "metadata": {},
   "outputs": [],
   "source": [
    "s = Subset(5,5)"
   ]
  },
  {
   "cell_type": "code",
   "execution_count": 57,
   "metadata": {},
   "outputs": [
    {
     "ename": "AttributeError",
     "evalue": "'Subset' object has no attribute 'num_of_v'",
     "output_type": "error",
     "traceback": [
      "\u001b[0;31m---------------------------------------------------------------------------\u001b[0m",
      "\u001b[0;31mAttributeError\u001b[0m                            Traceback (most recent call last)",
      "\u001b[0;32m<ipython-input-57-d710af3b087d>\u001b[0m in \u001b[0;36m<module>\u001b[0;34m\u001b[0m\n\u001b[0;32m----> 1\u001b[0;31m \u001b[0ms\u001b[0m\u001b[0;34m.\u001b[0m\u001b[0misCycle\u001b[0m\u001b[0;34m(\u001b[0m\u001b[0;34m)\u001b[0m\u001b[0;34m\u001b[0m\u001b[0;34m\u001b[0m\u001b[0m\n\u001b[0m",
      "\u001b[0;32m<ipython-input-52-d25f0807dbd1>\u001b[0m in \u001b[0;36misCycle\u001b[0;34m(graph)\u001b[0m\n\u001b[1;32m     40\u001b[0m         \u001b[0msubsets\u001b[0m \u001b[0;34m=\u001b[0m \u001b[0;34m[\u001b[0m\u001b[0;34m]\u001b[0m\u001b[0;34m\u001b[0m\u001b[0;34m\u001b[0m\u001b[0m\n\u001b[1;32m     41\u001b[0m \u001b[0;34m\u001b[0m\u001b[0m\n\u001b[0;32m---> 42\u001b[0;31m         \u001b[0;32mfor\u001b[0m \u001b[0mi\u001b[0m\u001b[0;34m,\u001b[0m\u001b[0mv\u001b[0m \u001b[0;32min\u001b[0m \u001b[0menumerate\u001b[0m\u001b[0;34m(\u001b[0m\u001b[0mgraph\u001b[0m\u001b[0;34m.\u001b[0m\u001b[0mnum_of_v\u001b[0m\u001b[0;34m)\u001b[0m\u001b[0;34m:\u001b[0m\u001b[0;34m\u001b[0m\u001b[0;34m\u001b[0m\u001b[0m\n\u001b[0m\u001b[1;32m     43\u001b[0m             \u001b[0msubsets\u001b[0m\u001b[0;34m.\u001b[0m\u001b[0mappend\u001b[0m\u001b[0;34m(\u001b[0m\u001b[0mSubset\u001b[0m\u001b[0;34m(\u001b[0m\u001b[0mu\u001b[0m\u001b[0;34m,\u001b[0m\u001b[0;36m0\u001b[0m\u001b[0;34m)\u001b[0m\u001b[0;34m)\u001b[0m\u001b[0;34m\u001b[0m\u001b[0;34m\u001b[0m\u001b[0m\n\u001b[1;32m     44\u001b[0m \u001b[0;34m\u001b[0m\u001b[0m\n",
      "\u001b[0;31mAttributeError\u001b[0m: 'Subset' object has no attribute 'num_of_v'"
     ]
    }
   ],
   "source": [
    "s.isCycle()"
   ]
  },
  {
   "cell_type": "code",
   "execution_count": 47,
   "metadata": {},
   "outputs": [],
   "source": [
    "g = Graph(3)"
   ]
  },
  {
   "cell_type": "code",
   "execution_count": 48,
   "metadata": {},
   "outputs": [],
   "source": [
    "# Adicionar vertice 0 -1\n",
    "g.add_edge(0,1)"
   ]
  },
  {
   "cell_type": "code",
   "execution_count": 49,
   "metadata": {},
   "outputs": [],
   "source": [
    "# Adicionar vertice 1 -2\n",
    "g.add_edge(1,2)"
   ]
  },
  {
   "cell_type": "code",
   "execution_count": 50,
   "metadata": {},
   "outputs": [],
   "source": [
    "# Adicionar vertice 0 -2\n",
    "g.add_edge(0,2)"
   ]
  },
  {
   "cell_type": "code",
   "execution_count": 51,
   "metadata": {},
   "outputs": [
    {
     "data": {
      "text/plain": [
       "defaultdict(list, {0: [1, 2], 1: [2]})"
      ]
     },
     "execution_count": 51,
     "metadata": {},
     "output_type": "execute_result"
    }
   ],
   "source": [
    "g.edges"
   ]
  },
  {
   "cell_type": "code",
   "execution_count": 39,
   "metadata": {},
   "outputs": [
    {
     "data": {
      "text/plain": [
       "3"
      ]
     },
     "execution_count": 39,
     "metadata": {},
     "output_type": "execute_result"
    }
   ],
   "source": [
    "g.num_of_v"
   ]
  },
  {
   "cell_type": "code",
   "execution_count": null,
   "metadata": {},
   "outputs": [],
   "source": []
  }
 ],
 "metadata": {
  "kernelspec": {
   "display_name": "Python 3",
   "language": "python",
   "name": "python3"
  },
  "language_info": {
   "codemirror_mode": {
    "name": "ipython",
    "version": 3
   },
   "file_extension": ".py",
   "mimetype": "text/x-python",
   "name": "python",
   "nbconvert_exporter": "python",
   "pygments_lexer": "ipython3",
   "version": "3.7.6"
  },
  "toc": {
   "base_numbering": 1,
   "nav_menu": {},
   "number_sections": true,
   "sideBar": true,
   "skip_h1_title": false,
   "title_cell": "Table of Contents",
   "title_sidebar": "Contents",
   "toc_cell": false,
   "toc_position": {
    "height": "calc(100% - 180px)",
    "left": "10px",
    "top": "150px",
    "width": "192px"
   },
   "toc_section_display": true,
   "toc_window_display": false
  },
  "varInspector": {
   "cols": {
    "lenName": 16,
    "lenType": 16,
    "lenVar": 40
   },
   "kernels_config": {
    "python": {
     "delete_cmd_postfix": "",
     "delete_cmd_prefix": "del ",
     "library": "var_list.py",
     "varRefreshCmd": "print(var_dic_list())"
    },
    "r": {
     "delete_cmd_postfix": ") ",
     "delete_cmd_prefix": "rm(",
     "library": "var_list.r",
     "varRefreshCmd": "cat(var_dic_list()) "
    }
   },
   "types_to_exclude": [
    "module",
    "function",
    "builtin_function_or_method",
    "instance",
    "_Feature"
   ],
   "window_display": false
  }
 },
 "nbformat": 4,
 "nbformat_minor": 4
}
