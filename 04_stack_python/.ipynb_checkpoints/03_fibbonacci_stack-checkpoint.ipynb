{
 "cells": [
  {
   "cell_type": "code",
   "execution_count": 1,
   "metadata": {},
   "outputs": [],
   "source": [
    "def fib(n):\n",
    "    if n == 0:\n",
    "        return 0\n",
    "    elif n ==1:\n",
    "        return 1\n",
    "    else:\n",
    "        return fib(n-1) + fib(n-2)"
   ]
  },
  {
   "cell_type": "code",
   "execution_count": 2,
   "metadata": {},
   "outputs": [],
   "source": [
    "# https://en.wikipedia.org/wiki/Fibonacci_number\n",
    "fiblist = [0, 1, 1, 2, 3, 5, 8, 13, 21, 34, 55, 89, 144]"
   ]
  },
  {
   "cell_type": "code",
   "execution_count": 3,
   "metadata": {},
   "outputs": [],
   "source": [
    "fibnew = []\n",
    "for i in range(0,13):\n",
    "    fibnew.append(fib(i))"
   ]
  },
  {
   "cell_type": "code",
   "execution_count": 4,
   "metadata": {},
   "outputs": [
    {
     "data": {
      "text/plain": [
       "[0, 1, 1, 2, 3, 5, 8, 13, 21, 34, 55, 89, 144]"
      ]
     },
     "execution_count": 4,
     "metadata": {},
     "output_type": "execute_result"
    }
   ],
   "source": [
    "fibnew"
   ]
  },
  {
   "cell_type": "code",
   "execution_count": 5,
   "metadata": {},
   "outputs": [],
   "source": [
    "def fib(n):\n",
    "    if n == 0:\n",
    "        return 0\n",
    "    elif n ==1:\n",
    "        return 1\n",
    "    else:\n",
    "        print(f'for {n} we have {n-1} and {n-2} being called')\n",
    "        return fib(n-1) + fib(n-2)"
   ]
  },
  {
   "cell_type": "code",
   "execution_count": 6,
   "metadata": {},
   "outputs": [
    {
     "name": "stdout",
     "output_type": "stream",
     "text": [
      "for 6 we have 5 and 4 being called\n",
      "for 5 we have 4 and 3 being called\n",
      "for 4 we have 3 and 2 being called\n",
      "for 3 we have 2 and 1 being called\n",
      "for 2 we have 1 and 0 being called\n",
      "for 2 we have 1 and 0 being called\n",
      "for 3 we have 2 and 1 being called\n",
      "for 2 we have 1 and 0 being called\n",
      "for 4 we have 3 and 2 being called\n",
      "for 3 we have 2 and 1 being called\n",
      "for 2 we have 1 and 0 being called\n",
      "for 2 we have 1 and 0 being called\n"
     ]
    },
    {
     "data": {
      "text/plain": [
       "8"
      ]
     },
     "execution_count": 6,
     "metadata": {},
     "output_type": "execute_result"
    }
   ],
   "source": [
    "fib(6)"
   ]
  },
  {
   "cell_type": "markdown",
   "metadata": {},
   "source": [
    "# Factorial"
   ]
  },
  {
   "cell_type": "code",
   "execution_count": 7,
   "metadata": {},
   "outputs": [
    {
     "name": "stdout",
     "output_type": "stream",
     "text": [
      "3000\n"
     ]
    }
   ],
   "source": [
    "import sys\n",
    "print(sys.getrecursionlimit())"
   ]
  },
  {
   "cell_type": "code",
   "execution_count": 8,
   "metadata": {},
   "outputs": [],
   "source": [
    "def fac(n):\n",
    "    if n == 1 or n == 0:\n",
    "        return 1\n",
    "    else:\n",
    "        print(f'{n} times')\n",
    "        return (n*fac(n-1))"
   ]
  },
  {
   "cell_type": "code",
   "execution_count": 9,
   "metadata": {},
   "outputs": [
    {
     "name": "stdout",
     "output_type": "stream",
     "text": [
      "10 times\n",
      "9 times\n",
      "8 times\n",
      "7 times\n",
      "6 times\n",
      "5 times\n",
      "4 times\n",
      "3 times\n",
      "2 times\n"
     ]
    },
    {
     "data": {
      "text/plain": [
       "3628800"
      ]
     },
     "execution_count": 9,
     "metadata": {},
     "output_type": "execute_result"
    }
   ],
   "source": [
    "fac(10)"
   ]
  },
  {
   "cell_type": "markdown",
   "metadata": {},
   "source": [
    "# Visualizations"
   ]
  },
  {
   "cell_type": "code",
   "execution_count": 10,
   "metadata": {},
   "outputs": [],
   "source": [
    "from visualiser.visualiser import Visualiser as vs"
   ]
  },
  {
   "cell_type": "code",
   "execution_count": 12,
   "metadata": {},
   "outputs": [
    {
     "name": "stdout",
     "output_type": "stream",
     "text": [
      "8\n"
     ]
    }
   ],
   "source": [
    "def fib(n):\n",
    "    if n <= 1: \n",
    "        return n \n",
    "    return fib(n - 1) + fib(n - 2)  \n",
    "\n",
    "print(fib(6))  "
   ]
  },
  {
   "cell_type": "markdown",
   "metadata": {},
   "source": [
    "### Fibonacci"
   ]
  },
  {
   "cell_type": "code",
   "execution_count": 13,
   "metadata": {},
   "outputs": [
    {
     "name": "stdout",
     "output_type": "stream",
     "text": [
      "8\n",
      "Starting to make animation\n",
      "File fibonacci.png successfully written\n",
      "Writing frames....\n",
      "Writing gif...\n",
      "Saved gif fibonacci.gif successfully\n"
     ]
    }
   ],
   "source": [
    "# Author: Bishal Sarang\n",
    "\n",
    "# Import Visualiser class from module visualiser\n",
    "from visualiser.visualiser import Visualiser as vs\n",
    "\n",
    "# Add decorator\n",
    "# Decorator accepts optional arguments: ignore_args , show_argument_name, show_return_value and node_properties_kwargs\n",
    "@vs(node_properties_kwargs={\"shape\":\"record\", \"color\":\"#f57542\", \"style\":\"filled\", \"fillcolor\":\"grey\"})\n",
    "def fib(n):\n",
    "    if n <= 1:\n",
    "        return n\n",
    "    return fib(n=n - 1) + fib(n=n - 2)\n",
    "\n",
    "\n",
    "def main():\n",
    "    # Call function\n",
    "    print(fib(n=6))\n",
    "    # Save recursion tree to a file\n",
    "    vs.make_animation(\"fibonacci.gif\", delay=2)\n",
    "\n",
    "\n",
    "if __name__ == \"__main__\":\n",
    "    main()"
   ]
  },
  {
   "cell_type": "code",
   "execution_count": 171,
   "metadata": {},
   "outputs": [
    {
     "data": {
      "text/plain": [
       "'/media/vpb/GD_/USP/DS/_1Git/_00_General/_dsa/stack_python'"
      ]
     },
     "execution_count": 171,
     "metadata": {},
     "output_type": "execute_result"
    }
   ],
   "source": [
    "pwd"
   ]
  },
  {
   "cell_type": "code",
   "execution_count": null,
   "metadata": {},
   "outputs": [
    {
     "name": "stdout",
     "output_type": "stream",
     "text": [
      "720\n",
      "Starting to make animation\n",
      "File factorial.png successfully written\n",
      "Writing frames....\n"
     ]
    }
   ],
   "source": [
    "# Author: Bishal Sarang\n",
    "\n",
    "# Import Visualiser class from module visualiser\n",
    "from visualiser.visualiser import Visualiser as vs\n",
    "\n",
    "# Add decorator\n",
    "# Decorator accepts optional arguments: ignore_args , show_argument_name, show_return_value and node_properties_kwargs\n",
    "@vs(node_properties_kwargs={\"shape\":\"record\",\n",
    "                            \"color\":\"#f57542\",\n",
    "                            \"style\":\"filled\",\n",
    "                                \"fillcolor\":\"grey\"})\n",
    "def fac(n):\n",
    "    if n == 1 or n == 0:\n",
    "        return 1\n",
    "    else:\n",
    "        return (n*fac(n-1))\n",
    "\n",
    "\n",
    "def main():\n",
    "    # Call function\n",
    "    print(fac(n=6))\n",
    "    # Save recursion tree to a file\n",
    "    vs.make_animation(\"factorial.gif\", delay=2)\n",
    "\n",
    "\n",
    "if __name__ == \"__main__\":\n",
    "    main()"
   ]
  }
 ],
 "metadata": {
  "kernelspec": {
   "display_name": "Python 3",
   "language": "python",
   "name": "python3"
  },
  "language_info": {
   "codemirror_mode": {
    "name": "ipython",
    "version": 3
   },
   "file_extension": ".py",
   "mimetype": "text/x-python",
   "name": "python",
   "nbconvert_exporter": "python",
   "pygments_lexer": "ipython3",
   "version": "3.7.6"
  }
 },
 "nbformat": 4,
 "nbformat_minor": 4
}
