{
 "cells": [
  {
   "cell_type": "markdown",
   "metadata": {},
   "source": [
    "https://www.youtube.com/watch?v=QZOLb0xHB_Q"
   ]
  },
  {
   "cell_type": "markdown",
   "metadata": {},
   "source": [
    "https://www.geeksforgeeks.org/check-for-balanced-parentheses-in-python/"
   ]
  },
  {
   "cell_type": "code",
   "execution_count": 8,
   "metadata": {},
   "outputs": [],
   "source": [
    "# positions here are important\n",
    "open_list = ['[','{','(']\n",
    "close_list = [']','}',')']"
   ]
  },
  {
   "cell_type": "code",
   "execution_count": 46,
   "metadata": {},
   "outputs": [],
   "source": [
    "# Visualize stack vertically\n",
    "def v(letters):\n",
    "    h = len(letters) # integer division in Python 3\n",
    "    for i in range(h):\n",
    "       print(letters[i])"
   ]
  },
  {
   "cell_type": "code",
   "execution_count": 59,
   "metadata": {},
   "outputs": [],
   "source": [
    "def check(mystr):\n",
    "    stack = []\n",
    "    # This for statement is responsible of pushing and popping\n",
    "    for i in mystr:\n",
    "        # If it is a open symbol, push to stack\n",
    "        if i in open_list:\n",
    "            print('PUSH - Stack before: ',*stack, '\\n New element:', i)\n",
    "            stack.append(i)\n",
    "            # Visualize stack\n",
    "            print('PUSH - Stack after: ',*stack, '\\n New element:', i)\n",
    "        # If it is a close symbol, pop from stack\n",
    "        elif i in close_list:\n",
    "            # return index in close_list \n",
    "            idx = close_list.index(i)\n",
    "            # If our stack has at least one element\n",
    "            # and\n",
    "            # Our equivalent open element is equal to last element in stack \n",
    "            # can be removed, because it will balance expression\n",
    "            if (\n",
    "                (len(stack) > 0) and (open_list[idx] == stack[len(stack)-1])\n",
    "               ):\n",
    "                print('POP - Stack before: ',*stack, '\\n New element:', i)\n",
    "                stack.pop()\n",
    "                print('POP - Stack after: ',*stack, '\\n New element:', i)\n",
    "            else:\n",
    "                return \"Unbalanced\"\n",
    "    # IF we reach zero length condition, it means is balanced\n",
    "    if len(stack) == 0:\n",
    "        return \"Balanced\"\n",
    "        # Visualize stack\n",
    "        print(stack)\n",
    "    else: \n",
    "        return \"Unbalanced\"        \n",
    "        # Visualize stack\n",
    "        print(stack)"
   ]
  },
  {
   "cell_type": "code",
   "execution_count": 60,
   "metadata": {},
   "outputs": [],
   "source": [
    "mystr = '{[]{()}}'"
   ]
  },
  {
   "cell_type": "code",
   "execution_count": 61,
   "metadata": {},
   "outputs": [
    {
     "name": "stdout",
     "output_type": "stream",
     "text": [
      "PUSH - Stack before:  \n",
      " New element: {\n",
      "PUSH - Stack after:  { \n",
      " New element: {\n",
      "PUSH - Stack before:  { \n",
      " New element: [\n",
      "PUSH - Stack after:  { [ \n",
      " New element: [\n",
      "POP - Stack before:  { [ \n",
      " New element: ]\n",
      "POP - Stack after:  { \n",
      " New element: ]\n",
      "PUSH - Stack before:  { \n",
      " New element: {\n",
      "PUSH - Stack after:  { { \n",
      " New element: {\n",
      "PUSH - Stack before:  { { \n",
      " New element: (\n",
      "PUSH - Stack after:  { { ( \n",
      " New element: (\n",
      "POP - Stack before:  { { ( \n",
      " New element: )\n",
      "POP - Stack after:  { { \n",
      " New element: )\n",
      "POP - Stack before:  { { \n",
      " New element: }\n",
      "POP - Stack after:  { \n",
      " New element: }\n",
      "POP - Stack before:  { \n",
      " New element: }\n",
      "POP - Stack after:  \n",
      " New element: }\n"
     ]
    },
    {
     "data": {
      "text/plain": [
       "'Balanced'"
      ]
     },
     "execution_count": 61,
     "metadata": {},
     "output_type": "execute_result"
    }
   ],
   "source": [
    "check(mystr)"
   ]
  },
  {
   "cell_type": "code",
   "execution_count": null,
   "metadata": {},
   "outputs": [],
   "source": []
  }
 ],
 "metadata": {
  "kernelspec": {
   "display_name": "Python 3",
   "language": "python",
   "name": "python3"
  },
  "language_info": {
   "codemirror_mode": {
    "name": "ipython",
    "version": 3
   },
   "file_extension": ".py",
   "mimetype": "text/x-python",
   "name": "python",
   "nbconvert_exporter": "python",
   "pygments_lexer": "ipython3",
   "version": "3.7.6"
  }
 },
 "nbformat": 4,
 "nbformat_minor": 4
}
